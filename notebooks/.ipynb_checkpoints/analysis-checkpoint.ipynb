{
 "cells": [
  {
   "cell_type": "markdown",
   "id": "c2d8743ad5e6b242",
   "metadata": {},
   "source": [
    "# Air Quality Time Series Forecasting Project\n",
    "\n",
    "## Introduction\n",
    "This project aims to analyze and build a predictive model for air quality using time series data from the UCI Air Quality dataset. Air quality is a crucial factor for human health and environmental monitoring. Accurate predictions of air pollutants like CO, NOx, and other gases can support better decision-making for air quality management and policy development.\n",
    "\n",
    "## Objectives\n",
    "1. **Data Exploration and Cleaning**: Understand and preprocess the dataset for time series analysis.\n",
    "2. **Feature Engineering**: Create suitable features to enhance the predictive power of the model.\n",
    "3. **Model Training and Evaluation**: Build and train a time series forecasting model to predict air quality levels.\n",
    "4. **Result Analysis and Visualization**: Visualize and interpret the results for actionable insights.\n",
    "\n",
    "**Dataset Source**: The dataset is sourced from the UCI Machine Learning Repository and contains measurements from an air quality monitoring station in Italy.\n",
    "\n",
    "## Table of Contents\n",
    "1. [Loading and Exploring Data](#loading-exploring-data)\n",
    "2. [Data Cleaning and Preparation](#data-cleaning-preparation)\n",
    "3. [Feature Engineering and Model Training](#feature-engineering-model-training)"
   ]
  },
  {
   "cell_type": "markdown",
   "id": "15621bac22a09271",
   "metadata": {},
   "source": [
    "## Loading and Exploring Data <a id=\"loading-exploring-data\"></a>\n",
    "The dataset is provided as a `.csv` file and contains measurements of air pollutants and meteorological variables. We will load the data using the `pandas` library, explore its structure, and check for any issues like missing values."
   ]
  },
  {
   "cell_type": "code",
   "execution_count": 1,
   "id": "initial_id",
   "metadata": {
    "ExecuteTime": {
     "end_time": "2024-10-07T12:04:27.327508Z",
     "start_time": "2024-10-07T12:04:26.372775Z"
    }
   },
   "outputs": [
    {
     "name": "stdout",
     "output_type": "stream",
     "text": [
      "        Date      Time  CO(GT)  PT08.S1(CO)  NMHC(GT)   C6H6(GT)  \\\n",
      "0 2004-03-10  18:00:00     2.6      1360.00       150  11.881723   \n",
      "1 2004-03-10  19:00:00     2.0      1292.25       112   9.397165   \n",
      "2 2004-03-10  20:00:00     2.2      1402.00        88   8.997817   \n",
      "3 2004-03-10  21:00:00     2.2      1375.50        80   9.228796   \n",
      "4 2004-03-10  22:00:00     1.6      1272.25        51   6.518224   \n",
      "\n",
      "   PT08.S2(NMHC)  NOx(GT)  PT08.S3(NOx)  NO2(GT)  PT08.S4(NO2)  PT08.S5(O3)  \\\n",
      "0        1045.50    166.0       1056.25    113.0       1692.00      1267.50   \n",
      "1         954.75    103.0       1173.75     92.0       1558.75       972.25   \n",
      "2         939.25    131.0       1140.00    114.0       1554.50      1074.00   \n",
      "3         948.25    172.0       1092.00    122.0       1583.75      1203.25   \n",
      "4         835.50    131.0       1205.00    116.0       1490.00      1110.00   \n",
      "\n",
      "       T         RH        AH  \n",
      "0  13.60  48.875001  0.757754  \n",
      "1  13.30  47.700000  0.725487  \n",
      "2  11.90  53.975000  0.750239  \n",
      "3  11.00  60.000000  0.786713  \n",
      "4  11.15  59.575001  0.788794  \n"
     ]
    }
   ],
   "source": [
    "import pandas as pd\n",
    "import numpy as np\n",
    "\n",
    "# Path to the data file\n",
    "file_path = '../data/AirQualityUCI.xlsx'  # Make sure the path is correct\n",
    "\n",
    "# Load the data\n",
    "data = pd.read_excel(file_path)  # Load Excel file\n",
    "\n",
    "# Display the first few rows of the data\n",
    "print(data.head())"
   ]
  },
  {
   "cell_type": "markdown",
   "id": "bdede995f882b5ff",
   "metadata": {},
   "source": [
    "## Output Analysis: Step 1\n",
    "The output displays the first few rows of the dataset. The columns include:\n",
    "- `Date`, `Time`: Date and time of the observation.\n",
    "- Air quality measurements like `CO(GT)`, `NMHC(GT)`, `C6H6(GT)`.\n",
    "- Various other features such as temperature (`T`), relative humidity (`RH`), and absolute humidity (`AH`).\n",
    "\n",
    "This step provides an overview of the dataset's structure and the types of data we'll be working with."
   ]
  },
  {
   "cell_type": "markdown",
   "id": "fd74951ac486cf2e",
   "metadata": {},
   "source": [
    "# Step 2: Combine Date and Time Columns\n",
    "To make the dataset suitable for time series analysis, we'll combine the `Date` and `Time` columns into a single `datetime` column."
   ]
  },
  {
   "cell_type": "code",
   "execution_count": 2,
   "id": "4f60f69ceb09b633",
   "metadata": {
    "ExecuteTime": {
     "end_time": "2024-10-07T12:04:47.249925Z",
     "start_time": "2024-10-07T12:04:47.219236Z"
    }
   },
   "outputs": [
    {
     "data": {
      "text/html": [
       "<div>\n",
       "<style scoped>\n",
       "    .dataframe tbody tr th:only-of-type {\n",
       "        vertical-align: middle;\n",
       "    }\n",
       "\n",
       "    .dataframe tbody tr th {\n",
       "        vertical-align: top;\n",
       "    }\n",
       "\n",
       "    .dataframe thead th {\n",
       "        text-align: right;\n",
       "    }\n",
       "</style>\n",
       "<table border=\"1\" class=\"dataframe\">\n",
       "  <thead>\n",
       "    <tr style=\"text-align: right;\">\n",
       "      <th></th>\n",
       "      <th>CO(GT)</th>\n",
       "      <th>PT08.S1(CO)</th>\n",
       "      <th>NMHC(GT)</th>\n",
       "      <th>C6H6(GT)</th>\n",
       "      <th>PT08.S2(NMHC)</th>\n",
       "      <th>NOx(GT)</th>\n",
       "      <th>PT08.S3(NOx)</th>\n",
       "      <th>NO2(GT)</th>\n",
       "      <th>PT08.S4(NO2)</th>\n",
       "      <th>PT08.S5(O3)</th>\n",
       "      <th>T</th>\n",
       "      <th>RH</th>\n",
       "      <th>AH</th>\n",
       "      <th>datetime</th>\n",
       "    </tr>\n",
       "  </thead>\n",
       "  <tbody>\n",
       "    <tr>\n",
       "      <th>0</th>\n",
       "      <td>2.6</td>\n",
       "      <td>1360.00</td>\n",
       "      <td>150</td>\n",
       "      <td>11.881723</td>\n",
       "      <td>1045.50</td>\n",
       "      <td>166.0</td>\n",
       "      <td>1056.25</td>\n",
       "      <td>113.0</td>\n",
       "      <td>1692.00</td>\n",
       "      <td>1267.50</td>\n",
       "      <td>13.60</td>\n",
       "      <td>48.875001</td>\n",
       "      <td>0.757754</td>\n",
       "      <td>2004-03-10 18:00:00</td>\n",
       "    </tr>\n",
       "    <tr>\n",
       "      <th>1</th>\n",
       "      <td>2.0</td>\n",
       "      <td>1292.25</td>\n",
       "      <td>112</td>\n",
       "      <td>9.397165</td>\n",
       "      <td>954.75</td>\n",
       "      <td>103.0</td>\n",
       "      <td>1173.75</td>\n",
       "      <td>92.0</td>\n",
       "      <td>1558.75</td>\n",
       "      <td>972.25</td>\n",
       "      <td>13.30</td>\n",
       "      <td>47.700000</td>\n",
       "      <td>0.725487</td>\n",
       "      <td>2004-03-10 19:00:00</td>\n",
       "    </tr>\n",
       "    <tr>\n",
       "      <th>2</th>\n",
       "      <td>2.2</td>\n",
       "      <td>1402.00</td>\n",
       "      <td>88</td>\n",
       "      <td>8.997817</td>\n",
       "      <td>939.25</td>\n",
       "      <td>131.0</td>\n",
       "      <td>1140.00</td>\n",
       "      <td>114.0</td>\n",
       "      <td>1554.50</td>\n",
       "      <td>1074.00</td>\n",
       "      <td>11.90</td>\n",
       "      <td>53.975000</td>\n",
       "      <td>0.750239</td>\n",
       "      <td>2004-03-10 20:00:00</td>\n",
       "    </tr>\n",
       "    <tr>\n",
       "      <th>3</th>\n",
       "      <td>2.2</td>\n",
       "      <td>1375.50</td>\n",
       "      <td>80</td>\n",
       "      <td>9.228796</td>\n",
       "      <td>948.25</td>\n",
       "      <td>172.0</td>\n",
       "      <td>1092.00</td>\n",
       "      <td>122.0</td>\n",
       "      <td>1583.75</td>\n",
       "      <td>1203.25</td>\n",
       "      <td>11.00</td>\n",
       "      <td>60.000000</td>\n",
       "      <td>0.786713</td>\n",
       "      <td>2004-03-10 21:00:00</td>\n",
       "    </tr>\n",
       "    <tr>\n",
       "      <th>4</th>\n",
       "      <td>1.6</td>\n",
       "      <td>1272.25</td>\n",
       "      <td>51</td>\n",
       "      <td>6.518224</td>\n",
       "      <td>835.50</td>\n",
       "      <td>131.0</td>\n",
       "      <td>1205.00</td>\n",
       "      <td>116.0</td>\n",
       "      <td>1490.00</td>\n",
       "      <td>1110.00</td>\n",
       "      <td>11.15</td>\n",
       "      <td>59.575001</td>\n",
       "      <td>0.788794</td>\n",
       "      <td>2004-03-10 22:00:00</td>\n",
       "    </tr>\n",
       "  </tbody>\n",
       "</table>\n",
       "</div>"
      ],
      "text/plain": [
       "   CO(GT)  PT08.S1(CO)  NMHC(GT)   C6H6(GT)  PT08.S2(NMHC)  NOx(GT)  \\\n",
       "0     2.6      1360.00       150  11.881723        1045.50    166.0   \n",
       "1     2.0      1292.25       112   9.397165         954.75    103.0   \n",
       "2     2.2      1402.00        88   8.997817         939.25    131.0   \n",
       "3     2.2      1375.50        80   9.228796         948.25    172.0   \n",
       "4     1.6      1272.25        51   6.518224         835.50    131.0   \n",
       "\n",
       "   PT08.S3(NOx)  NO2(GT)  PT08.S4(NO2)  PT08.S5(O3)      T         RH  \\\n",
       "0       1056.25    113.0       1692.00      1267.50  13.60  48.875001   \n",
       "1       1173.75     92.0       1558.75       972.25  13.30  47.700000   \n",
       "2       1140.00    114.0       1554.50      1074.00  11.90  53.975000   \n",
       "3       1092.00    122.0       1583.75      1203.25  11.00  60.000000   \n",
       "4       1205.00    116.0       1490.00      1110.00  11.15  59.575001   \n",
       "\n",
       "         AH            datetime  \n",
       "0  0.757754 2004-03-10 18:00:00  \n",
       "1  0.725487 2004-03-10 19:00:00  \n",
       "2  0.750239 2004-03-10 20:00:00  \n",
       "3  0.786713 2004-03-10 21:00:00  \n",
       "4  0.788794 2004-03-10 22:00:00  "
      ]
     },
     "execution_count": 2,
     "metadata": {},
     "output_type": "execute_result"
    }
   ],
   "source": [
    "# Combine 'Date' and 'Time' columns into a single datetime column\n",
    "data['datetime'] = pd.to_datetime(data['Date'].astype(str) + ' ' + data['Time'].astype(str))\n",
    "\n",
    "# Drop the original 'Date' and 'Time' columns\n",
    "data.drop(columns=['Date', 'Time'], inplace=True)\n",
    "\n",
    "# Display the first few rows with new datetime column\n",
    "data.head()"
   ]
  },
  {
   "cell_type": "markdown",
   "id": "e9dbb73ca6553baa",
   "metadata": {},
   "source": [
    "## Output Analysis: Step 2\n",
    "The `datetime` column is created by combining the `Date` and `Time` columns. The original `Date` and `Time` columns are dropped to avoid redundancy.\n",
    "This ensures that the model understands the data as a time series, and the datetime format is correct for further processing."
   ]
  },
  {
   "cell_type": "markdown",
   "id": "65b3796081a59de1",
   "metadata": {},
   "source": [
    "# Step 3: Handle Missing Values\n",
    "The dataset may contain missing values represented by `-200`. We'll replace `-200` with `NaN` to handle them properly and check for missing data in each column."
   ]
  },
  {
   "cell_type": "code",
   "execution_count": 3,
   "id": "de69486303f94abd",
   "metadata": {
    "ExecuteTime": {
     "end_time": "2024-10-07T12:05:00.997537Z",
     "start_time": "2024-10-07T12:05:00.982768Z"
    }
   },
   "outputs": [
    {
     "data": {
      "text/plain": [
       "CO(GT)           1683\n",
       "PT08.S1(CO)       366\n",
       "NMHC(GT)         8443\n",
       "C6H6(GT)          366\n",
       "PT08.S2(NMHC)     366\n",
       "NOx(GT)          1639\n",
       "PT08.S3(NOx)      366\n",
       "NO2(GT)          1642\n",
       "PT08.S4(NO2)      366\n",
       "PT08.S5(O3)       366\n",
       "T                 366\n",
       "RH                366\n",
       "AH                366\n",
       "datetime            0\n",
       "dtype: int64"
      ]
     },
     "execution_count": 3,
     "metadata": {},
     "output_type": "execute_result"
    }
   ],
   "source": [
    "# Replace -200 with NaN to handle missing values\n",
    "data.replace(-200, np.nan, inplace=True)\n",
    "\n",
    "# Check for missing values in each column\n",
    "missing_values = data.isnull().sum()\n",
    "missing_values"
   ]
  },
  {
   "cell_type": "markdown",
   "id": "c42e0739e7686c0d",
   "metadata": {},
   "source": [
    "## Output Analysis: Step 3\n",
    "The output lists the number of missing values in each column. Some columns have significant missing values (e.g., `NMHC(GT)`), which we need to handle before proceeding with analysis or modeling."
   ]
  },
  {
   "cell_type": "markdown",
   "id": "7369e1a76fca723c",
   "metadata": {},
   "source": [
    "# Step 4: Impute Missing Values\n",
    "We will handle missing values by imputing them with the median of each column. This is because the median is robust to outliers and provides a stable estimate for missing data."
   ]
  },
  {
   "cell_type": "code",
   "execution_count": 4,
   "id": "1e89b7f7c998ca8b",
   "metadata": {
    "ExecuteTime": {
     "end_time": "2024-10-07T12:05:51.867276Z",
     "start_time": "2024-10-07T12:05:51.839570Z"
    }
   },
   "outputs": [
    {
     "data": {
      "text/plain": [
       "CO(GT)           0\n",
       "PT08.S1(CO)      0\n",
       "NMHC(GT)         0\n",
       "C6H6(GT)         0\n",
       "PT08.S2(NMHC)    0\n",
       "NOx(GT)          0\n",
       "PT08.S3(NOx)     0\n",
       "NO2(GT)          0\n",
       "PT08.S4(NO2)     0\n",
       "PT08.S5(O3)      0\n",
       "T                0\n",
       "RH               0\n",
       "AH               0\n",
       "datetime         0\n",
       "dtype: int64"
      ]
     },
     "execution_count": 4,
     "metadata": {},
     "output_type": "execute_result"
    }
   ],
   "source": [
    "# Impute missing values with the median of each column\n",
    "data.fillna(data.median(), inplace=True)\n",
    "\n",
    "# Check if there are any remaining missing values\n",
    "missing_values_after_imputation = data.isnull().sum()\n",
    "missing_values_after_imputation"
   ]
  },
  {
   "cell_type": "markdown",
   "id": "d7a3fb5b8bb2e691",
   "metadata": {},
   "source": [
    "## Output Analysis: Step 4\n",
    "The missing values in each column have been successfully imputed using the median. As a result, all columns now have `0` missing values. The data is now clean and ready for further feature engineering or analysis. This step ensures that our model does not encounter any issues due to missing data during training."
   ]
  },
  {
   "cell_type": "markdown",
   "id": "6007865da53d728c",
   "metadata": {},
   "source": [
    "# Step 5: Feature Engineering for Time Series\n",
    "We will extract additional time-based features from the `datetime` column. These features will help the model better understand the temporal aspects of the data and improve its performance."
   ]
  },
  {
   "cell_type": "code",
   "execution_count": 5,
   "id": "b0349ba8fe70d4b7",
   "metadata": {
    "ExecuteTime": {
     "end_time": "2024-10-07T12:06:46.794837Z",
     "start_time": "2024-10-07T12:06:46.772760Z"
    }
   },
   "outputs": [
    {
     "data": {
      "text/html": [
       "<div>\n",
       "<style scoped>\n",
       "    .dataframe tbody tr th:only-of-type {\n",
       "        vertical-align: middle;\n",
       "    }\n",
       "\n",
       "    .dataframe tbody tr th {\n",
       "        vertical-align: top;\n",
       "    }\n",
       "\n",
       "    .dataframe thead th {\n",
       "        text-align: right;\n",
       "    }\n",
       "</style>\n",
       "<table border=\"1\" class=\"dataframe\">\n",
       "  <thead>\n",
       "    <tr style=\"text-align: right;\">\n",
       "      <th></th>\n",
       "      <th>CO(GT)</th>\n",
       "      <th>PT08.S1(CO)</th>\n",
       "      <th>NMHC(GT)</th>\n",
       "      <th>C6H6(GT)</th>\n",
       "      <th>PT08.S2(NMHC)</th>\n",
       "      <th>NOx(GT)</th>\n",
       "      <th>PT08.S3(NOx)</th>\n",
       "      <th>NO2(GT)</th>\n",
       "      <th>PT08.S4(NO2)</th>\n",
       "      <th>PT08.S5(O3)</th>\n",
       "      <th>T</th>\n",
       "      <th>RH</th>\n",
       "      <th>AH</th>\n",
       "      <th>datetime</th>\n",
       "      <th>hour</th>\n",
       "      <th>day</th>\n",
       "      <th>month</th>\n",
       "      <th>day_of_week</th>\n",
       "      <th>is_weekend</th>\n",
       "    </tr>\n",
       "  </thead>\n",
       "  <tbody>\n",
       "    <tr>\n",
       "      <th>0</th>\n",
       "      <td>2.6</td>\n",
       "      <td>1360.00</td>\n",
       "      <td>150.0</td>\n",
       "      <td>11.881723</td>\n",
       "      <td>1045.50</td>\n",
       "      <td>166.0</td>\n",
       "      <td>1056.25</td>\n",
       "      <td>113.0</td>\n",
       "      <td>1692.00</td>\n",
       "      <td>1267.50</td>\n",
       "      <td>13.60</td>\n",
       "      <td>48.875001</td>\n",
       "      <td>0.757754</td>\n",
       "      <td>2004-03-10 18:00:00</td>\n",
       "      <td>18</td>\n",
       "      <td>10</td>\n",
       "      <td>3</td>\n",
       "      <td>2</td>\n",
       "      <td>0</td>\n",
       "    </tr>\n",
       "    <tr>\n",
       "      <th>1</th>\n",
       "      <td>2.0</td>\n",
       "      <td>1292.25</td>\n",
       "      <td>112.0</td>\n",
       "      <td>9.397165</td>\n",
       "      <td>954.75</td>\n",
       "      <td>103.0</td>\n",
       "      <td>1173.75</td>\n",
       "      <td>92.0</td>\n",
       "      <td>1558.75</td>\n",
       "      <td>972.25</td>\n",
       "      <td>13.30</td>\n",
       "      <td>47.700000</td>\n",
       "      <td>0.725487</td>\n",
       "      <td>2004-03-10 19:00:00</td>\n",
       "      <td>19</td>\n",
       "      <td>10</td>\n",
       "      <td>3</td>\n",
       "      <td>2</td>\n",
       "      <td>0</td>\n",
       "    </tr>\n",
       "    <tr>\n",
       "      <th>2</th>\n",
       "      <td>2.2</td>\n",
       "      <td>1402.00</td>\n",
       "      <td>88.0</td>\n",
       "      <td>8.997817</td>\n",
       "      <td>939.25</td>\n",
       "      <td>131.0</td>\n",
       "      <td>1140.00</td>\n",
       "      <td>114.0</td>\n",
       "      <td>1554.50</td>\n",
       "      <td>1074.00</td>\n",
       "      <td>11.90</td>\n",
       "      <td>53.975000</td>\n",
       "      <td>0.750239</td>\n",
       "      <td>2004-03-10 20:00:00</td>\n",
       "      <td>20</td>\n",
       "      <td>10</td>\n",
       "      <td>3</td>\n",
       "      <td>2</td>\n",
       "      <td>0</td>\n",
       "    </tr>\n",
       "    <tr>\n",
       "      <th>3</th>\n",
       "      <td>2.2</td>\n",
       "      <td>1375.50</td>\n",
       "      <td>80.0</td>\n",
       "      <td>9.228796</td>\n",
       "      <td>948.25</td>\n",
       "      <td>172.0</td>\n",
       "      <td>1092.00</td>\n",
       "      <td>122.0</td>\n",
       "      <td>1583.75</td>\n",
       "      <td>1203.25</td>\n",
       "      <td>11.00</td>\n",
       "      <td>60.000000</td>\n",
       "      <td>0.786713</td>\n",
       "      <td>2004-03-10 21:00:00</td>\n",
       "      <td>21</td>\n",
       "      <td>10</td>\n",
       "      <td>3</td>\n",
       "      <td>2</td>\n",
       "      <td>0</td>\n",
       "    </tr>\n",
       "    <tr>\n",
       "      <th>4</th>\n",
       "      <td>1.6</td>\n",
       "      <td>1272.25</td>\n",
       "      <td>51.0</td>\n",
       "      <td>6.518224</td>\n",
       "      <td>835.50</td>\n",
       "      <td>131.0</td>\n",
       "      <td>1205.00</td>\n",
       "      <td>116.0</td>\n",
       "      <td>1490.00</td>\n",
       "      <td>1110.00</td>\n",
       "      <td>11.15</td>\n",
       "      <td>59.575001</td>\n",
       "      <td>0.788794</td>\n",
       "      <td>2004-03-10 22:00:00</td>\n",
       "      <td>22</td>\n",
       "      <td>10</td>\n",
       "      <td>3</td>\n",
       "      <td>2</td>\n",
       "      <td>0</td>\n",
       "    </tr>\n",
       "  </tbody>\n",
       "</table>\n",
       "</div>"
      ],
      "text/plain": [
       "   CO(GT)  PT08.S1(CO)  NMHC(GT)   C6H6(GT)  PT08.S2(NMHC)  NOx(GT)  \\\n",
       "0     2.6      1360.00     150.0  11.881723        1045.50    166.0   \n",
       "1     2.0      1292.25     112.0   9.397165         954.75    103.0   \n",
       "2     2.2      1402.00      88.0   8.997817         939.25    131.0   \n",
       "3     2.2      1375.50      80.0   9.228796         948.25    172.0   \n",
       "4     1.6      1272.25      51.0   6.518224         835.50    131.0   \n",
       "\n",
       "   PT08.S3(NOx)  NO2(GT)  PT08.S4(NO2)  PT08.S5(O3)      T         RH  \\\n",
       "0       1056.25    113.0       1692.00      1267.50  13.60  48.875001   \n",
       "1       1173.75     92.0       1558.75       972.25  13.30  47.700000   \n",
       "2       1140.00    114.0       1554.50      1074.00  11.90  53.975000   \n",
       "3       1092.00    122.0       1583.75      1203.25  11.00  60.000000   \n",
       "4       1205.00    116.0       1490.00      1110.00  11.15  59.575001   \n",
       "\n",
       "         AH            datetime  hour  day  month  day_of_week  is_weekend  \n",
       "0  0.757754 2004-03-10 18:00:00    18   10      3            2           0  \n",
       "1  0.725487 2004-03-10 19:00:00    19   10      3            2           0  \n",
       "2  0.750239 2004-03-10 20:00:00    20   10      3            2           0  \n",
       "3  0.786713 2004-03-10 21:00:00    21   10      3            2           0  \n",
       "4  0.788794 2004-03-10 22:00:00    22   10      3            2           0  "
      ]
     },
     "execution_count": 5,
     "metadata": {},
     "output_type": "execute_result"
    }
   ],
   "source": [
    "# Extract time-based features from the datetime column\n",
    "data['hour'] = data['datetime'].dt.hour\n",
    "data['day'] = data['datetime'].dt.day\n",
    "data['month'] = data['datetime'].dt.month\n",
    "data['day_of_week'] = data['datetime'].dt.dayofweek\n",
    "data['is_weekend'] = data['day_of_week'].apply(lambda x: 1 if x >= 5 else 0)\n",
    "\n",
    "# Display the first few rows with new time-based features\n",
    "data.head()"
   ]
  },
  {
   "cell_type": "markdown",
   "id": "bfc060cdd24d170b",
   "metadata": {},
   "source": [
    "## Output Analysis: Step 5\n",
    "The `datetime` column was successfully recreated by combining `Date` and `Time`. Additionally, new time-based features were extracted:\n",
    "\n",
    "- `hour`: The hour of the observation.\n",
    "- `day`: The day of the month.\n",
    "- `month`: The month of the observation.\n",
    "- `day_of_week`: The day of the week (0 = Monday, 6 = Sunday).\n",
    "- `is_weekend`: A binary flag indicating whether the observation occurred on a weekend.\n",
    "\n",
    "The first few rows confirm that these new features have been correctly added. These features will help the model better understand patterns and seasonality in the data."
   ]
  },
  {
   "cell_type": "markdown",
   "id": "a39d445222b476f2",
   "metadata": {},
   "source": [
    "# Step 6: Detecting and Handling Outliers\n",
    "Outliers can significantly affect the model's performance, so it's crucial to detect and handle them effectively. We'll use the IQR (Interquartile Range) method to detect potential outliers and either remove or cap them."
   ]
  },
  {
   "cell_type": "code",
   "execution_count": 6,
   "id": "432c8b395d3cc2dd",
   "metadata": {
    "ExecuteTime": {
     "end_time": "2024-10-07T12:07:23.321190Z",
     "start_time": "2024-10-07T12:07:22.576291Z"
    }
   },
   "outputs": [
    {
     "data": {
      "image/png": "[encoded data removed]",
      "text/plain": [
       "<Figure size 1500x1000 with 1 Axes>"
      ]
     },
     "metadata": {},
     "output_type": "display_data"
    }
   ],
   "source": [
    "import matplotlib.pyplot as plt\n",
    "\n",
    "# Plotting boxplots to visualize outliers in numerical columns\n",
    "plt.figure(figsize=(15, 10))\n",
    "data.drop(columns=['datetime', 'hour', 'day', 'month', 'day_of_week', 'is_weekend']).boxplot()\n",
    "plt.xticks(rotation=90)\n",
    "plt.title('Boxplots of Numerical Columns for Outlier Detection')\n",
    "plt.show()\n"
   ]
  },
  {
   "cell_type": "code",
   "execution_count": 7,
   "id": "6b1daf404f56682f",
   "metadata": {
    "ExecuteTime": {
     "end_time": "2024-10-07T12:07:38.087389Z",
     "start_time": "2024-10-07T12:07:37.986850Z"
    }
   },
   "outputs": [
    {
     "data": {
      "text/plain": [
       "((9357, 19), (7173, 19))"
      ]
     },
     "execution_count": 7,
     "metadata": {},
     "output_type": "execute_result"
    }
   ],
   "source": [
    "# Calculating Q1, Q3, and IQR for each numerical column\n",
    "Q1 = data.quantile(0.25)\n",
    "Q3 = data.quantile(0.75)\n",
    "IQR = Q3 - Q1\n",
    "\n",
    "# Defining the boundaries for detecting outliers\n",
    "lower_bound = Q1 - 1.5 * IQR\n",
    "upper_bound = Q3 + 1.5 * IQR\n",
    "\n",
    "# Filtering out rows that contain outliers beyond the IQR boundaries\n",
    "outliers_filtered_data = data[~((data < lower_bound) | (data > upper_bound)).any(axis=1)]\n",
    "\n",
    "# Displaying the shape of the data before and after outlier removal\n",
    "data_shape_before = data.shape\n",
    "data_shape_after = outliers_filtered_data.shape\n",
    "\n",
    "data_shape_before, data_shape_after"
   ]
  },
  {
   "cell_type": "markdown",
   "id": "566b53e087494610",
   "metadata": {},
   "source": [
    "## Output Analysis: Step 6\n",
    "The output will show the shape of the data before and after removing outliers:\n",
    "- **Before Outlier Removal**: Original number of rows and columns in the dataset.\n",
    "- **After Outlier Removal**: Reduced number of rows after removing rows that contained extreme outliers.\n",
    "\n",
    "This step ensures that the model is trained on clean data without extreme anomalies that could hinder its performance."
   ]
  },
  {
   "cell_type": "markdown",
   "id": "881d8126cde3583c",
   "metadata": {},
   "source": [
    "# Step 7: Verifying the Data Distribution After Outlier Handling\n",
    "To confirm that the outliers have been effectively removed or capped, we'll plot the boxplots again for numerical columns. This helps us verify the improved data distribution."
   ]
  },
  {
   "cell_type": "code",
   "execution_count": 8,
   "id": "e8da4e826504de51",
   "metadata": {
    "ExecuteTime": {
     "end_time": "2024-10-07T12:17:53.106055Z",
     "start_time": "2024-10-07T12:17:52.899823Z"
    }
   },
   "outputs": [
    {
     "data": {
      "image/png": "[encoded data removed]",
      "text/plain": [
       "<Figure size 1500x1000 with 1 Axes>"
      ]
     },
     "metadata": {},
     "output_type": "display_data"
    }
   ],
   "source": [
    "# Plotting boxplots to verify data distribution after handling outliers\n",
    "plt.figure(figsize=(15, 10))\n",
    "outliers_filtered_data.drop(columns=['datetime', 'hour', 'day', 'month', 'day_of_week', 'is_weekend']).boxplot()\n",
    "plt.xticks(rotation=90)\n",
    "plt.title('Boxplots After Outlier Handling')\n",
    "plt.show()"
   ]
  },
  {
   "cell_type": "markdown",
   "id": "cebd2fb703546a4e",
   "metadata": {},
   "source": [
    "## Output Analysis: Step 7\n",
    "The new boxplots display a more balanced data distribution, with a significant reduction in extreme values (outliers). The minor outliers that remain are less likely to adversely impact model training. The overall improvement in data quality will contribute to better model performance."
   ]
  },
  {
   "cell_type": "markdown",
   "id": "fdc227ae0a13e537",
   "metadata": {},
   "source": [
    "# Step 8: Feature Selection Based on Correlation\n",
    "We will calculate the correlation of all features with the target variable (e.g., `CO(GT)`) to understand which features are most relevant for predicting the target."
   ]
  },
  {
   "cell_type": "code",
   "execution_count": 9,
   "id": "70c4a33e8f56bcaa",
   "metadata": {
    "ExecuteTime": {
     "end_time": "2024-10-07T12:11:38.709652Z",
     "start_time": "2024-10-07T12:11:38.673821Z"
    }
   },
   "outputs": [
    {
     "data": {
      "text/plain": [
       "CO(GT)           1.000000\n",
       "PT08.S2(NMHC)    0.759045\n",
       "C6H6(GT)         0.757833\n",
       "PT08.S1(CO)      0.694639\n",
       "PT08.S5(O3)      0.682843\n",
       "NOx(GT)          0.654886\n",
       "NO2(GT)          0.567919\n",
       "PT08.S4(NO2)     0.476746\n",
       "hour             0.343705\n",
       "T                0.132501\n",
       "month            0.103744\n",
       "AH               0.075473\n",
       "day             -0.016126\n",
       "datetime        -0.071766\n",
       "RH              -0.074426\n",
       "day_of_week     -0.101201\n",
       "is_weekend      -0.152911\n",
       "PT08.S3(NOx)    -0.633838\n",
       "NMHC(GT)              NaN\n",
       "Name: CO(GT), dtype: float64"
      ]
     },
     "execution_count": 9,
     "metadata": {},
     "output_type": "execute_result"
    }
   ],
   "source": [
    "# Calculate correlations with the target variable\n",
    "target_variable = 'CO(GT)'\n",
    "correlations = outliers_filtered_data.corr()[target_variable].sort_values(ascending=False)\n",
    "\n",
    "# Display correlations\n",
    "correlations"
   ]
  },
  {
   "cell_type": "markdown",
   "id": "6a78cfb72ba9fa38",
   "metadata": {},
   "source": [
    "## Output Analysis: Step 8\n",
    "The output will show the correlation of each feature with the target variable (`CO(GT)`). Features with high correlation (either positive or negative) are potentially important for model training. Features with very low correlation might be less useful and could be removed."
   ]
  },
  {
   "cell_type": "markdown",
   "id": "32ea77a375beadad",
   "metadata": {},
   "source": [
    "## Step: Removing NaN Correlation Column\n",
    "\n",
    "Since the column `NMHC(GT)` has a NaN value in its correlation with the target variable (`CO(GT)`), we will remove this column from the filtered dataset `outliers_filtered_data` to ensure that all features used for modeling are valid."
   ]
  },
  {
   "cell_type": "code",
   "execution_count": 10,
   "id": "d0c235eba3b088ec",
   "metadata": {
    "ExecuteTime": {
     "end_time": "2024-10-07T17:20:52.377151Z",
     "start_time": "2024-10-07T17:20:52.358781Z"
    }
   },
   "outputs": [
    {
     "data": {
      "text/html": [
       "<div>\n",
       "<style scoped>\n",
       "    .dataframe tbody tr th:only-of-type {\n",
       "        vertical-align: middle;\n",
       "    }\n",
       "\n",
       "    .dataframe tbody tr th {\n",
       "        vertical-align: top;\n",
       "    }\n",
       "\n",
       "    .dataframe thead th {\n",
       "        text-align: right;\n",
       "    }\n",
       "</style>\n",
       "<table border=\"1\" class=\"dataframe\">\n",
       "  <thead>\n",
       "    <tr style=\"text-align: right;\">\n",
       "      <th></th>\n",
       "      <th>CO(GT)</th>\n",
       "      <th>PT08.S1(CO)</th>\n",
       "      <th>C6H6(GT)</th>\n",
       "      <th>PT08.S2(NMHC)</th>\n",
       "      <th>NOx(GT)</th>\n",
       "      <th>PT08.S3(NOx)</th>\n",
       "      <th>NO2(GT)</th>\n",
       "      <th>PT08.S4(NO2)</th>\n",
       "      <th>PT08.S5(O3)</th>\n",
       "      <th>T</th>\n",
       "      <th>RH</th>\n",
       "      <th>AH</th>\n",
       "      <th>datetime</th>\n",
       "      <th>hour</th>\n",
       "      <th>day</th>\n",
       "      <th>month</th>\n",
       "      <th>day_of_week</th>\n",
       "      <th>is_weekend</th>\n",
       "    </tr>\n",
       "  </thead>\n",
       "  <tbody>\n",
       "    <tr>\n",
       "      <th>0</th>\n",
       "      <td>2.6</td>\n",
       "      <td>1360.00</td>\n",
       "      <td>11.881723</td>\n",
       "      <td>1045.50</td>\n",
       "      <td>166.0</td>\n",
       "      <td>1056.25</td>\n",
       "      <td>113.0</td>\n",
       "      <td>1692.00</td>\n",
       "      <td>1267.50</td>\n",
       "      <td>13.600</td>\n",
       "      <td>48.875001</td>\n",
       "      <td>0.757754</td>\n",
       "      <td>2004-03-10 18:00:00</td>\n",
       "      <td>18</td>\n",
       "      <td>10</td>\n",
       "      <td>3</td>\n",
       "      <td>2</td>\n",
       "      <td>0</td>\n",
       "    </tr>\n",
       "    <tr>\n",
       "      <th>23</th>\n",
       "      <td>2.9</td>\n",
       "      <td>1383.00</td>\n",
       "      <td>11.151581</td>\n",
       "      <td>1019.75</td>\n",
       "      <td>243.0</td>\n",
       "      <td>1008.00</td>\n",
       "      <td>135.0</td>\n",
       "      <td>1718.75</td>\n",
       "      <td>1104.00</td>\n",
       "      <td>9.775</td>\n",
       "      <td>67.624998</td>\n",
       "      <td>0.818501</td>\n",
       "      <td>2004-03-11 17:00:00</td>\n",
       "      <td>17</td>\n",
       "      <td>11</td>\n",
       "      <td>3</td>\n",
       "      <td>3</td>\n",
       "      <td>0</td>\n",
       "    </tr>\n",
       "    <tr>\n",
       "      <th>39</th>\n",
       "      <td>1.8</td>\n",
       "      <td>1544.50</td>\n",
       "      <td>22.074162</td>\n",
       "      <td>1353.00</td>\n",
       "      <td>179.8</td>\n",
       "      <td>767.25</td>\n",
       "      <td>109.0</td>\n",
       "      <td>2058.00</td>\n",
       "      <td>1587.75</td>\n",
       "      <td>9.225</td>\n",
       "      <td>56.199999</td>\n",
       "      <td>0.656065</td>\n",
       "      <td>2004-03-12 09:00:00</td>\n",
       "      <td>9</td>\n",
       "      <td>12</td>\n",
       "      <td>3</td>\n",
       "      <td>4</td>\n",
       "      <td>0</td>\n",
       "    </tr>\n",
       "    <tr>\n",
       "      <th>94</th>\n",
       "      <td>3.0</td>\n",
       "      <td>1457.75</td>\n",
       "      <td>11.867358</td>\n",
       "      <td>1045.00</td>\n",
       "      <td>170.0</td>\n",
       "      <td>973.75</td>\n",
       "      <td>129.0</td>\n",
       "      <td>1646.00</td>\n",
       "      <td>1098.50</td>\n",
       "      <td>22.225</td>\n",
       "      <td>28.400000</td>\n",
       "      <td>0.751627</td>\n",
       "      <td>2004-03-14 16:00:00</td>\n",
       "      <td>16</td>\n",
       "      <td>14</td>\n",
       "      <td>3</td>\n",
       "      <td>6</td>\n",
       "      <td>1</td>\n",
       "    </tr>\n",
       "    <tr>\n",
       "      <th>184</th>\n",
       "      <td>4.5</td>\n",
       "      <td>1616.50</td>\n",
       "      <td>21.312687</td>\n",
       "      <td>1332.50</td>\n",
       "      <td>349.0</td>\n",
       "      <td>685.75</td>\n",
       "      <td>150.0</td>\n",
       "      <td>2010.00</td>\n",
       "      <td>1818.50</td>\n",
       "      <td>17.850</td>\n",
       "      <td>40.525000</td>\n",
       "      <td>0.820964</td>\n",
       "      <td>2004-03-18 10:00:00</td>\n",
       "      <td>10</td>\n",
       "      <td>18</td>\n",
       "      <td>3</td>\n",
       "      <td>3</td>\n",
       "      <td>0</td>\n",
       "    </tr>\n",
       "  </tbody>\n",
       "</table>\n",
       "</div>"
      ],
      "text/plain": [
       "     CO(GT)  PT08.S1(CO)   C6H6(GT)  PT08.S2(NMHC)  NOx(GT)  PT08.S3(NOx)  \\\n",
       "0       2.6      1360.00  11.881723        1045.50    166.0       1056.25   \n",
       "23      2.9      1383.00  11.151581        1019.75    243.0       1008.00   \n",
       "39      1.8      1544.50  22.074162        1353.00    179.8        767.25   \n",
       "94      3.0      1457.75  11.867358        1045.00    170.0        973.75   \n",
       "184     4.5      1616.50  21.312687        1332.50    349.0        685.75   \n",
       "\n",
       "     NO2(GT)  PT08.S4(NO2)  PT08.S5(O3)       T         RH        AH  \\\n",
       "0      113.0       1692.00      1267.50  13.600  48.875001  0.757754   \n",
       "23     135.0       1718.75      1104.00   9.775  67.624998  0.818501   \n",
       "39     109.0       2058.00      1587.75   9.225  56.199999  0.656065   \n",
       "94     129.0       1646.00      1098.50  22.225  28.400000  0.751627   \n",
       "184    150.0       2010.00      1818.50  17.850  40.525000  0.820964   \n",
       "\n",
       "               datetime  hour  day  month  day_of_week  is_weekend  \n",
       "0   2004-03-10 18:00:00    18   10      3            2           0  \n",
       "23  2004-03-11 17:00:00    17   11      3            3           0  \n",
       "39  2004-03-12 09:00:00     9   12      3            4           0  \n",
       "94  2004-03-14 16:00:00    16   14      3            6           1  \n",
       "184 2004-03-18 10:00:00    10   18      3            3           0  "
      ]
     },
     "execution_count": 10,
     "metadata": {},
     "output_type": "execute_result"
    }
   ],
   "source": [
    "# Correct step: Removing the 'NMHC(GT)' column from the correct dataset\n",
    "cleaned_data_corrected = outliers_filtered_data.drop(columns=['NMHC(GT)'])\n",
    "\n",
    "# Display the structure of the dataset after removing the NaN column\n",
    "cleaned_data_corrected.head()"
   ]
  },
  {
   "cell_type": "markdown",
   "id": "8f4ac914f71ff8f4",
   "metadata": {},
   "source": [
    "# Step 9: Selecting Important Features Based on Correlation\n",
    "We'll select features with strong correlations to the target variable `CO(GT)` and drop less important features. This ensures the model focuses on the most informative variables.\n"
   ]
  },
  {
   "cell_type": "code",
   "execution_count": 11,
   "id": "919e31540b1d3c05",
   "metadata": {
    "ExecuteTime": {
     "end_time": "2024-10-07T17:27:04.064697Z",
     "start_time": "2024-10-07T17:27:04.050015Z"
    }
   },
   "outputs": [
    {
     "data": {
      "text/html": [
       "<div>\n",
       "<style scoped>\n",
       "    .dataframe tbody tr th:only-of-type {\n",
       "        vertical-align: middle;\n",
       "    }\n",
       "\n",
       "    .dataframe tbody tr th {\n",
       "        vertical-align: top;\n",
       "    }\n",
       "\n",
       "    .dataframe thead th {\n",
       "        text-align: right;\n",
       "    }\n",
       "</style>\n",
       "<table border=\"1\" class=\"dataframe\">\n",
       "  <thead>\n",
       "    <tr style=\"text-align: right;\">\n",
       "      <th></th>\n",
       "      <th>CO(GT)</th>\n",
       "      <th>PT08.S2(NMHC)</th>\n",
       "      <th>C6H6(GT)</th>\n",
       "      <th>PT08.S1(CO)</th>\n",
       "      <th>PT08.S5(O3)</th>\n",
       "      <th>NOx(GT)</th>\n",
       "      <th>PT08.S3(NOx)</th>\n",
       "      <th>NO2(GT)</th>\n",
       "    </tr>\n",
       "  </thead>\n",
       "  <tbody>\n",
       "    <tr>\n",
       "      <th>0</th>\n",
       "      <td>2.6</td>\n",
       "      <td>1045.50</td>\n",
       "      <td>11.881723</td>\n",
       "      <td>1360.00</td>\n",
       "      <td>1267.50</td>\n",
       "      <td>166.0</td>\n",
       "      <td>1056.25</td>\n",
       "      <td>113.0</td>\n",
       "    </tr>\n",
       "    <tr>\n",
       "      <th>23</th>\n",
       "      <td>2.9</td>\n",
       "      <td>1019.75</td>\n",
       "      <td>11.151581</td>\n",
       "      <td>1383.00</td>\n",
       "      <td>1104.00</td>\n",
       "      <td>243.0</td>\n",
       "      <td>1008.00</td>\n",
       "      <td>135.0</td>\n",
       "    </tr>\n",
       "    <tr>\n",
       "      <th>39</th>\n",
       "      <td>1.8</td>\n",
       "      <td>1353.00</td>\n",
       "      <td>22.074162</td>\n",
       "      <td>1544.50</td>\n",
       "      <td>1587.75</td>\n",
       "      <td>179.8</td>\n",
       "      <td>767.25</td>\n",
       "      <td>109.0</td>\n",
       "    </tr>\n",
       "    <tr>\n",
       "      <th>94</th>\n",
       "      <td>3.0</td>\n",
       "      <td>1045.00</td>\n",
       "      <td>11.867358</td>\n",
       "      <td>1457.75</td>\n",
       "      <td>1098.50</td>\n",
       "      <td>170.0</td>\n",
       "      <td>973.75</td>\n",
       "      <td>129.0</td>\n",
       "    </tr>\n",
       "    <tr>\n",
       "      <th>184</th>\n",
       "      <td>4.5</td>\n",
       "      <td>1332.50</td>\n",
       "      <td>21.312687</td>\n",
       "      <td>1616.50</td>\n",
       "      <td>1818.50</td>\n",
       "      <td>349.0</td>\n",
       "      <td>685.75</td>\n",
       "      <td>150.0</td>\n",
       "    </tr>\n",
       "  </tbody>\n",
       "</table>\n",
       "</div>"
      ],
      "text/plain": [
       "     CO(GT)  PT08.S2(NMHC)   C6H6(GT)  PT08.S1(CO)  PT08.S5(O3)  NOx(GT)  \\\n",
       "0       2.6        1045.50  11.881723      1360.00      1267.50    166.0   \n",
       "23      2.9        1019.75  11.151581      1383.00      1104.00    243.0   \n",
       "39      1.8        1353.00  22.074162      1544.50      1587.75    179.8   \n",
       "94      3.0        1045.00  11.867358      1457.75      1098.50    170.0   \n",
       "184     4.5        1332.50  21.312687      1616.50      1818.50    349.0   \n",
       "\n",
       "     PT08.S3(NOx)  NO2(GT)  \n",
       "0         1056.25    113.0  \n",
       "23        1008.00    135.0  \n",
       "39         767.25    109.0  \n",
       "94         973.75    129.0  \n",
       "184        685.75    150.0  "
      ]
     },
     "execution_count": 11,
     "metadata": {},
     "output_type": "execute_result"
    }
   ],
   "source": [
    "# Calculate correlation matrix\n",
    "correlation_matrix = cleaned_data_corrected.corr()\n",
    "\n",
    "# Display correlations with the target variable 'CO(GT)'\n",
    "target_variable = 'CO(GT)'\n",
    "co_corr = correlation_matrix[target_variable].abs().sort_values(ascending=False)\n",
    "\n",
    "# Set a threshold to select important features (e.g., correlation > 0.5)\n",
    "threshold = 0.5\n",
    "important_features = co_corr[co_corr > threshold].index.tolist()\n",
    "\n",
    "# Filter the dataset to only include important features\n",
    "data_filtered = cleaned_data_corrected[important_features]\n",
    "\n",
    "# Display the structure of the filtered dataset with selected features\n",
    "data_filtered.head()"
   ]
  },
  {
   "cell_type": "code",
   "execution_count": 12,
   "id": "a4f5bc6412a8a41b",
   "metadata": {
    "ExecuteTime": {
     "end_time": "2024-10-07T17:35:07.023364Z",
     "start_time": "2024-10-07T17:35:07.008425Z"
    }
   },
   "outputs": [
    {
     "name": "stderr",
     "output_type": "stream",
     "text": [
      "C:\\Users\\egeme\\AppData\\Local\\Temp\\ipykernel_14880\\4012973751.py:2: SettingWithCopyWarning: \n",
      "A value is trying to be set on a copy of a slice from a DataFrame.\n",
      "Try using .loc[row_indexer,col_indexer] = value instead\n",
      "\n",
      "See the caveats in the documentation: https://pandas.pydata.org/pandas-docs/stable/user_guide/indexing.html#returning-a-view-versus-a-copy\n",
      "  data_filtered['hour'] = cleaned_data_corrected['datetime'].dt.hour\n",
      "C:\\Users\\egeme\\AppData\\Local\\Temp\\ipykernel_14880\\4012973751.py:3: SettingWithCopyWarning: \n",
      "A value is trying to be set on a copy of a slice from a DataFrame.\n",
      "Try using .loc[row_indexer,col_indexer] = value instead\n",
      "\n",
      "See the caveats in the documentation: https://pandas.pydata.org/pandas-docs/stable/user_guide/indexing.html#returning-a-view-versus-a-copy\n",
      "  data_filtered['day'] = cleaned_data_corrected['datetime'].dt.day\n",
      "C:\\Users\\egeme\\AppData\\Local\\Temp\\ipykernel_14880\\4012973751.py:4: SettingWithCopyWarning: \n",
      "A value is trying to be set on a copy of a slice from a DataFrame.\n",
      "Try using .loc[row_indexer,col_indexer] = value instead\n",
      "\n",
      "See the caveats in the documentation: https://pandas.pydata.org/pandas-docs/stable/user_guide/indexing.html#returning-a-view-versus-a-copy\n",
      "  data_filtered.loc[:, 'month'] = cleaned_data_corrected['datetime'].dt.month\n",
      "C:\\Users\\egeme\\AppData\\Local\\Temp\\ipykernel_14880\\4012973751.py:5: SettingWithCopyWarning: \n",
      "A value is trying to be set on a copy of a slice from a DataFrame.\n",
      "Try using .loc[row_indexer,col_indexer] = value instead\n",
      "\n",
      "See the caveats in the documentation: https://pandas.pydata.org/pandas-docs/stable/user_guide/indexing.html#returning-a-view-versus-a-copy\n",
      "  data_filtered.loc[:, 'day_of_week'] = cleaned_data_corrected['datetime'].dt.dayofweek\n",
      "C:\\Users\\egeme\\AppData\\Local\\Temp\\ipykernel_14880\\4012973751.py:6: SettingWithCopyWarning: \n",
      "A value is trying to be set on a copy of a slice from a DataFrame.\n",
      "Try using .loc[row_indexer,col_indexer] = value instead\n",
      "\n",
      "See the caveats in the documentation: https://pandas.pydata.org/pandas-docs/stable/user_guide/indexing.html#returning-a-view-versus-a-copy\n",
      "  data_filtered.loc[:, 'is_weekend'] = data_filtered['day_of_week'].apply(lambda x: 1 if x >= 5 else 0)\n"
     ]
    },
    {
     "data": {
      "text/html": [
       "<div>\n",
       "<style scoped>\n",
       "    .dataframe tbody tr th:only-of-type {\n",
       "        vertical-align: middle;\n",
       "    }\n",
       "\n",
       "    .dataframe tbody tr th {\n",
       "        vertical-align: top;\n",
       "    }\n",
       "\n",
       "    .dataframe thead th {\n",
       "        text-align: right;\n",
       "    }\n",
       "</style>\n",
       "<table border=\"1\" class=\"dataframe\">\n",
       "  <thead>\n",
       "    <tr style=\"text-align: right;\">\n",
       "      <th></th>\n",
       "      <th>CO(GT)</th>\n",
       "      <th>PT08.S2(NMHC)</th>\n",
       "      <th>C6H6(GT)</th>\n",
       "      <th>PT08.S1(CO)</th>\n",
       "      <th>PT08.S5(O3)</th>\n",
       "      <th>NOx(GT)</th>\n",
       "      <th>PT08.S3(NOx)</th>\n",
       "      <th>NO2(GT)</th>\n",
       "      <th>hour</th>\n",
       "      <th>day</th>\n",
       "      <th>month</th>\n",
       "      <th>day_of_week</th>\n",
       "      <th>is_weekend</th>\n",
       "    </tr>\n",
       "  </thead>\n",
       "  <tbody>\n",
       "    <tr>\n",
       "      <th>0</th>\n",
       "      <td>2.6</td>\n",
       "      <td>1045.50</td>\n",
       "      <td>11.881723</td>\n",
       "      <td>1360.00</td>\n",
       "      <td>1267.50</td>\n",
       "      <td>166.0</td>\n",
       "      <td>1056.25</td>\n",
       "      <td>113.0</td>\n",
       "      <td>18</td>\n",
       "      <td>10</td>\n",
       "      <td>3</td>\n",
       "      <td>2</td>\n",
       "      <td>0</td>\n",
       "    </tr>\n",
       "    <tr>\n",
       "      <th>23</th>\n",
       "      <td>2.9</td>\n",
       "      <td>1019.75</td>\n",
       "      <td>11.151581</td>\n",
       "      <td>1383.00</td>\n",
       "      <td>1104.00</td>\n",
       "      <td>243.0</td>\n",
       "      <td>1008.00</td>\n",
       "      <td>135.0</td>\n",
       "      <td>17</td>\n",
       "      <td>11</td>\n",
       "      <td>3</td>\n",
       "      <td>3</td>\n",
       "      <td>0</td>\n",
       "    </tr>\n",
       "    <tr>\n",
       "      <th>39</th>\n",
       "      <td>1.8</td>\n",
       "      <td>1353.00</td>\n",
       "      <td>22.074162</td>\n",
       "      <td>1544.50</td>\n",
       "      <td>1587.75</td>\n",
       "      <td>179.8</td>\n",
       "      <td>767.25</td>\n",
       "      <td>109.0</td>\n",
       "      <td>9</td>\n",
       "      <td>12</td>\n",
       "      <td>3</td>\n",
       "      <td>4</td>\n",
       "      <td>0</td>\n",
       "    </tr>\n",
       "    <tr>\n",
       "      <th>94</th>\n",
       "      <td>3.0</td>\n",
       "      <td>1045.00</td>\n",
       "      <td>11.867358</td>\n",
       "      <td>1457.75</td>\n",
       "      <td>1098.50</td>\n",
       "      <td>170.0</td>\n",
       "      <td>973.75</td>\n",
       "      <td>129.0</td>\n",
       "      <td>16</td>\n",
       "      <td>14</td>\n",
       "      <td>3</td>\n",
       "      <td>6</td>\n",
       "      <td>1</td>\n",
       "    </tr>\n",
       "    <tr>\n",
       "      <th>184</th>\n",
       "      <td>4.5</td>\n",
       "      <td>1332.50</td>\n",
       "      <td>21.312687</td>\n",
       "      <td>1616.50</td>\n",
       "      <td>1818.50</td>\n",
       "      <td>349.0</td>\n",
       "      <td>685.75</td>\n",
       "      <td>150.0</td>\n",
       "      <td>10</td>\n",
       "      <td>18</td>\n",
       "      <td>3</td>\n",
       "      <td>3</td>\n",
       "      <td>0</td>\n",
       "    </tr>\n",
       "  </tbody>\n",
       "</table>\n",
       "</div>"
      ],
      "text/plain": [
       "     CO(GT)  PT08.S2(NMHC)   C6H6(GT)  PT08.S1(CO)  PT08.S5(O3)  NOx(GT)  \\\n",
       "0       2.6        1045.50  11.881723      1360.00      1267.50    166.0   \n",
       "23      2.9        1019.75  11.151581      1383.00      1104.00    243.0   \n",
       "39      1.8        1353.00  22.074162      1544.50      1587.75    179.8   \n",
       "94      3.0        1045.00  11.867358      1457.75      1098.50    170.0   \n",
       "184     4.5        1332.50  21.312687      1616.50      1818.50    349.0   \n",
       "\n",
       "     PT08.S3(NOx)  NO2(GT)  hour  day  month  day_of_week  is_weekend  \n",
       "0         1056.25    113.0    18   10      3            2           0  \n",
       "23        1008.00    135.0    17   11      3            3           0  \n",
       "39         767.25    109.0     9   12      3            4           0  \n",
       "94         973.75    129.0    16   14      3            6           1  \n",
       "184        685.75    150.0    10   18      3            3           0  "
      ]
     },
     "execution_count": 12,
     "metadata": {},
     "output_type": "execute_result"
    }
   ],
   "source": [
    "# Extract time-based features from 'datetime' column\n",
    "data_filtered['hour'] = cleaned_data_corrected['datetime'].dt.hour\n",
    "data_filtered['day'] = cleaned_data_corrected['datetime'].dt.day\n",
    "data_filtered.loc[:, 'month'] = cleaned_data_corrected['datetime'].dt.month\n",
    "data_filtered.loc[:, 'day_of_week'] = cleaned_data_corrected['datetime'].dt.dayofweek\n",
    "data_filtered.loc[:, 'is_weekend'] = data_filtered['day_of_week'].apply(lambda x: 1 if x >= 5 else 0)\n",
    "\n",
    "# Display the structure of the dataset after the modification\n",
    "data_filtered.head()"
   ]
  },
  {
   "cell_type": "code",
   "execution_count": 13,
   "id": "c939eb9024b0a674",
   "metadata": {
    "ExecuteTime": {
     "end_time": "2024-10-07T17:35:16.368857Z",
     "start_time": "2024-10-07T17:35:16.345497Z"
    }
   },
   "outputs": [
    {
     "data": {
      "text/html": [
       "<div>\n",
       "<style scoped>\n",
       "    .dataframe tbody tr th:only-of-type {\n",
       "        vertical-align: middle;\n",
       "    }\n",
       "\n",
       "    .dataframe tbody tr th {\n",
       "        vertical-align: top;\n",
       "    }\n",
       "\n",
       "    .dataframe thead th {\n",
       "        text-align: right;\n",
       "    }\n",
       "</style>\n",
       "<table border=\"1\" class=\"dataframe\">\n",
       "  <thead>\n",
       "    <tr style=\"text-align: right;\">\n",
       "      <th></th>\n",
       "      <th>CO(GT)</th>\n",
       "      <th>PT08.S2(NMHC)</th>\n",
       "      <th>C6H6(GT)</th>\n",
       "      <th>PT08.S1(CO)</th>\n",
       "      <th>PT08.S5(O3)</th>\n",
       "      <th>NOx(GT)</th>\n",
       "      <th>PT08.S3(NOx)</th>\n",
       "      <th>NO2(GT)</th>\n",
       "      <th>hour</th>\n",
       "      <th>day</th>\n",
       "      <th>month</th>\n",
       "      <th>day_of_week</th>\n",
       "      <th>is_weekend</th>\n",
       "    </tr>\n",
       "  </thead>\n",
       "  <tbody>\n",
       "    <tr>\n",
       "      <th>0</th>\n",
       "      <td>2.6</td>\n",
       "      <td>0.714796</td>\n",
       "      <td>0.615331</td>\n",
       "      <td>1.889660</td>\n",
       "      <td>1.048492</td>\n",
       "      <td>-0.230858</td>\n",
       "      <td>1.174218</td>\n",
       "      <td>0.210131</td>\n",
       "      <td>18</td>\n",
       "      <td>10</td>\n",
       "      <td>3</td>\n",
       "      <td>2</td>\n",
       "      <td>0</td>\n",
       "    </tr>\n",
       "    <tr>\n",
       "      <th>23</th>\n",
       "      <td>2.9</td>\n",
       "      <td>0.592518</td>\n",
       "      <td>0.478662</td>\n",
       "      <td>2.030925</td>\n",
       "      <td>0.510156</td>\n",
       "      <td>0.449649</td>\n",
       "      <td>0.918771</td>\n",
       "      <td>0.845593</td>\n",
       "      <td>17</td>\n",
       "      <td>11</td>\n",
       "      <td>3</td>\n",
       "      <td>3</td>\n",
       "      <td>0</td>\n",
       "    </tr>\n",
       "    <tr>\n",
       "      <th>39</th>\n",
       "      <td>1.8</td>\n",
       "      <td>2.175007</td>\n",
       "      <td>2.523169</td>\n",
       "      <td>3.022845</td>\n",
       "      <td>2.102941</td>\n",
       "      <td>-0.108897</td>\n",
       "      <td>-0.355814</td>\n",
       "      <td>0.094593</td>\n",
       "      <td>9</td>\n",
       "      <td>12</td>\n",
       "      <td>3</td>\n",
       "      <td>4</td>\n",
       "      <td>0</td>\n",
       "    </tr>\n",
       "    <tr>\n",
       "      <th>94</th>\n",
       "      <td>3.0</td>\n",
       "      <td>0.712421</td>\n",
       "      <td>0.612643</td>\n",
       "      <td>2.490033</td>\n",
       "      <td>0.492046</td>\n",
       "      <td>-0.195507</td>\n",
       "      <td>0.737444</td>\n",
       "      <td>0.672286</td>\n",
       "      <td>16</td>\n",
       "      <td>14</td>\n",
       "      <td>3</td>\n",
       "      <td>6</td>\n",
       "      <td>1</td>\n",
       "    </tr>\n",
       "    <tr>\n",
       "      <th>184</th>\n",
       "      <td>4.5</td>\n",
       "      <td>2.077660</td>\n",
       "      <td>2.380635</td>\n",
       "      <td>3.465064</td>\n",
       "      <td>2.862703</td>\n",
       "      <td>1.386452</td>\n",
       "      <td>-0.787293</td>\n",
       "      <td>1.278863</td>\n",
       "      <td>10</td>\n",
       "      <td>18</td>\n",
       "      <td>3</td>\n",
       "      <td>3</td>\n",
       "      <td>0</td>\n",
       "    </tr>\n",
       "  </tbody>\n",
       "</table>\n",
       "</div>"
      ],
      "text/plain": [
       "     CO(GT)  PT08.S2(NMHC)  C6H6(GT)  PT08.S1(CO)  PT08.S5(O3)   NOx(GT)  \\\n",
       "0       2.6       0.714796  0.615331     1.889660     1.048492 -0.230858   \n",
       "23      2.9       0.592518  0.478662     2.030925     0.510156  0.449649   \n",
       "39      1.8       2.175007  2.523169     3.022845     2.102941 -0.108897   \n",
       "94      3.0       0.712421  0.612643     2.490033     0.492046 -0.195507   \n",
       "184     4.5       2.077660  2.380635     3.465064     2.862703  1.386452   \n",
       "\n",
       "     PT08.S3(NOx)   NO2(GT)  hour  day  month  day_of_week  is_weekend  \n",
       "0        1.174218  0.210131    18   10      3            2           0  \n",
       "23       0.918771  0.845593    17   11      3            3           0  \n",
       "39      -0.355814  0.094593     9   12      3            4           0  \n",
       "94       0.737444  0.672286    16   14      3            6           1  \n",
       "184     -0.787293  1.278863    10   18      3            3           0  "
      ]
     },
     "execution_count": 13,
     "metadata": {},
     "output_type": "execute_result"
    }
   ],
   "source": [
    "from sklearn.preprocessing import StandardScaler\n",
    "\n",
    "# Initialize the scaler\n",
    "scaler = StandardScaler()\n",
    "\n",
    "# Select columns to scale (excluding the target variable and time-based features)\n",
    "columns_to_scale = [col for col in data_filtered.columns if col not in [target_variable, 'datetime', 'hour', 'day', 'month', 'day_of_week', 'is_weekend']]\n",
    "\n",
    "# Scale the features with .loc to avoid the SettingWithCopyWarning\n",
    "data_filtered.loc[:, columns_to_scale] = scaler.fit_transform(data_filtered[columns_to_scale])\n",
    "\n",
    "# Display the scaled data to verify\n",
    "data_filtered.head()"
   ]
  },
  {
   "cell_type": "code",
   "execution_count": 14,
   "id": "fd7a15b709d32298",
   "metadata": {
    "ExecuteTime": {
     "end_time": "2024-10-07T17:35:19.491433Z",
     "start_time": "2024-10-07T17:35:19.481570Z"
    }
   },
   "outputs": [
    {
     "data": {
      "text/html": [
       "<div>\n",
       "<style scoped>\n",
       "    .dataframe tbody tr th:only-of-type {\n",
       "        vertical-align: middle;\n",
       "    }\n",
       "\n",
       "    .dataframe tbody tr th {\n",
       "        vertical-align: top;\n",
       "    }\n",
       "\n",
       "    .dataframe thead th {\n",
       "        text-align: right;\n",
       "    }\n",
       "</style>\n",
       "<table border=\"1\" class=\"dataframe\">\n",
       "  <thead>\n",
       "    <tr style=\"text-align: right;\">\n",
       "      <th></th>\n",
       "      <th>CO(GT)</th>\n",
       "      <th>PT08.S2(NMHC)</th>\n",
       "      <th>C6H6(GT)</th>\n",
       "      <th>PT08.S1(CO)</th>\n",
       "      <th>PT08.S5(O3)</th>\n",
       "      <th>NOx(GT)</th>\n",
       "      <th>PT08.S3(NOx)</th>\n",
       "      <th>NO2(GT)</th>\n",
       "    </tr>\n",
       "  </thead>\n",
       "  <tbody>\n",
       "    <tr>\n",
       "      <th>0</th>\n",
       "      <td>2.6</td>\n",
       "      <td>1045.50</td>\n",
       "      <td>11.881723</td>\n",
       "      <td>1360.00</td>\n",
       "      <td>1267.50</td>\n",
       "      <td>166.0</td>\n",
       "      <td>1056.25</td>\n",
       "      <td>113.0</td>\n",
       "    </tr>\n",
       "    <tr>\n",
       "      <th>23</th>\n",
       "      <td>2.9</td>\n",
       "      <td>1019.75</td>\n",
       "      <td>11.151581</td>\n",
       "      <td>1383.00</td>\n",
       "      <td>1104.00</td>\n",
       "      <td>243.0</td>\n",
       "      <td>1008.00</td>\n",
       "      <td>135.0</td>\n",
       "    </tr>\n",
       "    <tr>\n",
       "      <th>39</th>\n",
       "      <td>1.8</td>\n",
       "      <td>1353.00</td>\n",
       "      <td>22.074162</td>\n",
       "      <td>1544.50</td>\n",
       "      <td>1587.75</td>\n",
       "      <td>179.8</td>\n",
       "      <td>767.25</td>\n",
       "      <td>109.0</td>\n",
       "    </tr>\n",
       "    <tr>\n",
       "      <th>94</th>\n",
       "      <td>3.0</td>\n",
       "      <td>1045.00</td>\n",
       "      <td>11.867358</td>\n",
       "      <td>1457.75</td>\n",
       "      <td>1098.50</td>\n",
       "      <td>170.0</td>\n",
       "      <td>973.75</td>\n",
       "      <td>129.0</td>\n",
       "    </tr>\n",
       "    <tr>\n",
       "      <th>184</th>\n",
       "      <td>4.5</td>\n",
       "      <td>1332.50</td>\n",
       "      <td>21.312687</td>\n",
       "      <td>1616.50</td>\n",
       "      <td>1818.50</td>\n",
       "      <td>349.0</td>\n",
       "      <td>685.75</td>\n",
       "      <td>150.0</td>\n",
       "    </tr>\n",
       "  </tbody>\n",
       "</table>\n",
       "</div>"
      ],
      "text/plain": [
       "     CO(GT)  PT08.S2(NMHC)   C6H6(GT)  PT08.S1(CO)  PT08.S5(O3)  NOx(GT)  \\\n",
       "0       2.6        1045.50  11.881723      1360.00      1267.50    166.0   \n",
       "23      2.9        1019.75  11.151581      1383.00      1104.00    243.0   \n",
       "39      1.8        1353.00  22.074162      1544.50      1587.75    179.8   \n",
       "94      3.0        1045.00  11.867358      1457.75      1098.50    170.0   \n",
       "184     4.5        1332.50  21.312687      1616.50      1818.50    349.0   \n",
       "\n",
       "     PT08.S3(NOx)  NO2(GT)  \n",
       "0         1056.25    113.0  \n",
       "23        1008.00    135.0  \n",
       "39         767.25    109.0  \n",
       "94         973.75    129.0  \n",
       "184        685.75    150.0  "
      ]
     },
     "execution_count": 14,
     "metadata": {},
     "output_type": "execute_result"
    }
   ],
   "source": [
    "# Create a deep copy to avoid SettingWithCopyWarning\n",
    "data_filtered = cleaned_data_corrected[important_features].copy()\n",
    "\n",
    "# Forward fill any missing values\n",
    "data_filtered = data_filtered.ffill()\n",
    "\n",
    "# Display dataset after handling missing values\n",
    "data_filtered.head()"
   ]
  },
  {
   "cell_type": "code",
   "execution_count": 15,
   "id": "83adfd07dbd1cb60",
   "metadata": {
    "ExecuteTime": {
     "end_time": "2024-10-07T17:37:24.279820Z",
     "start_time": "2024-10-07T17:37:24.228999Z"
    }
   },
   "outputs": [],
   "source": [
    "# Export the final processed dataset to a CSV file\n",
    "final_data_copy = data_filtered.copy()  # Make a copy of the data\n",
    "\n",
    "# Save to a CSV file\n",
    "final_data_copy.to_csv('final_data.csv', index=False)"
   ]
  },
  {
   "cell_type": "code",
   "execution_count": 16,
   "id": "d3400234276c9580",
   "metadata": {
    "ExecuteTime": {
     "end_time": "2024-10-07T17:41:14.983020Z",
     "start_time": "2024-10-07T17:41:14.972246Z"
    }
   },
   "outputs": [
    {
     "data": {
      "text/html": [
       "<div>\n",
       "<style scoped>\n",
       "    .dataframe tbody tr th:only-of-type {\n",
       "        vertical-align: middle;\n",
       "    }\n",
       "\n",
       "    .dataframe tbody tr th {\n",
       "        vertical-align: top;\n",
       "    }\n",
       "\n",
       "    .dataframe thead th {\n",
       "        text-align: right;\n",
       "    }\n",
       "</style>\n",
       "<table border=\"1\" class=\"dataframe\">\n",
       "  <thead>\n",
       "    <tr style=\"text-align: right;\">\n",
       "      <th></th>\n",
       "      <th>CO(GT)</th>\n",
       "      <th>PT08.S2(NMHC)</th>\n",
       "      <th>C6H6(GT)</th>\n",
       "      <th>PT08.S1(CO)</th>\n",
       "      <th>PT08.S5(O3)</th>\n",
       "      <th>NOx(GT)</th>\n",
       "      <th>PT08.S3(NOx)</th>\n",
       "      <th>NO2(GT)</th>\n",
       "      <th>datetime</th>\n",
       "    </tr>\n",
       "  </thead>\n",
       "  <tbody>\n",
       "    <tr>\n",
       "      <th>0</th>\n",
       "      <td>2.6</td>\n",
       "      <td>1045.50</td>\n",
       "      <td>11.881723</td>\n",
       "      <td>1360.00</td>\n",
       "      <td>1267.50</td>\n",
       "      <td>166.0</td>\n",
       "      <td>1056.25</td>\n",
       "      <td>113.0</td>\n",
       "      <td>2004-03-10 18:00:00</td>\n",
       "    </tr>\n",
       "    <tr>\n",
       "      <th>23</th>\n",
       "      <td>2.9</td>\n",
       "      <td>1019.75</td>\n",
       "      <td>11.151581</td>\n",
       "      <td>1383.00</td>\n",
       "      <td>1104.00</td>\n",
       "      <td>243.0</td>\n",
       "      <td>1008.00</td>\n",
       "      <td>135.0</td>\n",
       "      <td>2004-03-11 17:00:00</td>\n",
       "    </tr>\n",
       "    <tr>\n",
       "      <th>39</th>\n",
       "      <td>1.8</td>\n",
       "      <td>1353.00</td>\n",
       "      <td>22.074162</td>\n",
       "      <td>1544.50</td>\n",
       "      <td>1587.75</td>\n",
       "      <td>179.8</td>\n",
       "      <td>767.25</td>\n",
       "      <td>109.0</td>\n",
       "      <td>2004-03-12 09:00:00</td>\n",
       "    </tr>\n",
       "    <tr>\n",
       "      <th>94</th>\n",
       "      <td>3.0</td>\n",
       "      <td>1045.00</td>\n",
       "      <td>11.867358</td>\n",
       "      <td>1457.75</td>\n",
       "      <td>1098.50</td>\n",
       "      <td>170.0</td>\n",
       "      <td>973.75</td>\n",
       "      <td>129.0</td>\n",
       "      <td>2004-03-14 16:00:00</td>\n",
       "    </tr>\n",
       "    <tr>\n",
       "      <th>184</th>\n",
       "      <td>4.5</td>\n",
       "      <td>1332.50</td>\n",
       "      <td>21.312687</td>\n",
       "      <td>1616.50</td>\n",
       "      <td>1818.50</td>\n",
       "      <td>349.0</td>\n",
       "      <td>685.75</td>\n",
       "      <td>150.0</td>\n",
       "      <td>2004-03-18 10:00:00</td>\n",
       "    </tr>\n",
       "  </tbody>\n",
       "</table>\n",
       "</div>"
      ],
      "text/plain": [
       "     CO(GT)  PT08.S2(NMHC)   C6H6(GT)  PT08.S1(CO)  PT08.S5(O3)  NOx(GT)  \\\n",
       "0       2.6        1045.50  11.881723      1360.00      1267.50    166.0   \n",
       "23      2.9        1019.75  11.151581      1383.00      1104.00    243.0   \n",
       "39      1.8        1353.00  22.074162      1544.50      1587.75    179.8   \n",
       "94      3.0        1045.00  11.867358      1457.75      1098.50    170.0   \n",
       "184     4.5        1332.50  21.312687      1616.50      1818.50    349.0   \n",
       "\n",
       "     PT08.S3(NOx)  NO2(GT)            datetime  \n",
       "0         1056.25    113.0 2004-03-10 18:00:00  \n",
       "23        1008.00    135.0 2004-03-11 17:00:00  \n",
       "39         767.25    109.0 2004-03-12 09:00:00  \n",
       "94         973.75    129.0 2004-03-14 16:00:00  \n",
       "184        685.75    150.0 2004-03-18 10:00:00  "
      ]
     },
     "execution_count": 16,
     "metadata": {},
     "output_type": "execute_result"
    }
   ],
   "source": [
    "# Add the 'datetime' column back to the dataset if it was previously dropped or excluded\n",
    "data_filtered['datetime'] = cleaned_data_corrected['datetime']\n",
    "\n",
    "# Display the structure of the dataset with 'datetime' column added\n",
    "data_filtered.head()"
   ]
  },
  {
   "cell_type": "code",
   "execution_count": 17,
   "id": "b3f569f53427dbe2",
   "metadata": {
    "ExecuteTime": {
     "end_time": "2024-10-07T17:44:01.401160Z",
     "start_time": "2024-10-07T17:44:01.320328Z"
    }
   },
   "outputs": [
    {
     "data": {
      "text/html": [
       "<div>\n",
       "<style scoped>\n",
       "    .dataframe tbody tr th:only-of-type {\n",
       "        vertical-align: middle;\n",
       "    }\n",
       "\n",
       "    .dataframe tbody tr th {\n",
       "        vertical-align: top;\n",
       "    }\n",
       "\n",
       "    .dataframe thead th {\n",
       "        text-align: right;\n",
       "    }\n",
       "</style>\n",
       "<table border=\"1\" class=\"dataframe\">\n",
       "  <thead>\n",
       "    <tr style=\"text-align: right;\">\n",
       "      <th></th>\n",
       "      <th>CO(GT)</th>\n",
       "      <th>PT08.S2(NMHC)</th>\n",
       "      <th>C6H6(GT)</th>\n",
       "      <th>PT08.S1(CO)</th>\n",
       "      <th>PT08.S5(O3)</th>\n",
       "      <th>NOx(GT)</th>\n",
       "      <th>PT08.S3(NOx)</th>\n",
       "      <th>NO2(GT)</th>\n",
       "      <th>datetime</th>\n",
       "      <th>hour</th>\n",
       "      <th>day</th>\n",
       "      <th>month</th>\n",
       "      <th>day_of_week</th>\n",
       "      <th>is_weekend</th>\n",
       "      <th>hour_sin</th>\n",
       "      <th>hour_cos</th>\n",
       "      <th>day_sin</th>\n",
       "      <th>day_cos</th>\n",
       "      <th>month_sin</th>\n",
       "      <th>month_cos</th>\n",
       "    </tr>\n",
       "  </thead>\n",
       "  <tbody>\n",
       "    <tr>\n",
       "      <th>0</th>\n",
       "      <td>2.6</td>\n",
       "      <td>1045.50</td>\n",
       "      <td>11.881723</td>\n",
       "      <td>1360.00</td>\n",
       "      <td>1267.50</td>\n",
       "      <td>166.0</td>\n",
       "      <td>1056.25</td>\n",
       "      <td>113.0</td>\n",
       "      <td>2004-03-10 18:00:00</td>\n",
       "      <td>18</td>\n",
       "      <td>10</td>\n",
       "      <td>3</td>\n",
       "      <td>2</td>\n",
       "      <td>0</td>\n",
       "      <td>-1.000000</td>\n",
       "      <td>-1.836970e-16</td>\n",
       "      <td>0.897805</td>\n",
       "      <td>-0.440394</td>\n",
       "      <td>1.0</td>\n",
       "      <td>6.123234e-17</td>\n",
       "    </tr>\n",
       "    <tr>\n",
       "      <th>23</th>\n",
       "      <td>2.9</td>\n",
       "      <td>1019.75</td>\n",
       "      <td>11.151581</td>\n",
       "      <td>1383.00</td>\n",
       "      <td>1104.00</td>\n",
       "      <td>243.0</td>\n",
       "      <td>1008.00</td>\n",
       "      <td>135.0</td>\n",
       "      <td>2004-03-11 17:00:00</td>\n",
       "      <td>17</td>\n",
       "      <td>11</td>\n",
       "      <td>3</td>\n",
       "      <td>3</td>\n",
       "      <td>0</td>\n",
       "      <td>-0.965926</td>\n",
       "      <td>-2.588190e-01</td>\n",
       "      <td>0.790776</td>\n",
       "      <td>-0.612106</td>\n",
       "      <td>1.0</td>\n",
       "      <td>6.123234e-17</td>\n",
       "    </tr>\n",
       "    <tr>\n",
       "      <th>39</th>\n",
       "      <td>1.8</td>\n",
       "      <td>1353.00</td>\n",
       "      <td>22.074162</td>\n",
       "      <td>1544.50</td>\n",
       "      <td>1587.75</td>\n",
       "      <td>179.8</td>\n",
       "      <td>767.25</td>\n",
       "      <td>109.0</td>\n",
       "      <td>2004-03-12 09:00:00</td>\n",
       "      <td>9</td>\n",
       "      <td>12</td>\n",
       "      <td>3</td>\n",
       "      <td>4</td>\n",
       "      <td>0</td>\n",
       "      <td>0.707107</td>\n",
       "      <td>-7.071068e-01</td>\n",
       "      <td>0.651372</td>\n",
       "      <td>-0.758758</td>\n",
       "      <td>1.0</td>\n",
       "      <td>6.123234e-17</td>\n",
       "    </tr>\n",
       "    <tr>\n",
       "      <th>94</th>\n",
       "      <td>3.0</td>\n",
       "      <td>1045.00</td>\n",
       "      <td>11.867358</td>\n",
       "      <td>1457.75</td>\n",
       "      <td>1098.50</td>\n",
       "      <td>170.0</td>\n",
       "      <td>973.75</td>\n",
       "      <td>129.0</td>\n",
       "      <td>2004-03-14 16:00:00</td>\n",
       "      <td>16</td>\n",
       "      <td>14</td>\n",
       "      <td>3</td>\n",
       "      <td>6</td>\n",
       "      <td>1</td>\n",
       "      <td>-0.866025</td>\n",
       "      <td>-5.000000e-01</td>\n",
       "      <td>0.299363</td>\n",
       "      <td>-0.954139</td>\n",
       "      <td>1.0</td>\n",
       "      <td>6.123234e-17</td>\n",
       "    </tr>\n",
       "    <tr>\n",
       "      <th>184</th>\n",
       "      <td>4.5</td>\n",
       "      <td>1332.50</td>\n",
       "      <td>21.312687</td>\n",
       "      <td>1616.50</td>\n",
       "      <td>1818.50</td>\n",
       "      <td>349.0</td>\n",
       "      <td>685.75</td>\n",
       "      <td>150.0</td>\n",
       "      <td>2004-03-18 10:00:00</td>\n",
       "      <td>10</td>\n",
       "      <td>18</td>\n",
       "      <td>3</td>\n",
       "      <td>3</td>\n",
       "      <td>0</td>\n",
       "      <td>0.500000</td>\n",
       "      <td>-8.660254e-01</td>\n",
       "      <td>-0.485302</td>\n",
       "      <td>-0.874347</td>\n",
       "      <td>1.0</td>\n",
       "      <td>6.123234e-17</td>\n",
       "    </tr>\n",
       "  </tbody>\n",
       "</table>\n",
       "</div>"
      ],
      "text/plain": [
       "     CO(GT)  PT08.S2(NMHC)   C6H6(GT)  PT08.S1(CO)  PT08.S5(O3)  NOx(GT)  \\\n",
       "0       2.6        1045.50  11.881723      1360.00      1267.50    166.0   \n",
       "23      2.9        1019.75  11.151581      1383.00      1104.00    243.0   \n",
       "39      1.8        1353.00  22.074162      1544.50      1587.75    179.8   \n",
       "94      3.0        1045.00  11.867358      1457.75      1098.50    170.0   \n",
       "184     4.5        1332.50  21.312687      1616.50      1818.50    349.0   \n",
       "\n",
       "     PT08.S3(NOx)  NO2(GT)            datetime  hour  day  month  day_of_week  \\\n",
       "0         1056.25    113.0 2004-03-10 18:00:00    18   10      3            2   \n",
       "23        1008.00    135.0 2004-03-11 17:00:00    17   11      3            3   \n",
       "39         767.25    109.0 2004-03-12 09:00:00     9   12      3            4   \n",
       "94         973.75    129.0 2004-03-14 16:00:00    16   14      3            6   \n",
       "184        685.75    150.0 2004-03-18 10:00:00    10   18      3            3   \n",
       "\n",
       "     is_weekend  hour_sin      hour_cos   day_sin   day_cos  month_sin  \\\n",
       "0             0 -1.000000 -1.836970e-16  0.897805 -0.440394        1.0   \n",
       "23            0 -0.965926 -2.588190e-01  0.790776 -0.612106        1.0   \n",
       "39            0  0.707107 -7.071068e-01  0.651372 -0.758758        1.0   \n",
       "94            1 -0.866025 -5.000000e-01  0.299363 -0.954139        1.0   \n",
       "184           0  0.500000 -8.660254e-01 -0.485302 -0.874347        1.0   \n",
       "\n",
       "        month_cos  \n",
       "0    6.123234e-17  \n",
       "23   6.123234e-17  \n",
       "39   6.123234e-17  \n",
       "94   6.123234e-17  \n",
       "184  6.123234e-17  "
      ]
     },
     "execution_count": 17,
     "metadata": {},
     "output_type": "execute_result"
    }
   ],
   "source": [
    "# Ensure 'datetime' column is in datetime format\n",
    "data_filtered['datetime'] = pd.to_datetime(data_filtered['datetime'])\n",
    "\n",
    "# Extract time-based features\n",
    "data_filtered['hour'] = data_filtered['datetime'].dt.hour\n",
    "data_filtered['day'] = data_filtered['datetime'].dt.day\n",
    "data_filtered['month'] = data_filtered['datetime'].dt.month\n",
    "data_filtered['day_of_week'] = data_filtered['datetime'].dt.dayofweek\n",
    "data_filtered['is_weekend'] = data_filtered['day_of_week'].apply(lambda x: 1 if x >= 5 else 0)\n",
    "\n",
    "# Apply cyclic encoding for the time-based features\n",
    "# Hour\n",
    "data_filtered['hour_sin'] = np.sin(2 * np.pi * data_filtered['hour'] / 24)\n",
    "data_filtered['hour_cos'] = np.cos(2 * np.pi * data_filtered['hour'] / 24)\n",
    "\n",
    "# Day of the month\n",
    "data_filtered['day_sin'] = np.sin(2 * np.pi * data_filtered['day'] / 31)\n",
    "data_filtered['day_cos'] = np.cos(2 * np.pi * data_filtered['day'] / 31)\n",
    "\n",
    "# Month of the year\n",
    "data_filtered['month_sin'] = np.sin(2 * np.pi * data_filtered['month'] / 12)\n",
    "data_filtered['month_cos'] = np.cos(2 * np.pi * data_filtered['month'] / 12)\n",
    "\n",
    "# Display the modified dataset\n",
    "data_filtered.head()"
   ]
  },
  {
   "cell_type": "code",
   "execution_count": 18,
   "id": "eb98d6e7e837abf7",
   "metadata": {
    "ExecuteTime": {
     "end_time": "2024-10-07T17:44:50.017475Z",
     "start_time": "2024-10-07T17:44:49.937793Z"
    }
   },
   "outputs": [],
   "source": [
    "# Export the final processed dataset to a CSV file\n",
    "final_data_copy = data_filtered.copy()  # Make a copy of the data\n",
    "\n",
    "# Save to a CSV file\n",
    "final_data_copy.to_csv('final_data.csv', index=False)"
   ]
  },
  {
   "cell_type": "code",
   "execution_count": 19,
   "id": "33b0308f68a09231",
   "metadata": {
    "ExecuteTime": {
     "end_time": "2024-10-07T17:46:55.965204Z",
     "start_time": "2024-10-07T17:46:55.952278Z"
    }
   },
   "outputs": [
    {
     "name": "stdout",
     "output_type": "stream",
     "text": [
      "Training set: (5738, 20)\n",
      "Test set: (1435, 20)\n"
     ]
    }
   ],
   "source": [
    "# Sort the data by datetime to ensure chronological order\n",
    "data_filtered.sort_values('datetime', inplace=True)\n",
    "\n",
    "# Define the split index (80% train, 20% test)\n",
    "train_size = int(len(data_filtered) * 0.8)\n",
    "\n",
    "# Split into train and test sets\n",
    "train_df = data_filtered[:train_size].copy()\n",
    "test_df = data_filtered[train_size:].copy()\n",
    "\n",
    "print(f\"Training set: {train_df.shape}\")\n",
    "print(f\"Test set: {test_df.shape}\")"
   ]
  },
  {
   "cell_type": "code",
   "execution_count": 20,
   "id": "38d6f44148837573",
   "metadata": {
    "ExecuteTime": {
     "end_time": "2024-10-07T17:48:22.597030Z",
     "start_time": "2024-10-07T17:48:22.591892Z"
    }
   },
   "outputs": [],
   "source": [
    "# Convert 'datetime' to an integer index\n",
    "train_df['time_idx'] = pd.to_numeric(train_df['datetime']).astype(int)\n",
    "test_df['time_idx'] = pd.to_numeric(test_df['datetime']).astype(int)"
   ]
  },
  {
   "cell_type": "code",
   "execution_count": 21,
   "id": "6d7994a8676aec89",
   "metadata": {
    "ExecuteTime": {
     "end_time": "2024-10-07T17:49:12.991646Z",
     "start_time": "2024-10-07T17:49:12.985434Z"
    }
   },
   "outputs": [
    {
     "name": "stdout",
     "output_type": "stream",
     "text": [
      "Index(['CO(GT)', 'PT08_S2(NMHC)', 'C6H6(GT)', 'PT08_S1(CO)', 'PT08_S5(O3)',\n",
      "       'NOx(GT)', 'PT08_S3(NOx)', 'NO2(GT)', 'datetime', 'hour', 'day',\n",
      "       'month', 'day_of_week', 'is_weekend', 'hour_sin', 'hour_cos', 'day_sin',\n",
      "       'day_cos', 'month_sin', 'month_cos', 'time_idx'],\n",
      "      dtype='object')\n"
     ]
    }
   ],
   "source": [
    "# Replace '.' characters in column names with '_'\n",
    "train_df.columns = [col.replace('.', '_') for col in train_df.columns]\n",
    "test_df.columns = [col.replace('.', '_') for col in test_df.columns]\n",
    "\n",
    "# Display updated column names to verify\n",
    "print(train_df.columns)"
   ]
  },
  {
   "cell_type": "code",
   "execution_count": 22,
   "id": "7f3343cac559636b",
   "metadata": {
    "ExecuteTime": {
     "end_time": "2024-10-07T17:50:09.111531Z",
     "start_time": "2024-10-07T17:50:09.107072Z"
    }
   },
   "outputs": [],
   "source": [
    "# Add a default 'group' column to indicate a single series\n",
    "train_df['group'] = 'default'\n",
    "test_df['group'] = 'default'"
   ]
  },
  {
   "cell_type": "code",
   "execution_count": 23,
   "id": "f8ff0f60a0038604",
   "metadata": {
    "ExecuteTime": {
     "end_time": "2024-10-07T17:54:05.223094Z",
     "start_time": "2024-10-07T17:54:05.217769Z"
    }
   },
   "outputs": [
    {
     "name": "stdout",
     "output_type": "stream",
     "text": [
      "Total number of observations: 5738\n"
     ]
    }
   ],
   "source": [
    "print(f\"Total number of observations: {len(train_df)}\")\n"
   ]
  },
  {
   "cell_type": "code",
   "execution_count": 24,
   "id": "3a07b76d9fee3dab",
   "metadata": {
    "ExecuteTime": {
     "end_time": "2024-10-07T17:54:54.683626Z",
     "start_time": "2024-10-07T17:54:54.671340Z"
    }
   },
   "outputs": [
    {
     "name": "stdout",
     "output_type": "stream",
     "text": [
      "count    5738.0\n",
      "mean        1.0\n",
      "std         0.0\n",
      "min         1.0\n",
      "25%         1.0\n",
      "50%         1.0\n",
      "75%         1.0\n",
      "max         1.0\n",
      "Name: count, dtype: float64\n",
      "Number of unique time steps: 5738\n"
     ]
    }
   ],
   "source": [
    "# Check the time distribution in your data\n",
    "time_counts = train_df['time_idx'].value_counts().sort_index()\n",
    "print(time_counts.describe())\n",
    "\n",
    "# Check if there are any missing time steps\n",
    "print(\"Number of unique time steps:\", train_df['time_idx'].nunique())\n"
   ]
  },
  {
   "cell_type": "code",
   "execution_count": 25,
   "id": "ded5dfda63f93ba8",
   "metadata": {
    "ExecuteTime": {
     "end_time": "2024-10-07T17:55:51.141020Z",
     "start_time": "2024-10-07T17:55:51.132901Z"
    }
   },
   "outputs": [
    {
     "name": "stdout",
     "output_type": "stream",
     "text": [
      "               datetime  time_idx\n",
      "0   2004-03-10 18:00:00         0\n",
      "23  2004-03-11 17:00:00         1\n",
      "39  2004-03-12 09:00:00         2\n",
      "94  2004-03-14 16:00:00         3\n",
      "184 2004-03-18 10:00:00         4\n"
     ]
    }
   ],
   "source": [
    "# Sort by datetime to ensure proper order\n",
    "train_df.sort_values('datetime', inplace=True)\n",
    "\n",
    "# Create a sequential time index based on row order\n",
    "train_df['time_idx'] = range(len(train_df))\n",
    "\n",
    "# Check the first few rows to ensure proper indexing\n",
    "print(train_df[['datetime', 'time_idx']].head())"
   ]
  },
  {
   "cell_type": "code",
   "execution_count": 26,
   "id": "218ff07ef84c871b",
   "metadata": {
    "ExecuteTime": {
     "end_time": "2024-10-07T18:24:21.762811Z",
     "start_time": "2024-10-07T18:24:21.682164Z"
    }
   },
   "outputs": [
    {
     "name": "stdout",
     "output_type": "stream",
     "text": [
      "Files saved as 'train_df.csv' and 'test_df.csv'\n"
     ]
    }
   ],
   "source": [
    "# Save train_df as a CSV file\n",
    "train_df.to_csv('train_df.csv', index=False)\n",
    "\n",
    "# Save test_df as a CSV file\n",
    "test_df.to_csv('test_df.csv', index=False)\n",
    "\n",
    "print(\"Files saved as 'train_df.csv' and 'test_df.csv'\")"
   ]
  },
  {
   "cell_type": "code",
   "execution_count": 27,
   "id": "9c0c368053a3b5a6",
   "metadata": {
    "ExecuteTime": {
     "end_time": "2024-10-07T18:20:36.805878Z",
     "start_time": "2024-10-07T18:20:36.802203Z"
    }
   },
   "outputs": [],
   "source": [
    "import torch\n",
    "from pytorch_forecasting import TimeSeriesDataSet\n",
    "from pytorch_forecasting.models import TemporalFusionTransformer\n",
    "from pytorch_forecasting.metrics import QuantileLoss\n",
    "from pytorch_lightning import Trainer\n",
    "from pytorch_lightning.callbacks import EarlyStopping\n",
    "import pandas as pd\n"
   ]
  },
  {
   "cell_type": "code",
   "execution_count": 28,
   "id": "970fc5daf70d5979",
   "metadata": {
    "ExecuteTime": {
     "end_time": "2024-10-07T18:26:40.900310Z",
     "start_time": "2024-10-07T18:26:40.895209Z"
    }
   },
   "outputs": [],
   "source": [
    "max_encoder_length = 30  # Length of the past sequences used for model input\n",
    "max_prediction_length = 10  # Length of the prediction horizon\n",
    "\n",
    "# Columns in your DataFrame\n",
    "time_idx_col = \"time_idx\"  # Time index column\n",
    "target_col = \"CO(GT)\"  # Target variable to be predicted\n",
    "group_col = \"group\"  # Group column\n",
    "\n",
    "# Specify the known and unknown variables\n",
    "known_reals = [\n",
    "    \"time_idx\", \"hour\", \"day\", \"month\", \"day_of_week\", \"is_weekend\",\n",
    "    \"hour_sin\", \"hour_cos\", \"day_sin\", \"day_cos\", \"month_sin\", \"month_cos\"\n",
    "]  # Replace with your known variables\n",
    "unknown_reals = [target_col]  # The target variable is unknown during prediction"
   ]
  },
  {
   "cell_type": "code",
   "execution_count": 29,
   "id": "115de9cac9574439",
   "metadata": {
    "ExecuteTime": {
     "end_time": "2024-10-07T18:26:54.654673Z",
     "start_time": "2024-10-07T18:26:54.599820Z"
    }
   },
   "outputs": [],
   "source": [
    "from pytorch_forecasting import TimeSeriesDataSet\n",
    "\n",
    "# Create the TimeSeriesDataSet for training\n",
    "training = TimeSeriesDataSet(\n",
    "    train_df,\n",
    "    time_idx=time_idx_col,\n",
    "    target=target_col,\n",
    "    group_ids=[group_col],\n",
    "    max_encoder_length=max_encoder_length,\n",
    "    max_prediction_length=max_prediction_length,\n",
    "    time_varying_known_reals=known_reals,\n",
    "    time_varying_unknown_reals=unknown_reals,\n",
    "    allow_missing_timesteps=True  # Set to True based on your data structure\n",
    ")"
   ]
  },
  {
   "cell_type": "code",
   "execution_count": 30,
   "id": "223f6532712a8dc7",
   "metadata": {
    "ExecuteTime": {
     "end_time": "2024-10-07T18:30:40.638235Z",
     "start_time": "2024-10-07T18:30:40.618855Z"
    }
   },
   "outputs": [
    {
     "name": "stdout",
     "output_type": "stream",
     "text": [
      "Adjusted time_idx in test_df: 5738 to 7172\n"
     ]
    }
   ],
   "source": [
    "# Find the maximum time_idx in train_df\n",
    "max_time_idx_train = train_df[time_idx_col].max()\n",
    "\n",
    "# Adjust time_idx in test_df to be sequential from max_time_idx_train + 1\n",
    "test_df[time_idx_col] = range(max_time_idx_train + 1, max_time_idx_train + 1 + len(test_df))\n",
    "\n",
    "# Print to confirm changes\n",
    "print(f\"Adjusted time_idx in test_df: {test_df[time_idx_col].min()} to {test_df[time_idx_col].max()}\")\n"
   ]
  },
  {
   "cell_type": "code",
   "execution_count": 31,
   "id": "34ec45f9dcafdd55",
   "metadata": {
    "ExecuteTime": {
     "end_time": "2024-10-07T18:31:31.448230Z",
     "start_time": "2024-10-07T18:31:31.415270Z"
    }
   },
   "outputs": [],
   "source": [
    "# Recreate the validation dataset from the corrected test_df\n",
    "validation = TimeSeriesDataSet.from_dataset(\n",
    "    training,\n",
    "    test_df,\n",
    "    min_prediction_idx=max_time_idx_train + 1  # Use the new start of time_idx in test_df\n",
    ")\n",
    "\n",
    "# Define a suitable batch size\n",
    "batch_size = 64  # Adjust this value as needed based on your data and memory\n",
    "\n",
    "\n",
    "# Create dataloaders again\n",
    "train_dataloader = training.to_dataloader(train=True, batch_size=batch_size, num_workers=0)\n",
    "val_dataloader = validation.to_dataloader(train=False, batch_size=batch_size, num_workers=0)"
   ]
  },
  {
   "cell_type": "code",
   "execution_count": 32,
   "id": "e35199ad609ea9b3",
   "metadata": {
    "ExecuteTime": {
     "end_time": "2024-10-07T18:55:44.089020Z",
     "start_time": "2024-10-07T18:55:43.998109Z"
    }
   },
   "outputs": [
    {
     "name": "stderr",
     "output_type": "stream",
     "text": [
      "C:\\Users\\egeme\\PycharmProjects\\pythonProject1\\.venv\\Lib\\site-packages\\lightning\\pytorch\\utilities\\parsing.py:208: Attribute 'loss' is an instance of `nn.Module` and is already saved during checkpointing. It is recommended to ignore them using `self.save_hyperparameters(ignore=['loss'])`.\n",
      "C:\\Users\\egeme\\PycharmProjects\\pythonProject1\\.venv\\Lib\\site-packages\\lightning\\pytorch\\utilities\\parsing.py:208: Attribute 'logging_metrics' is an instance of `nn.Module` and is already saved during checkpointing. It is recommended to ignore them using `self.save_hyperparameters(ignore=['logging_metrics'])`.\n",
      "C:\\Users\\egeme\\PycharmProjects\\pythonProject1\\.venv\\Lib\\site-packages\\pytorch_forecasting\\models\\temporal_fusion_transformer\\__init__.py:143: UserWarning: In pytorch-forecasting models, from version 1.2.0, the default optimizer will be 'adam', in order to minimize the number of dependencies in default parameter settings. Users who wish to ensure their code continues using 'ranger' as optimizer should ensure that pytorch_optimizer is installed, and set the optimizer parameter explicitly to 'ranger'.\n",
      "  super().__init__(loss=loss, logging_metrics=logging_metrics, **kwargs)\n",
      "GPU available: False, used: False\n",
      "TPU available: False, using: 0 TPU cores\n",
      "HPU available: False, using: 0 HPUs\n",
      "\n",
      "  | Name  | Type                      | Params | Mode \n",
      "------------------------------------------------------------\n",
      "0 | model | TemporalFusionTransformer | 31.3 K | train\n",
      "------------------------------------------------------------\n",
      "31.3 K    Trainable params\n",
      "0         Non-trainable params\n",
      "31.3 K    Total params\n",
      "0.125     Total estimated model params size (MB)\n",
      "505       Modules in train mode\n",
      "0         Modules in eval mode\n",
      "C:\\Users\\egeme\\PycharmProjects\\pythonProject1\\.venv\\Lib\\site-packages\\pytorch_lightning\\trainer\\connectors\\data_connector.py:424: The 'train_dataloader' does not have many workers which may be a bottleneck. Consider increasing the value of the `num_workers` argument` to `num_workers=11` in the `DataLoader` to improve performance.\n",
      "C:\\Users\\egeme\\PycharmProjects\\pythonProject1\\.venv\\Lib\\site-packages\\pytorch_lightning\\trainer\\connectors\\data_connector.py:424: The 'val_dataloader' does not have many workers which may be a bottleneck. Consider increasing the value of the `num_workers` argument` to `num_workers=11` in the `DataLoader` to improve performance.\n"
     ]
    },
    {
     "data": {
      "application/vnd.jupyter.widget-view+json": {
       "model_id": "f4bdce2d2f134cd6b82cc4cec50d3ab7",
       "version_major": 2,
       "version_minor": 0
      },
      "text/plain": [
       "Training: |                                                                                                   …"
      ]
     },
     "metadata": {},
     "output_type": "display_data"
    },
    {
     "data": {
      "application/vnd.jupyter.widget-view+json": {
       "model_id": "",
       "version_major": 2,
       "version_minor": 0
      },
      "text/plain": [
       "Validation: |                                                                                                 …"
      ]
     },
     "metadata": {},
     "output_type": "display_data"
    },
    {
     "name": "stderr",
     "output_type": "stream",
     "text": [
      "Metric val_loss improved. New best score: 0.294\n"
     ]
    },
    {
     "data": {
      "application/vnd.jupyter.widget-view+json": {
       "model_id": "",
       "version_major": 2,
       "version_minor": 0
      },
      "text/plain": [
       "Validation: |                                                                                                 …"
      ]
     },
     "metadata": {},
     "output_type": "display_data"
    },
    {
     "name": "stderr",
     "output_type": "stream",
     "text": [
      "Metric val_loss improved by 0.007 >= min_delta = 0.0. New best score: 0.287\n"
     ]
    },
    {
     "data": {
      "application/vnd.jupyter.widget-view+json": {
       "model_id": "",
       "version_major": 2,
       "version_minor": 0
      },
      "text/plain": [
       "Validation: |                                                                                                 …"
      ]
     },
     "metadata": {},
     "output_type": "display_data"
    },
    {
     "name": "stderr",
     "output_type": "stream",
     "text": [
      "Metric val_loss improved by 0.008 >= min_delta = 0.0. New best score: 0.278\n"
     ]
    },
    {
     "data": {
      "application/vnd.jupyter.widget-view+json": {
       "model_id": "",
       "version_major": 2,
       "version_minor": 0
      },
      "text/plain": [
       "Validation: |                                                                                                 …"
      ]
     },
     "metadata": {},
     "output_type": "display_data"
    },
    {
     "data": {
      "application/vnd.jupyter.widget-view+json": {
       "model_id": "",
       "version_major": 2,
       "version_minor": 0
      },
      "text/plain": [
       "Validation: |                                                                                                 …"
      ]
     },
     "metadata": {},
     "output_type": "display_data"
    },
    {
     "data": {
      "application/vnd.jupyter.widget-view+json": {
       "model_id": "",
       "version_major": 2,
       "version_minor": 0
      },
      "text/plain": [
       "Validation: |                                                                                                 …"
      ]
     },
     "metadata": {},
     "output_type": "display_data"
    },
    {
     "name": "stderr",
     "output_type": "stream",
     "text": [
      "Monitored metric val_loss did not improve in the last 3 records. Best score: 0.278. Signaling Trainer to stop.\n"
     ]
    }
   ],
   "source": [
    "import os\n",
    "import torch\n",
    "from pytorch_forecasting.models import TemporalFusionTransformer\n",
    "from pytorch_forecasting.metrics import QuantileLoss\n",
    "from pytorch_lightning import Trainer, LightningModule\n",
    "from pytorch_lightning.callbacks import EarlyStopping\n",
    "\n",
    "# Temporal Fusion Transformer modelini başlatın\n",
    "tft = TemporalFusionTransformer.from_dataset(\n",
    "    training,\n",
    "    learning_rate=0.03,\n",
    "    hidden_size=16,\n",
    "    attention_head_size=1,\n",
    "    dropout=0.1,\n",
    "    hidden_continuous_size=8,\n",
    "    output_size=7,  # Number of quantiles by default\n",
    "    loss=QuantileLoss(),\n",
    "    log_interval=10,\n",
    "    reduce_on_plateau_patience=4,\n",
    ")\n",
    "\n",
    "# LightningModule olarak TemporalFusionTransformer modelini sarmalayan sınıf\n",
    "class TFTLightningModule(LightningModule):\n",
    "    def __init__(self, model):\n",
    "        super().__init__()\n",
    "        self.model = model\n",
    "\n",
    "    def forward(self, x):\n",
    "        return self.model(x)\n",
    "\n",
    "    def training_step(self, batch, batch_idx):\n",
    "        # Eğitim adımını gerçekleştir\n",
    "        x, y = batch\n",
    "        # `model` içindeki `loss` hesaplamasını doğru şekilde ayarla\n",
    "        out = self.model(x)\n",
    "        y_pred = out[0]  # Modelin çıktısı tuple, `y_pred` ilk elemandır\n",
    "        loss = self.model.loss(y_pred, y)\n",
    "        # `batch_size` parametresini ekleyerek kaydedin\n",
    "        self.log(\"train_loss\", loss, on_step=True, on_epoch=True, prog_bar=True, batch_size=x['encoder_target'].shape[0])\n",
    "        return loss\n",
    "\n",
    "    def validation_step(self, batch, batch_idx):\n",
    "        # Doğrulama adımını gerçekleştir\n",
    "        x, y = batch\n",
    "        out = self.model(x)\n",
    "        y_pred = out[0]  # Modelin çıktısı tuple, `y_pred` ilk elemandır\n",
    "        loss = self.model.loss(y_pred, y)\n",
    "        # `batch_size` parametresini ekleyerek kaydedin\n",
    "        self.log(\"val_loss\", loss, prog_bar=True, batch_size=x['encoder_target'].shape[0])\n",
    "        return loss\n",
    "\n",
    "    def configure_optimizers(self):\n",
    "        # Adam optimizasyon algoritmasını kullanarak optimizer ayarla\n",
    "        optimizer = torch.optim.Adam(self.model.parameters(), lr=self.model.hparams.learning_rate)\n",
    "        return optimizer\n",
    "\n",
    "# TemporalFusionTransformer modelini TFTLightningModule içerisine sar\n",
    "tft_module = TFTLightningModule(tft)\n",
    "\n",
    "# PyTorch Lightning Trainer'ı başlatın\n",
    "trainer = Trainer(\n",
    "    max_epochs=30,\n",
    "    accelerator=\"gpu\" if torch.cuda.is_available() else \"cpu\",  # GPU varsa kullan\n",
    "    devices=1,  # Tek cihaz kullan\n",
    "    callbacks=[EarlyStopping(monitor=\"val_loss\", patience=3, verbose=True)],  # Early stopping callback\n",
    "    num_sanity_val_steps=0,  # Sanity check'i kapat\n",
    ")\n",
    "\n",
    "# Modeli eğitin\n",
    "trainer.fit(\n",
    "    tft_module,\n",
    "    train_dataloaders=train_dataloader,\n",
    "    val_dataloaders=val_dataloader\n",
    ")\n"
   ]
  },
  {
   "cell_type": "code",
   "execution_count": 33,
   "id": "8b8056db0fb54ddc",
   "metadata": {},
   "outputs": [],
   "source": [
    "torch.save(tft.state_dict(), \"tft_final_model.pth\")\n"
   ]
  },
  {
   "cell_type": "code",
   "execution_count": 34,
   "id": "38ba3d11-6a4f-4720-9f07-6e4bfe40021b",
   "metadata": {},
   "outputs": [
    {
     "name": "stderr",
     "output_type": "stream",
     "text": [
      "C:\\Users\\egeme\\AppData\\Local\\Temp\\ipykernel_14880\\463158644.py:2: FutureWarning: You are using `torch.load` with `weights_only=False` (the current default value), which uses the default pickle module implicitly. It is possible to construct malicious pickle data which will execute arbitrary code during unpickling (See https://github.com/pytorch/pytorch/blob/main/SECURITY.md#untrusted-models for more details). In a future release, the default value for `weights_only` will be flipped to `True`. This limits the functions that could be executed during unpickling. Arbitrary objects will no longer be allowed to be loaded via this mode unless they are explicitly allowlisted by the user via `torch.serialization.add_safe_globals`. We recommend you start setting `weights_only=True` for any use case where you don't have full control of the loaded file. Please open an issue on GitHub for any issues related to this experimental feature.\n",
      "  tft.load_state_dict(torch.load(\"tft_final_model.pth\"))\n"
     ]
    },
    {
     "data": {
      "text/plain": [
       "TemporalFusionTransformer(\n",
       "  \t\"attention_head_size\":               1\n",
       "  \t\"categorical_groups\":                {}\n",
       "  \t\"causal_attention\":                  True\n",
       "  \t\"dataset_parameters\":                {'time_idx': 'time_idx', 'target': 'CO(GT)', 'group_ids': ['group'], 'weight': None, 'max_encoder_length': 30, 'min_encoder_length': 30, 'min_prediction_idx': 0, 'min_prediction_length': 10, 'max_prediction_length': 10, 'static_categoricals': [], 'static_reals': [], 'time_varying_known_categoricals': [], 'time_varying_known_reals': ['time_idx', 'hour', 'day', 'month', 'day_of_week', 'is_weekend', 'hour_sin', 'hour_cos', 'day_sin', 'day_cos', 'month_sin', 'month_cos'], 'time_varying_unknown_categoricals': [], 'time_varying_unknown_reals': ['CO(GT)'], 'variable_groups': {}, 'constant_fill_strategy': {}, 'allow_missing_timesteps': True, 'lags': {}, 'add_relative_time_idx': False, 'add_target_scales': False, 'add_encoder_length': False, 'target_normalizer': EncoderNormalizer(\n",
       "  \t\tmethod='standard',\n",
       "  \t\tcenter=True,\n",
       "  \t\tmax_length=None,\n",
       "  \t\ttransformation='relu',\n",
       "  \t\tmethod_kwargs={}\n",
       "  \t), 'categorical_encoders': {'__group_id__group': NaNLabelEncoder(add_nan=False, warn=True)}, 'scalers': {'time_idx': StandardScaler(), 'hour': StandardScaler(), 'day': StandardScaler(), 'month': StandardScaler(), 'day_of_week': StandardScaler(), 'is_weekend': StandardScaler(), 'hour_sin': StandardScaler(), 'hour_cos': StandardScaler(), 'day_sin': StandardScaler(), 'day_cos': StandardScaler(), 'month_sin': StandardScaler(), 'month_cos': StandardScaler()}, 'randomize_length': None, 'predict_mode': False}\n",
       "  \t\"dropout\":                           0.1\n",
       "  \t\"embedding_labels\":                  {}\n",
       "  \t\"embedding_paddings\":                []\n",
       "  \t\"embedding_sizes\":                   {}\n",
       "  \t\"hidden_continuous_size\":            8\n",
       "  \t\"hidden_continuous_sizes\":           {}\n",
       "  \t\"hidden_size\":                       16\n",
       "  \t\"learning_rate\":                     0.03\n",
       "  \t\"log_gradient_flow\":                 False\n",
       "  \t\"log_interval\":                      10\n",
       "  \t\"log_val_interval\":                  10\n",
       "  \t\"lstm_layers\":                       1\n",
       "  \t\"max_encoder_length\":                30\n",
       "  \t\"monotone_constaints\":               {}\n",
       "  \t\"optimizer\":                         ranger\n",
       "  \t\"optimizer_params\":                  None\n",
       "  \t\"output_size\":                       7\n",
       "  \t\"output_transformer\":                EncoderNormalizer(\n",
       "  \t\tmethod='standard',\n",
       "  \t\tcenter=True,\n",
       "  \t\tmax_length=None,\n",
       "  \t\ttransformation='relu',\n",
       "  \t\tmethod_kwargs={}\n",
       "  \t)\n",
       "  \t\"reduce_on_plateau_min_lr\":          1e-05\n",
       "  \t\"reduce_on_plateau_patience\":        4\n",
       "  \t\"reduce_on_plateau_reduction\":       2.0\n",
       "  \t\"share_single_variable_networks\":    False\n",
       "  \t\"static_categoricals\":               []\n",
       "  \t\"static_reals\":                      []\n",
       "  \t\"time_varying_categoricals_decoder\": []\n",
       "  \t\"time_varying_categoricals_encoder\": []\n",
       "  \t\"time_varying_reals_decoder\":        ['time_idx', 'hour', 'day', 'month', 'day_of_week', 'is_weekend', 'hour_sin', 'hour_cos', 'day_sin', 'day_cos', 'month_sin', 'month_cos']\n",
       "  \t\"time_varying_reals_encoder\":        ['time_idx', 'hour', 'day', 'month', 'day_of_week', 'is_weekend', 'hour_sin', 'hour_cos', 'day_sin', 'day_cos', 'month_sin', 'month_cos', 'CO(GT)']\n",
       "  \t\"weight_decay\":                      0.0\n",
       "  \t\"x_categoricals\":                    []\n",
       "  \t\"x_reals\":                           ['time_idx', 'hour', 'day', 'month', 'day_of_week', 'is_weekend', 'hour_sin', 'hour_cos', 'day_sin', 'day_cos', 'month_sin', 'month_cos', 'CO(GT)']\n",
       "  (loss): QuantileLoss(quantiles=[0.02, 0.1, 0.25, 0.5, 0.75, 0.9, 0.98])\n",
       "  (logging_metrics): ModuleList(\n",
       "    (0): SMAPE()\n",
       "    (1): MAE()\n",
       "    (2): RMSE()\n",
       "    (3): MAPE()\n",
       "  )\n",
       "  (input_embeddings): MultiEmbedding(\n",
       "    (embeddings): ModuleDict()\n",
       "  )\n",
       "  (prescalers): ModuleDict(\n",
       "    (time_idx): Linear(in_features=1, out_features=8, bias=True)\n",
       "    (hour): Linear(in_features=1, out_features=8, bias=True)\n",
       "    (day): Linear(in_features=1, out_features=8, bias=True)\n",
       "    (month): Linear(in_features=1, out_features=8, bias=True)\n",
       "    (day_of_week): Linear(in_features=1, out_features=8, bias=True)\n",
       "    (is_weekend): Linear(in_features=1, out_features=8, bias=True)\n",
       "    (hour_sin): Linear(in_features=1, out_features=8, bias=True)\n",
       "    (hour_cos): Linear(in_features=1, out_features=8, bias=True)\n",
       "    (day_sin): Linear(in_features=1, out_features=8, bias=True)\n",
       "    (day_cos): Linear(in_features=1, out_features=8, bias=True)\n",
       "    (month_sin): Linear(in_features=1, out_features=8, bias=True)\n",
       "    (month_cos): Linear(in_features=1, out_features=8, bias=True)\n",
       "    (CO(GT)): Linear(in_features=1, out_features=8, bias=True)\n",
       "  )\n",
       "  (static_variable_selection): VariableSelectionNetwork(\n",
       "    (single_variable_grns): ModuleDict()\n",
       "    (prescalers): ModuleDict()\n",
       "    (softmax): Softmax(dim=-1)\n",
       "  )\n",
       "  (encoder_variable_selection): VariableSelectionNetwork(\n",
       "    (flattened_grn): GatedResidualNetwork(\n",
       "      (resample_norm): ResampleNorm(\n",
       "        (resample): TimeDistributedInterpolation()\n",
       "        (gate): Sigmoid()\n",
       "        (norm): LayerNorm((13,), eps=1e-05, elementwise_affine=True)\n",
       "      )\n",
       "      (fc1): Linear(in_features=104, out_features=13, bias=True)\n",
       "      (elu): ELU(alpha=1.0)\n",
       "      (context): Linear(in_features=16, out_features=13, bias=False)\n",
       "      (fc2): Linear(in_features=13, out_features=13, bias=True)\n",
       "      (gate_norm): GateAddNorm(\n",
       "        (glu): GatedLinearUnit(\n",
       "          (dropout): Dropout(p=0.1, inplace=False)\n",
       "          (fc): Linear(in_features=13, out_features=26, bias=True)\n",
       "        )\n",
       "        (add_norm): AddNorm(\n",
       "          (norm): LayerNorm((13,), eps=1e-05, elementwise_affine=True)\n",
       "        )\n",
       "      )\n",
       "    )\n",
       "    (single_variable_grns): ModuleDict(\n",
       "      (time_idx): GatedResidualNetwork(\n",
       "        (resample_norm): ResampleNorm(\n",
       "          (resample): TimeDistributedInterpolation()\n",
       "          (gate): Sigmoid()\n",
       "          (norm): LayerNorm((16,), eps=1e-05, elementwise_affine=True)\n",
       "        )\n",
       "        (fc1): Linear(in_features=8, out_features=8, bias=True)\n",
       "        (elu): ELU(alpha=1.0)\n",
       "        (fc2): Linear(in_features=8, out_features=8, bias=True)\n",
       "        (gate_norm): GateAddNorm(\n",
       "          (glu): GatedLinearUnit(\n",
       "            (dropout): Dropout(p=0.1, inplace=False)\n",
       "            (fc): Linear(in_features=8, out_features=32, bias=True)\n",
       "          )\n",
       "          (add_norm): AddNorm(\n",
       "            (norm): LayerNorm((16,), eps=1e-05, elementwise_affine=True)\n",
       "          )\n",
       "        )\n",
       "      )\n",
       "      (hour): GatedResidualNetwork(\n",
       "        (resample_norm): ResampleNorm(\n",
       "          (resample): TimeDistributedInterpolation()\n",
       "          (gate): Sigmoid()\n",
       "          (norm): LayerNorm((16,), eps=1e-05, elementwise_affine=True)\n",
       "        )\n",
       "        (fc1): Linear(in_features=8, out_features=8, bias=True)\n",
       "        (elu): ELU(alpha=1.0)\n",
       "        (fc2): Linear(in_features=8, out_features=8, bias=True)\n",
       "        (gate_norm): GateAddNorm(\n",
       "          (glu): GatedLinearUnit(\n",
       "            (dropout): Dropout(p=0.1, inplace=False)\n",
       "            (fc): Linear(in_features=8, out_features=32, bias=True)\n",
       "          )\n",
       "          (add_norm): AddNorm(\n",
       "            (norm): LayerNorm((16,), eps=1e-05, elementwise_affine=True)\n",
       "          )\n",
       "        )\n",
       "      )\n",
       "      (day): GatedResidualNetwork(\n",
       "        (resample_norm): ResampleNorm(\n",
       "          (resample): TimeDistributedInterpolation()\n",
       "          (gate): Sigmoid()\n",
       "          (norm): LayerNorm((16,), eps=1e-05, elementwise_affine=True)\n",
       "        )\n",
       "        (fc1): Linear(in_features=8, out_features=8, bias=True)\n",
       "        (elu): ELU(alpha=1.0)\n",
       "        (fc2): Linear(in_features=8, out_features=8, bias=True)\n",
       "        (gate_norm): GateAddNorm(\n",
       "          (glu): GatedLinearUnit(\n",
       "            (dropout): Dropout(p=0.1, inplace=False)\n",
       "            (fc): Linear(in_features=8, out_features=32, bias=True)\n",
       "          )\n",
       "          (add_norm): AddNorm(\n",
       "            (norm): LayerNorm((16,), eps=1e-05, elementwise_affine=True)\n",
       "          )\n",
       "        )\n",
       "      )\n",
       "      (month): GatedResidualNetwork(\n",
       "        (resample_norm): ResampleNorm(\n",
       "          (resample): TimeDistributedInterpolation()\n",
       "          (gate): Sigmoid()\n",
       "          (norm): LayerNorm((16,), eps=1e-05, elementwise_affine=True)\n",
       "        )\n",
       "        (fc1): Linear(in_features=8, out_features=8, bias=True)\n",
       "        (elu): ELU(alpha=1.0)\n",
       "        (fc2): Linear(in_features=8, out_features=8, bias=True)\n",
       "        (gate_norm): GateAddNorm(\n",
       "          (glu): GatedLinearUnit(\n",
       "            (dropout): Dropout(p=0.1, inplace=False)\n",
       "            (fc): Linear(in_features=8, out_features=32, bias=True)\n",
       "          )\n",
       "          (add_norm): AddNorm(\n",
       "            (norm): LayerNorm((16,), eps=1e-05, elementwise_affine=True)\n",
       "          )\n",
       "        )\n",
       "      )\n",
       "      (day_of_week): GatedResidualNetwork(\n",
       "        (resample_norm): ResampleNorm(\n",
       "          (resample): TimeDistributedInterpolation()\n",
       "          (gate): Sigmoid()\n",
       "          (norm): LayerNorm((16,), eps=1e-05, elementwise_affine=True)\n",
       "        )\n",
       "        (fc1): Linear(in_features=8, out_features=8, bias=True)\n",
       "        (elu): ELU(alpha=1.0)\n",
       "        (fc2): Linear(in_features=8, out_features=8, bias=True)\n",
       "        (gate_norm): GateAddNorm(\n",
       "          (glu): GatedLinearUnit(\n",
       "            (dropout): Dropout(p=0.1, inplace=False)\n",
       "            (fc): Linear(in_features=8, out_features=32, bias=True)\n",
       "          )\n",
       "          (add_norm): AddNorm(\n",
       "            (norm): LayerNorm((16,), eps=1e-05, elementwise_affine=True)\n",
       "          )\n",
       "        )\n",
       "      )\n",
       "      (is_weekend): GatedResidualNetwork(\n",
       "        (resample_norm): ResampleNorm(\n",
       "          (resample): TimeDistributedInterpolation()\n",
       "          (gate): Sigmoid()\n",
       "          (norm): LayerNorm((16,), eps=1e-05, elementwise_affine=True)\n",
       "        )\n",
       "        (fc1): Linear(in_features=8, out_features=8, bias=True)\n",
       "        (elu): ELU(alpha=1.0)\n",
       "        (fc2): Linear(in_features=8, out_features=8, bias=True)\n",
       "        (gate_norm): GateAddNorm(\n",
       "          (glu): GatedLinearUnit(\n",
       "            (dropout): Dropout(p=0.1, inplace=False)\n",
       "            (fc): Linear(in_features=8, out_features=32, bias=True)\n",
       "          )\n",
       "          (add_norm): AddNorm(\n",
       "            (norm): LayerNorm((16,), eps=1e-05, elementwise_affine=True)\n",
       "          )\n",
       "        )\n",
       "      )\n",
       "      (hour_sin): GatedResidualNetwork(\n",
       "        (resample_norm): ResampleNorm(\n",
       "          (resample): TimeDistributedInterpolation()\n",
       "          (gate): Sigmoid()\n",
       "          (norm): LayerNorm((16,), eps=1e-05, elementwise_affine=True)\n",
       "        )\n",
       "        (fc1): Linear(in_features=8, out_features=8, bias=True)\n",
       "        (elu): ELU(alpha=1.0)\n",
       "        (fc2): Linear(in_features=8, out_features=8, bias=True)\n",
       "        (gate_norm): GateAddNorm(\n",
       "          (glu): GatedLinearUnit(\n",
       "            (dropout): Dropout(p=0.1, inplace=False)\n",
       "            (fc): Linear(in_features=8, out_features=32, bias=True)\n",
       "          )\n",
       "          (add_norm): AddNorm(\n",
       "            (norm): LayerNorm((16,), eps=1e-05, elementwise_affine=True)\n",
       "          )\n",
       "        )\n",
       "      )\n",
       "      (hour_cos): GatedResidualNetwork(\n",
       "        (resample_norm): ResampleNorm(\n",
       "          (resample): TimeDistributedInterpolation()\n",
       "          (gate): Sigmoid()\n",
       "          (norm): LayerNorm((16,), eps=1e-05, elementwise_affine=True)\n",
       "        )\n",
       "        (fc1): Linear(in_features=8, out_features=8, bias=True)\n",
       "        (elu): ELU(alpha=1.0)\n",
       "        (fc2): Linear(in_features=8, out_features=8, bias=True)\n",
       "        (gate_norm): GateAddNorm(\n",
       "          (glu): GatedLinearUnit(\n",
       "            (dropout): Dropout(p=0.1, inplace=False)\n",
       "            (fc): Linear(in_features=8, out_features=32, bias=True)\n",
       "          )\n",
       "          (add_norm): AddNorm(\n",
       "            (norm): LayerNorm((16,), eps=1e-05, elementwise_affine=True)\n",
       "          )\n",
       "        )\n",
       "      )\n",
       "      (day_sin): GatedResidualNetwork(\n",
       "        (resample_norm): ResampleNorm(\n",
       "          (resample): TimeDistributedInterpolation()\n",
       "          (gate): Sigmoid()\n",
       "          (norm): LayerNorm((16,), eps=1e-05, elementwise_affine=True)\n",
       "        )\n",
       "        (fc1): Linear(in_features=8, out_features=8, bias=True)\n",
       "        (elu): ELU(alpha=1.0)\n",
       "        (fc2): Linear(in_features=8, out_features=8, bias=True)\n",
       "        (gate_norm): GateAddNorm(\n",
       "          (glu): GatedLinearUnit(\n",
       "            (dropout): Dropout(p=0.1, inplace=False)\n",
       "            (fc): Linear(in_features=8, out_features=32, bias=True)\n",
       "          )\n",
       "          (add_norm): AddNorm(\n",
       "            (norm): LayerNorm((16,), eps=1e-05, elementwise_affine=True)\n",
       "          )\n",
       "        )\n",
       "      )\n",
       "      (day_cos): GatedResidualNetwork(\n",
       "        (resample_norm): ResampleNorm(\n",
       "          (resample): TimeDistributedInterpolation()\n",
       "          (gate): Sigmoid()\n",
       "          (norm): LayerNorm((16,), eps=1e-05, elementwise_affine=True)\n",
       "        )\n",
       "        (fc1): Linear(in_features=8, out_features=8, bias=True)\n",
       "        (elu): ELU(alpha=1.0)\n",
       "        (fc2): Linear(in_features=8, out_features=8, bias=True)\n",
       "        (gate_norm): GateAddNorm(\n",
       "          (glu): GatedLinearUnit(\n",
       "            (dropout): Dropout(p=0.1, inplace=False)\n",
       "            (fc): Linear(in_features=8, out_features=32, bias=True)\n",
       "          )\n",
       "          (add_norm): AddNorm(\n",
       "            (norm): LayerNorm((16,), eps=1e-05, elementwise_affine=True)\n",
       "          )\n",
       "        )\n",
       "      )\n",
       "      (month_sin): GatedResidualNetwork(\n",
       "        (resample_norm): ResampleNorm(\n",
       "          (resample): TimeDistributedInterpolation()\n",
       "          (gate): Sigmoid()\n",
       "          (norm): LayerNorm((16,), eps=1e-05, elementwise_affine=True)\n",
       "        )\n",
       "        (fc1): Linear(in_features=8, out_features=8, bias=True)\n",
       "        (elu): ELU(alpha=1.0)\n",
       "        (fc2): Linear(in_features=8, out_features=8, bias=True)\n",
       "        (gate_norm): GateAddNorm(\n",
       "          (glu): GatedLinearUnit(\n",
       "            (dropout): Dropout(p=0.1, inplace=False)\n",
       "            (fc): Linear(in_features=8, out_features=32, bias=True)\n",
       "          )\n",
       "          (add_norm): AddNorm(\n",
       "            (norm): LayerNorm((16,), eps=1e-05, elementwise_affine=True)\n",
       "          )\n",
       "        )\n",
       "      )\n",
       "      (month_cos): GatedResidualNetwork(\n",
       "        (resample_norm): ResampleNorm(\n",
       "          (resample): TimeDistributedInterpolation()\n",
       "          (gate): Sigmoid()\n",
       "          (norm): LayerNorm((16,), eps=1e-05, elementwise_affine=True)\n",
       "        )\n",
       "        (fc1): Linear(in_features=8, out_features=8, bias=True)\n",
       "        (elu): ELU(alpha=1.0)\n",
       "        (fc2): Linear(in_features=8, out_features=8, bias=True)\n",
       "        (gate_norm): GateAddNorm(\n",
       "          (glu): GatedLinearUnit(\n",
       "            (dropout): Dropout(p=0.1, inplace=False)\n",
       "            (fc): Linear(in_features=8, out_features=32, bias=True)\n",
       "          )\n",
       "          (add_norm): AddNorm(\n",
       "            (norm): LayerNorm((16,), eps=1e-05, elementwise_affine=True)\n",
       "          )\n",
       "        )\n",
       "      )\n",
       "      (CO(GT)): GatedResidualNetwork(\n",
       "        (resample_norm): ResampleNorm(\n",
       "          (resample): TimeDistributedInterpolation()\n",
       "          (gate): Sigmoid()\n",
       "          (norm): LayerNorm((16,), eps=1e-05, elementwise_affine=True)\n",
       "        )\n",
       "        (fc1): Linear(in_features=8, out_features=8, bias=True)\n",
       "        (elu): ELU(alpha=1.0)\n",
       "        (fc2): Linear(in_features=8, out_features=8, bias=True)\n",
       "        (gate_norm): GateAddNorm(\n",
       "          (glu): GatedLinearUnit(\n",
       "            (dropout): Dropout(p=0.1, inplace=False)\n",
       "            (fc): Linear(in_features=8, out_features=32, bias=True)\n",
       "          )\n",
       "          (add_norm): AddNorm(\n",
       "            (norm): LayerNorm((16,), eps=1e-05, elementwise_affine=True)\n",
       "          )\n",
       "        )\n",
       "      )\n",
       "    )\n",
       "    (prescalers): ModuleDict(\n",
       "      (time_idx): Linear(in_features=1, out_features=8, bias=True)\n",
       "      (hour): Linear(in_features=1, out_features=8, bias=True)\n",
       "      (day): Linear(in_features=1, out_features=8, bias=True)\n",
       "      (month): Linear(in_features=1, out_features=8, bias=True)\n",
       "      (day_of_week): Linear(in_features=1, out_features=8, bias=True)\n",
       "      (is_weekend): Linear(in_features=1, out_features=8, bias=True)\n",
       "      (hour_sin): Linear(in_features=1, out_features=8, bias=True)\n",
       "      (hour_cos): Linear(in_features=1, out_features=8, bias=True)\n",
       "      (day_sin): Linear(in_features=1, out_features=8, bias=True)\n",
       "      (day_cos): Linear(in_features=1, out_features=8, bias=True)\n",
       "      (month_sin): Linear(in_features=1, out_features=8, bias=True)\n",
       "      (month_cos): Linear(in_features=1, out_features=8, bias=True)\n",
       "      (CO(GT)): Linear(in_features=1, out_features=8, bias=True)\n",
       "    )\n",
       "    (softmax): Softmax(dim=-1)\n",
       "  )\n",
       "  (decoder_variable_selection): VariableSelectionNetwork(\n",
       "    (flattened_grn): GatedResidualNetwork(\n",
       "      (resample_norm): ResampleNorm(\n",
       "        (resample): TimeDistributedInterpolation()\n",
       "        (gate): Sigmoid()\n",
       "        (norm): LayerNorm((12,), eps=1e-05, elementwise_affine=True)\n",
       "      )\n",
       "      (fc1): Linear(in_features=96, out_features=12, bias=True)\n",
       "      (elu): ELU(alpha=1.0)\n",
       "      (context): Linear(in_features=16, out_features=12, bias=False)\n",
       "      (fc2): Linear(in_features=12, out_features=12, bias=True)\n",
       "      (gate_norm): GateAddNorm(\n",
       "        (glu): GatedLinearUnit(\n",
       "          (dropout): Dropout(p=0.1, inplace=False)\n",
       "          (fc): Linear(in_features=12, out_features=24, bias=True)\n",
       "        )\n",
       "        (add_norm): AddNorm(\n",
       "          (norm): LayerNorm((12,), eps=1e-05, elementwise_affine=True)\n",
       "        )\n",
       "      )\n",
       "    )\n",
       "    (single_variable_grns): ModuleDict(\n",
       "      (time_idx): GatedResidualNetwork(\n",
       "        (resample_norm): ResampleNorm(\n",
       "          (resample): TimeDistributedInterpolation()\n",
       "          (gate): Sigmoid()\n",
       "          (norm): LayerNorm((16,), eps=1e-05, elementwise_affine=True)\n",
       "        )\n",
       "        (fc1): Linear(in_features=8, out_features=8, bias=True)\n",
       "        (elu): ELU(alpha=1.0)\n",
       "        (fc2): Linear(in_features=8, out_features=8, bias=True)\n",
       "        (gate_norm): GateAddNorm(\n",
       "          (glu): GatedLinearUnit(\n",
       "            (dropout): Dropout(p=0.1, inplace=False)\n",
       "            (fc): Linear(in_features=8, out_features=32, bias=True)\n",
       "          )\n",
       "          (add_norm): AddNorm(\n",
       "            (norm): LayerNorm((16,), eps=1e-05, elementwise_affine=True)\n",
       "          )\n",
       "        )\n",
       "      )\n",
       "      (hour): GatedResidualNetwork(\n",
       "        (resample_norm): ResampleNorm(\n",
       "          (resample): TimeDistributedInterpolation()\n",
       "          (gate): Sigmoid()\n",
       "          (norm): LayerNorm((16,), eps=1e-05, elementwise_affine=True)\n",
       "        )\n",
       "        (fc1): Linear(in_features=8, out_features=8, bias=True)\n",
       "        (elu): ELU(alpha=1.0)\n",
       "        (fc2): Linear(in_features=8, out_features=8, bias=True)\n",
       "        (gate_norm): GateAddNorm(\n",
       "          (glu): GatedLinearUnit(\n",
       "            (dropout): Dropout(p=0.1, inplace=False)\n",
       "            (fc): Linear(in_features=8, out_features=32, bias=True)\n",
       "          )\n",
       "          (add_norm): AddNorm(\n",
       "            (norm): LayerNorm((16,), eps=1e-05, elementwise_affine=True)\n",
       "          )\n",
       "        )\n",
       "      )\n",
       "      (day): GatedResidualNetwork(\n",
       "        (resample_norm): ResampleNorm(\n",
       "          (resample): TimeDistributedInterpolation()\n",
       "          (gate): Sigmoid()\n",
       "          (norm): LayerNorm((16,), eps=1e-05, elementwise_affine=True)\n",
       "        )\n",
       "        (fc1): Linear(in_features=8, out_features=8, bias=True)\n",
       "        (elu): ELU(alpha=1.0)\n",
       "        (fc2): Linear(in_features=8, out_features=8, bias=True)\n",
       "        (gate_norm): GateAddNorm(\n",
       "          (glu): GatedLinearUnit(\n",
       "            (dropout): Dropout(p=0.1, inplace=False)\n",
       "            (fc): Linear(in_features=8, out_features=32, bias=True)\n",
       "          )\n",
       "          (add_norm): AddNorm(\n",
       "            (norm): LayerNorm((16,), eps=1e-05, elementwise_affine=True)\n",
       "          )\n",
       "        )\n",
       "      )\n",
       "      (month): GatedResidualNetwork(\n",
       "        (resample_norm): ResampleNorm(\n",
       "          (resample): TimeDistributedInterpolation()\n",
       "          (gate): Sigmoid()\n",
       "          (norm): LayerNorm((16,), eps=1e-05, elementwise_affine=True)\n",
       "        )\n",
       "        (fc1): Linear(in_features=8, out_features=8, bias=True)\n",
       "        (elu): ELU(alpha=1.0)\n",
       "        (fc2): Linear(in_features=8, out_features=8, bias=True)\n",
       "        (gate_norm): GateAddNorm(\n",
       "          (glu): GatedLinearUnit(\n",
       "            (dropout): Dropout(p=0.1, inplace=False)\n",
       "            (fc): Linear(in_features=8, out_features=32, bias=True)\n",
       "          )\n",
       "          (add_norm): AddNorm(\n",
       "            (norm): LayerNorm((16,), eps=1e-05, elementwise_affine=True)\n",
       "          )\n",
       "        )\n",
       "      )\n",
       "      (day_of_week): GatedResidualNetwork(\n",
       "        (resample_norm): ResampleNorm(\n",
       "          (resample): TimeDistributedInterpolation()\n",
       "          (gate): Sigmoid()\n",
       "          (norm): LayerNorm((16,), eps=1e-05, elementwise_affine=True)\n",
       "        )\n",
       "        (fc1): Linear(in_features=8, out_features=8, bias=True)\n",
       "        (elu): ELU(alpha=1.0)\n",
       "        (fc2): Linear(in_features=8, out_features=8, bias=True)\n",
       "        (gate_norm): GateAddNorm(\n",
       "          (glu): GatedLinearUnit(\n",
       "            (dropout): Dropout(p=0.1, inplace=False)\n",
       "            (fc): Linear(in_features=8, out_features=32, bias=True)\n",
       "          )\n",
       "          (add_norm): AddNorm(\n",
       "            (norm): LayerNorm((16,), eps=1e-05, elementwise_affine=True)\n",
       "          )\n",
       "        )\n",
       "      )\n",
       "      (is_weekend): GatedResidualNetwork(\n",
       "        (resample_norm): ResampleNorm(\n",
       "          (resample): TimeDistributedInterpolation()\n",
       "          (gate): Sigmoid()\n",
       "          (norm): LayerNorm((16,), eps=1e-05, elementwise_affine=True)\n",
       "        )\n",
       "        (fc1): Linear(in_features=8, out_features=8, bias=True)\n",
       "        (elu): ELU(alpha=1.0)\n",
       "        (fc2): Linear(in_features=8, out_features=8, bias=True)\n",
       "        (gate_norm): GateAddNorm(\n",
       "          (glu): GatedLinearUnit(\n",
       "            (dropout): Dropout(p=0.1, inplace=False)\n",
       "            (fc): Linear(in_features=8, out_features=32, bias=True)\n",
       "          )\n",
       "          (add_norm): AddNorm(\n",
       "            (norm): LayerNorm((16,), eps=1e-05, elementwise_affine=True)\n",
       "          )\n",
       "        )\n",
       "      )\n",
       "      (hour_sin): GatedResidualNetwork(\n",
       "        (resample_norm): ResampleNorm(\n",
       "          (resample): TimeDistributedInterpolation()\n",
       "          (gate): Sigmoid()\n",
       "          (norm): LayerNorm((16,), eps=1e-05, elementwise_affine=True)\n",
       "        )\n",
       "        (fc1): Linear(in_features=8, out_features=8, bias=True)\n",
       "        (elu): ELU(alpha=1.0)\n",
       "        (fc2): Linear(in_features=8, out_features=8, bias=True)\n",
       "        (gate_norm): GateAddNorm(\n",
       "          (glu): GatedLinearUnit(\n",
       "            (dropout): Dropout(p=0.1, inplace=False)\n",
       "            (fc): Linear(in_features=8, out_features=32, bias=True)\n",
       "          )\n",
       "          (add_norm): AddNorm(\n",
       "            (norm): LayerNorm((16,), eps=1e-05, elementwise_affine=True)\n",
       "          )\n",
       "        )\n",
       "      )\n",
       "      (hour_cos): GatedResidualNetwork(\n",
       "        (resample_norm): ResampleNorm(\n",
       "          (resample): TimeDistributedInterpolation()\n",
       "          (gate): Sigmoid()\n",
       "          (norm): LayerNorm((16,), eps=1e-05, elementwise_affine=True)\n",
       "        )\n",
       "        (fc1): Linear(in_features=8, out_features=8, bias=True)\n",
       "        (elu): ELU(alpha=1.0)\n",
       "        (fc2): Linear(in_features=8, out_features=8, bias=True)\n",
       "        (gate_norm): GateAddNorm(\n",
       "          (glu): GatedLinearUnit(\n",
       "            (dropout): Dropout(p=0.1, inplace=False)\n",
       "            (fc): Linear(in_features=8, out_features=32, bias=True)\n",
       "          )\n",
       "          (add_norm): AddNorm(\n",
       "            (norm): LayerNorm((16,), eps=1e-05, elementwise_affine=True)\n",
       "          )\n",
       "        )\n",
       "      )\n",
       "      (day_sin): GatedResidualNetwork(\n",
       "        (resample_norm): ResampleNorm(\n",
       "          (resample): TimeDistributedInterpolation()\n",
       "          (gate): Sigmoid()\n",
       "          (norm): LayerNorm((16,), eps=1e-05, elementwise_affine=True)\n",
       "        )\n",
       "        (fc1): Linear(in_features=8, out_features=8, bias=True)\n",
       "        (elu): ELU(alpha=1.0)\n",
       "        (fc2): Linear(in_features=8, out_features=8, bias=True)\n",
       "        (gate_norm): GateAddNorm(\n",
       "          (glu): GatedLinearUnit(\n",
       "            (dropout): Dropout(p=0.1, inplace=False)\n",
       "            (fc): Linear(in_features=8, out_features=32, bias=True)\n",
       "          )\n",
       "          (add_norm): AddNorm(\n",
       "            (norm): LayerNorm((16,), eps=1e-05, elementwise_affine=True)\n",
       "          )\n",
       "        )\n",
       "      )\n",
       "      (day_cos): GatedResidualNetwork(\n",
       "        (resample_norm): ResampleNorm(\n",
       "          (resample): TimeDistributedInterpolation()\n",
       "          (gate): Sigmoid()\n",
       "          (norm): LayerNorm((16,), eps=1e-05, elementwise_affine=True)\n",
       "        )\n",
       "        (fc1): Linear(in_features=8, out_features=8, bias=True)\n",
       "        (elu): ELU(alpha=1.0)\n",
       "        (fc2): Linear(in_features=8, out_features=8, bias=True)\n",
       "        (gate_norm): GateAddNorm(\n",
       "          (glu): GatedLinearUnit(\n",
       "            (dropout): Dropout(p=0.1, inplace=False)\n",
       "            (fc): Linear(in_features=8, out_features=32, bias=True)\n",
       "          )\n",
       "          (add_norm): AddNorm(\n",
       "            (norm): LayerNorm((16,), eps=1e-05, elementwise_affine=True)\n",
       "          )\n",
       "        )\n",
       "      )\n",
       "      (month_sin): GatedResidualNetwork(\n",
       "        (resample_norm): ResampleNorm(\n",
       "          (resample): TimeDistributedInterpolation()\n",
       "          (gate): Sigmoid()\n",
       "          (norm): LayerNorm((16,), eps=1e-05, elementwise_affine=True)\n",
       "        )\n",
       "        (fc1): Linear(in_features=8, out_features=8, bias=True)\n",
       "        (elu): ELU(alpha=1.0)\n",
       "        (fc2): Linear(in_features=8, out_features=8, bias=True)\n",
       "        (gate_norm): GateAddNorm(\n",
       "          (glu): GatedLinearUnit(\n",
       "            (dropout): Dropout(p=0.1, inplace=False)\n",
       "            (fc): Linear(in_features=8, out_features=32, bias=True)\n",
       "          )\n",
       "          (add_norm): AddNorm(\n",
       "            (norm): LayerNorm((16,), eps=1e-05, elementwise_affine=True)\n",
       "          )\n",
       "        )\n",
       "      )\n",
       "      (month_cos): GatedResidualNetwork(\n",
       "        (resample_norm): ResampleNorm(\n",
       "          (resample): TimeDistributedInterpolation()\n",
       "          (gate): Sigmoid()\n",
       "          (norm): LayerNorm((16,), eps=1e-05, elementwise_affine=True)\n",
       "        )\n",
       "        (fc1): Linear(in_features=8, out_features=8, bias=True)\n",
       "        (elu): ELU(alpha=1.0)\n",
       "        (fc2): Linear(in_features=8, out_features=8, bias=True)\n",
       "        (gate_norm): GateAddNorm(\n",
       "          (glu): GatedLinearUnit(\n",
       "            (dropout): Dropout(p=0.1, inplace=False)\n",
       "            (fc): Linear(in_features=8, out_features=32, bias=True)\n",
       "          )\n",
       "          (add_norm): AddNorm(\n",
       "            (norm): LayerNorm((16,), eps=1e-05, elementwise_affine=True)\n",
       "          )\n",
       "        )\n",
       "      )\n",
       "    )\n",
       "    (prescalers): ModuleDict(\n",
       "      (time_idx): Linear(in_features=1, out_features=8, bias=True)\n",
       "      (hour): Linear(in_features=1, out_features=8, bias=True)\n",
       "      (day): Linear(in_features=1, out_features=8, bias=True)\n",
       "      (month): Linear(in_features=1, out_features=8, bias=True)\n",
       "      (day_of_week): Linear(in_features=1, out_features=8, bias=True)\n",
       "      (is_weekend): Linear(in_features=1, out_features=8, bias=True)\n",
       "      (hour_sin): Linear(in_features=1, out_features=8, bias=True)\n",
       "      (hour_cos): Linear(in_features=1, out_features=8, bias=True)\n",
       "      (day_sin): Linear(in_features=1, out_features=8, bias=True)\n",
       "      (day_cos): Linear(in_features=1, out_features=8, bias=True)\n",
       "      (month_sin): Linear(in_features=1, out_features=8, bias=True)\n",
       "      (month_cos): Linear(in_features=1, out_features=8, bias=True)\n",
       "    )\n",
       "    (softmax): Softmax(dim=-1)\n",
       "  )\n",
       "  (static_context_variable_selection): GatedResidualNetwork(\n",
       "    (fc1): Linear(in_features=16, out_features=16, bias=True)\n",
       "    (elu): ELU(alpha=1.0)\n",
       "    (fc2): Linear(in_features=16, out_features=16, bias=True)\n",
       "    (gate_norm): GateAddNorm(\n",
       "      (glu): GatedLinearUnit(\n",
       "        (dropout): Dropout(p=0.1, inplace=False)\n",
       "        (fc): Linear(in_features=16, out_features=32, bias=True)\n",
       "      )\n",
       "      (add_norm): AddNorm(\n",
       "        (norm): LayerNorm((16,), eps=1e-05, elementwise_affine=True)\n",
       "      )\n",
       "    )\n",
       "  )\n",
       "  (static_context_initial_hidden_lstm): GatedResidualNetwork(\n",
       "    (fc1): Linear(in_features=16, out_features=16, bias=True)\n",
       "    (elu): ELU(alpha=1.0)\n",
       "    (fc2): Linear(in_features=16, out_features=16, bias=True)\n",
       "    (gate_norm): GateAddNorm(\n",
       "      (glu): GatedLinearUnit(\n",
       "        (dropout): Dropout(p=0.1, inplace=False)\n",
       "        (fc): Linear(in_features=16, out_features=32, bias=True)\n",
       "      )\n",
       "      (add_norm): AddNorm(\n",
       "        (norm): LayerNorm((16,), eps=1e-05, elementwise_affine=True)\n",
       "      )\n",
       "    )\n",
       "  )\n",
       "  (static_context_initial_cell_lstm): GatedResidualNetwork(\n",
       "    (fc1): Linear(in_features=16, out_features=16, bias=True)\n",
       "    (elu): ELU(alpha=1.0)\n",
       "    (fc2): Linear(in_features=16, out_features=16, bias=True)\n",
       "    (gate_norm): GateAddNorm(\n",
       "      (glu): GatedLinearUnit(\n",
       "        (dropout): Dropout(p=0.1, inplace=False)\n",
       "        (fc): Linear(in_features=16, out_features=32, bias=True)\n",
       "      )\n",
       "      (add_norm): AddNorm(\n",
       "        (norm): LayerNorm((16,), eps=1e-05, elementwise_affine=True)\n",
       "      )\n",
       "    )\n",
       "  )\n",
       "  (static_context_enrichment): GatedResidualNetwork(\n",
       "    (fc1): Linear(in_features=16, out_features=16, bias=True)\n",
       "    (elu): ELU(alpha=1.0)\n",
       "    (fc2): Linear(in_features=16, out_features=16, bias=True)\n",
       "    (gate_norm): GateAddNorm(\n",
       "      (glu): GatedLinearUnit(\n",
       "        (dropout): Dropout(p=0.1, inplace=False)\n",
       "        (fc): Linear(in_features=16, out_features=32, bias=True)\n",
       "      )\n",
       "      (add_norm): AddNorm(\n",
       "        (norm): LayerNorm((16,), eps=1e-05, elementwise_affine=True)\n",
       "      )\n",
       "    )\n",
       "  )\n",
       "  (lstm_encoder): LSTM(16, 16, batch_first=True)\n",
       "  (lstm_decoder): LSTM(16, 16, batch_first=True)\n",
       "  (post_lstm_gate_encoder): GatedLinearUnit(\n",
       "    (dropout): Dropout(p=0.1, inplace=False)\n",
       "    (fc): Linear(in_features=16, out_features=32, bias=True)\n",
       "  )\n",
       "  (post_lstm_gate_decoder): GatedLinearUnit(\n",
       "    (dropout): Dropout(p=0.1, inplace=False)\n",
       "    (fc): Linear(in_features=16, out_features=32, bias=True)\n",
       "  )\n",
       "  (post_lstm_add_norm_encoder): AddNorm(\n",
       "    (norm): LayerNorm((16,), eps=1e-05, elementwise_affine=True)\n",
       "  )\n",
       "  (post_lstm_add_norm_decoder): AddNorm(\n",
       "    (norm): LayerNorm((16,), eps=1e-05, elementwise_affine=True)\n",
       "  )\n",
       "  (static_enrichment): GatedResidualNetwork(\n",
       "    (fc1): Linear(in_features=16, out_features=16, bias=True)\n",
       "    (elu): ELU(alpha=1.0)\n",
       "    (context): Linear(in_features=16, out_features=16, bias=False)\n",
       "    (fc2): Linear(in_features=16, out_features=16, bias=True)\n",
       "    (gate_norm): GateAddNorm(\n",
       "      (glu): GatedLinearUnit(\n",
       "        (dropout): Dropout(p=0.1, inplace=False)\n",
       "        (fc): Linear(in_features=16, out_features=32, bias=True)\n",
       "      )\n",
       "      (add_norm): AddNorm(\n",
       "        (norm): LayerNorm((16,), eps=1e-05, elementwise_affine=True)\n",
       "      )\n",
       "    )\n",
       "  )\n",
       "  (multihead_attn): InterpretableMultiHeadAttention(\n",
       "    (dropout): Dropout(p=0.1, inplace=False)\n",
       "    (v_layer): Linear(in_features=16, out_features=16, bias=True)\n",
       "    (q_layers): ModuleList(\n",
       "      (0): Linear(in_features=16, out_features=16, bias=True)\n",
       "    )\n",
       "    (k_layers): ModuleList(\n",
       "      (0): Linear(in_features=16, out_features=16, bias=True)\n",
       "    )\n",
       "    (attention): ScaledDotProductAttention(\n",
       "      (softmax): Softmax(dim=2)\n",
       "    )\n",
       "    (w_h): Linear(in_features=16, out_features=16, bias=False)\n",
       "  )\n",
       "  (post_attn_gate_norm): GateAddNorm(\n",
       "    (glu): GatedLinearUnit(\n",
       "      (dropout): Dropout(p=0.1, inplace=False)\n",
       "      (fc): Linear(in_features=16, out_features=32, bias=True)\n",
       "    )\n",
       "    (add_norm): AddNorm(\n",
       "      (norm): LayerNorm((16,), eps=1e-05, elementwise_affine=True)\n",
       "    )\n",
       "  )\n",
       "  (pos_wise_ff): GatedResidualNetwork(\n",
       "    (fc1): Linear(in_features=16, out_features=16, bias=True)\n",
       "    (elu): ELU(alpha=1.0)\n",
       "    (fc2): Linear(in_features=16, out_features=16, bias=True)\n",
       "    (gate_norm): GateAddNorm(\n",
       "      (glu): GatedLinearUnit(\n",
       "        (dropout): Dropout(p=0.1, inplace=False)\n",
       "        (fc): Linear(in_features=16, out_features=32, bias=True)\n",
       "      )\n",
       "      (add_norm): AddNorm(\n",
       "        (norm): LayerNorm((16,), eps=1e-05, elementwise_affine=True)\n",
       "      )\n",
       "    )\n",
       "  )\n",
       "  (pre_output_gate_norm): GateAddNorm(\n",
       "    (glu): GatedLinearUnit(\n",
       "      (fc): Linear(in_features=16, out_features=32, bias=True)\n",
       "    )\n",
       "    (add_norm): AddNorm(\n",
       "      (norm): LayerNorm((16,), eps=1e-05, elementwise_affine=True)\n",
       "    )\n",
       "  )\n",
       "  (output_layer): Linear(in_features=16, out_features=7, bias=True)\n",
       ")"
      ]
     },
     "execution_count": 34,
     "metadata": {},
     "output_type": "execute_result"
    }
   ],
   "source": [
    "# Model ağırlıklarını yükleyin\n",
    "tft.load_state_dict(torch.load(\"tft_final_model.pth\"))\n",
    "\n",
    "# Modeli eval moduna geçirin (dropout gibi katmanların doğru çalışmasını sağlamak için)\n",
    "tft.eval()"
   ]
  },
  {
   "cell_type": "code",
   "execution_count": 35,
   "id": "2e3662de-336c-4c00-bf49-7bab2837c50a",
   "metadata": {},
   "outputs": [],
   "source": [
    "data['time_idx'] = range(len(data))"
   ]
  },
  {
   "cell_type": "code",
   "execution_count": 36,
   "id": "f313b8e4-a983-4df6-aa63-d84af0d913ec",
   "metadata": {},
   "outputs": [],
   "source": [
    "# Değiştirilecek sütun adları\n",
    "data.columns = data.columns.str.replace('.', '_', regex=False)\n",
    "\n",
    "# Şimdi veri setinizdeki sütun adları düzeltildi\n"
   ]
  },
  {
   "cell_type": "code",
   "execution_count": 37,
   "id": "61e35d28-4fb9-4083-9358-8d646752b069",
   "metadata": {},
   "outputs": [
    {
     "name": "stdout",
     "output_type": "stream",
     "text": [
      "['group']\n"
     ]
    }
   ],
   "source": [
    "print(training.group_ids)"
   ]
  },
  {
   "cell_type": "code",
   "execution_count": 38,
   "id": "732e2279-36cf-4311-afc3-9725d86cab64",
   "metadata": {},
   "outputs": [],
   "source": [
    "data['group'] = 'group_1'"
   ]
  },
  {
   "cell_type": "code",
   "execution_count": 39,
   "id": "b7e4ec24-0b89-484d-b360-410776977c86",
   "metadata": {},
   "outputs": [],
   "source": [
    "import numpy as np\n",
    "\n",
    "# Sinüzoidal dönüşümleri ekleyin\n",
    "data['hour_sin'] = np.sin(2 * np.pi * data['hour'] / 24)\n",
    "data['hour_cos'] = np.cos(2 * np.pi * data['hour'] / 24)\n",
    "data['day_sin'] = np.sin(2 * np.pi * data['day'] / 31)\n",
    "data['day_cos'] = np.cos(2 * np.pi * data['day'] / 31)\n",
    "data['month_sin'] = np.sin(2 * np.pi * data['month'] / 12)\n",
    "data['month_cos'] = np.cos(2 * np.pi * data['month'] / 12)\n"
   ]
  },
  {
   "cell_type": "code",
   "execution_count": 40,
   "id": "8f3b5a3b-f17c-47e9-bc31-853029c4185d",
   "metadata": {},
   "outputs": [
    {
     "name": "stderr",
     "output_type": "stream",
     "text": [
      "C:\\Users\\egeme\\PycharmProjects\\pythonProject1\\.venv\\Lib\\site-packages\\pytorch_forecasting\\data\\timeseries.py:1188: UserWarning: If predicting, no randomization should be possible - setting stop_randomization=True\n",
      "  warnings.warn(\n"
     ]
    }
   ],
   "source": [
    "test_dataset = TimeSeriesDataSet.from_dataset(\n",
    "    training,  # Eğitim veri kümesindeki ayarları kullanın\n",
    "    data,      # Test verisi\n",
    "    predict=True\n",
    ")\n",
    "\n",
    "# DataLoader'ı oluşturun\n",
    "test_dataloader = test_dataset.to_dataloader(train=False, batch_size=64)\n"
   ]
  },
  {
   "cell_type": "code",
   "execution_count": 41,
   "id": "9b8d5bef-0f14-45df-b518-533ead07a4a9",
   "metadata": {},
   "outputs": [
    {
     "name": "stderr",
     "output_type": "stream",
     "text": [
      "C:\\Users\\egeme\\PycharmProjects\\pythonProject1\\.venv\\Lib\\site-packages\\lightning\\pytorch\\utilities\\parsing.py:208: Attribute 'loss' is an instance of `nn.Module` and is already saved during checkpointing. It is recommended to ignore them using `self.save_hyperparameters(ignore=['loss'])`.\n",
      "C:\\Users\\egeme\\PycharmProjects\\pythonProject1\\.venv\\Lib\\site-packages\\lightning\\pytorch\\utilities\\parsing.py:208: Attribute 'logging_metrics' is an instance of `nn.Module` and is already saved during checkpointing. It is recommended to ignore them using `self.save_hyperparameters(ignore=['logging_metrics'])`.\n",
      "GPU available: False, used: False\n",
      "TPU available: False, using: 0 TPU cores\n",
      "HPU available: False, using: 0 HPUs\n",
      "\n",
      "  | Name  | Type                      | Params | Mode \n",
      "------------------------------------------------------------\n",
      "0 | model | TemporalFusionTransformer | 31.3 K | train\n",
      "------------------------------------------------------------\n",
      "31.3 K    Trainable params\n",
      "0         Non-trainable params\n",
      "31.3 K    Total params\n",
      "0.125     Total estimated model params size (MB)\n",
      "505       Modules in train mode\n",
      "0         Modules in eval mode\n"
     ]
    },
    {
     "data": {
      "application/vnd.jupyter.widget-view+json": {
       "model_id": "565de93a35a04a17b24b5ded6922a0c5",
       "version_major": 2,
       "version_minor": 0
      },
      "text/plain": [
       "Training: |                                                                                                   …"
      ]
     },
     "metadata": {},
     "output_type": "display_data"
    },
    {
     "data": {
      "application/vnd.jupyter.widget-view+json": {
       "model_id": "",
       "version_major": 2,
       "version_minor": 0
      },
      "text/plain": [
       "Validation: |                                                                                                 …"
      ]
     },
     "metadata": {},
     "output_type": "display_data"
    },
    {
     "name": "stderr",
     "output_type": "stream",
     "text": [
      "Metric val_loss improved. New best score: 0.306\n"
     ]
    },
    {
     "data": {
      "application/vnd.jupyter.widget-view+json": {
       "model_id": "",
       "version_major": 2,
       "version_minor": 0
      },
      "text/plain": [
       "Validation: |                                                                                                 …"
      ]
     },
     "metadata": {},
     "output_type": "display_data"
    },
    {
     "name": "stderr",
     "output_type": "stream",
     "text": [
      "Metric val_loss improved by 0.005 >= min_delta = 0.0. New best score: 0.301\n"
     ]
    },
    {
     "data": {
      "application/vnd.jupyter.widget-view+json": {
       "model_id": "",
       "version_major": 2,
       "version_minor": 0
      },
      "text/plain": [
       "Validation: |                                                                                                 …"
      ]
     },
     "metadata": {},
     "output_type": "display_data"
    },
    {
     "data": {
      "application/vnd.jupyter.widget-view+json": {
       "model_id": "",
       "version_major": 2,
       "version_minor": 0
      },
      "text/plain": [
       "Validation: |                                                                                                 …"
      ]
     },
     "metadata": {},
     "output_type": "display_data"
    },
    {
     "name": "stderr",
     "output_type": "stream",
     "text": [
      "Metric val_loss improved by 0.014 >= min_delta = 0.0. New best score: 0.287\n"
     ]
    },
    {
     "data": {
      "application/vnd.jupyter.widget-view+json": {
       "model_id": "",
       "version_major": 2,
       "version_minor": 0
      },
      "text/plain": [
       "Validation: |                                                                                                 …"
      ]
     },
     "metadata": {},
     "output_type": "display_data"
    },
    {
     "name": "stderr",
     "output_type": "stream",
     "text": [
      "Metric val_loss improved by 0.001 >= min_delta = 0.0. New best score: 0.286\n"
     ]
    },
    {
     "data": {
      "application/vnd.jupyter.widget-view+json": {
       "model_id": "",
       "version_major": 2,
       "version_minor": 0
      },
      "text/plain": [
       "Validation: |                                                                                                 …"
      ]
     },
     "metadata": {},
     "output_type": "display_data"
    },
    {
     "data": {
      "application/vnd.jupyter.widget-view+json": {
       "model_id": "",
       "version_major": 2,
       "version_minor": 0
      },
      "text/plain": [
       "Validation: |                                                                                                 …"
      ]
     },
     "metadata": {},
     "output_type": "display_data"
    },
    {
     "data": {
      "application/vnd.jupyter.widget-view+json": {
       "model_id": "",
       "version_major": 2,
       "version_minor": 0
      },
      "text/plain": [
       "Validation: |                                                                                                 …"
      ]
     },
     "metadata": {},
     "output_type": "display_data"
    },
    {
     "name": "stderr",
     "output_type": "stream",
     "text": [
      "Monitored metric val_loss did not improve in the last 3 records. Best score: 0.286. Signaling Trainer to stop.\n"
     ]
    }
   ],
   "source": [
    "import os\n",
    "import torch\n",
    "from pytorch_forecasting.models import TemporalFusionTransformer\n",
    "from pytorch_forecasting.metrics import QuantileLoss\n",
    "from pytorch_lightning import Trainer, LightningModule\n",
    "from pytorch_lightning.callbacks import EarlyStopping\n",
    "from pytorch_optimizer import Ranger  # Load the Ranger optimizer\n",
    "\n",
    "# Initialize the Temporal Fusion Transformer model\n",
    "tft = TemporalFusionTransformer.from_dataset(\n",
    "    training,\n",
    "    optimizer=\"ranger\",  # Use Ranger optimizer\n",
    "    learning_rate=0.03,\n",
    "    hidden_size=16,\n",
    "    attention_head_size=1,\n",
    "    dropout=0.1,\n",
    "    hidden_continuous_size=8,\n",
    "    output_size=7,  # Number of quantiles (default is 7)\n",
    "    loss=QuantileLoss(),\n",
    "    log_interval=10,\n",
    "    reduce_on_plateau_patience=4,\n",
    ")\n",
    "\n",
    "# Define a LightningModule that wraps the TemporalFusionTransformer model\n",
    "class TFTLightningModule(LightningModule):\n",
    "    def __init__(self, model):\n",
    "        super().__init__()\n",
    "        self.model = model\n",
    "        # Exclude 'model', 'loss', and 'logging_metrics' attributes from being saved in hyperparameters\n",
    "        self.save_hyperparameters(ignore=[\"model\", \"loss\", \"logging_metrics\"])\n",
    "\n",
    "    def forward(self, x):\n",
    "        return self.model(x)\n",
    "\n",
    "    def training_step(self, batch, batch_idx):\n",
    "        # Perform a single training step\n",
    "        x, y = batch\n",
    "        out = self.model(x)\n",
    "        y_pred = out[0]  # The model output is a tuple, 'y_pred' is the first element\n",
    "        loss = self.model.loss(y_pred, y)\n",
    "        self.log(\"train_loss\", loss, on_step=True, on_epoch=True, prog_bar=True, batch_size=x['encoder_target'].shape[0])\n",
    "        return loss\n",
    "\n",
    "    def validation_step(self, batch, batch_idx):\n",
    "        # Perform a single validation step\n",
    "        x, y = batch\n",
    "        out = self.model(x)\n",
    "        y_pred = out[0]  # The model output is a tuple, 'y_pred' is the first element\n",
    "        loss = self.model.loss(y_pred, y)\n",
    "        self.log(\"val_loss\", loss, prog_bar=True, batch_size=x['encoder_target'].shape[0])\n",
    "        return loss\n",
    "\n",
    "    def configure_optimizers(self):\n",
    "        # Set optimizer to use Ranger algorithm\n",
    "        optimizer = Ranger(self.model.parameters(), lr=self.model.hparams.learning_rate)\n",
    "        return optimizer\n",
    "\n",
    "# Wrap the TemporalFusionTransformer model into the LightningModule\n",
    "tft_module = TFTLightningModule(tft)\n",
    "\n",
    "# Initialize PyTorch Lightning Trainer\n",
    "trainer = Trainer(\n",
    "    max_epochs=30,\n",
    "    accelerator=\"gpu\" if torch.cuda.is_available() else \"cpu\",  # Use GPU if available\n",
    "    devices=1,  # Use a single device\n",
    "    callbacks=[EarlyStopping(monitor=\"val_loss\", patience=3, verbose=True)],  # Early stopping callback\n",
    "    num_sanity_val_steps=0,  # Disable sanity check\n",
    "    deterministic=True,  # Ensure deterministic behavior for reproducibility\n",
    ")\n",
    "\n",
    "# Increase the `num_workers` parameter in DataLoaders for faster data loading\n",
    "train_dataloader = training.to_dataloader(train=True, batch_size=64, num_workers=4, persistent_workers=True)\n",
    "val_dataloader = validation.to_dataloader(train=False, batch_size=64, num_workers=4, persistent_workers=True)\n",
    "\n",
    "# Train the model\n",
    "trainer.fit(\n",
    "    tft_module,\n",
    "    train_dataloaders=train_dataloader,\n",
    "    val_dataloaders=val_dataloader\n",
    ")\n",
    "\n",
    "# Save the trained model\n",
    "torch.save(tft.state_dict(), \"tft_final_model.pth\")\n",
    "\n",
    "# To load the model for testing (if tested in a separate code block)\n",
    "# tft.load_state_dict(torch.load(\"tft_final_model.pth\"))\n"
   ]
  },
  {
   "cell_type": "code",
   "execution_count": 42,
   "id": "db8dd4c4-460d-4f0d-9cdc-82200a2ec8b5",
   "metadata": {},
   "outputs": [
    {
     "name": "stderr",
     "output_type": "stream",
     "text": [
      "GPU available: False, used: False\n",
      "TPU available: False, using: 0 TPU cores\n",
      "HPU available: False, using: 0 HPUs\n",
      "\n",
      "  | Name  | Type                      | Params | Mode \n",
      "------------------------------------------------------------\n",
      "0 | model | TemporalFusionTransformer | 31.3 K | train\n",
      "------------------------------------------------------------\n",
      "31.3 K    Trainable params\n",
      "0         Non-trainable params\n",
      "31.3 K    Total params\n",
      "0.125     Total estimated model params size (MB)\n",
      "505       Modules in train mode\n",
      "0         Modules in eval mode\n"
     ]
    },
    {
     "data": {
      "application/vnd.jupyter.widget-view+json": {
       "model_id": "f53cb308b6f9479aaf87d3ff30dd774a",
       "version_major": 2,
       "version_minor": 0
      },
      "text/plain": [
       "Training: |                                                                                                   …"
      ]
     },
     "metadata": {},
     "output_type": "display_data"
    },
    {
     "data": {
      "application/vnd.jupyter.widget-view+json": {
       "model_id": "",
       "version_major": 2,
       "version_minor": 0
      },
      "text/plain": [
       "Validation: |                                                                                                 …"
      ]
     },
     "metadata": {},
     "output_type": "display_data"
    },
    {
     "name": "stderr",
     "output_type": "stream",
     "text": [
      "Metric val_loss improved. New best score: 0.312\n"
     ]
    },
    {
     "data": {
      "application/vnd.jupyter.widget-view+json": {
       "model_id": "",
       "version_major": 2,
       "version_minor": 0
      },
      "text/plain": [
       "Validation: |                                                                                                 …"
      ]
     },
     "metadata": {},
     "output_type": "display_data"
    },
    {
     "name": "stderr",
     "output_type": "stream",
     "text": [
      "Metric val_loss improved by 0.015 >= min_delta = 0.0. New best score: 0.297\n"
     ]
    },
    {
     "data": {
      "application/vnd.jupyter.widget-view+json": {
       "model_id": "",
       "version_major": 2,
       "version_minor": 0
      },
      "text/plain": [
       "Validation: |                                                                                                 …"
      ]
     },
     "metadata": {},
     "output_type": "display_data"
    },
    {
     "name": "stderr",
     "output_type": "stream",
     "text": [
      "Metric val_loss improved by 0.007 >= min_delta = 0.0. New best score: 0.290\n"
     ]
    },
    {
     "data": {
      "application/vnd.jupyter.widget-view+json": {
       "model_id": "",
       "version_major": 2,
       "version_minor": 0
      },
      "text/plain": [
       "Validation: |                                                                                                 …"
      ]
     },
     "metadata": {},
     "output_type": "display_data"
    },
    {
     "name": "stderr",
     "output_type": "stream",
     "text": [
      "Metric val_loss improved by 0.013 >= min_delta = 0.0. New best score: 0.277\n"
     ]
    },
    {
     "data": {
      "application/vnd.jupyter.widget-view+json": {
       "model_id": "",
       "version_major": 2,
       "version_minor": 0
      },
      "text/plain": [
       "Validation: |                                                                                                 …"
      ]
     },
     "metadata": {},
     "output_type": "display_data"
    },
    {
     "name": "stderr",
     "output_type": "stream",
     "text": [
      "Metric val_loss improved by 0.000 >= min_delta = 0.0. New best score: 0.277\n"
     ]
    },
    {
     "data": {
      "application/vnd.jupyter.widget-view+json": {
       "model_id": "",
       "version_major": 2,
       "version_minor": 0
      },
      "text/plain": [
       "Validation: |                                                                                                 …"
      ]
     },
     "metadata": {},
     "output_type": "display_data"
    },
    {
     "data": {
      "application/vnd.jupyter.widget-view+json": {
       "model_id": "",
       "version_major": 2,
       "version_minor": 0
      },
      "text/plain": [
       "Validation: |                                                                                                 …"
      ]
     },
     "metadata": {},
     "output_type": "display_data"
    },
    {
     "data": {
      "application/vnd.jupyter.widget-view+json": {
       "model_id": "",
       "version_major": 2,
       "version_minor": 0
      },
      "text/plain": [
       "Validation: |                                                                                                 …"
      ]
     },
     "metadata": {},
     "output_type": "display_data"
    },
    {
     "name": "stderr",
     "output_type": "stream",
     "text": [
      "Monitored metric val_loss did not improve in the last 3 records. Best score: 0.277. Signaling Trainer to stop.\n",
      "C:\\Users\\egeme\\PycharmProjects\\pythonProject1\\.venv\\Lib\\site-packages\\pytorch_forecasting\\data\\timeseries.py:1188: UserWarning: If predicting, no randomization should be possible - setting stop_randomization=True\n",
      "  warnings.warn(\n",
      "C:\\Users\\egeme\\PycharmProjects\\pythonProject1\\.venv\\Lib\\site-packages\\pytorch_lightning\\trainer\\connectors\\data_connector.py:424: The 'test_dataloader' does not have many workers which may be a bottleneck. Consider increasing the value of the `num_workers` argument` to `num_workers=11` in the `DataLoader` to improve performance.\n"
     ]
    },
    {
     "data": {
      "application/vnd.jupyter.widget-view+json": {
       "model_id": "a6fbe7d304bf4cdb80460c997932185d",
       "version_major": 2,
       "version_minor": 0
      },
      "text/plain": [
       "Testing: |                                                                                                    …"
      ]
     },
     "metadata": {},
     "output_type": "display_data"
    },
    {
     "name": "stdout",
     "output_type": "stream",
     "text": [
      "────────────────────────────────────────────────────────────────────────────────────────────────────────────────────────────────────────────────────────────────────────────────────\n",
      "       Test metric             DataLoader 0\n",
      "────────────────────────────────────────────────────────────────────────────────────────────────────────────────────────────────────────────────────────────────────────────────────\n",
      "        test_loss           1.0032649040222168\n",
      "────────────────────────────────────────────────────────────────────────────────────────────────────────────────────────────────────────────────────────────────────────────────────\n",
      "[{'test_loss': 1.0032649040222168}]\n"
     ]
    }
   ],
   "source": [
    "import os\n",
    "import torch\n",
    "from pytorch_forecasting.models import TemporalFusionTransformer\n",
    "from pytorch_forecasting.metrics import QuantileLoss\n",
    "from pytorch_lightning import Trainer, LightningModule\n",
    "from pytorch_lightning.callbacks import EarlyStopping\n",
    "from pytorch_optimizer import Ranger  # Import the Ranger optimizer\n",
    "\n",
    "# Initialize the Temporal Fusion Transformer model\n",
    "tft = TemporalFusionTransformer.from_dataset(\n",
    "    training,\n",
    "    optimizer=\"ranger\",  # Use Ranger optimizer\n",
    "    learning_rate=0.03,\n",
    "    hidden_size=16,\n",
    "    attention_head_size=1,\n",
    "    dropout=0.1,\n",
    "    hidden_continuous_size=8,\n",
    "    output_size=7,  # Number of quantiles (default is 7)\n",
    "    loss=QuantileLoss(),\n",
    "    log_interval=10,\n",
    "    reduce_on_plateau_patience=4,\n",
    ")\n",
    "\n",
    "# Define a LightningModule that wraps the TemporalFusionTransformer model\n",
    "class TFTLightningModule(LightningModule):\n",
    "    def __init__(self, model):\n",
    "        super().__init__()\n",
    "        self.model = model\n",
    "        # Exclude 'model', 'loss', and 'logging_metrics' attributes from being saved in hyperparameters\n",
    "        self.save_hyperparameters(ignore=[\"model\", \"loss\", \"logging_metrics\"])\n",
    "\n",
    "    def forward(self, x):\n",
    "        return self.model(x)\n",
    "\n",
    "    def training_step(self, batch, batch_idx):\n",
    "        # Perform a single training step\n",
    "        x, y = batch\n",
    "        out = self.model(x)\n",
    "        y_pred = out[0]  # The model output is a tuple, 'y_pred' is the first element\n",
    "        loss = self.model.loss(y_pred, y)\n",
    "        self.log(\"train_loss\", loss, on_step=True, on_epoch=True, prog_bar=True, batch_size=x['encoder_target'].shape[0])\n",
    "        return loss\n",
    "\n",
    "    def validation_step(self, batch, batch_idx):\n",
    "        # Perform a single validation step\n",
    "        x, y = batch\n",
    "        out = self.model(x)\n",
    "        y_pred = out[0]  # The model output is a tuple, 'y_pred' is the first element\n",
    "        loss = self.model.loss(y_pred, y)\n",
    "        self.log(\"val_loss\", loss, prog_bar=True, batch_size=x['encoder_target'].shape[0])\n",
    "        return loss\n",
    "\n",
    "    def test_step(self, batch, batch_idx):\n",
    "        # Perform a single test step\n",
    "        x, y = batch\n",
    "        out = self.model(x)\n",
    "        y_pred = out[0]  # The model output is a tuple, 'y_pred' is the first element\n",
    "        loss = self.model.loss(y_pred, y)\n",
    "        self.log(\"test_loss\", loss, prog_bar=True, batch_size=x['encoder_target'].shape[0])\n",
    "        return loss\n",
    "\n",
    "    def configure_optimizers(self):\n",
    "        # Set optimizer to use Ranger algorithm\n",
    "        optimizer = Ranger(self.model.parameters(), lr=self.model.hparams.learning_rate)\n",
    "        return optimizer\n",
    "\n",
    "# Wrap the TemporalFusionTransformer model into the LightningModule\n",
    "tft_module = TFTLightningModule(tft)\n",
    "\n",
    "# Initialize PyTorch Lightning Trainer\n",
    "trainer = Trainer(\n",
    "    max_epochs=30,\n",
    "    accelerator=\"gpu\" if torch.cuda.is_available() else \"cpu\",  # Use GPU if available\n",
    "    devices=1,  # Use a single device\n",
    "    callbacks=[EarlyStopping(monitor=\"val_loss\", patience=3, verbose=True)],  # Early stopping callback\n",
    "    num_sanity_val_steps=0,  # Disable sanity check\n",
    "    deterministic=True,  # Ensure deterministic behavior for reproducibility\n",
    ")\n",
    "\n",
    "# Increase the `num_workers` parameter in DataLoaders for faster data loading\n",
    "train_dataloader = training.to_dataloader(train=True, batch_size=64, num_workers=4, persistent_workers=True)\n",
    "val_dataloader = validation.to_dataloader(train=False, batch_size=64, num_workers=4, persistent_workers=True)\n",
    "\n",
    "# Train the model\n",
    "trainer.fit(\n",
    "    tft_module,\n",
    "    train_dataloaders=train_dataloader,\n",
    "    val_dataloaders=val_dataloader\n",
    ")\n",
    "\n",
    "# Save the trained model\n",
    "torch.save(tft.state_dict(), \"tft_final_model.pth\")\n",
    "\n",
    "# To load the model for testing (if tested in a separate code block)\n",
    "# tft.load_state_dict(torch.load(\"tft_final_model.pth\"))\n",
    "\n",
    "# Prepare test dataset and DataLoader\n",
    "test_dataset = TimeSeriesDataSet.from_dataset(\n",
    "    training,  # Use the settings from training dataset\n",
    "    data,      # Your test dataset (should be processed similar to training)\n",
    "    predict=True\n",
    ")\n",
    "\n",
    "# Create test DataLoader\n",
    "test_dataloader = test_dataset.to_dataloader(train=False, batch_size=64)\n",
    "\n",
    "# Test the model on test data\n",
    "test_results = trainer.test(tft_module, dataloaders=test_dataloader)\n",
    "print(test_results)\n"
   ]
  },
  {
   "cell_type": "code",
   "execution_count": 43,
   "id": "0dbb738b-16c1-4dcf-a454-feeebbc7a1c7",
   "metadata": {},
   "outputs": [
    {
     "name": "stderr",
     "output_type": "stream",
     "text": [
      "C:\\Users\\egeme\\PycharmProjects\\pythonProject1\\.venv\\Lib\\site-packages\\lightning\\pytorch\\trainer\\connectors\\data_connector.py:424: The 'predict_dataloader' does not have many workers which may be a bottleneck. Consider increasing the value of the `num_workers` argument` to `num_workers=11` in the `DataLoader` to improve performance.\n"
     ]
    }
   ],
   "source": [
    "# Get raw predictions and inputs from the model on the test set\n",
    "raw_predictions = tft.predict(test_dataloader, mode=\"raw\", return_x=True)"
   ]
  },
  {
   "cell_type": "code",
   "execution_count": 44,
   "id": "a82cba14-d445-4ba6-b2f6-7c544f76890e",
   "metadata": {},
   "outputs": [
    {
     "name": "stdout",
     "output_type": "stream",
     "text": [
      "<class 'pytorch_forecasting.models.base_model.Prediction'>\n",
      "5\n",
      "Prediction(output=Output(prediction=tensor([[[0.0000, 0.0973, 0.3276, 0.4474, 0.6971, 0.9342, 1.3234],\n",
      "         [0.0000, 0.1317, 0.3673, 0.5142, 0.7623, 0.9941, 1.4110],\n",
      "         [0.0000, 0.2317, 0.4922, 0.7001, 0.9604, 1.2397, 1.6892],\n",
      "         [0.0000, 0.3246, 0.6277, 0.8741, 1.1492, 1.4773, 1.9447],\n",
      "         [0.0000, 0.4983, 0.8691, 1.2151, 1.5345, 1.9759, 2.5398],\n",
      "         [0.7224, 1.1850, 1.5558, 1.9795, 2.3445, 2.7938, 3.4536],\n",
      "         [1.0538, 1.4451, 1.7931, 2.1994, 2.5440, 2.9287, 3.6035],\n",
      "         [1.0910, 1.4739, 1.8016, 2.2078, 2.5303, 2.9143, 3.5768],\n",
      "         [1.0826, 1.4762, 1.7812, 2.1893, 2.4971, 2.8968, 3.5423],\n",
      "         [1.0672, 1.4741, 1.7539, 2.1627, 2.4552, 2.8599, 3.4949]]]), encoder_attention=tensor([[[[3.4032e-03, 4.6144e-03, 6.0191e-03, 1.2428e-02, 9.1590e-03,\n",
      "           8.0796e-03, 2.6425e-03, 2.1908e-02, 4.4699e-01, 4.2391e-01,\n",
      "           1.0999e-03, 1.3542e-04, 8.4406e-04, 1.9764e-04, 1.0302e-02,\n",
      "           1.0349e-02, 5.5604e-03, 7.6141e-04, 1.8429e-04, 9.7519e-04,\n",
      "           1.2172e-05, 1.4506e-05, 2.4556e-05, 2.3638e-05, 7.7982e-04,\n",
      "           3.6874e-03, 4.8793e-03, 9.2789e-03, 1.1668e-02, 6.7963e-05]],\n",
      "\n",
      "         [[7.7201e-03, 8.5593e-03, 9.0214e-03, 1.3323e-02, 9.8434e-03,\n",
      "           9.0040e-03, 3.5399e-03, 1.7715e-02, 3.3884e-01, 4.0057e-01,\n",
      "           4.7248e-03, 1.0461e-03, 3.4343e-03, 1.1575e-03, 2.1643e-02,\n",
      "           2.0424e-02, 1.2006e-02, 2.6979e-03, 9.1727e-04, 2.8663e-03,\n",
      "           1.1593e-04, 1.1980e-04, 1.3073e-04, 1.2964e-04, 1.5938e-03,\n",
      "           6.5743e-03, 7.2650e-03, 1.1038e-02, 1.5201e-02, 3.7632e-04]],\n",
      "\n",
      "         [[6.2946e-03, 6.7347e-03, 6.8361e-03, 9.5694e-03, 7.0703e-03,\n",
      "           6.4545e-03, 2.6376e-03, 1.3734e-02, 3.3133e-01, 4.1415e-01,\n",
      "           5.3746e-03, 1.2381e-03, 3.8753e-03, 1.3473e-03, 2.1789e-02,\n",
      "           2.0438e-02, 1.2330e-02, 2.9320e-03, 1.0194e-03, 2.8754e-03,\n",
      "           1.1954e-04, 1.2223e-04, 1.2758e-04, 1.2683e-04, 1.3492e-03,\n",
      "           5.4385e-03, 5.7673e-03, 8.9039e-03, 1.3246e-02, 3.8250e-04]],\n",
      "\n",
      "         [[1.9257e-03, 2.3089e-03, 2.6874e-03, 4.7190e-03, 3.4431e-03,\n",
      "           3.0688e-03, 1.1672e-03, 9.9739e-03, 3.8153e-01, 4.3662e-01,\n",
      "           1.7188e-03, 2.4960e-04, 1.3200e-03, 3.5127e-04, 1.1384e-02,\n",
      "           1.1236e-02, 6.5757e-03, 1.0940e-03, 2.8962e-04, 1.0810e-03,\n",
      "           1.6479e-05, 1.9069e-05, 2.7094e-05, 2.6567e-05, 5.0735e-04,\n",
      "           2.1274e-03, 2.4462e-03, 4.6343e-03, 7.1161e-03, 8.1161e-05]],\n",
      "\n",
      "         [[2.8695e-03, 3.4937e-03, 4.0108e-03, 6.5795e-03, 5.2550e-03,\n",
      "           4.8202e-03, 2.5524e-03, 1.4002e-02, 2.7402e-01, 3.1375e-01,\n",
      "           4.6728e-03, 1.0495e-03, 3.9199e-03, 1.4645e-03, 1.7566e-02,\n",
      "           1.7401e-02, 1.2262e-02, 3.3211e-03, 1.2301e-03, 2.9291e-03,\n",
      "           1.2610e-04, 1.4851e-04, 1.9371e-04, 1.9673e-04, 1.4220e-03,\n",
      "           3.5528e-03, 3.8000e-03, 6.5882e-03, 9.6434e-03, 4.3761e-04]],\n",
      "\n",
      "         [[6.9522e-03, 7.6497e-03, 7.0092e-03, 6.5826e-03, 6.9158e-03,\n",
      "           7.0420e-03, 9.4275e-03, 7.9519e-03, 1.0565e-02, 1.1851e-02,\n",
      "           5.1176e-02, 8.3049e-02, 4.7304e-02, 7.1059e-02, 1.3267e-02,\n",
      "           1.2173e-02, 1.5724e-02, 3.4005e-02, 5.2615e-02, 2.2149e-02,\n",
      "           7.8983e-02, 8.1457e-02, 5.7826e-02, 6.3782e-02, 1.4786e-02,\n",
      "           8.2644e-03, 7.1050e-03, 7.9552e-03, 1.0258e-02, 5.6146e-02]],\n",
      "\n",
      "         [[1.9611e-03, 2.0782e-03, 1.7691e-03, 1.4389e-03, 1.7500e-03,\n",
      "           2.0442e-03, 3.9916e-03, 1.5344e-03, 6.2235e-04, 6.4871e-04,\n",
      "           2.0351e-02, 7.5059e-02, 1.9167e-02, 5.0469e-02, 1.9742e-03,\n",
      "           1.7738e-03, 2.8579e-03, 1.3512e-02, 3.6807e-02, 8.0023e-03,\n",
      "           2.0296e-01, 1.9667e-01, 9.8011e-02, 1.1382e-01, 6.0814e-03,\n",
      "           2.1820e-03, 1.8800e-03, 1.9866e-03, 2.8616e-03, 9.2785e-02]],\n",
      "\n",
      "         [[1.5230e-03, 1.5860e-03, 1.3329e-03, 1.0745e-03, 1.3353e-03,\n",
      "           1.5870e-03, 3.3022e-03, 1.1836e-03, 4.5085e-04, 4.7441e-04,\n",
      "           1.7039e-02, 6.8626e-02, 1.5934e-02, 4.4637e-02, 1.5279e-03,\n",
      "           1.3627e-03, 2.2151e-03, 1.1157e-02, 3.2210e-02, 6.4634e-03,\n",
      "           2.1476e-01, 2.0583e-01, 9.5884e-02, 1.1316e-01, 4.8402e-03,\n",
      "           1.6304e-03, 1.3776e-03, 1.4331e-03, 2.1341e-03, 9.3253e-02]],\n",
      "\n",
      "         [[1.5880e-03, 1.6270e-03, 1.3616e-03, 1.0862e-03, 1.3208e-03,\n",
      "           1.5400e-03, 3.1609e-03, 1.1997e-03, 5.2319e-04, 5.6480e-04,\n",
      "           1.8630e-02, 7.1554e-02, 1.7465e-02, 4.7553e-02, 1.7781e-03,\n",
      "           1.5795e-03, 2.5237e-03, 1.2171e-02, 3.3973e-02, 6.9592e-03,\n",
      "           2.0322e-01, 1.9490e-01, 9.2504e-02, 1.0897e-01, 5.0147e-03,\n",
      "           1.6724e-03, 1.3700e-03, 1.3755e-03, 1.9936e-03, 8.5673e-02]],\n",
      "\n",
      "         [[1.7432e-03, 1.7703e-03, 1.4794e-03, 1.1792e-03, 1.4133e-03,\n",
      "           1.6255e-03, 3.2483e-03, 1.3140e-03, 6.4122e-04, 7.0038e-04,\n",
      "           2.0324e-02, 7.3962e-02, 1.8912e-02, 4.9612e-02, 2.0650e-03,\n",
      "           1.8276e-03, 2.8580e-03, 1.3077e-02, 3.5090e-02, 7.4764e-03,\n",
      "           1.9091e-01, 1.8278e-01, 8.8341e-02, 1.0373e-01, 5.2755e-03,\n",
      "           1.8053e-03, 1.4606e-03, 1.4512e-03, 2.0860e-03, 8.1359e-02]]]]), decoder_attention=tensor([[[[0.0000, 0.0000, 0.0000, 0.0000, 0.0000, 0.0000, 0.0000, 0.0000,\n",
      "           0.0000, 0.0000]],\n",
      "\n",
      "         [[0.0684, 0.0000, 0.0000, 0.0000, 0.0000, 0.0000, 0.0000, 0.0000,\n",
      "           0.0000, 0.0000]],\n",
      "\n",
      "         [[0.0716, 0.0148, 0.0000, 0.0000, 0.0000, 0.0000, 0.0000, 0.0000,\n",
      "           0.0000, 0.0000]],\n",
      "\n",
      "         [[0.0785, 0.0112, 0.0105, 0.0000, 0.0000, 0.0000, 0.0000, 0.0000,\n",
      "           0.0000, 0.0000]],\n",
      "\n",
      "         [[0.1401, 0.0305, 0.0276, 0.0785, 0.0000, 0.0000, 0.0000, 0.0000,\n",
      "           0.0000, 0.0000]],\n",
      "\n",
      "         [[0.0276, 0.0377, 0.0337, 0.0178, 0.0122, 0.0000, 0.0000, 0.0000,\n",
      "           0.0000, 0.0000]],\n",
      "\n",
      "         [[0.0033, 0.0088, 0.0078, 0.0023, 0.0018, 0.0090, 0.0000, 0.0000,\n",
      "           0.0000, 0.0000]],\n",
      "\n",
      "         [[0.0028, 0.0080, 0.0069, 0.0019, 0.0014, 0.0078, 0.0219, 0.0000,\n",
      "           0.0000, 0.0000]],\n",
      "\n",
      "         [[0.0033, 0.0090, 0.0078, 0.0022, 0.0016, 0.0081, 0.0226, 0.0206,\n",
      "           0.0000, 0.0000]],\n",
      "\n",
      "         [[0.0038, 0.0099, 0.0085, 0.0025, 0.0018, 0.0089, 0.0242, 0.0221,\n",
      "           0.0188, 0.0000]]]]), static_variables=tensor([], size=(1, 0)), encoder_variables=tensor([[[[0.0404, 0.0422, 0.0396, 0.0251, 0.0432, 0.0449, 0.0376, 0.2186,\n",
      "           0.0071, 0.0341, 0.0074, 0.0331, 0.4266]],\n",
      "\n",
      "         [[0.0508, 0.0611, 0.0496, 0.0253, 0.0542, 0.0802, 0.0463, 0.2222,\n",
      "           0.0051, 0.0421, 0.0100, 0.0410, 0.3120]],\n",
      "\n",
      "         [[0.0491, 0.0633, 0.0518, 0.0260, 0.0566, 0.0830, 0.0481, 0.2255,\n",
      "           0.0049, 0.0439, 0.0106, 0.0427, 0.2945]],\n",
      "\n",
      "         [[0.0432, 0.0660, 0.0546, 0.0268, 0.0596, 0.0890, 0.0502, 0.2266,\n",
      "           0.0047, 0.0461, 0.0114, 0.0448, 0.2770]],\n",
      "\n",
      "         [[0.0357, 0.0679, 0.0569, 0.0269, 0.0619, 0.0894, 0.0517, 0.2318,\n",
      "           0.0046, 0.0475, 0.0122, 0.0462, 0.2673]],\n",
      "\n",
      "         [[0.0291, 0.0707, 0.0601, 0.0277, 0.0653, 0.1011, 0.0541, 0.2241,\n",
      "           0.0044, 0.0500, 0.0129, 0.0485, 0.2521]],\n",
      "\n",
      "         [[0.0253, 0.0719, 0.0620, 0.0279, 0.0672, 0.1102, 0.0553, 0.2162,\n",
      "           0.0044, 0.0513, 0.0134, 0.0498, 0.2451]],\n",
      "\n",
      "         [[0.0241, 0.0707, 0.0621, 0.0264, 0.0671, 0.1079, 0.0550, 0.2177,\n",
      "           0.0044, 0.0506, 0.0136, 0.0494, 0.2510]],\n",
      "\n",
      "         [[0.0247, 0.0673, 0.0602, 0.0239, 0.0650, 0.0987, 0.0532, 0.2230,\n",
      "           0.0046, 0.0483, 0.0133, 0.0474, 0.2702]],\n",
      "\n",
      "         [[0.0264, 0.0623, 0.0568, 0.0214, 0.0612, 0.0904, 0.0503, 0.2236,\n",
      "           0.0049, 0.0451, 0.0125, 0.0445, 0.3006]],\n",
      "\n",
      "         [[0.0328, 0.0527, 0.0490, 0.0177, 0.0529, 0.0621, 0.0439, 0.2336,\n",
      "           0.0057, 0.0384, 0.0111, 0.0382, 0.3619]],\n",
      "\n",
      "         [[0.0395, 0.0449, 0.0422, 0.0159, 0.0456, 0.0475, 0.0385, 0.2259,\n",
      "           0.0067, 0.0336, 0.0096, 0.0330, 0.4171]],\n",
      "\n",
      "         [[0.0428, 0.0407, 0.0383, 0.0152, 0.0415, 0.0451, 0.0355, 0.2126,\n",
      "           0.0076, 0.0313, 0.0084, 0.0303, 0.4509]],\n",
      "\n",
      "         [[0.0405, 0.0360, 0.0339, 0.0144, 0.0369, 0.0386, 0.0320, 0.2068,\n",
      "           0.0097, 0.0291, 0.0071, 0.0271, 0.4878]],\n",
      "\n",
      "         [[0.0400, 0.0364, 0.0342, 0.0153, 0.0372, 0.0446, 0.0323, 0.1957,\n",
      "           0.0088, 0.0287, 0.0069, 0.0276, 0.4923]],\n",
      "\n",
      "         [[0.0382, 0.0354, 0.0333, 0.0159, 0.0363, 0.0420, 0.0317, 0.1958,\n",
      "           0.0094, 0.0281, 0.0066, 0.0271, 0.5004]],\n",
      "\n",
      "         [[0.0368, 0.0347, 0.0327, 0.0166, 0.0356, 0.0385, 0.0313, 0.1992,\n",
      "           0.0100, 0.0278, 0.0063, 0.0267, 0.5038]],\n",
      "\n",
      "         [[0.0355, 0.0340, 0.0320, 0.0173, 0.0350, 0.0349, 0.0308, 0.2042,\n",
      "           0.0109, 0.0275, 0.0062, 0.0263, 0.5055]],\n",
      "\n",
      "         [[0.0350, 0.0342, 0.0322, 0.0182, 0.0352, 0.0336, 0.0310, 0.2076,\n",
      "           0.0109, 0.0277, 0.0062, 0.0266, 0.5018]],\n",
      "\n",
      "         [[0.0360, 0.0360, 0.0337, 0.0198, 0.0369, 0.0361, 0.0324, 0.2075,\n",
      "           0.0092, 0.0289, 0.0065, 0.0280, 0.4888]],\n",
      "\n",
      "         [[0.0303, 0.0313, 0.0291, 0.0182, 0.0320, 0.0255, 0.0286, 0.2131,\n",
      "           0.0171, 0.0263, 0.0055, 0.0244, 0.5186]],\n",
      "\n",
      "         [[0.0315, 0.0327, 0.0305, 0.0195, 0.0335, 0.0269, 0.0298, 0.2161,\n",
      "           0.0140, 0.0272, 0.0058, 0.0255, 0.5071]],\n",
      "\n",
      "         [[0.0358, 0.0371, 0.0347, 0.0222, 0.0381, 0.0337, 0.0334, 0.2171,\n",
      "           0.0089, 0.0302, 0.0068, 0.0291, 0.4730]],\n",
      "\n",
      "         [[0.0362, 0.0376, 0.0352, 0.0228, 0.0386, 0.0331, 0.0339, 0.2201,\n",
      "           0.0088, 0.0307, 0.0069, 0.0295, 0.4666]],\n",
      "\n",
      "         [[0.0386, 0.0400, 0.0376, 0.0242, 0.0412, 0.0375, 0.0359, 0.2232,\n",
      "           0.0078, 0.0325, 0.0073, 0.0315, 0.4428]],\n",
      "\n",
      "         [[0.0255, 0.0759, 0.0621, 0.0339, 0.0666, 0.0883, 0.0563, 0.2274,\n",
      "           0.0042, 0.0533, 0.0135, 0.0509, 0.2421]],\n",
      "\n",
      "         [[0.0222, 0.0801, 0.0665, 0.0359, 0.0712, 0.1007, 0.0596, 0.2187,\n",
      "           0.0040, 0.0571, 0.0149, 0.0543, 0.2148]],\n",
      "\n",
      "         [[0.0214, 0.0836, 0.0701, 0.0372, 0.0748, 0.1075, 0.0623, 0.2135,\n",
      "           0.0038, 0.0600, 0.0164, 0.0570, 0.1922]],\n",
      "\n",
      "         [[0.0213, 0.0868, 0.0736, 0.0381, 0.0783, 0.1147, 0.0648, 0.2070,\n",
      "           0.0037, 0.0626, 0.0179, 0.0595, 0.1717]],\n",
      "\n",
      "         [[0.0304, 0.0880, 0.0733, 0.0364, 0.0773, 0.0635, 0.0641, 0.2542,\n",
      "           0.0037, 0.0602, 0.0202, 0.0580, 0.1707]]]]), decoder_variables=tensor([[[[0.0577, 0.1571, 0.3638, 0.0394, 0.0219, 0.0105, 0.0389, 0.1451,\n",
      "           0.0143, 0.0302, 0.0428, 0.0783]],\n",
      "\n",
      "         [[0.0623, 0.1404, 0.3937, 0.0372, 0.0243, 0.0096, 0.0407, 0.1280,\n",
      "           0.0145, 0.0287, 0.0429, 0.0777]],\n",
      "\n",
      "         [[0.0688, 0.1105, 0.4389, 0.0336, 0.0289, 0.0084, 0.0471, 0.1039,\n",
      "           0.0148, 0.0261, 0.0427, 0.0764]],\n",
      "\n",
      "         [[0.0818, 0.0626, 0.4914, 0.0302, 0.0359, 0.0075, 0.0582, 0.0787,\n",
      "           0.0162, 0.0224, 0.0426, 0.0725]],\n",
      "\n",
      "         [[0.1263, 0.0166, 0.4784, 0.0310, 0.0492, 0.0091, 0.0640, 0.0694,\n",
      "           0.0251, 0.0195, 0.0478, 0.0635]],\n",
      "\n",
      "         [[0.2453, 0.0075, 0.2232, 0.0123, 0.0869, 0.0215, 0.0923, 0.0956,\n",
      "           0.0775, 0.0261, 0.0681, 0.0437]],\n",
      "\n",
      "         [[0.1905, 0.0284, 0.0508, 0.0028, 0.1144, 0.0468, 0.1231, 0.1186,\n",
      "           0.1449, 0.0668, 0.0814, 0.0316]],\n",
      "\n",
      "         [[0.1321, 0.0540, 0.0317, 0.0026, 0.1144, 0.0614, 0.1316, 0.1212,\n",
      "           0.1398, 0.0992, 0.0825, 0.0295]],\n",
      "\n",
      "         [[0.1123, 0.0635, 0.0271, 0.0027, 0.1145, 0.0689, 0.1371, 0.1245,\n",
      "           0.1361, 0.1033, 0.0835, 0.0263]],\n",
      "\n",
      "         [[0.1023, 0.0650, 0.0252, 0.0029, 0.1158, 0.0734, 0.1427, 0.1295,\n",
      "           0.1396, 0.0952, 0.0849, 0.0234]]]]), decoder_lengths=tensor([10]), encoder_lengths=tensor([30])), x={'encoder_cat': tensor([], size=(1, 30, 0), dtype=torch.int64), 'encoder_cont': tensor([[[ 3.8930,  1.6492, -1.5413, -1.2586,  0.9327,  1.4660, -0.3834,\n",
      "           1.3150,  0.5262,  1.3601,  1.9516, -0.4901, -0.6604],\n",
      "         [ 3.8936, -1.6162, -1.4266, -1.2586,  1.4222,  1.4660, -0.0128,\n",
      "           1.3626,  0.7753,  1.2204,  1.9516, -0.4901, -0.4851],\n",
      "         [ 3.8942, -1.4742, -1.4266, -1.2586,  1.4222,  1.4660,  0.3579,\n",
      "           1.3150,  0.7753,  1.2204,  1.9516, -0.4901, -0.4851],\n",
      "         [ 3.8949, -1.3322, -1.4266, -1.2586,  1.4222,  1.4660,  0.7033,\n",
      "           1.1753,  0.7753,  1.2204,  1.9516, -0.4901, -0.6604],\n",
      "         [ 3.8955, -1.1903, -1.4266, -1.2586,  1.4222,  1.4660,  0.9999,\n",
      "           0.9532,  0.7753,  1.2204,  1.9516, -0.4901, -0.4851],\n",
      "         [ 3.8961, -1.0483, -1.4266, -1.2586,  1.4222,  1.4660,  1.2274,\n",
      "           0.6636,  0.7753,  1.2204,  1.9516, -0.4901, -1.0111],\n",
      "         [ 3.8967, -0.9063, -1.4266, -1.2586,  1.4222,  1.4660,  1.3705,\n",
      "           0.3265,  0.7753,  1.2204,  1.9516, -0.4901, -1.3617],\n",
      "         [ 3.8973, -0.7644, -1.4266, -1.2586,  1.4222,  1.4660,  1.4193,\n",
      "          -0.0353,  0.7753,  1.2204,  1.9516, -0.4901, -1.1864],\n",
      "         [ 3.8979, -0.6224, -1.4266, -1.2586,  1.4222,  1.4660,  1.3705,\n",
      "          -0.3972,  0.7753,  1.2204,  1.9516, -0.4901, -0.8357],\n",
      "         [ 3.8985, -0.4804, -1.4266, -1.2586,  1.4222,  1.4660,  1.2274,\n",
      "          -0.7343,  0.7753,  1.2204,  1.9516, -0.4901, -0.6604],\n",
      "         [ 3.8991, -0.3384, -1.4266, -1.2586,  1.4222,  1.4660,  0.9999,\n",
      "          -1.0239,  0.7753,  1.2204,  1.9516, -0.4901,  0.2162],\n",
      "         [ 3.8997, -0.1965, -1.4266, -1.2586,  1.4222,  1.4660,  0.7033,\n",
      "          -1.2460,  0.7753,  1.2204,  1.9516, -0.4901,  0.5669],\n",
      "         [ 3.9003, -0.0545, -1.4266, -1.2586,  1.4222,  1.4660,  0.3579,\n",
      "          -1.3857,  0.7753,  1.2204,  1.9516, -0.4901,  0.3916],\n",
      "         [ 3.9009,  0.0875, -1.4266, -1.2586,  1.4222,  1.4660, -0.0128,\n",
      "          -1.4333,  0.7753,  1.2204,  1.9516, -0.4901,  0.5669],\n",
      "         [ 3.9015,  0.2295, -1.4266, -1.2586,  1.4222,  1.4660, -0.3834,\n",
      "          -1.3857,  0.7753,  1.2204,  1.9516, -0.4901, -0.1344],\n",
      "         [ 3.9021,  0.3714, -1.4266, -1.2586,  1.4222,  1.4660, -0.7288,\n",
      "          -1.2460,  0.7753,  1.2204,  1.9516, -0.4901, -0.1344],\n",
      "         [ 3.9027,  0.5134, -1.4266, -1.2586,  1.4222,  1.4660, -1.0254,\n",
      "          -1.0239,  0.7753,  1.2204,  1.9516, -0.4901,  0.0409],\n",
      "         [ 3.9033,  0.6554, -1.4266, -1.2586,  1.4222,  1.4660, -1.2530,\n",
      "          -0.7343,  0.7753,  1.2204,  1.9516, -0.4901,  0.3916],\n",
      "         [ 3.9039,  0.7974, -1.4266, -1.2586,  1.4222,  1.4660, -1.3961,\n",
      "          -0.3972,  0.7753,  1.2204,  1.9516, -0.4901,  0.5669],\n",
      "         [ 3.9045,  0.9393, -1.4266, -1.2586,  1.4222,  1.4660, -1.4449,\n",
      "          -0.0353,  0.7753,  1.2204,  1.9516, -0.4901,  0.2162],\n",
      "         [ 3.9051,  1.0813, -1.4266, -1.2586,  1.4222,  1.4660, -1.3961,\n",
      "           0.3265,  0.7753,  1.2204,  1.9516, -0.4901,  2.8462],\n",
      "         [ 3.9057,  1.2233, -1.4266, -1.2586,  1.4222,  1.4660, -1.2530,\n",
      "           0.6636,  0.7753,  1.2204,  1.9516, -0.4901,  2.4955],\n",
      "         [ 3.9063,  1.3653, -1.4266, -1.2586,  1.4222,  1.4660, -1.0254,\n",
      "           0.9532,  0.7753,  1.2204,  1.9516, -0.4901,  0.7422],\n",
      "         [ 3.9069,  1.5072, -1.4266, -1.2586,  1.4222,  1.4660, -0.7288,\n",
      "           1.1753,  0.7753,  1.2204,  1.9516, -0.4901,  0.9176],\n",
      "         [ 3.9075,  1.6492, -1.4266, -1.2586,  1.4222,  1.4660, -0.3834,\n",
      "           1.3150,  0.7753,  1.2204,  1.9516, -0.4901,  0.2162],\n",
      "         [ 3.9081, -1.6162, -1.3118, -1.2586, -1.5148, -0.6821, -0.0128,\n",
      "           1.3626,  0.9914,  1.0328,  1.9516, -0.4901, -0.3098],\n",
      "         [ 3.9087, -1.4742, -1.3118, -1.2586, -1.5148, -0.6821,  0.3579,\n",
      "           1.3150,  0.9914,  1.0328,  1.9516, -0.4901, -0.8357],\n",
      "         [ 3.9093, -1.3322, -1.3118, -1.2586, -1.5148, -0.6821,  0.7033,\n",
      "           1.1753,  0.9914,  1.0328,  1.9516, -0.4901, -1.0111],\n",
      "         [ 3.9099, -1.1903, -1.3118, -1.2586, -1.5148, -0.6821,  0.9999,\n",
      "           0.9532,  0.9914,  1.0328,  1.9516, -0.4901, -1.1864],\n",
      "         [ 3.9105, -1.0483, -1.3118, -1.2586, -1.5148, -0.6821,  1.2274,\n",
      "           0.6636,  0.9914,  1.0328,  1.9516, -0.4901,  1.2682]]]), 'encoder_target': tensor([[0.7000, 0.8000, 0.8000, 0.7000, 0.8000, 0.5000, 0.3000, 0.4000, 0.6000,\n",
      "         0.7000, 1.2000, 1.4000, 1.3000, 1.4000, 1.0000, 1.0000, 1.1000, 1.3000,\n",
      "         1.4000, 1.2000, 2.7000, 2.5000, 1.5000, 1.6000, 1.2000, 0.9000, 0.6000,\n",
      "         0.5000, 0.4000, 1.8000]]), 'encoder_lengths': tensor([30]), 'decoder_cat': tensor([], size=(1, 10, 0), dtype=torch.int64), 'decoder_cont': tensor([[[ 3.9112, -0.9063, -1.3118, -1.2586, -1.5148, -0.6821,  1.3705,\n",
      "           0.3265,  0.9914,  1.0328,  1.9516, -0.4901, -1.0111],\n",
      "         [ 3.9118, -0.7644, -1.3118, -1.2586, -1.5148, -0.6821,  1.4193,\n",
      "          -0.0353,  0.9914,  1.0328,  1.9516, -0.4901,  0.0409],\n",
      "         [ 3.9124, -0.6224, -1.3118, -1.2586, -1.5148, -0.6821,  1.3705,\n",
      "          -0.3972,  0.9914,  1.0328,  1.9516, -0.4901,  5.1255],\n",
      "         [ 3.9130, -0.4804, -1.3118, -1.2586, -1.5148, -0.6821,  1.2274,\n",
      "          -0.7343,  0.9914,  1.0328,  1.9516, -0.4901,  6.8788],\n",
      "         [ 3.9136, -0.3384, -1.3118, -1.2586, -1.5148, -0.6821,  0.9999,\n",
      "          -1.0239,  0.9914,  1.0328,  1.9516, -0.4901,  4.9502],\n",
      "         [ 3.9142, -0.1965, -1.3118, -1.2586, -1.5148, -0.6821,  0.7033,\n",
      "          -1.2460,  0.9914,  1.0328,  1.9516, -0.4901,  3.5475],\n",
      "         [ 3.9148, -0.0545, -1.3118, -1.2586, -1.5148, -0.6821,  0.3579,\n",
      "          -1.3857,  0.9914,  1.0328,  1.9516, -0.4901,  2.3202],\n",
      "         [ 3.9154,  0.0875, -1.3118, -1.2586, -1.5148, -0.6821, -0.0128,\n",
      "          -1.4333,  0.9914,  1.0328,  1.9516, -0.4901,  2.3202],\n",
      "         [ 3.9160,  0.2295, -1.3118, -1.2586, -1.5148, -0.6821, -0.3834,\n",
      "          -1.3857,  0.9914,  1.0328,  1.9516, -0.4901,  1.7942],\n",
      "         [ 3.9166,  0.3714, -1.3118, -1.2586, -1.5148, -0.6821, -0.7288,\n",
      "          -1.2460,  0.9914,  1.0328,  1.9516, -0.4901,  1.9696]]]), 'decoder_target': tensor([[0.5000, 1.1000, 4.0000, 5.0000, 3.9000, 3.1000, 2.4000, 2.4000, 2.1000,\n",
      "         2.2000]]), 'decoder_lengths': tensor([10]), 'decoder_time_idx': tensor([[9347, 9348, 9349, 9350, 9351, 9352, 9353, 9354, 9355, 9356]]), 'groups': tensor([[1]]), 'target_scale': tensor([[1.0767, 0.5703]])}, index=None, decoder_lengths=None, y=None)\n"
     ]
    }
   ],
   "source": [
    "print(type(raw_predictions))\n",
    "print(len(raw_predictions))\n",
    "print(raw_predictions)"
   ]
  },
  {
   "cell_type": "code",
   "execution_count": 45,
   "id": "49db61ce-3602-4f77-8d58-7e8217e87f05",
   "metadata": {},
   "outputs": [
    {
     "data": {
      "image/png": "[encoded data removed]",
      "text/plain": [
       "<Figure size 1000x600 with 2 Axes>"
      ]
     },
     "metadata": {},
     "output_type": "display_data"
    }
   ],
   "source": [
    "import matplotlib.pyplot as plt\n",
    "\n",
    "# Extract 'output' and 'x' from the 'raw_predictions'\n",
    "out = raw_predictions.output\n",
    "x = raw_predictions.x\n",
    "\n",
    "# Visualize predictions for the single available sample in the test set\n",
    "fig, ax = plt.subplots(figsize=(10, 6))\n",
    "tft.plot_prediction(x=x, out=out, idx=0, add_loss_to_title=True, ax=ax)\n",
    "plt.show()\n"
   ]
  },
  {
   "cell_type": "code",
   "execution_count": 46,
   "id": "2fb9f816-d021-44b3-9186-8ab9ec109844",
   "metadata": {},
   "outputs": [
    {
     "name": "stdout",
     "output_type": "stream",
     "text": [
      "          0         1         2         3         4         5         6  \\\n",
      "0  0.447437  0.514226  0.700125  0.874139  1.215064  1.979495  2.199417   \n",
      "\n",
      "          7        8         9  \n",
      "0  2.207806  2.18933  2.162694  \n"
     ]
    }
   ],
   "source": [
    "import pandas as pd\n",
    "\n",
    "# Get predictions as a DataFrame\n",
    "predictions = tft.predict(test_dataloader, mode=\"prediction\")\n",
    "\n",
    "# Convert predictions to a DataFrame\n",
    "predictions_df = pd.DataFrame(predictions.numpy())\n",
    "print(predictions_df.head())"
   ]
  },
  {
   "cell_type": "code",
   "execution_count": 47,
   "id": "27d5ad8f-20c6-41ca-bae6-5a61ca6664be",
   "metadata": {},
   "outputs": [],
   "source": [
    "# Create test DataLoader with more workers\n",
    "test_dataloader = test_dataset.to_dataloader(train=False, batch_size=64, num_workers=4, persistent_workers=True)"
   ]
  },
  {
   "cell_type": "code",
   "execution_count": 48,
   "id": "d3645783-c8ec-4bff-994f-8abf41c69c9c",
   "metadata": {},
   "outputs": [
    {
     "name": "stdout",
     "output_type": "stream",
     "text": [
      "          0         1         2         3         4         5         6  \\\n",
      "0  0.447437  0.514226  0.700125  0.874139  1.215064  1.979495  2.199417   \n",
      "\n",
      "          7        8         9  \n",
      "0  2.207806  2.18933  2.162694  \n"
     ]
    }
   ],
   "source": [
    "import pandas as pd\n",
    "import torch\n",
    "from pytorch_forecasting.data import TimeSeriesDataSet\n",
    "\n",
    "# 1. Create test DataLoader with optimized parameters for fast processing\n",
    "test_dataloader = test_dataset.to_dataloader(\n",
    "    train=False,\n",
    "    batch_size=64,\n",
    "    num_workers=4,  # Set the number of workers for faster data loading\n",
    "    persistent_workers=True  # Keep workers active to speed up processing\n",
    ")\n",
    "\n",
    "# 2. Get predictions from the model on the test data\n",
    "predictions = tft.predict(test_dataloader, mode=\"prediction\")\n",
    "\n",
    "# 3. Convert predictions to a DataFrame for better visualization\n",
    "predictions_df = pd.DataFrame(predictions.numpy())\n",
    "print(predictions_df.head())  # Display first few rows of predictions\n",
    "\n",
    "# Optional: Save predictions to CSV for future analysis\n",
    "predictions_df.to_csv(\"predictions.csv\", index=False)\n",
    "\n",
    "# If you want to perform visualization or further analysis on the predictions\n",
    "# (e.g., using matplotlib), you can do so here.\n"
   ]
  },
  {
   "cell_type": "code",
   "execution_count": 49,
   "id": "6135c16d-a91a-4b62-8f88-29a15b11f0ac",
   "metadata": {},
   "outputs": [
    {
     "name": "stdout",
     "output_type": "stream",
     "text": [
      "Mean Absolute Error (MAE): 1.2389\n",
      "   prediction_0  prediction_1  prediction_2  prediction_3  prediction_4  \\\n",
      "0      0.447437      0.514226      0.700125      0.874139      1.215064   \n",
      "\n",
      "   prediction_5  prediction_6  prediction_7  prediction_8  prediction_9  \\\n",
      "0      1.979495      2.199417      2.207806       2.18933      2.162694   \n",
      "\n",
      "   actual_0  actual_1  actual_2  actual_3  actual_4  actual_5  actual_6  \\\n",
      "0       0.5       1.1       4.0       5.0       3.9       3.1       2.4   \n",
      "\n",
      "   actual_7  actual_8  actual_9  \n",
      "0       2.4       2.1       2.2  \n"
     ]
    }
   ],
   "source": [
    "import pandas as pd\n",
    "import torch\n",
    "\n",
    "# Extract actual values from test_dataloader correctly\n",
    "actuals = []\n",
    "\n",
    "for batch in iter(test_dataloader):\n",
    "    # Assuming the target values are the second item in the batch\n",
    "    targets = batch[1]  # Extract target tensor\n",
    "    # If targets is a tuple, take the first tensor\n",
    "    if isinstance(targets, tuple):\n",
    "        targets = targets[0]\n",
    "    actuals.append(targets)\n",
    "\n",
    "# Concatenate all target tensors and convert to numpy\n",
    "actuals = torch.cat(actuals).numpy()\n",
    "\n",
    "# Create a DataFrame for actual values for better visualization\n",
    "actuals_df = pd.DataFrame(actuals)\n",
    "\n",
    "# Calculate error (Mean Absolute Error)\n",
    "mae = (predictions_df - actuals_df).abs().mean().mean()\n",
    "print(f\"Mean Absolute Error (MAE): {mae:.4f}\")\n",
    "\n",
    "# Save predictions and actuals to a CSV file for further analysis\n",
    "combined_df = pd.concat([predictions_df, actuals_df], axis=1)\n",
    "combined_df.columns = [f\"prediction_{i}\" for i in range(predictions_df.shape[1])] + [f\"actual_{i}\" for i in range(actuals_df.shape[1])]\n",
    "combined_df.to_csv(\"predictions_vs_actuals.csv\", index=False)\n",
    "\n",
    "# Display first few rows of predictions vs actuals\n",
    "print(combined_df.head())\n"
   ]
  },
  {
   "cell_type": "code",
   "execution_count": 51,
   "id": "dcf70626-49d3-4d4e-9091-9c9414150f54",
   "metadata": {},
   "outputs": [
    {
     "name": "stderr",
     "output_type": "stream",
     "text": [
      "GPU available: False, used: False\n",
      "TPU available: False, using: 0 TPU cores\n",
      "HPU available: False, using: 0 HPUs\n",
      "\n",
      "  | Name  | Type                      | Params | Mode \n",
      "------------------------------------------------------------\n",
      "0 | model | TemporalFusionTransformer | 79.7 K | train\n",
      "------------------------------------------------------------\n",
      "79.7 K    Trainable params\n",
      "0         Non-trainable params\n",
      "79.7 K    Total params\n",
      "0.319     Total estimated model params size (MB)\n",
      "511       Modules in train mode\n",
      "0         Modules in eval mode\n"
     ]
    },
    {
     "data": {
      "application/vnd.jupyter.widget-view+json": {
       "model_id": "",
       "version_major": 2,
       "version_minor": 0
      },
      "text/plain": [
       "Sanity Checking: |                                                                                            …"
      ]
     },
     "metadata": {},
     "output_type": "display_data"
    },
    {
     "name": "stderr",
     "output_type": "stream",
     "text": [
      "C:\\Users\\egeme\\PycharmProjects\\pythonProject1\\.venv\\Lib\\site-packages\\pytorch_lightning\\utilities\\data.py:78: Trying to infer the `batch_size` from an ambiguous collection. The batch size we found is 64. To avoid any miscalculations, use `self.log(..., batch_size=batch_size)`.\n"
     ]
    },
    {
     "data": {
      "application/vnd.jupyter.widget-view+json": {
       "model_id": "2e265a002a064a2bbef69337ffdd1933",
       "version_major": 2,
       "version_minor": 0
      },
      "text/plain": [
       "Training: |                                                                                                   …"
      ]
     },
     "metadata": {},
     "output_type": "display_data"
    },
    {
     "data": {
      "application/vnd.jupyter.widget-view+json": {
       "model_id": "",
       "version_major": 2,
       "version_minor": 0
      },
      "text/plain": [
       "Validation: |                                                                                                 …"
      ]
     },
     "metadata": {},
     "output_type": "display_data"
    },
    {
     "name": "stderr",
     "output_type": "stream",
     "text": [
      "C:\\Users\\egeme\\PycharmProjects\\pythonProject1\\.venv\\Lib\\site-packages\\pytorch_lightning\\utilities\\data.py:78: Trying to infer the `batch_size` from an ambiguous collection. The batch size we found is 52. To avoid any miscalculations, use `self.log(..., batch_size=batch_size)`.\n",
      "Metric val_loss improved. New best score: 0.346\n"
     ]
    },
    {
     "data": {
      "application/vnd.jupyter.widget-view+json": {
       "model_id": "",
       "version_major": 2,
       "version_minor": 0
      },
      "text/plain": [
       "Validation: |                                                                                                 …"
      ]
     },
     "metadata": {},
     "output_type": "display_data"
    },
    {
     "name": "stderr",
     "output_type": "stream",
     "text": [
      "Metric val_loss improved by 0.039 >= min_delta = 0.0. New best score: 0.307\n",
      "Exception ignored in: Exception in thread QueueFeederThread:\n",
      "Traceback (most recent call last):\n",
      "  File \"C:\\Users\\egeme\\AppData\\Local\\Programs\\Python\\Python312\\Lib\\multiprocessing\\queues.py\", line 259, in _feed\n",
      "<function _ConnectionBase.__del__ at 0x000002752CFB3600>\n",
      "Traceback (most recent call last):\n",
      "  File \"C:\\Users\\egeme\\AppData\\Local\\Programs\\Python\\Python312\\Lib\\multiprocessing\\connection.py\", line 133, in __del__\n",
      "    reader_close()\n",
      "  File \"C:\\Users\\egeme\\AppData\\Local\\Programs\\Python\\Python312\\Lib\\multiprocessing\\connection.py\", line 178, in close\n",
      "    self._close()\n",
      "  File \"C:\\Users\\egeme\\AppData\\Local\\Programs\\Python\\Python312\\Lib\\multiprocessing\\connection.py\", line 282, in _close\n",
      "    self._close()\n",
      "  File \"C:\\Users\\egeme\\AppData\\Local\\Programs\\Python\\Python312\\Lib\\multiprocessing\\connection.py\", line 282, in _close\n",
      "    _CloseHandle(self._handle)\n",
      "OSError: [WinError 6] The handle is invalid\n",
      "\n",
      "During handling of the above exception, another exception occurred:\n",
      "\n",
      "Traceback (most recent call last):\n",
      "  File \"C:\\Users\\egeme\\AppData\\Local\\Programs\\Python\\Python312\\Lib\\threading.py\", line 1075, in _bootstrap_inner\n",
      "    _CloseHandle(self._handle)\n",
      "OSError: [WinError 6] The handle is invalid\n",
      "    self.run()\n",
      "  File \"C:\\Users\\egeme\\PycharmProjects\\pythonProject1\\.venv\\Lib\\site-packages\\ipykernel\\ipkernel.py\", line 766, in run_closure\n",
      "    _threading_Thread_run(self)\n",
      "  File \"C:\\Users\\egeme\\AppData\\Local\\Programs\\Python\\Python312\\Lib\\threading.py\", line 1012, in run\n",
      "    self._target(*self._args, **self._kwargs)\n",
      "  File \"C:\\Users\\egeme\\AppData\\Local\\Programs\\Python\\Python312\\Lib\\multiprocessing\\queues.py\", line 291, in _feed\n",
      "    queue_sem.release()\n",
      "ValueError: semaphore or lock released too many times\n"
     ]
    },
    {
     "data": {
      "application/vnd.jupyter.widget-view+json": {
       "model_id": "",
       "version_major": 2,
       "version_minor": 0
      },
      "text/plain": [
       "Validation: |                                                                                                 …"
      ]
     },
     "metadata": {},
     "output_type": "display_data"
    },
    {
     "name": "stderr",
     "output_type": "stream",
     "text": [
      "Metric val_loss improved by 0.004 >= min_delta = 0.0. New best score: 0.303\n"
     ]
    },
    {
     "data": {
      "application/vnd.jupyter.widget-view+json": {
       "model_id": "",
       "version_major": 2,
       "version_minor": 0
      },
      "text/plain": [
       "Validation: |                                                                                                 …"
      ]
     },
     "metadata": {},
     "output_type": "display_data"
    },
    {
     "name": "stderr",
     "output_type": "stream",
     "text": [
      "Metric val_loss improved by 0.002 >= min_delta = 0.0. New best score: 0.301\n"
     ]
    },
    {
     "data": {
      "application/vnd.jupyter.widget-view+json": {
       "model_id": "",
       "version_major": 2,
       "version_minor": 0
      },
      "text/plain": [
       "Validation: |                                                                                                 …"
      ]
     },
     "metadata": {},
     "output_type": "display_data"
    },
    {
     "name": "stderr",
     "output_type": "stream",
     "text": [
      "Metric val_loss improved by 0.007 >= min_delta = 0.0. New best score: 0.294\n"
     ]
    },
    {
     "data": {
      "application/vnd.jupyter.widget-view+json": {
       "model_id": "",
       "version_major": 2,
       "version_minor": 0
      },
      "text/plain": [
       "Validation: |                                                                                                 …"
      ]
     },
     "metadata": {},
     "output_type": "display_data"
    },
    {
     "data": {
      "application/vnd.jupyter.widget-view+json": {
       "model_id": "",
       "version_major": 2,
       "version_minor": 0
      },
      "text/plain": [
       "Validation: |                                                                                                 …"
      ]
     },
     "metadata": {},
     "output_type": "display_data"
    },
    {
     "name": "stderr",
     "output_type": "stream",
     "text": [
      "Metric val_loss improved by 0.006 >= min_delta = 0.0. New best score: 0.287\n"
     ]
    },
    {
     "data": {
      "application/vnd.jupyter.widget-view+json": {
       "model_id": "",
       "version_major": 2,
       "version_minor": 0
      },
      "text/plain": [
       "Validation: |                                                                                                 …"
      ]
     },
     "metadata": {},
     "output_type": "display_data"
    },
    {
     "data": {
      "application/vnd.jupyter.widget-view+json": {
       "model_id": "",
       "version_major": 2,
       "version_minor": 0
      },
      "text/plain": [
       "Validation: |                                                                                                 …"
      ]
     },
     "metadata": {},
     "output_type": "display_data"
    },
    {
     "data": {
      "application/vnd.jupyter.widget-view+json": {
       "model_id": "",
       "version_major": 2,
       "version_minor": 0
      },
      "text/plain": [
       "Validation: |                                                                                                 …"
      ]
     },
     "metadata": {},
     "output_type": "display_data"
    },
    {
     "data": {
      "application/vnd.jupyter.widget-view+json": {
       "model_id": "",
       "version_major": 2,
       "version_minor": 0
      },
      "text/plain": [
       "Validation: |                                                                                                 …"
      ]
     },
     "metadata": {},
     "output_type": "display_data"
    },
    {
     "name": "stderr",
     "output_type": "stream",
     "text": [
      "Metric val_loss improved by 0.004 >= min_delta = 0.0. New best score: 0.283\n"
     ]
    },
    {
     "data": {
      "application/vnd.jupyter.widget-view+json": {
       "model_id": "",
       "version_major": 2,
       "version_minor": 0
      },
      "text/plain": [
       "Validation: |                                                                                                 …"
      ]
     },
     "metadata": {},
     "output_type": "display_data"
    },
    {
     "name": "stderr",
     "output_type": "stream",
     "text": [
      "Metric val_loss improved by 0.002 >= min_delta = 0.0. New best score: 0.281\n"
     ]
    },
    {
     "data": {
      "application/vnd.jupyter.widget-view+json": {
       "model_id": "",
       "version_major": 2,
       "version_minor": 0
      },
      "text/plain": [
       "Validation: |                                                                                                 …"
      ]
     },
     "metadata": {},
     "output_type": "display_data"
    },
    {
     "data": {
      "application/vnd.jupyter.widget-view+json": {
       "model_id": "",
       "version_major": 2,
       "version_minor": 0
      },
      "text/plain": [
       "Validation: |                                                                                                 …"
      ]
     },
     "metadata": {},
     "output_type": "display_data"
    },
    {
     "data": {
      "application/vnd.jupyter.widget-view+json": {
       "model_id": "",
       "version_major": 2,
       "version_minor": 0
      },
      "text/plain": [
       "Validation: |                                                                                                 …"
      ]
     },
     "metadata": {},
     "output_type": "display_data"
    },
    {
     "data": {
      "application/vnd.jupyter.widget-view+json": {
       "model_id": "",
       "version_major": 2,
       "version_minor": 0
      },
      "text/plain": [
       "Validation: |                                                                                                 …"
      ]
     },
     "metadata": {},
     "output_type": "display_data"
    },
    {
     "data": {
      "application/vnd.jupyter.widget-view+json": {
       "model_id": "",
       "version_major": 2,
       "version_minor": 0
      },
      "text/plain": [
       "Validation: |                                                                                                 …"
      ]
     },
     "metadata": {},
     "output_type": "display_data"
    },
    {
     "name": "stderr",
     "output_type": "stream",
     "text": [
      "Monitored metric val_loss did not improve in the last 5 records. Best score: 0.281. Signaling Trainer to stop.\n"
     ]
    },
    {
     "name": "stdout",
     "output_type": "stream",
     "text": [
      "Validation Loss: 0.2865232825279236\n",
      "          0         1         2        3         4         5         6  \\\n",
      "0  0.656313  0.538814  0.518473  0.60861  0.772961  0.939391  1.012607   \n",
      "\n",
      "          7         8         9  \n",
      "0  1.040225  1.071265  1.117671  \n",
      "Mean Absolute Error (MAE): 1.8736\n",
      "   prediction_0  prediction_1  prediction_2  prediction_3  prediction_4  \\\n",
      "0      0.656313      0.538814      0.518473       0.60861      0.772961   \n",
      "\n",
      "   prediction_5  prediction_6  prediction_7  prediction_8  prediction_9  \\\n",
      "0      0.939391      1.012607      1.040225      1.071265      1.117671   \n",
      "\n",
      "   actual_0  actual_1  actual_2  actual_3  actual_4  actual_5  actual_6  \\\n",
      "0       0.5       1.1       4.0       5.0       3.9       3.1       2.4   \n",
      "\n",
      "   actual_7  actual_8  actual_9  \n",
      "0       2.4       2.1       2.2  \n"
     ]
    }
   ],
   "source": [
    "import torch\n",
    "import pandas as pd\n",
    "from pytorch_forecasting import TemporalFusionTransformer, Baseline\n",
    "from pytorch_forecasting.metrics import QuantileLoss\n",
    "from pytorch_forecasting.data import TimeSeriesDataSet\n",
    "from pytorch_lightning.callbacks import EarlyStopping\n",
    "from pytorch_lightning import Trainer, LightningModule\n",
    "from pytorch_optimizer import Ranger\n",
    "\n",
    "# 1. Define a LightningModule that wraps the TemporalFusionTransformer model\n",
    "class TFTLightningModule(LightningModule):\n",
    "    def __init__(self, model):\n",
    "        super().__init__()\n",
    "        self.model = model\n",
    "        self.save_hyperparameters(ignore=[\"model\", \"loss\", \"logging_metrics\"])\n",
    "\n",
    "    def forward(self, x):\n",
    "        return self.model(x)\n",
    "\n",
    "    def training_step(self, batch, batch_idx):\n",
    "        x, y = batch\n",
    "        out = self.model(x)\n",
    "        y_pred = out[0]\n",
    "        loss = self.model.loss(y_pred, y)\n",
    "        self.log(\"train_loss\", loss, on_step=True, on_epoch=True, prog_bar=True)\n",
    "        return loss\n",
    "\n",
    "    def validation_step(self, batch, batch_idx):\n",
    "        x, y = batch\n",
    "        out = self.model(x)\n",
    "        y_pred = out[0]\n",
    "        loss = self.model.loss(y_pred, y)\n",
    "        self.log(\"val_loss\", loss, prog_bar=True)\n",
    "        return loss\n",
    "\n",
    "    def configure_optimizers(self):\n",
    "        optimizer = Ranger(self.model.parameters(), lr=self.model.hparams.learning_rate)\n",
    "        return optimizer\n",
    "\n",
    "# 2. Initialize Temporal Fusion Transformer model with hyperparameters\n",
    "tft = TemporalFusionTransformer.from_dataset(\n",
    "    training,  # Assuming `training` is the TimeSeriesDataSet\n",
    "    optimizer=\"ranger\",\n",
    "    learning_rate=0.003,  # Adjusted learning rate\n",
    "    hidden_size=32,  # Increased hidden size for better capacity\n",
    "    dropout=0.3,  # Adjusted dropout to avoid overfitting\n",
    "    attention_head_size=4,  # Increased attention head size\n",
    "    hidden_continuous_size=8,\n",
    "    output_size=7,  # Number of quantiles for quantile regression\n",
    "    loss=QuantileLoss(),\n",
    "    log_interval=10,\n",
    "    reduce_on_plateau_patience=4\n",
    ")\n",
    "\n",
    "# 3. Wrap the TemporalFusionTransformer model into the LightningModule\n",
    "tft_module = TFTLightningModule(tft)\n",
    "\n",
    "# 4. Set up EarlyStopping callback\n",
    "early_stop_callback = EarlyStopping(\n",
    "    monitor=\"val_loss\",  # Monitor validation loss\n",
    "    patience=5,  # Early stopping patience\n",
    "    verbose=True  # Log early stopping events\n",
    ")\n",
    "\n",
    "# 5. Set up Trainer for model training\n",
    "trainer = Trainer(\n",
    "    max_epochs=50,  # Increased epoch number\n",
    "    callbacks=[early_stop_callback],  # Use EarlyStopping to avoid overfitting\n",
    "    accelerator=\"gpu\" if torch.cuda.is_available() else \"cpu\",  # Use GPU if available\n",
    "    devices=1  # Use 1 device\n",
    ")\n",
    "\n",
    "# 6. Create DataLoader with optimized parameters for fast data loading\n",
    "train_dataloader = training.to_dataloader(\n",
    "    train=True,\n",
    "    batch_size=64,  # Batch size\n",
    "    num_workers=4,  # Set the number of workers for faster data loading\n",
    "    persistent_workers=True  # Keep workers active to speed up processing\n",
    ")\n",
    "\n",
    "val_dataloader = validation.to_dataloader(\n",
    "    train=False,\n",
    "    batch_size=64,  # Batch size for validation\n",
    "    num_workers=4,  # Number of workers for validation\n",
    "    persistent_workers=True  # Keep workers active for validation\n",
    ")\n",
    "\n",
    "# 7. Train the model\n",
    "trainer.fit(tft_module, train_dataloaders=train_dataloader, val_dataloaders=val_dataloader)\n",
    "\n",
    "# 8. Evaluate Validation Loss\n",
    "val_loss = trainer.logged_metrics[\"val_loss\"].item()\n",
    "print(f\"Validation Loss: {val_loss}\")\n",
    "\n",
    "# 9. Get predictions from the model on the test data\n",
    "test_dataloader = test_dataset.to_dataloader(train=False, batch_size=64, num_workers=4, persistent_workers=True)\n",
    "predictions = tft.predict(test_dataloader, mode=\"prediction\")\n",
    "\n",
    "# 10. Convert predictions to a DataFrame for better visualization\n",
    "predictions_df = pd.DataFrame(predictions.numpy())\n",
    "print(predictions_df.head())  # Display first few rows of predictions\n",
    "\n",
    "# 11. Calculate and compare with actual values (assuming test_dataloader contains actuals)\n",
    "actuals = []\n",
    "for batch in iter(test_dataloader):\n",
    "    targets = batch[1][0]  # Assuming the first element of the batch is the target values\n",
    "    actuals.append(targets)\n",
    "\n",
    "actuals = torch.cat(actuals).numpy()\n",
    "\n",
    "# Create a DataFrame for actual values for better visualization\n",
    "actuals_df = pd.DataFrame(actuals)\n",
    "\n",
    "# 12. Calculate error (Mean Absolute Error)\n",
    "mae = (predictions_df - actuals_df).abs().mean().mean()\n",
    "print(f\"Mean Absolute Error (MAE): {mae:.4f}\")\n",
    "\n",
    "# 13. Save predictions and actuals to a CSV file for further analysis\n",
    "combined_df = pd.concat([predictions_df, actuals_df], axis=1)\n",
    "combined_df.columns = [f\"prediction_{i}\" for i in range(predictions_df.shape[1])] + [f\"actual_{i}\" for i in range(actuals_df.shape[1])]\n",
    "combined_df.to_csv(\"predictions_vs_actuals.csv\", index=False)\n",
    "\n",
    "# 14. Display first few rows of predictions vs actuals\n",
    "print(combined_df.head())\n"
   ]
  },
  {
   "cell_type": "code",
   "execution_count": 52,
   "id": "78f82b81-b867-4d2c-b820-4700b5caaa69",
   "metadata": {},
   "outputs": [
    {
     "name": "stderr",
     "output_type": "stream",
     "text": [
      "C:\\Users\\egeme\\PycharmProjects\\pythonProject1\\.venv\\Lib\\site-packages\\lightning\\pytorch\\utilities\\parsing.py:208: Attribute 'loss' is an instance of `nn.Module` and is already saved during checkpointing. It is recommended to ignore them using `self.save_hyperparameters(ignore=['loss'])`.\n",
      "C:\\Users\\egeme\\PycharmProjects\\pythonProject1\\.venv\\Lib\\site-packages\\lightning\\pytorch\\utilities\\parsing.py:208: Attribute 'logging_metrics' is an instance of `nn.Module` and is already saved during checkpointing. It is recommended to ignore them using `self.save_hyperparameters(ignore=['logging_metrics'])`.\n",
      "C:\\Users\\egeme\\PycharmProjects\\pythonProject1\\.venv\\Lib\\site-packages\\pytorch_forecasting\\models\\temporal_fusion_transformer\\__init__.py:143: UserWarning: In pytorch-forecasting models, from version 1.2.0, the default optimizer will be 'adam', in order to minimize the number of dependencies in default parameter settings. Users who wish to ensure their code continues using 'ranger' as optimizer should ensure that pytorch_optimizer is installed, and set the optimizer parameter explicitly to 'ranger'.\n",
      "  super().__init__(loss=loss, logging_metrics=logging_metrics, **kwargs)\n",
      "GPU available: False, used: False\n",
      "TPU available: False, using: 0 TPU cores\n",
      "HPU available: False, using: 0 HPUs\n",
      "\n",
      "  | Name  | Type                      | Params | Mode \n",
      "------------------------------------------------------------\n",
      "0 | model | TemporalFusionTransformer | 31.3 K | train\n",
      "------------------------------------------------------------\n",
      "31.3 K    Trainable params\n",
      "0         Non-trainable params\n",
      "31.3 K    Total params\n",
      "0.125     Total estimated model params size (MB)\n",
      "505       Modules in train mode\n",
      "0         Modules in eval mode\n"
     ]
    },
    {
     "data": {
      "application/vnd.jupyter.widget-view+json": {
       "model_id": "",
       "version_major": 2,
       "version_minor": 0
      },
      "text/plain": [
       "Sanity Checking: |                                                                                            …"
      ]
     },
     "metadata": {},
     "output_type": "display_data"
    },
    {
     "data": {
      "application/vnd.jupyter.widget-view+json": {
       "model_id": "bf9ad71afb1b4979912f9316ff966cc4",
       "version_major": 2,
       "version_minor": 0
      },
      "text/plain": [
       "Training: |                                                                                                   …"
      ]
     },
     "metadata": {},
     "output_type": "display_data"
    },
    {
     "data": {
      "application/vnd.jupyter.widget-view+json": {
       "model_id": "",
       "version_major": 2,
       "version_minor": 0
      },
      "text/plain": [
       "Validation: |                                                                                                 …"
      ]
     },
     "metadata": {},
     "output_type": "display_data"
    },
    {
     "name": "stderr",
     "output_type": "stream",
     "text": [
      "Metric val_loss improved. New best score: 0.337\n"
     ]
    },
    {
     "data": {
      "application/vnd.jupyter.widget-view+json": {
       "model_id": "",
       "version_major": 2,
       "version_minor": 0
      },
      "text/plain": [
       "Validation: |                                                                                                 …"
      ]
     },
     "metadata": {},
     "output_type": "display_data"
    },
    {
     "name": "stderr",
     "output_type": "stream",
     "text": [
      "Metric val_loss improved by 0.033 >= min_delta = 0.0. New best score: 0.304\n"
     ]
    },
    {
     "data": {
      "application/vnd.jupyter.widget-view+json": {
       "model_id": "",
       "version_major": 2,
       "version_minor": 0
      },
      "text/plain": [
       "Validation: |                                                                                                 …"
      ]
     },
     "metadata": {},
     "output_type": "display_data"
    },
    {
     "name": "stderr",
     "output_type": "stream",
     "text": [
      "Metric val_loss improved by 0.006 >= min_delta = 0.0. New best score: 0.298\n"
     ]
    },
    {
     "data": {
      "application/vnd.jupyter.widget-view+json": {
       "model_id": "",
       "version_major": 2,
       "version_minor": 0
      },
      "text/plain": [
       "Validation: |                                                                                                 …"
      ]
     },
     "metadata": {},
     "output_type": "display_data"
    },
    {
     "data": {
      "application/vnd.jupyter.widget-view+json": {
       "model_id": "",
       "version_major": 2,
       "version_minor": 0
      },
      "text/plain": [
       "Validation: |                                                                                                 …"
      ]
     },
     "metadata": {},
     "output_type": "display_data"
    },
    {
     "data": {
      "application/vnd.jupyter.widget-view+json": {
       "model_id": "",
       "version_major": 2,
       "version_minor": 0
      },
      "text/plain": [
       "Validation: |                                                                                                 …"
      ]
     },
     "metadata": {},
     "output_type": "display_data"
    },
    {
     "name": "stderr",
     "output_type": "stream",
     "text": [
      "Monitored metric val_loss did not improve in the last 3 records. Best score: 0.298. Signaling Trainer to stop.\n"
     ]
    },
    {
     "name": "stdout",
     "output_type": "stream",
     "text": [
      "Validation Loss: 0.29936912655830383\n",
      "          0         1         2         3        4        5         6  \\\n",
      "0  0.639319  0.618016  0.663344  0.752132  0.88572  1.05485  1.217508   \n",
      "\n",
      "         7         8         9  \n",
      "0  1.32894  1.382615  1.414969  \n",
      "Mean Absolute Error (MAE): 1.7021\n",
      "   prediction_0  prediction_1  prediction_2  prediction_3  prediction_4  \\\n",
      "0      0.639319      0.618016      0.663344      0.752132       0.88572   \n",
      "\n",
      "   prediction_5  prediction_6  prediction_7  prediction_8  prediction_9  \\\n",
      "0       1.05485      1.217508       1.32894      1.382615      1.414969   \n",
      "\n",
      "   actual_0  actual_1  actual_2  actual_3  actual_4  actual_5  actual_6  \\\n",
      "0       0.5       1.1       4.0       5.0       3.9       3.1       2.4   \n",
      "\n",
      "   actual_7  actual_8  actual_9  \n",
      "0       2.4       2.1       2.2  \n"
     ]
    }
   ],
   "source": [
    "import torch\n",
    "from pytorch_lightning import Trainer, LightningModule\n",
    "from pytorch_lightning.callbacks import EarlyStopping\n",
    "from pytorch_forecasting.models import TemporalFusionTransformer\n",
    "from pytorch_forecasting.metrics import QuantileLoss\n",
    "from pytorch_forecasting.data import TimeSeriesDataSet\n",
    "from pytorch_optimizer import Ranger  # Advanced optimizer\n",
    "import pandas as pd\n",
    "\n",
    "# 1. Prepare your train and validation dataloaders (Assuming they are already prepared)\n",
    "train_dataloader = training.to_dataloader(train=True, batch_size=64, num_workers=4, persistent_workers=True)\n",
    "val_dataloader = validation.to_dataloader(train=False, batch_size=64, num_workers=4, persistent_workers=True)\n",
    "\n",
    "# 2. Define TemporalFusionTransformer with improved hyperparameters\n",
    "tft = TemporalFusionTransformer.from_dataset(\n",
    "    training,\n",
    "    learning_rate=0.01,  # Adjusted learning rate for a more gradual learning process\n",
    "    hidden_size=16,  # You can increase this for more capacity\n",
    "    attention_head_size=1,  # For simplicity, keep attention heads smaller\n",
    "    dropout=0.2,  # Slightly increase dropout to prevent overfitting\n",
    "    hidden_continuous_size=8,\n",
    "    output_size=7,  # Number of quantiles\n",
    "    loss=QuantileLoss(),  # Quantile loss for more robust predictions\n",
    "    log_interval=10,\n",
    "    reduce_on_plateau_patience=4,  # Adjust learning rate when improvement stops\n",
    ")\n",
    "\n",
    "# 3. Define a LightningModule wrapper for the model\n",
    "class TFTLightningModule(LightningModule):\n",
    "    def __init__(self, model):\n",
    "        super().__init__()\n",
    "        self.model = model\n",
    "        self.save_hyperparameters(ignore=[\"model\", \"loss\", \"logging_metrics\"])\n",
    "\n",
    "    def forward(self, x):\n",
    "        return self.model(x)\n",
    "\n",
    "    def training_step(self, batch, batch_idx):\n",
    "        x, y = batch\n",
    "        out = self.model(x)\n",
    "        y_pred = out[0]\n",
    "        loss = self.model.loss(y_pred, y)\n",
    "        self.log(\"train_loss\", loss, on_step=True, on_epoch=True, prog_bar=True)\n",
    "        return loss\n",
    "\n",
    "    def validation_step(self, batch, batch_idx):\n",
    "        x, y = batch\n",
    "        out = self.model(x)\n",
    "        y_pred = out[0]\n",
    "        loss = self.model.loss(y_pred, y)\n",
    "        self.log(\"val_loss\", loss, prog_bar=True)\n",
    "        return loss\n",
    "\n",
    "    def configure_optimizers(self):\n",
    "        optimizer = Ranger(self.model.parameters(), lr=self.model.hparams.learning_rate)\n",
    "        return optimizer\n",
    "\n",
    "# 4. Create the model module\n",
    "tft_module = TFTLightningModule(tft)\n",
    "\n",
    "# 5. Add early stopping based on validation loss\n",
    "early_stop_callback = EarlyStopping(\n",
    "    monitor=\"val_loss\",  # Monitor the validation loss\n",
    "    patience=3,  # Number of epochs without improvement before stopping\n",
    "    verbose=True,\n",
    "    mode=\"min\"\n",
    ")\n",
    "\n",
    "# 6. Set up the Trainer with the early stopping callback\n",
    "trainer = Trainer(\n",
    "    max_epochs=50,  # Increase epochs\n",
    "    callbacks=[early_stop_callback],  # Use EarlyStopping\n",
    "    accelerator=\"gpu\" if torch.cuda.is_available() else \"cpu\",  # Use GPU if available\n",
    "    devices=1\n",
    ")\n",
    "\n",
    "# 7. Train the model\n",
    "trainer.fit(tft_module, train_dataloaders=train_dataloader, val_dataloaders=val_dataloader)\n",
    "\n",
    "# 8. Evaluate Validation Loss\n",
    "val_loss = trainer.logged_metrics[\"val_loss\"].item()\n",
    "print(f\"Validation Loss: {val_loss}\")\n",
    "\n",
    "# 9. Save model\n",
    "torch.save(tft.state_dict(), \"tft_final_model.pth\")\n",
    "\n",
    "# 10. Load test dataset and create DataLoader for predictions\n",
    "test_dataloader = test_dataset.to_dataloader(train=False, batch_size=64, num_workers=4, persistent_workers=True)\n",
    "\n",
    "# 11. Get predictions from the model on the test data\n",
    "predictions = tft.predict(test_dataloader, mode=\"prediction\")\n",
    "\n",
    "# 12. Convert predictions to a DataFrame for better visualization\n",
    "predictions_df = pd.DataFrame(predictions.numpy())\n",
    "print(predictions_df.head())  # Display first few rows of predictions\n",
    "\n",
    "# 13. Extract actuals from the dataloader (assuming targets are in batch[1]['decoder_target'])\n",
    "actuals = []\n",
    "for batch in iter(test_dataloader):\n",
    "    targets = batch[1][0]  # Assuming target values are the first element\n",
    "    actuals.append(targets)\n",
    "\n",
    "# Concatenate all target tensors and convert to numpy\n",
    "actuals = torch.cat(actuals).numpy()\n",
    "\n",
    "# Create a DataFrame for actual values for better visualization\n",
    "actuals_df = pd.DataFrame(actuals)\n",
    "\n",
    "# 14. Calculate error (Mean Absolute Error)\n",
    "mae = (predictions_df - actuals_df).abs().mean().mean()\n",
    "print(f\"Mean Absolute Error (MAE): {mae:.4f}\")\n",
    "\n",
    "# 15. Save predictions and actuals to a CSV for further analysis\n",
    "combined_df = pd.concat([predictions_df, actuals_df], axis=1)\n",
    "combined_df.columns = [f\"prediction_{i}\" for i in range(predictions_df.shape[1])] + [f\"actual_{i}\" for i in range(actuals_df.shape[1])]\n",
    "combined_df.to_csv(\"predictions_vs_actuals.csv\", index=False)\n",
    "\n",
    "# Display first few rows of predictions vs actuals\n",
    "print(combined_df.head())\n"
   ]
  },
  {
   "cell_type": "code",
   "execution_count": 56,
   "id": "ba46e592-384e-4d5d-9488-26e4a5c0b081",
   "metadata": {},
   "outputs": [
    {
     "name": "stderr",
     "output_type": "stream",
     "text": [
      "GPU available: False, used: False\n",
      "TPU available: False, using: 0 TPU cores\n",
      "HPU available: False, using: 0 HPUs\n",
      "\n",
      "  | Name  | Type                      | Params | Mode \n",
      "------------------------------------------------------------\n",
      "0 | model | TemporalFusionTransformer | 31.3 K | train\n",
      "------------------------------------------------------------\n",
      "31.3 K    Trainable params\n",
      "0         Non-trainable params\n",
      "31.3 K    Total params\n",
      "0.125     Total estimated model params size (MB)\n",
      "505       Modules in train mode\n",
      "0         Modules in eval mode\n"
     ]
    },
    {
     "data": {
      "application/vnd.jupyter.widget-view+json": {
       "model_id": "",
       "version_major": 2,
       "version_minor": 0
      },
      "text/plain": [
       "Sanity Checking: |                                                                                            …"
      ]
     },
     "metadata": {},
     "output_type": "display_data"
    },
    {
     "data": {
      "application/vnd.jupyter.widget-view+json": {
       "model_id": "f8f5746bc757448c9071b027f9c29963",
       "version_major": 2,
       "version_minor": 0
      },
      "text/plain": [
       "Training: |                                                                                                   …"
      ]
     },
     "metadata": {},
     "output_type": "display_data"
    },
    {
     "data": {
      "application/vnd.jupyter.widget-view+json": {
       "model_id": "",
       "version_major": 2,
       "version_minor": 0
      },
      "text/plain": [
       "Validation: |                                                                                                 …"
      ]
     },
     "metadata": {},
     "output_type": "display_data"
    },
    {
     "name": "stderr",
     "output_type": "stream",
     "text": [
      "Metric val_loss improved. New best score: 0.309\n"
     ]
    },
    {
     "data": {
      "application/vnd.jupyter.widget-view+json": {
       "model_id": "",
       "version_major": 2,
       "version_minor": 0
      },
      "text/plain": [
       "Validation: |                                                                                                 …"
      ]
     },
     "metadata": {},
     "output_type": "display_data"
    },
    {
     "name": "stderr",
     "output_type": "stream",
     "text": [
      "Metric val_loss improved by 0.017 >= min_delta = 0.0. New best score: 0.291\n"
     ]
    },
    {
     "data": {
      "application/vnd.jupyter.widget-view+json": {
       "model_id": "",
       "version_major": 2,
       "version_minor": 0
      },
      "text/plain": [
       "Validation: |                                                                                                 …"
      ]
     },
     "metadata": {},
     "output_type": "display_data"
    },
    {
     "name": "stderr",
     "output_type": "stream",
     "text": [
      "Metric val_loss improved by 0.004 >= min_delta = 0.0. New best score: 0.287\n"
     ]
    },
    {
     "data": {
      "application/vnd.jupyter.widget-view+json": {
       "model_id": "",
       "version_major": 2,
       "version_minor": 0
      },
      "text/plain": [
       "Validation: |                                                                                                 …"
      ]
     },
     "metadata": {},
     "output_type": "display_data"
    },
    {
     "name": "stderr",
     "output_type": "stream",
     "text": [
      "Metric val_loss improved by 0.011 >= min_delta = 0.0. New best score: 0.277\n"
     ]
    },
    {
     "data": {
      "application/vnd.jupyter.widget-view+json": {
       "model_id": "",
       "version_major": 2,
       "version_minor": 0
      },
      "text/plain": [
       "Validation: |                                                                                                 …"
      ]
     },
     "metadata": {},
     "output_type": "display_data"
    },
    {
     "name": "stderr",
     "output_type": "stream",
     "text": [
      "Metric val_loss improved by 0.006 >= min_delta = 0.0. New best score: 0.271\n"
     ]
    },
    {
     "data": {
      "application/vnd.jupyter.widget-view+json": {
       "model_id": "",
       "version_major": 2,
       "version_minor": 0
      },
      "text/plain": [
       "Validation: |                                                                                                 …"
      ]
     },
     "metadata": {},
     "output_type": "display_data"
    },
    {
     "data": {
      "application/vnd.jupyter.widget-view+json": {
       "model_id": "",
       "version_major": 2,
       "version_minor": 0
      },
      "text/plain": [
       "Validation: |                                                                                                 …"
      ]
     },
     "metadata": {},
     "output_type": "display_data"
    },
    {
     "data": {
      "application/vnd.jupyter.widget-view+json": {
       "model_id": "",
       "version_major": 2,
       "version_minor": 0
      },
      "text/plain": [
       "Validation: |                                                                                                 …"
      ]
     },
     "metadata": {},
     "output_type": "display_data"
    },
    {
     "name": "stderr",
     "output_type": "stream",
     "text": [
      "Monitored metric val_loss did not improve in the last 3 records. Best score: 0.271. Signaling Trainer to stop.\n"
     ]
    },
    {
     "name": "stdout",
     "output_type": "stream",
     "text": [
      "Validation Loss: 0.27587705850601196\n",
      "Mean Absolute Error (MAE): 1.6173\n",
      "   prediction_0  prediction_1  prediction_2  prediction_3  prediction_4  \\\n",
      "0      0.454621      0.362951      1.174711      1.745039      1.460458   \n",
      "\n",
      "   prediction_5  prediction_6  prediction_7  prediction_8  prediction_9  \\\n",
      "0      1.216828      1.103959      1.036718      0.995806      0.976378   \n",
      "\n",
      "   actual_0  actual_1  actual_2  actual_3  actual_4  actual_5  actual_6  \\\n",
      "0       0.5       1.1       4.0       5.0       3.9       3.1       2.4   \n",
      "\n",
      "   actual_7  actual_8  actual_9  \n",
      "0       2.4       2.1       2.2  \n"
     ]
    }
   ],
   "source": [
    "import torch\n",
    "from pytorch_lightning import Trainer, LightningModule\n",
    "from pytorch_lightning.callbacks import EarlyStopping\n",
    "from pytorch_forecasting.models import TemporalFusionTransformer\n",
    "from pytorch_forecasting.metrics import QuantileLoss\n",
    "from pytorch_optimizer import Ranger\n",
    "from pytorch_forecasting.data import TimeSeriesDataSet\n",
    "import pandas as pd\n",
    "\n",
    "# Create Dataloader with optimized parameters\n",
    "train_dataloader = training.to_dataloader(train=True, batch_size=64, num_workers=4, persistent_workers=True)\n",
    "val_dataloader = validation.to_dataloader(train=False, batch_size=64, num_workers=4, persistent_workers=True)\n",
    "\n",
    "# Define the model using TemporalFusionTransformer and use Ranger optimizer\n",
    "tft = TemporalFusionTransformer.from_dataset(\n",
    "    training,\n",
    "    learning_rate=0.03,\n",
    "    hidden_size=16,\n",
    "    attention_head_size=1,\n",
    "    dropout=0.1,\n",
    "    hidden_continuous_size=8,\n",
    "    output_size=7,  # Number of quantiles (default is 7)\n",
    "    loss=QuantileLoss(),\n",
    "    log_interval=10,\n",
    "    reduce_on_plateau_patience=4,\n",
    "    optimizer=\"ranger\",  # Explicitly using Ranger optimizer\n",
    ")\n",
    "\n",
    "# Early stopping to avoid overfitting, monitor validation loss\n",
    "early_stop_callback = EarlyStopping(\n",
    "    monitor=\"val_loss\",\n",
    "    patience=3,\n",
    "    verbose=True,\n",
    "    mode=\"min\"\n",
    ")\n",
    "\n",
    "# Define a custom LightningModule class to wrap the TemporalFusionTransformer\n",
    "class TFTLightningModule(LightningModule):  # Updated to LightningModule\n",
    "    def __init__(self, model):\n",
    "        super().__init__()\n",
    "        self.model = model\n",
    "        self.save_hyperparameters(ignore=[\"model\", \"loss\", \"logging_metrics\"])  # Now this will work\n",
    "\n",
    "    def forward(self, x):\n",
    "        return self.model(x)\n",
    "\n",
    "    def training_step(self, batch, batch_idx):\n",
    "        x, y = batch\n",
    "        out = self.model(x)\n",
    "        loss = self.model.loss(out[0], y)\n",
    "        self.log(\"train_loss\", loss)\n",
    "        return loss\n",
    "\n",
    "    def validation_step(self, batch, batch_idx):\n",
    "        x, y = batch\n",
    "        out = self.model(x)\n",
    "        loss = self.model.loss(out[0], y)\n",
    "        self.log(\"val_loss\", loss)\n",
    "        return loss\n",
    "\n",
    "    def configure_optimizers(self):\n",
    "        optimizer = Ranger(self.model.parameters(), lr=self.model.hparams.learning_rate)\n",
    "        return optimizer\n",
    "\n",
    "# Wrap TemporalFusionTransformer into the LightningModule\n",
    "tft_module = TFTLightningModule(tft)\n",
    "\n",
    "# Set up PyTorch Lightning Trainer with early stopping\n",
    "trainer = Trainer(\n",
    "    max_epochs=50,  # Increased epochs\n",
    "    callbacks=[early_stop_callback],  # Early stopping to prevent overfitting\n",
    "    accelerator=\"gpu\" if torch.cuda.is_available() else \"cpu\",  # Use GPU if available\n",
    "    devices=1\n",
    ")\n",
    "\n",
    "# Train the model\n",
    "trainer.fit(tft_module, train_dataloaders=train_dataloader, val_dataloaders=val_dataloader)\n",
    "\n",
    "# Evaluate the model on validation data\n",
    "val_loss = trainer.logged_metrics.get(\"val_loss\")\n",
    "print(f\"Validation Loss: {val_loss}\")\n",
    "\n",
    "# Predict on test data\n",
    "test_dataloader = test_dataset.to_dataloader(train=False, batch_size=64, num_workers=4, persistent_workers=True)\n",
    "predictions = tft.predict(test_dataloader, mode=\"prediction\")\n",
    "predictions_df = pd.DataFrame(predictions.numpy())\n",
    "\n",
    "# Get actual values from test set and calculate MAE\n",
    "actuals = []\n",
    "for batch in iter(test_dataloader):\n",
    "    targets = batch[1][0]  # Extract target values\n",
    "    actuals.append(targets)\n",
    "\n",
    "actuals = torch.cat(actuals).numpy()\n",
    "actuals_df = pd.DataFrame(actuals)\n",
    "\n",
    "# Calculate Mean Absolute Error\n",
    "mae = (predictions_df - actuals_df).abs().mean().mean()\n",
    "print(f\"Mean Absolute Error (MAE): {mae:.4f}\")\n",
    "\n",
    "# Save predictions and actuals to CSV\n",
    "combined_df = pd.concat([predictions_df, actuals_df], axis=1)\n",
    "combined_df.columns = [f\"prediction_{i}\" for i in range(predictions_df.shape[1])] + [f\"actual_{i}\" for i in range(actuals_df.shape[1])]\n",
    "combined_df.to_csv(\"predictions_vs_actuals.csv\", index=False)\n",
    "\n",
    "# Display the first few rows of predictions vs actuals\n",
    "print(combined_df.head())\n"
   ]
  },
  {
   "cell_type": "code",
   "execution_count": 57,
   "id": "4e176ab4-106a-479b-8156-00df4293d14d",
   "metadata": {},
   "outputs": [
    {
     "name": "stderr",
     "output_type": "stream",
     "text": [
      "C:\\Users\\egeme\\PycharmProjects\\pythonProject1\\.venv\\Lib\\site-packages\\lightning\\pytorch\\utilities\\parsing.py:208: Attribute 'loss' is an instance of `nn.Module` and is already saved during checkpointing. It is recommended to ignore them using `self.save_hyperparameters(ignore=['loss'])`.\n",
      "C:\\Users\\egeme\\PycharmProjects\\pythonProject1\\.venv\\Lib\\site-packages\\lightning\\pytorch\\utilities\\parsing.py:208: Attribute 'logging_metrics' is an instance of `nn.Module` and is already saved during checkpointing. It is recommended to ignore them using `self.save_hyperparameters(ignore=['logging_metrics'])`.\n",
      "GPU available: False, used: False\n",
      "TPU available: False, using: 0 TPU cores\n",
      "HPU available: False, using: 0 HPUs\n",
      "\n",
      "  | Name  | Type                      | Params | Mode \n",
      "------------------------------------------------------------\n",
      "0 | model | TemporalFusionTransformer | 31.3 K | train\n",
      "------------------------------------------------------------\n",
      "31.3 K    Trainable params\n",
      "0         Non-trainable params\n",
      "31.3 K    Total params\n",
      "0.125     Total estimated model params size (MB)\n",
      "505       Modules in train mode\n",
      "0         Modules in eval mode\n"
     ]
    },
    {
     "data": {
      "application/vnd.jupyter.widget-view+json": {
       "model_id": "",
       "version_major": 2,
       "version_minor": 0
      },
      "text/plain": [
       "Sanity Checking: |                                                                                            …"
      ]
     },
     "metadata": {},
     "output_type": "display_data"
    },
    {
     "data": {
      "application/vnd.jupyter.widget-view+json": {
       "model_id": "e2ab3052edf747acbc4d7d6666ed38d8",
       "version_major": 2,
       "version_minor": 0
      },
      "text/plain": [
       "Training: |                                                                                                   …"
      ]
     },
     "metadata": {},
     "output_type": "display_data"
    },
    {
     "data": {
      "application/vnd.jupyter.widget-view+json": {
       "model_id": "",
       "version_major": 2,
       "version_minor": 0
      },
      "text/plain": [
       "Validation: |                                                                                                 …"
      ]
     },
     "metadata": {},
     "output_type": "display_data"
    },
    {
     "name": "stderr",
     "output_type": "stream",
     "text": [
      "Metric val_loss improved. New best score: 0.302\n"
     ]
    },
    {
     "data": {
      "application/vnd.jupyter.widget-view+json": {
       "model_id": "",
       "version_major": 2,
       "version_minor": 0
      },
      "text/plain": [
       "Validation: |                                                                                                 …"
      ]
     },
     "metadata": {},
     "output_type": "display_data"
    },
    {
     "name": "stderr",
     "output_type": "stream",
     "text": [
      "Metric val_loss improved by 0.005 >= min_delta = 0.0. New best score: 0.297\n"
     ]
    },
    {
     "data": {
      "application/vnd.jupyter.widget-view+json": {
       "model_id": "",
       "version_major": 2,
       "version_minor": 0
      },
      "text/plain": [
       "Validation: |                                                                                                 …"
      ]
     },
     "metadata": {},
     "output_type": "display_data"
    },
    {
     "data": {
      "application/vnd.jupyter.widget-view+json": {
       "model_id": "",
       "version_major": 2,
       "version_minor": 0
      },
      "text/plain": [
       "Validation: |                                                                                                 …"
      ]
     },
     "metadata": {},
     "output_type": "display_data"
    },
    {
     "name": "stderr",
     "output_type": "stream",
     "text": [
      "Metric val_loss improved by 0.014 >= min_delta = 0.0. New best score: 0.283\n"
     ]
    },
    {
     "data": {
      "application/vnd.jupyter.widget-view+json": {
       "model_id": "",
       "version_major": 2,
       "version_minor": 0
      },
      "text/plain": [
       "Validation: |                                                                                                 …"
      ]
     },
     "metadata": {},
     "output_type": "display_data"
    },
    {
     "name": "stderr",
     "output_type": "stream",
     "text": [
      "Metric val_loss improved by 0.007 >= min_delta = 0.0. New best score: 0.276\n"
     ]
    },
    {
     "data": {
      "application/vnd.jupyter.widget-view+json": {
       "model_id": "",
       "version_major": 2,
       "version_minor": 0
      },
      "text/plain": [
       "Validation: |                                                                                                 …"
      ]
     },
     "metadata": {},
     "output_type": "display_data"
    },
    {
     "data": {
      "application/vnd.jupyter.widget-view+json": {
       "model_id": "",
       "version_major": 2,
       "version_minor": 0
      },
      "text/plain": [
       "Validation: |                                                                                                 …"
      ]
     },
     "metadata": {},
     "output_type": "display_data"
    },
    {
     "data": {
      "application/vnd.jupyter.widget-view+json": {
       "model_id": "",
       "version_major": 2,
       "version_minor": 0
      },
      "text/plain": [
       "Validation: |                                                                                                 …"
      ]
     },
     "metadata": {},
     "output_type": "display_data"
    },
    {
     "name": "stderr",
     "output_type": "stream",
     "text": [
      "Monitored metric val_loss did not improve in the last 3 records. Best score: 0.276. Signaling Trainer to stop.\n"
     ]
    },
    {
     "name": "stdout",
     "output_type": "stream",
     "text": [
      "Validation Loss: 0.316140741109848\n",
      "Mean Absolute Error (MAE): 1.6257\n",
      "   prediction_0  prediction_1  prediction_2  prediction_3  prediction_4  \\\n",
      "0        0.5994      0.568571      0.646901      0.974801       1.14242   \n",
      "\n",
      "   prediction_5  prediction_6  prediction_7  prediction_8  prediction_9  \\\n",
      "0      1.230343      1.293781       1.34443      1.393968      1.447595   \n",
      "\n",
      "   actual_0  actual_1  actual_2  actual_3  actual_4  actual_5  actual_6  \\\n",
      "0       0.5       1.1       4.0       5.0       3.9       3.1       2.4   \n",
      "\n",
      "   actual_7  actual_8  actual_9  \n",
      "0       2.4       2.1       2.2  \n"
     ]
    }
   ],
   "source": [
    "import torch\n",
    "from pytorch_lightning import Trainer, LightningModule\n",
    "from pytorch_lightning.callbacks import EarlyStopping\n",
    "from pytorch_forecasting.models import TemporalFusionTransformer\n",
    "from pytorch_forecasting.metrics import QuantileLoss\n",
    "from pytorch_optimizer import Ranger\n",
    "from pytorch_forecasting.data import TimeSeriesDataSet\n",
    "import pandas as pd\n",
    "\n",
    "# 1. Create Dataloader with optimized parameters\n",
    "train_dataloader = training.to_dataloader(train=True, batch_size=64, num_workers=4, persistent_workers=True)\n",
    "val_dataloader = validation.to_dataloader(train=False, batch_size=64, num_workers=4, persistent_workers=True)\n",
    "\n",
    "# 2. Initialize the model with optimized settings\n",
    "tft = TemporalFusionTransformer.from_dataset(\n",
    "    training,\n",
    "    learning_rate=0.03,  # Higher learning rate for quicker convergence\n",
    "    hidden_size=16,  # Increased hidden size to capture more complex patterns\n",
    "    attention_head_size=1,  # Attention head size\n",
    "    dropout=0.1,  # Dropout for regularization\n",
    "    hidden_continuous_size=8,  # Size of continuous variables\n",
    "    output_size=7,  # Number of quantiles for QuantileLoss (default is 7)\n",
    "    loss=QuantileLoss(),  # Quantile loss to handle uncertainty\n",
    "    log_interval=10,  # Logging interval\n",
    "    reduce_on_plateau_patience=4,  # Early stopping patience on plateau\n",
    "    optimizer=\"ranger\",  # Use Ranger optimizer for better gradient handling\n",
    ")\n",
    "\n",
    "# 3. Implement Early Stopping to avoid overfitting\n",
    "early_stop_callback = EarlyStopping(\n",
    "    monitor=\"val_loss\",\n",
    "    patience=3,  # Stop training if validation loss doesn't improve after 3 epochs\n",
    "    verbose=True,\n",
    "    mode=\"min\"  # Minimize validation loss\n",
    ")\n",
    "\n",
    "# 4. Define a custom LightningModule to wrap the TemporalFusionTransformer\n",
    "class TFTLightningModule(LightningModule):\n",
    "    def __init__(self, model):\n",
    "        super().__init__()\n",
    "        self.model = model\n",
    "        self.save_hyperparameters(ignore=[\"model\", \"loss\", \"logging_metrics\"])\n",
    "\n",
    "    def forward(self, x):\n",
    "        return self.model(x)\n",
    "\n",
    "    def training_step(self, batch, batch_idx):\n",
    "        x, y = batch\n",
    "        out = self.model(x)\n",
    "        loss = self.model.loss(out[0], y)\n",
    "        self.log(\"train_loss\", loss)\n",
    "        return loss\n",
    "\n",
    "    def validation_step(self, batch, batch_idx):\n",
    "        x, y = batch\n",
    "        out = self.model(x)\n",
    "        loss = self.model.loss(out[0], y)\n",
    "        self.log(\"val_loss\", loss)\n",
    "        return loss\n",
    "\n",
    "    def configure_optimizers(self):\n",
    "        optimizer = Ranger(self.model.parameters(), lr=self.model.hparams.learning_rate)\n",
    "        return optimizer\n",
    "\n",
    "# 5. Wrap the TemporalFusionTransformer into the LightningModule\n",
    "tft_module = TFTLightningModule(tft)\n",
    "\n",
    "# 6. Set up PyTorch Lightning Trainer with early stopping\n",
    "trainer = Trainer(\n",
    "    max_epochs=30,  # Limited epochs to avoid overfitting, you can adjust\n",
    "    callbacks=[early_stop_callback],  # Early stopping to prevent overfitting\n",
    "    accelerator=\"gpu\" if torch.cuda.is_available() else \"cpu\",  # Use GPU if available\n",
    "    devices=1  # Use a single device (GPU or CPU)\n",
    ")\n",
    "\n",
    "# 7. Train the model\n",
    "trainer.fit(tft_module, train_dataloaders=train_dataloader, val_dataloaders=val_dataloader)\n",
    "\n",
    "# 8. Evaluate the model on validation data\n",
    "val_loss = trainer.logged_metrics.get(\"val_loss\")\n",
    "print(f\"Validation Loss: {val_loss}\")\n",
    "\n",
    "# 9. Predict on test data\n",
    "test_dataloader = test_dataset.to_dataloader(train=False, batch_size=64, num_workers=4, persistent_workers=True)\n",
    "predictions = tft.predict(test_dataloader, mode=\"prediction\")\n",
    "predictions_df = pd.DataFrame(predictions.numpy())\n",
    "\n",
    "# 10. Get actual values from the test set and calculate Mean Absolute Error (MAE)\n",
    "actuals = []\n",
    "for batch in iter(test_dataloader):\n",
    "    targets = batch[1][0]  # Extract target values\n",
    "    actuals.append(targets)\n",
    "\n",
    "actuals = torch.cat(actuals).numpy()\n",
    "actuals_df = pd.DataFrame(actuals)\n",
    "\n",
    "# 11. Calculate Mean Absolute Error (MAE)\n",
    "mae = (predictions_df - actuals_df).abs().mean().mean()\n",
    "print(f\"Mean Absolute Error (MAE): {mae:.4f}\")\n",
    "\n",
    "# 12. Save predictions and actuals to CSV\n",
    "combined_df = pd.concat([predictions_df, actuals_df], axis=1)\n",
    "combined_df.columns = [f\"prediction_{i}\" for i in range(predictions_df.shape[1])] + [f\"actual_{i}\" for i in range(actuals_df.shape[1])]\n",
    "combined_df.to_csv(\"predictions_vs_actuals.csv\", index=False)\n",
    "\n",
    "# 13. Display the first few rows of predictions vs actuals\n",
    "print(combined_df.head())\n"
   ]
  },
  {
   "cell_type": "code",
   "execution_count": 58,
   "id": "01a85ea7-aa96-4739-843b-c4b2838421f1",
   "metadata": {},
   "outputs": [
    {
     "name": "stderr",
     "output_type": "stream",
     "text": [
      "C:\\Users\\egeme\\PycharmProjects\\pythonProject1\\.venv\\Lib\\site-packages\\lightning\\pytorch\\utilities\\parsing.py:208: Attribute 'loss' is an instance of `nn.Module` and is already saved during checkpointing. It is recommended to ignore them using `self.save_hyperparameters(ignore=['loss'])`.\n",
      "C:\\Users\\egeme\\PycharmProjects\\pythonProject1\\.venv\\Lib\\site-packages\\lightning\\pytorch\\utilities\\parsing.py:208: Attribute 'logging_metrics' is an instance of `nn.Module` and is already saved during checkpointing. It is recommended to ignore them using `self.save_hyperparameters(ignore=['logging_metrics'])`.\n",
      "GPU available: False, used: False\n",
      "TPU available: False, using: 0 TPU cores\n",
      "HPU available: False, using: 0 HPUs\n",
      "\n",
      "  | Name  | Type                      | Params | Mode \n",
      "------------------------------------------------------------\n",
      "0 | model | TemporalFusionTransformer | 106 K  | train\n",
      "------------------------------------------------------------\n",
      "106 K     Trainable params\n",
      "0         Non-trainable params\n",
      "106 K     Total params\n",
      "0.427     Total estimated model params size (MB)\n",
      "505       Modules in train mode\n",
      "0         Modules in eval mode\n"
     ]
    },
    {
     "data": {
      "application/vnd.jupyter.widget-view+json": {
       "model_id": "",
       "version_major": 2,
       "version_minor": 0
      },
      "text/plain": [
       "Sanity Checking: |                                                               | 0/? [00:00<?, ?it/s]"
      ]
     },
     "metadata": {},
     "output_type": "display_data"
    },
    {
     "data": {
      "application/vnd.jupyter.widget-view+json": {
       "model_id": "b7af0901dce546278bb46748ed5ae1a2",
       "version_major": 2,
       "version_minor": 0
      },
      "text/plain": [
       "Training: |                                                                      | 0/? [00:00<?, ?it/s]"
      ]
     },
     "metadata": {},
     "output_type": "display_data"
    },
    {
     "data": {
      "application/vnd.jupyter.widget-view+json": {
       "model_id": "",
       "version_major": 2,
       "version_minor": 0
      },
      "text/plain": [
       "Validation: |                                                                    | 0/? [00:00<?, ?it/s]"
      ]
     },
     "metadata": {},
     "output_type": "display_data"
    },
    {
     "name": "stderr",
     "output_type": "stream",
     "text": [
      "Metric val_loss improved. New best score: 0.305\n"
     ]
    },
    {
     "data": {
      "application/vnd.jupyter.widget-view+json": {
       "model_id": "",
       "version_major": 2,
       "version_minor": 0
      },
      "text/plain": [
       "Validation: |                                                                    | 0/? [00:00<?, ?it/s]"
      ]
     },
     "metadata": {},
     "output_type": "display_data"
    },
    {
     "name": "stderr",
     "output_type": "stream",
     "text": [
      "Metric val_loss improved by 0.008 >= min_delta = 0.0. New best score: 0.297\n",
      "Exception in thread QueueFeederThread:\n",
      "Traceback (most recent call last):\n",
      "  File \"C:\\Users\\egeme\\AppData\\Local\\Programs\\Python\\Python312\\Lib\\multiprocessing\\queues.py\", line 259, in _feed\n",
      "    reader_close()\n",
      "  File \"C:\\Users\\egeme\\AppData\\Local\\Programs\\Python\\Python312\\Lib\\multiprocessing\\connection.py\", line 178, in close\n",
      "    self._close()\n",
      "  File \"C:\\Users\\egeme\\AppData\\Local\\Programs\\Python\\Python312\\Lib\\multiprocessing\\connection.py\", line 282, in _close\n",
      "    _CloseHandle(self._handle)\n",
      "OSError: [WinError 6] The handle is invalid\n",
      "\n",
      "During handling of the above exception, another exception occurred:\n",
      "\n",
      "Traceback (most recent call last):\n",
      "  File \"C:\\Users\\egeme\\AppData\\Local\\Programs\\Python\\Python312\\Lib\\threading.py\", line 1075, in _bootstrap_inner\n",
      "    self.run()\n",
      "  File \"C:\\Users\\egeme\\PycharmProjects\\pythonProject1\\.venv\\Lib\\site-packages\\ipykernel\\ipkernel.py\", line 766, in run_closure\n",
      "    _threading_Thread_run(self)\n",
      "  File \"C:\\Users\\egeme\\AppData\\Local\\Programs\\Python\\Python312\\Lib\\threading.py\", line 1012, in run\n",
      "    self._target(*self._args, **self._kwargs)\n",
      "  File \"C:\\Users\\egeme\\AppData\\Local\\Programs\\Python\\Python312\\Lib\\multiprocessing\\queues.py\", line 291, in _feed\n",
      "    queue_sem.release()\n",
      "ValueError: semaphore or lock released too many times\n"
     ]
    },
    {
     "data": {
      "application/vnd.jupyter.widget-view+json": {
       "model_id": "",
       "version_major": 2,
       "version_minor": 0
      },
      "text/plain": [
       "Validation: |                                                                    | 0/? [00:00<?, ?it/s]"
      ]
     },
     "metadata": {},
     "output_type": "display_data"
    },
    {
     "name": "stderr",
     "output_type": "stream",
     "text": [
      "Metric val_loss improved by 0.006 >= min_delta = 0.0. New best score: 0.291\n"
     ]
    },
    {
     "data": {
      "application/vnd.jupyter.widget-view+json": {
       "model_id": "",
       "version_major": 2,
       "version_minor": 0
      },
      "text/plain": [
       "Validation: |                                                                    | 0/? [00:00<?, ?it/s]"
      ]
     },
     "metadata": {},
     "output_type": "display_data"
    },
    {
     "data": {
      "application/vnd.jupyter.widget-view+json": {
       "model_id": "",
       "version_major": 2,
       "version_minor": 0
      },
      "text/plain": [
       "Validation: |                                                                    | 0/? [00:00<?, ?it/s]"
      ]
     },
     "metadata": {},
     "output_type": "display_data"
    },
    {
     "data": {
      "application/vnd.jupyter.widget-view+json": {
       "model_id": "",
       "version_major": 2,
       "version_minor": 0
      },
      "text/plain": [
       "Validation: |                                                                    | 0/? [00:00<?, ?it/s]"
      ]
     },
     "metadata": {},
     "output_type": "display_data"
    },
    {
     "name": "stderr",
     "output_type": "stream",
     "text": [
      "Metric val_loss improved by 0.006 >= min_delta = 0.0. New best score: 0.285\n"
     ]
    },
    {
     "data": {
      "application/vnd.jupyter.widget-view+json": {
       "model_id": "",
       "version_major": 2,
       "version_minor": 0
      },
      "text/plain": [
       "Validation: |                                                                    | 0/? [00:00<?, ?it/s]"
      ]
     },
     "metadata": {},
     "output_type": "display_data"
    },
    {
     "data": {
      "application/vnd.jupyter.widget-view+json": {
       "model_id": "",
       "version_major": 2,
       "version_minor": 0
      },
      "text/plain": [
       "Validation: |                                                                    | 0/? [00:00<?, ?it/s]"
      ]
     },
     "metadata": {},
     "output_type": "display_data"
    },
    {
     "data": {
      "application/vnd.jupyter.widget-view+json": {
       "model_id": "",
       "version_major": 2,
       "version_minor": 0
      },
      "text/plain": [
       "Validation: |                                                                    | 0/? [00:00<?, ?it/s]"
      ]
     },
     "metadata": {},
     "output_type": "display_data"
    },
    {
     "data": {
      "application/vnd.jupyter.widget-view+json": {
       "model_id": "",
       "version_major": 2,
       "version_minor": 0
      },
      "text/plain": [
       "Validation: |                                                                    | 0/? [00:00<?, ?it/s]"
      ]
     },
     "metadata": {},
     "output_type": "display_data"
    },
    {
     "data": {
      "application/vnd.jupyter.widget-view+json": {
       "model_id": "",
       "version_major": 2,
       "version_minor": 0
      },
      "text/plain": [
       "Validation: |                                                                    | 0/? [00:00<?, ?it/s]"
      ]
     },
     "metadata": {},
     "output_type": "display_data"
    },
    {
     "name": "stderr",
     "output_type": "stream",
     "text": [
      "Monitored metric val_loss did not improve in the last 5 records. Best score: 0.285. Signaling Trainer to stop.\n"
     ]
    },
    {
     "name": "stdout",
     "output_type": "stream",
     "text": [
      "Validation Loss: 0.3442429304122925\n",
      "Mean Absolute Error (MAE): 1.4384\n",
      "   prediction_0  prediction_1  prediction_2  prediction_3  prediction_4  \\\n",
      "0      0.633391      0.556106      0.557607      0.749603      1.627022   \n",
      "\n",
      "   prediction_5  prediction_6  prediction_7  prediction_8  prediction_9  \\\n",
      "0      1.904742      1.928946      1.678639      1.487383      1.459288   \n",
      "\n",
      "   actual_0  actual_1  actual_2  actual_3  actual_4  actual_5  actual_6  \\\n",
      "0       0.5       1.1       4.0       5.0       3.9       3.1       2.4   \n",
      "\n",
      "   actual_7  actual_8  actual_9  \n",
      "0       2.4       2.1       2.2  \n"
     ]
    }
   ],
   "source": [
    "import torch\n",
    "from pytorch_lightning import Trainer, LightningModule\n",
    "from pytorch_lightning.callbacks import EarlyStopping\n",
    "from pytorch_forecasting.models import TemporalFusionTransformer\n",
    "from pytorch_forecasting.metrics import QuantileLoss\n",
    "from pytorch_optimizer import Ranger\n",
    "from pytorch_forecasting.data import TimeSeriesDataSet\n",
    "import pandas as pd\n",
    "\n",
    "# 1. Create Dataloader with optimized parameters\n",
    "train_dataloader = training.to_dataloader(train=True, batch_size=64, num_workers=4, persistent_workers=True)\n",
    "val_dataloader = validation.to_dataloader(train=False, batch_size=64, num_workers=4, persistent_workers=True)\n",
    "\n",
    "# 2. Initialize the model with optimized settings\n",
    "tft = TemporalFusionTransformer.from_dataset(\n",
    "    training,\n",
    "    learning_rate=0.01,  # Lower learning rate for more stable learning\n",
    "    hidden_size=32,  # Larger hidden size to capture more complex patterns\n",
    "    attention_head_size=1,  \n",
    "    dropout=0.1,  \n",
    "    hidden_continuous_size=16,  # Increased continuous size for better feature representation\n",
    "    output_size=7,  \n",
    "    loss=QuantileLoss(),  \n",
    "    log_interval=10,  \n",
    "    reduce_on_plateau_patience=4,  \n",
    "    optimizer=\"ranger\",\n",
    ")\n",
    "\n",
    "# 3. Early stopping to avoid overfitting, monitor validation loss\n",
    "early_stop_callback = EarlyStopping(\n",
    "    monitor=\"val_loss\",\n",
    "    patience=5,  # More patience to allow longer training\n",
    "    verbose=True,\n",
    "    mode=\"min\"\n",
    ")\n",
    "\n",
    "# 4. Define a custom LightningModule to wrap the TemporalFusionTransformer\n",
    "class TFTLightningModule(LightningModule):\n",
    "    def __init__(self, model):\n",
    "        super().__init__()\n",
    "        self.model = model\n",
    "        self.save_hyperparameters(ignore=[\"model\", \"loss\", \"logging_metrics\"])\n",
    "\n",
    "    def forward(self, x):\n",
    "        return self.model(x)\n",
    "\n",
    "    def training_step(self, batch, batch_idx):\n",
    "        x, y = batch\n",
    "        out = self.model(x)\n",
    "        loss = self.model.loss(out[0], y)\n",
    "        self.log(\"train_loss\", loss)\n",
    "        return loss\n",
    "\n",
    "    def validation_step(self, batch, batch_idx):\n",
    "        x, y = batch\n",
    "        out = self.model(x)\n",
    "        loss = self.model.loss(out[0], y)\n",
    "        self.log(\"val_loss\", loss)\n",
    "        return loss\n",
    "\n",
    "    def configure_optimizers(self):\n",
    "        optimizer = Ranger(self.model.parameters(), lr=self.model.hparams.learning_rate)\n",
    "        return optimizer\n",
    "\n",
    "# 5. Wrap TemporalFusionTransformer into the LightningModule\n",
    "tft_module = TFTLightningModule(tft)\n",
    "\n",
    "# 6. Set up PyTorch Lightning Trainer with early stopping\n",
    "trainer = Trainer(\n",
    "    max_epochs=50,  # Increased epochs to allow longer training\n",
    "    callbacks=[early_stop_callback],  # Early stopping with more patience\n",
    "    accelerator=\"gpu\" if torch.cuda.is_available() else \"cpu\",  \n",
    "    devices=1\n",
    ")\n",
    "\n",
    "# 7. Train the model\n",
    "trainer.fit(tft_module, train_dataloaders=train_dataloader, val_dataloaders=val_dataloader)\n",
    "\n",
    "# 8. Evaluate the model on validation data\n",
    "val_loss = trainer.logged_metrics.get(\"val_loss\")\n",
    "print(f\"Validation Loss: {val_loss}\")\n",
    "\n",
    "# 9. Predict on test data\n",
    "test_dataloader = test_dataset.to_dataloader(train=False, batch_size=64, num_workers=4, persistent_workers=True)\n",
    "predictions = tft.predict(test_dataloader, mode=\"prediction\")\n",
    "predictions_df = pd.DataFrame(predictions.numpy())\n",
    "\n",
    "# 10. Get actual values from the test set and calculate Mean Absolute Error (MAE)\n",
    "actuals = []\n",
    "for batch in iter(test_dataloader):\n",
    "    targets = batch[1][0]  \n",
    "    actuals.append(targets)\n",
    "\n",
    "actuals = torch.cat(actuals).numpy()\n",
    "actuals_df = pd.DataFrame(actuals)\n",
    "\n",
    "# 11. Calculate Mean Absolute Error (MAE)\n",
    "mae = (predictions_df - actuals_df).abs().mean().mean()\n",
    "print(f\"Mean Absolute Error (MAE): {mae:.4f}\")\n",
    "\n",
    "# 12. Save predictions and actuals to CSV\n",
    "combined_df = pd.concat([predictions_df, actuals_df], axis=1)\n",
    "combined_df.columns = [f\"prediction_{i}\" for i in range(predictions_df.shape[1])] + [f\"actual_{i}\" for i in range(actuals_df.shape[1])]\n",
    "combined_df.to_csv(\"predictions_vs_actuals.csv\", index=False)\n",
    "\n",
    "# 13. Display the first few rows of predictions vs actuals\n",
    "print(combined_df.head())\n"
   ]
  },
  {
   "cell_type": "code",
   "execution_count": 70,
   "id": "7fd867a1-6b0a-4d94-a2f4-f8193133511a",
   "metadata": {},
   "outputs": [
    {
     "name": "stderr",
     "output_type": "stream",
     "text": [
      "C:\\Users\\egeme\\PycharmProjects\\pythonProject1\\.venv\\Lib\\site-packages\\lightning\\pytorch\\utilities\\parsing.py:208: Attribute 'loss' is an instance of `nn.Module` and is already saved during checkpointing. It is recommended to ignore them using `self.save_hyperparameters(ignore=['loss'])`.\n",
      "C:\\Users\\egeme\\PycharmProjects\\pythonProject1\\.venv\\Lib\\site-packages\\lightning\\pytorch\\utilities\\parsing.py:208: Attribute 'logging_metrics' is an instance of `nn.Module` and is already saved during checkpointing. It is recommended to ignore them using `self.save_hyperparameters(ignore=['logging_metrics'])`.\n",
      "GPU available: False, used: False\n",
      "TPU available: False, using: 0 TPU cores\n",
      "HPU available: False, using: 0 HPUs\n",
      "\n",
      "  | Name  | Type                      | Params | Mode \n",
      "------------------------------------------------------------\n",
      "0 | model | TemporalFusionTransformer | 31.3 K | train\n",
      "------------------------------------------------------------\n",
      "31.3 K    Trainable params\n",
      "0         Non-trainable params\n",
      "31.3 K    Total params\n",
      "0.125     Total estimated model params size (MB)\n",
      "505       Modules in train mode\n",
      "0         Modules in eval mode\n"
     ]
    },
    {
     "data": {
      "application/vnd.jupyter.widget-view+json": {
       "model_id": "1c4b803e739a41caa567833be57fd19b",
       "version_major": 2,
       "version_minor": 0
      },
      "text/plain": [
       "Training: |                                                                      | 0/? [00:00<?, ?it/s]"
      ]
     },
     "metadata": {},
     "output_type": "display_data"
    },
    {
     "data": {
      "application/vnd.jupyter.widget-view+json": {
       "model_id": "",
       "version_major": 2,
       "version_minor": 0
      },
      "text/plain": [
       "Validation: |                                                                    | 0/? [00:00<?, ?it/s]"
      ]
     },
     "metadata": {},
     "output_type": "display_data"
    },
    {
     "name": "stderr",
     "output_type": "stream",
     "text": [
      "Metric val_loss improved. New best score: 0.306\n"
     ]
    },
    {
     "data": {
      "application/vnd.jupyter.widget-view+json": {
       "model_id": "",
       "version_major": 2,
       "version_minor": 0
      },
      "text/plain": [
       "Validation: |                                                                    | 0/? [00:00<?, ?it/s]"
      ]
     },
     "metadata": {},
     "output_type": "display_data"
    },
    {
     "name": "stderr",
     "output_type": "stream",
     "text": [
      "Metric val_loss improved by 0.009 >= min_delta = 0.0. New best score: 0.297\n"
     ]
    },
    {
     "data": {
      "application/vnd.jupyter.widget-view+json": {
       "model_id": "",
       "version_major": 2,
       "version_minor": 0
      },
      "text/plain": [
       "Validation: |                                                                    | 0/? [00:00<?, ?it/s]"
      ]
     },
     "metadata": {},
     "output_type": "display_data"
    },
    {
     "name": "stderr",
     "output_type": "stream",
     "text": [
      "Metric val_loss improved by 0.010 >= min_delta = 0.0. New best score: 0.287\n"
     ]
    },
    {
     "data": {
      "application/vnd.jupyter.widget-view+json": {
       "model_id": "",
       "version_major": 2,
       "version_minor": 0
      },
      "text/plain": [
       "Validation: |                                                                    | 0/? [00:00<?, ?it/s]"
      ]
     },
     "metadata": {},
     "output_type": "display_data"
    },
    {
     "name": "stderr",
     "output_type": "stream",
     "text": [
      "Metric val_loss improved by 0.010 >= min_delta = 0.0. New best score: 0.276\n"
     ]
    },
    {
     "data": {
      "application/vnd.jupyter.widget-view+json": {
       "model_id": "",
       "version_major": 2,
       "version_minor": 0
      },
      "text/plain": [
       "Validation: |                                                                    | 0/? [00:00<?, ?it/s]"
      ]
     },
     "metadata": {},
     "output_type": "display_data"
    },
    {
     "name": "stderr",
     "output_type": "stream",
     "text": [
      "Metric val_loss improved by 0.003 >= min_delta = 0.0. New best score: 0.273\n"
     ]
    },
    {
     "data": {
      "application/vnd.jupyter.widget-view+json": {
       "model_id": "",
       "version_major": 2,
       "version_minor": 0
      },
      "text/plain": [
       "Validation: |                                                                    | 0/? [00:00<?, ?it/s]"
      ]
     },
     "metadata": {},
     "output_type": "display_data"
    },
    {
     "data": {
      "application/vnd.jupyter.widget-view+json": {
       "model_id": "",
       "version_major": 2,
       "version_minor": 0
      },
      "text/plain": [
       "Validation: |                                                                    | 0/? [00:00<?, ?it/s]"
      ]
     },
     "metadata": {},
     "output_type": "display_data"
    },
    {
     "data": {
      "application/vnd.jupyter.widget-view+json": {
       "model_id": "",
       "version_major": 2,
       "version_minor": 0
      },
      "text/plain": [
       "Validation: |                                                                    | 0/? [00:00<?, ?it/s]"
      ]
     },
     "metadata": {},
     "output_type": "display_data"
    },
    {
     "name": "stderr",
     "output_type": "stream",
     "text": [
      "Monitored metric val_loss did not improve in the last 3 records. Best score: 0.273. Signaling Trainer to stop.\n",
      "C:\\Users\\egeme\\PycharmProjects\\pythonProject1\\.venv\\Lib\\site-packages\\pytorch_forecasting\\data\\timeseries.py:1188: UserWarning: If predicting, no randomization should be possible - setting stop_randomization=True\n",
      "  warnings.warn(\n",
      "C:\\Users\\egeme\\PycharmProjects\\pythonProject1\\.venv\\Lib\\site-packages\\pytorch_lightning\\trainer\\connectors\\data_connector.py:424: The 'test_dataloader' does not have many workers which may be a bottleneck. Consider increasing the value of the `num_workers` argument` to `num_workers=11` in the `DataLoader` to improve performance.\n"
     ]
    },
    {
     "data": {
      "application/vnd.jupyter.widget-view+json": {
       "model_id": "892da702ffde4150afd097628c8f3b25",
       "version_major": 2,
       "version_minor": 0
      },
      "text/plain": [
       "Testing: |                                                                       | 0/? [00:00<?, ?it/s]"
      ]
     },
     "metadata": {},
     "output_type": "display_data"
    },
    {
     "name": "stderr",
     "output_type": "stream",
     "text": [
      "C:\\Users\\egeme\\PycharmProjects\\pythonProject1\\.venv\\Lib\\site-packages\\lightning\\pytorch\\trainer\\connectors\\data_connector.py:424: The 'predict_dataloader' does not have many workers which may be a bottleneck. Consider increasing the value of the `num_workers` argument` to `num_workers=11` in the `DataLoader` to improve performance.\n"
     ]
    },
    {
     "name": "stdout",
     "output_type": "stream",
     "text": [
      "────────────────────────────────────────────────────────────────────────────────────────────────────────\n",
      "       Test metric             DataLoader 0\n",
      "────────────────────────────────────────────────────────────────────────────────────────────────────────\n",
      "        test_loss           0.8600519895553589\n",
      "────────────────────────────────────────────────────────────────────────────────────────────────────────\n",
      "[{'test_loss': 0.8600519895553589}]\n"
     ]
    },
    {
     "data": {
      "image/png": "[encoded data removed]",
      "text/plain": [
       "<Figure size 1000x600 with 1 Axes>"
      ]
     },
     "metadata": {},
     "output_type": "display_data"
    },
    {
     "name": "stdout",
     "output_type": "stream",
     "text": [
      "Mean Absolute Error (MAE): 1.4411\n"
     ]
    }
   ],
   "source": [
    "import os\n",
    "import torch\n",
    "import matplotlib.pyplot as plt\n",
    "from pytorch_forecasting.models import TemporalFusionTransformer\n",
    "from pytorch_forecasting.metrics import QuantileLoss\n",
    "from pytorch_lightning import Trainer, LightningModule\n",
    "from pytorch_lightning.callbacks import EarlyStopping\n",
    "from pytorch_optimizer import Ranger  # Import the Ranger optimizer\n",
    "from pytorch_forecasting.data import TimeSeriesDataSet\n",
    "import pandas as pd\n",
    "import numpy as np\n",
    "\n",
    "# Initialize the Temporal Fusion Transformer model\n",
    "tft = TemporalFusionTransformer.from_dataset(\n",
    "    training,\n",
    "    optimizer=\"ranger\",  # Use Ranger optimizer\n",
    "    learning_rate=0.03,\n",
    "    hidden_size=16,\n",
    "    attention_head_size=1,\n",
    "    dropout=0.1,\n",
    "    hidden_continuous_size=8,\n",
    "    output_size=7,  # Number of quantiles (default is 7)\n",
    "    loss=QuantileLoss(),\n",
    "    log_interval=10,\n",
    "    reduce_on_plateau_patience=4,\n",
    ")\n",
    "\n",
    "# Define a LightningModule that wraps the TemporalFusionTransformer model\n",
    "class TFTLightningModule(LightningModule):\n",
    "    def __init__(self, model):\n",
    "        super().__init__()\n",
    "        self.model = model\n",
    "        self.save_hyperparameters(ignore=[\"model\", \"loss\", \"logging_metrics\"])\n",
    "\n",
    "    def forward(self, x):\n",
    "        return self.model(x)\n",
    "\n",
    "    def training_step(self, batch, batch_idx):\n",
    "        x, y = batch\n",
    "        out = self.model(x)\n",
    "        y_pred = out[0]  # The model output is a tuple, 'y_pred' is the first element\n",
    "        loss = self.model.loss(y_pred, y)\n",
    "        self.log(\"train_loss\", loss, on_step=True, on_epoch=True, prog_bar=True, batch_size=x['encoder_target'].shape[0])\n",
    "        return loss\n",
    "\n",
    "    def validation_step(self, batch, batch_idx):\n",
    "        x, y = batch\n",
    "        out = self.model(x)\n",
    "        y_pred = out[0]  # The model output is a tuple, 'y_pred' is the first element\n",
    "        loss = self.model.loss(y_pred, y)\n",
    "        self.log(\"val_loss\", loss, prog_bar=True, batch_size=x['encoder_target'].shape[0])\n",
    "        return loss\n",
    "\n",
    "    def test_step(self, batch, batch_idx):\n",
    "        x, y = batch\n",
    "        out = self.model(x)\n",
    "        y_pred = out[0]  # The model output is a tuple, 'y_pred' is the first element\n",
    "        loss = self.model.loss(y_pred, y)\n",
    "        self.log(\"test_loss\", loss, prog_bar=True, batch_size=x['encoder_target'].shape[0])\n",
    "        return loss\n",
    "\n",
    "    def configure_optimizers(self):\n",
    "        optimizer = Ranger(self.model.parameters(), lr=self.model.hparams.learning_rate)\n",
    "        return optimizer\n",
    "\n",
    "# Wrap the TemporalFusionTransformer model into the LightningModule\n",
    "tft_module = TFTLightningModule(tft)\n",
    "\n",
    "# Initialize PyTorch Lightning Trainer\n",
    "trainer = Trainer(\n",
    "    max_epochs=30,\n",
    "    accelerator=\"gpu\" if torch.cuda.is_available() else \"cpu\",  # Use GPU if available\n",
    "    devices=1,  # Use a single device\n",
    "    callbacks=[EarlyStopping(monitor=\"val_loss\", patience=3, verbose=True)],  # Early stopping callback\n",
    "    num_sanity_val_steps=0,  # Disable sanity check\n",
    "    deterministic=True,  # Ensure deterministic behavior for reproducibility\n",
    ")\n",
    "\n",
    "# Increase the `num_workers` parameter in DataLoaders for faster data loading\n",
    "train_dataloader = training.to_dataloader(train=True, batch_size=64, num_workers=4, persistent_workers=True)\n",
    "val_dataloader = validation.to_dataloader(train=False, batch_size=64, num_workers=4, persistent_workers=True)\n",
    "\n",
    "# Train the model\n",
    "trainer.fit(\n",
    "    tft_module,\n",
    "    train_dataloaders=train_dataloader,\n",
    "    val_dataloaders=val_dataloader\n",
    ")\n",
    "\n",
    "# Save the trained model\n",
    "torch.save(tft.state_dict(), \"tft_final_model.pth\")\n",
    "\n",
    "# Prepare test dataset and DataLoader\n",
    "test_dataset = TimeSeriesDataSet.from_dataset(\n",
    "    training,  \n",
    "    data,      \n",
    "    predict=True\n",
    ")\n",
    "\n",
    "\n",
    "test_dataloader = test_dataset.to_dataloader(train=False, batch_size=64)\n",
    "\n",
    "\n",
    "test_results = trainer.test(tft_module, dataloaders=test_dataloader)\n",
    "print(test_results)\n",
    "\n",
    "\n",
    "\n",
    "raw_predictions = tft.predict(test_dataloader, mode=\"raw\")  \n",
    "\n",
    "\n",
    "predictions = tft.predict(test_dataloader, mode=\"prediction\")\n",
    "predictions_df = pd.DataFrame(predictions.numpy())\n",
    "\n",
    "\n",
    "actuals = []\n",
    "for batch in iter(test_dataloader):\n",
    "    targets = batch[1][0]  \n",
    "    actuals.append(targets)\n",
    "\n",
    "actuals = torch.cat(actuals).numpy()\n",
    "actuals_df = pd.DataFrame(actuals)\n",
    "\n",
    "\n",
    "plt.figure(figsize=(10, 6))\n",
    "plt.plot(predictions_df.iloc[0], label=\"Predicted\")\n",
    "plt.plot(actuals_df.iloc[0], label=\"Actual\")\n",
    "plt.title(\"Predicted vs Actual\")\n",
    "plt.legend()\n",
    "plt.show()\n",
    "\n",
    "\n",
    "combined_df = pd.concat([predictions_df, actuals_df], axis=1)\n",
    "combined_df.columns = [f\"prediction_{i}\" for i in range(predictions_df.shape[1])] + [f\"actual_{i}\" for i in range(actuals_df.shape[1])]\n",
    "combined_df.to_csv(\"predictions_vs_actuals.csv\", index=False)\n",
    "\n",
    "\n",
    "mae = (predictions_df - actuals_df).abs().mean().mean()\n",
    "print(f\"Mean Absolute Error (MAE): {mae:.4f}\")\n",
    "\n"
   ]
  },
  {
   "cell_type": "code",
   "execution_count": 73,
   "id": "eab66578-9193-4d07-8f39-c3d84d5cd180",
   "metadata": {},
   "outputs": [
    {
     "name": "stderr",
     "output_type": "stream",
     "text": [
      "C:\\Users\\egeme\\PycharmProjects\\pythonProject1\\.venv\\Lib\\site-packages\\lightning\\pytorch\\utilities\\parsing.py:208: Attribute 'loss' is an instance of `nn.Module` and is already saved during checkpointing. It is recommended to ignore them using `self.save_hyperparameters(ignore=['loss'])`.\n",
      "C:\\Users\\egeme\\PycharmProjects\\pythonProject1\\.venv\\Lib\\site-packages\\lightning\\pytorch\\utilities\\parsing.py:208: Attribute 'logging_metrics' is an instance of `nn.Module` and is already saved during checkpointing. It is recommended to ignore them using `self.save_hyperparameters(ignore=['logging_metrics'])`.\n",
      "GPU available: False, used: False\n",
      "TPU available: False, using: 0 TPU cores\n",
      "HPU available: False, using: 0 HPUs\n",
      "\n",
      "  | Name  | Type                      | Params | Mode \n",
      "------------------------------------------------------------\n",
      "0 | model | TemporalFusionTransformer | 31.3 K | train\n",
      "------------------------------------------------------------\n",
      "31.3 K    Trainable params\n",
      "0         Non-trainable params\n",
      "31.3 K    Total params\n",
      "0.125     Total estimated model params size (MB)\n",
      "505       Modules in train mode\n",
      "0         Modules in eval mode\n"
     ]
    },
    {
     "data": {
      "application/vnd.jupyter.widget-view+json": {
       "model_id": "9f53a62393d24d1cab3cbf5b0e4837db",
       "version_major": 2,
       "version_minor": 0
      },
      "text/plain": [
       "Training: |                                                                      | 0/? [00:00<?, ?it/s]"
      ]
     },
     "metadata": {},
     "output_type": "display_data"
    },
    {
     "data": {
      "application/vnd.jupyter.widget-view+json": {
       "model_id": "",
       "version_major": 2,
       "version_minor": 0
      },
      "text/plain": [
       "Validation: |                                                                    | 0/? [00:00<?, ?it/s]"
      ]
     },
     "metadata": {},
     "output_type": "display_data"
    },
    {
     "name": "stderr",
     "output_type": "stream",
     "text": [
      "Metric val_loss improved. New best score: 0.326\n"
     ]
    },
    {
     "data": {
      "application/vnd.jupyter.widget-view+json": {
       "model_id": "",
       "version_major": 2,
       "version_minor": 0
      },
      "text/plain": [
       "Validation: |                                                                    | 0/? [00:00<?, ?it/s]"
      ]
     },
     "metadata": {},
     "output_type": "display_data"
    },
    {
     "name": "stderr",
     "output_type": "stream",
     "text": [
      "Metric val_loss improved by 0.027 >= min_delta = 0.0. New best score: 0.299\n"
     ]
    },
    {
     "data": {
      "application/vnd.jupyter.widget-view+json": {
       "model_id": "",
       "version_major": 2,
       "version_minor": 0
      },
      "text/plain": [
       "Validation: |                                                                    | 0/? [00:00<?, ?it/s]"
      ]
     },
     "metadata": {},
     "output_type": "display_data"
    },
    {
     "name": "stderr",
     "output_type": "stream",
     "text": [
      "Metric val_loss improved by 0.009 >= min_delta = 0.0. New best score: 0.290\n"
     ]
    },
    {
     "data": {
      "application/vnd.jupyter.widget-view+json": {
       "model_id": "",
       "version_major": 2,
       "version_minor": 0
      },
      "text/plain": [
       "Validation: |                                                                    | 0/? [00:00<?, ?it/s]"
      ]
     },
     "metadata": {},
     "output_type": "display_data"
    },
    {
     "name": "stderr",
     "output_type": "stream",
     "text": [
      "Metric val_loss improved by 0.014 >= min_delta = 0.0. New best score: 0.277\n"
     ]
    },
    {
     "data": {
      "application/vnd.jupyter.widget-view+json": {
       "model_id": "",
       "version_major": 2,
       "version_minor": 0
      },
      "text/plain": [
       "Validation: |                                                                    | 0/? [00:00<?, ?it/s]"
      ]
     },
     "metadata": {},
     "output_type": "display_data"
    },
    {
     "data": {
      "application/vnd.jupyter.widget-view+json": {
       "model_id": "",
       "version_major": 2,
       "version_minor": 0
      },
      "text/plain": [
       "Validation: |                                                                    | 0/? [00:00<?, ?it/s]"
      ]
     },
     "metadata": {},
     "output_type": "display_data"
    },
    {
     "name": "stderr",
     "output_type": "stream",
     "text": [
      "Metric val_loss improved by 0.003 >= min_delta = 0.0. New best score: 0.274\n"
     ]
    },
    {
     "data": {
      "application/vnd.jupyter.widget-view+json": {
       "model_id": "",
       "version_major": 2,
       "version_minor": 0
      },
      "text/plain": [
       "Validation: |                                                                    | 0/? [00:00<?, ?it/s]"
      ]
     },
     "metadata": {},
     "output_type": "display_data"
    },
    {
     "data": {
      "application/vnd.jupyter.widget-view+json": {
       "model_id": "",
       "version_major": 2,
       "version_minor": 0
      },
      "text/plain": [
       "Validation: |                                                                    | 0/? [00:00<?, ?it/s]"
      ]
     },
     "metadata": {},
     "output_type": "display_data"
    },
    {
     "data": {
      "application/vnd.jupyter.widget-view+json": {
       "model_id": "",
       "version_major": 2,
       "version_minor": 0
      },
      "text/plain": [
       "Validation: |                                                                    | 0/? [00:00<?, ?it/s]"
      ]
     },
     "metadata": {},
     "output_type": "display_data"
    },
    {
     "name": "stderr",
     "output_type": "stream",
     "text": [
      "Monitored metric val_loss did not improve in the last 3 records. Best score: 0.274. Signaling Trainer to stop.\n",
      "C:\\Users\\egeme\\PycharmProjects\\pythonProject1\\.venv\\Lib\\site-packages\\pytorch_forecasting\\data\\timeseries.py:1188: UserWarning: If predicting, no randomization should be possible - setting stop_randomization=True\n",
      "  warnings.warn(\n",
      "C:\\Users\\egeme\\PycharmProjects\\pythonProject1\\.venv\\Lib\\site-packages\\pytorch_lightning\\trainer\\connectors\\data_connector.py:424: The 'test_dataloader' does not have many workers which may be a bottleneck. Consider increasing the value of the `num_workers` argument` to `num_workers=11` in the `DataLoader` to improve performance.\n"
     ]
    },
    {
     "data": {
      "application/vnd.jupyter.widget-view+json": {
       "model_id": "60ef1cd7c28645b28d06a3d3aa94f202",
       "version_major": 2,
       "version_minor": 0
      },
      "text/plain": [
       "Testing: |                                                                       | 0/? [00:00<?, ?it/s]"
      ]
     },
     "metadata": {},
     "output_type": "display_data"
    },
    {
     "name": "stderr",
     "output_type": "stream",
     "text": [
      "C:\\Users\\egeme\\PycharmProjects\\pythonProject1\\.venv\\Lib\\site-packages\\lightning\\pytorch\\trainer\\connectors\\data_connector.py:424: The 'predict_dataloader' does not have many workers which may be a bottleneck. Consider increasing the value of the `num_workers` argument` to `num_workers=11` in the `DataLoader` to improve performance.\n"
     ]
    },
    {
     "name": "stdout",
     "output_type": "stream",
     "text": [
      "────────────────────────────────────────────────────────────────────────────────────────────────────────\n",
      "       Test metric             DataLoader 0\n",
      "────────────────────────────────────────────────────────────────────────────────────────────────────────\n",
      "        test_loss           0.7637603878974915\n",
      "────────────────────────────────────────────────────────────────────────────────────────────────────────\n",
      "[{'test_loss': 0.7637603878974915}]\n"
     ]
    },
    {
     "data": {
      "image/png": "[encoded data removed]",
      "text/plain": [
       "<Figure size 1000x600 with 1 Axes>"
      ]
     },
     "metadata": {},
     "output_type": "display_data"
    },
    {
     "name": "stdout",
     "output_type": "stream",
     "text": [
      "Mean Absolute Error (MAE): 1.1311\n",
      "Mean Squared Error (MSE): 2.4040\n",
      "Root Mean Squared Error (RMSE): 1.5505\n"
     ]
    },
    {
     "data": {
      "image/png": "[encoded data removed]",
      "text/plain": [
       "<Figure size 1000x600 with 1 Axes>"
      ]
     },
     "metadata": {},
     "output_type": "display_data"
    }
   ],
   "source": [
    "import os\n",
    "import torch\n",
    "import matplotlib.pyplot as plt\n",
    "from pytorch_forecasting.models import TemporalFusionTransformer\n",
    "from pytorch_forecasting.metrics import QuantileLoss\n",
    "from pytorch_lightning import Trainer, LightningModule\n",
    "from pytorch_lightning.callbacks import EarlyStopping\n",
    "from pytorch_optimizer import Ranger  # Import the Ranger optimizer\n",
    "from pytorch_forecasting.data import TimeSeriesDataSet\n",
    "import pandas as pd\n",
    "import numpy as np\n",
    "from sklearn.metrics import mean_squared_error\n",
    "\n",
    "# Initialize the Temporal Fusion Transformer model\n",
    "tft = TemporalFusionTransformer.from_dataset(\n",
    "    training,\n",
    "    optimizer=\"ranger\",  # Use Ranger optimizer\n",
    "    learning_rate=0.03,\n",
    "    hidden_size=16,\n",
    "    attention_head_size=1,\n",
    "    dropout=0.1,\n",
    "    hidden_continuous_size=8,\n",
    "    output_size=7,  # Number of quantiles (default is 7)\n",
    "    loss=QuantileLoss(),\n",
    "    log_interval=10,\n",
    "    reduce_on_plateau_patience=4,\n",
    ")\n",
    "\n",
    "# Define a LightningModule that wraps the Temporal Fusion Transformer model\n",
    "class TFTLightningModule(LightningModule):\n",
    "    def __init__(self, model):\n",
    "        super().__init__()\n",
    "        self.model = model\n",
    "        self.save_hyperparameters(ignore=[\"model\", \"loss\", \"logging_metrics\"])\n",
    "\n",
    "    def forward(self, x):\n",
    "        return self.model(x)\n",
    "\n",
    "    def training_step(self, batch, batch_idx):\n",
    "        x, y = batch\n",
    "        out = self.model(x)\n",
    "        y_pred = out[0]  # The model output is a tuple, 'y_pred' is the first element\n",
    "        loss = self.model.loss(y_pred, y)\n",
    "        self.log(\"train_loss\", loss, on_step=True, on_epoch=True, prog_bar=True, batch_size=x['encoder_target'].shape[0])\n",
    "        return loss\n",
    "\n",
    "    def validation_step(self, batch, batch_idx):\n",
    "        x, y = batch\n",
    "        out = self.model(x)\n",
    "        y_pred = out[0]  # The model output is a tuple, 'y_pred' is the first element\n",
    "        loss = self.model.loss(y_pred, y)\n",
    "        self.log(\"val_loss\", loss, prog_bar=True, batch_size=x['encoder_target'].shape[0])\n",
    "        return loss\n",
    "\n",
    "    def test_step(self, batch, batch_idx):\n",
    "        x, y = batch\n",
    "        out = self.model(x)\n",
    "        y_pred = out[0]  # The model output is a tuple, 'y_pred' is the first element\n",
    "        loss = self.model.loss(y_pred, y)\n",
    "        self.log(\"test_loss\", loss, prog_bar=True, batch_size=x['encoder_target'].shape[0])\n",
    "        return loss\n",
    "\n",
    "    def configure_optimizers(self):\n",
    "        optimizer = Ranger(self.model.parameters(), lr=self.model.hparams.learning_rate)\n",
    "        return optimizer\n",
    "\n",
    "# Wrap the Temporal Fusion Transformer model into the LightningModule\n",
    "tft_module = TFTLightningModule(tft)\n",
    "\n",
    "# Initialize PyTorch Lightning Trainer\n",
    "trainer = Trainer(\n",
    "    max_epochs=30,\n",
    "    accelerator=\"gpu\" if torch.cuda.is_available() else \"cpu\",  # Use GPU if available\n",
    "    devices=1,  # Use a single device\n",
    "    callbacks=[EarlyStopping(monitor=\"val_loss\", patience=3, verbose=True)],  # Early stopping callback\n",
    "    num_sanity_val_steps=0,  # Disable sanity check\n",
    "    deterministic=True,  # Ensure deterministic behavior for reproducibility\n",
    ")\n",
    "\n",
    "# Increase the `num_workers` parameter in DataLoaders for faster data loading\n",
    "train_dataloader = training.to_dataloader(train=True, batch_size=64, num_workers=4, persistent_workers=True)\n",
    "val_dataloader = validation.to_dataloader(train=False, batch_size=64, num_workers=4, persistent_workers=True)\n",
    "\n",
    "# Train the model\n",
    "trainer.fit(\n",
    "    tft_module,\n",
    "    train_dataloaders=train_dataloader,\n",
    "    val_dataloaders=val_dataloader\n",
    ")\n",
    "\n",
    "# Save the trained model\n",
    "torch.save(tft.state_dict(), \"tft_final_model.pth\")\n",
    "\n",
    "# Prepare test dataset and DataLoader\n",
    "test_dataset = TimeSeriesDataSet.from_dataset(\n",
    "    training,  \n",
    "    data,      \n",
    "    predict=True\n",
    ")\n",
    "\n",
    "test_dataloader = test_dataset.to_dataloader(train=False, batch_size=64)\n",
    "\n",
    "# Test the model on test data\n",
    "test_results = trainer.test(tft_module, dataloaders=test_dataloader)\n",
    "print(test_results)\n",
    "\n",
    "# 1. Get Raw Predictions\n",
    "raw_predictions = tft.predict(test_dataloader, mode=\"raw\")  \n",
    "\n",
    "# 2. Get Final Predictions\n",
    "predictions = tft.predict(test_dataloader, mode=\"prediction\")\n",
    "predictions_df = pd.DataFrame(predictions.numpy())\n",
    "\n",
    "# 3. Get Actual Values\n",
    "actuals = []\n",
    "for batch in iter(test_dataloader):\n",
    "    targets = batch[1][0]  \n",
    "    actuals.append(targets)\n",
    "\n",
    "actuals = torch.cat(actuals).numpy()\n",
    "actuals_df = pd.DataFrame(actuals)\n",
    "\n",
    "# 4. Plot Predicted vs Actual\n",
    "plt.figure(figsize=(10, 6))\n",
    "plt.plot(predictions_df.iloc[0], label=\"Predicted\")\n",
    "plt.plot(actuals_df.iloc[0], label=\"Actual\")\n",
    "plt.title(\"Predicted vs Actual\")\n",
    "plt.legend()\n",
    "plt.show()\n",
    "\n",
    "# 5. Save Predictions and Actuals to CSV\n",
    "combined_df = pd.concat([predictions_df, actuals_df], axis=1)\n",
    "combined_df.columns = [f\"prediction_{i}\" for i in range(predictions_df.shape[1])] + [f\"actual_{i}\" for i in range(actuals_df.shape[1])]\n",
    "combined_df.to_csv(\"predictions_vs_actuals.csv\", index=False)\n",
    "\n",
    "# 6. Calculate Mean Absolute Error (MAE), Mean Squared Error (MSE) and Root Mean Squared Error (RMSE)\n",
    "mae = (predictions_df - actuals_df).abs().mean().mean()\n",
    "mse = mean_squared_error(actuals_df, predictions_df)\n",
    "rmse = np.sqrt(mse)\n",
    "print(f\"Mean Absolute Error (MAE): {mae:.4f}\")\n",
    "print(f\"Mean Squared Error (MSE): {mse:.4f}\")\n",
    "print(f\"Root Mean Squared Error (RMSE): {rmse:.4f}\")\n",
    "\n",
    "# 7. Plot Distribution of Predicted vs Actual\n",
    "plt.figure(figsize=(10, 6))\n",
    "plt.hist(predictions_df.values.flatten(), bins=50, alpha=0.5, label=\"Predicted\")\n",
    "plt.hist(actuals_df.values.flatten(), bins=50, alpha=0.5, label=\"Actual\")\n",
    "plt.title(\"Distribution of Predicted vs Actual\")\n",
    "plt.legend()\n",
    "plt.show()\n"
   ]
  },
  {
   "cell_type": "code",
   "execution_count": 74,
   "id": "2f6a031c-2c74-4bca-8cc6-b4cc6e079b50",
   "metadata": {},
   "outputs": [
    {
     "name": "stderr",
     "output_type": "stream",
     "text": [
      "C:\\Users\\egeme\\PycharmProjects\\pythonProject1\\.venv\\Lib\\site-packages\\lightning\\pytorch\\utilities\\parsing.py:208: Attribute 'loss' is an instance of `nn.Module` and is already saved during checkpointing. It is recommended to ignore them using `self.save_hyperparameters(ignore=['loss'])`.\n",
      "C:\\Users\\egeme\\PycharmProjects\\pythonProject1\\.venv\\Lib\\site-packages\\lightning\\pytorch\\utilities\\parsing.py:208: Attribute 'logging_metrics' is an instance of `nn.Module` and is already saved during checkpointing. It is recommended to ignore them using `self.save_hyperparameters(ignore=['logging_metrics'])`.\n",
      "GPU available: False, used: False\n",
      "TPU available: False, using: 0 TPU cores\n",
      "HPU available: False, using: 0 HPUs\n",
      "\n",
      "  | Name  | Type                      | Params | Mode \n",
      "------------------------------------------------------------\n",
      "0 | model | TemporalFusionTransformer | 31.3 K | train\n",
      "------------------------------------------------------------\n",
      "31.3 K    Trainable params\n",
      "0         Non-trainable params\n",
      "31.3 K    Total params\n",
      "0.125     Total estimated model params size (MB)\n",
      "505       Modules in train mode\n",
      "0         Modules in eval mode\n"
     ]
    },
    {
     "data": {
      "application/vnd.jupyter.widget-view+json": {
       "model_id": "ab7911260d5b4cd49978c2e5c6ab443b",
       "version_major": 2,
       "version_minor": 0
      },
      "text/plain": [
       "Training: |                                                                      | 0/? [00:00<?, ?it/s]"
      ]
     },
     "metadata": {},
     "output_type": "display_data"
    },
    {
     "data": {
      "application/vnd.jupyter.widget-view+json": {
       "model_id": "",
       "version_major": 2,
       "version_minor": 0
      },
      "text/plain": [
       "Validation: |                                                                    | 0/? [00:00<?, ?it/s]"
      ]
     },
     "metadata": {},
     "output_type": "display_data"
    },
    {
     "name": "stderr",
     "output_type": "stream",
     "text": [
      "Metric val_loss improved. New best score: 0.308\n"
     ]
    },
    {
     "data": {
      "application/vnd.jupyter.widget-view+json": {
       "model_id": "",
       "version_major": 2,
       "version_minor": 0
      },
      "text/plain": [
       "Validation: |                                                                    | 0/? [00:00<?, ?it/s]"
      ]
     },
     "metadata": {},
     "output_type": "display_data"
    },
    {
     "name": "stderr",
     "output_type": "stream",
     "text": [
      "Metric val_loss improved by 0.009 >= min_delta = 0.0. New best score: 0.299\n"
     ]
    },
    {
     "data": {
      "application/vnd.jupyter.widget-view+json": {
       "model_id": "",
       "version_major": 2,
       "version_minor": 0
      },
      "text/plain": [
       "Validation: |                                                                    | 0/? [00:00<?, ?it/s]"
      ]
     },
     "metadata": {},
     "output_type": "display_data"
    },
    {
     "data": {
      "application/vnd.jupyter.widget-view+json": {
       "model_id": "",
       "version_major": 2,
       "version_minor": 0
      },
      "text/plain": [
       "Validation: |                                                                    | 0/? [00:00<?, ?it/s]"
      ]
     },
     "metadata": {},
     "output_type": "display_data"
    },
    {
     "name": "stderr",
     "output_type": "stream",
     "text": [
      "Metric val_loss improved by 0.014 >= min_delta = 0.0. New best score: 0.285\n"
     ]
    },
    {
     "data": {
      "application/vnd.jupyter.widget-view+json": {
       "model_id": "",
       "version_major": 2,
       "version_minor": 0
      },
      "text/plain": [
       "Validation: |                                                                    | 0/? [00:00<?, ?it/s]"
      ]
     },
     "metadata": {},
     "output_type": "display_data"
    },
    {
     "name": "stderr",
     "output_type": "stream",
     "text": [
      "Metric val_loss improved by 0.010 >= min_delta = 0.0. New best score: 0.275\n"
     ]
    },
    {
     "data": {
      "application/vnd.jupyter.widget-view+json": {
       "model_id": "",
       "version_major": 2,
       "version_minor": 0
      },
      "text/plain": [
       "Validation: |                                                                    | 0/? [00:00<?, ?it/s]"
      ]
     },
     "metadata": {},
     "output_type": "display_data"
    },
    {
     "data": {
      "application/vnd.jupyter.widget-view+json": {
       "model_id": "",
       "version_major": 2,
       "version_minor": 0
      },
      "text/plain": [
       "Validation: |                                                                    | 0/? [00:00<?, ?it/s]"
      ]
     },
     "metadata": {},
     "output_type": "display_data"
    },
    {
     "data": {
      "application/vnd.jupyter.widget-view+json": {
       "model_id": "",
       "version_major": 2,
       "version_minor": 0
      },
      "text/plain": [
       "Validation: |                                                                    | 0/? [00:00<?, ?it/s]"
      ]
     },
     "metadata": {},
     "output_type": "display_data"
    },
    {
     "name": "stderr",
     "output_type": "stream",
     "text": [
      "Monitored metric val_loss did not improve in the last 3 records. Best score: 0.275. Signaling Trainer to stop.\n",
      "C:\\Users\\egeme\\PycharmProjects\\pythonProject1\\.venv\\Lib\\site-packages\\pytorch_forecasting\\data\\timeseries.py:1188: UserWarning: If predicting, no randomization should be possible - setting stop_randomization=True\n",
      "  warnings.warn(\n",
      "C:\\Users\\egeme\\PycharmProjects\\pythonProject1\\.venv\\Lib\\site-packages\\pytorch_lightning\\trainer\\connectors\\data_connector.py:424: The 'test_dataloader' does not have many workers which may be a bottleneck. Consider increasing the value of the `num_workers` argument` to `num_workers=11` in the `DataLoader` to improve performance.\n"
     ]
    },
    {
     "data": {
      "application/vnd.jupyter.widget-view+json": {
       "model_id": "7e6a5531ed1d4dfa982f80e5d7fe5a2f",
       "version_major": 2,
       "version_minor": 0
      },
      "text/plain": [
       "Testing: |                                                                       | 0/? [00:00<?, ?it/s]"
      ]
     },
     "metadata": {},
     "output_type": "display_data"
    },
    {
     "name": "stderr",
     "output_type": "stream",
     "text": [
      "C:\\Users\\egeme\\PycharmProjects\\pythonProject1\\.venv\\Lib\\site-packages\\lightning\\pytorch\\trainer\\connectors\\data_connector.py:424: The 'predict_dataloader' does not have many workers which may be a bottleneck. Consider increasing the value of the `num_workers` argument` to `num_workers=11` in the `DataLoader` to improve performance.\n"
     ]
    },
    {
     "name": "stdout",
     "output_type": "stream",
     "text": [
      "────────────────────────────────────────────────────────────────────────────────────────────────────────\n",
      "       Test metric             DataLoader 0\n",
      "────────────────────────────────────────────────────────────────────────────────────────────────────────\n",
      "        test_loss           0.6754381656646729\n",
      "────────────────────────────────────────────────────────────────────────────────────────────────────────\n",
      "[{'test_loss': 0.6754381656646729}]\n"
     ]
    },
    {
     "data": {
      "image/png": "[encoded data removed]",
      "text/plain": [
       "<Figure size 1000x600 with 1 Axes>"
      ]
     },
     "metadata": {},
     "output_type": "display_data"
    },
    {
     "name": "stdout",
     "output_type": "stream",
     "text": [
      "Mean Absolute Error (MAE): 0.9946\n",
      "Mean Squared Error (MSE): 2.1120\n",
      "Root Mean Squared Error (RMSE): 1.4533\n",
      "R2 Score: nan\n"
     ]
    },
    {
     "name": "stderr",
     "output_type": "stream",
     "text": [
      "C:\\Users\\egeme\\PycharmProjects\\pythonProject1\\.venv\\Lib\\site-packages\\sklearn\\metrics\\_regression.py:1211: UndefinedMetricWarning: R^2 score is not well-defined with less than two samples.\n",
      "  warnings.warn(msg, UndefinedMetricWarning)\n"
     ]
    },
    {
     "data": {
      "image/png": "[encoded data removed]",
      "text/plain": [
       "<Figure size 1000x600 with 1 Axes>"
      ]
     },
     "metadata": {},
     "output_type": "display_data"
    },
    {
     "ename": "TypeError",
     "evalue": "Object of type float32 is not JSON serializable",
     "output_type": "error",
     "traceback": [
      "\u001b[1;31m---------------------------------------------------------------------------\u001b[0m",
      "\u001b[1;31mTypeError\u001b[0m                                 Traceback (most recent call last)",
      "Cell \u001b[1;32mIn[74], line 174\u001b[0m\n\u001b[0;32m    165\u001b[0m results \u001b[38;5;241m=\u001b[39m {\n\u001b[0;32m    166\u001b[0m     \u001b[38;5;124m\"\u001b[39m\u001b[38;5;124mMAE\u001b[39m\u001b[38;5;124m\"\u001b[39m: mae,\n\u001b[0;32m    167\u001b[0m     \u001b[38;5;124m\"\u001b[39m\u001b[38;5;124mMSE\u001b[39m\u001b[38;5;124m\"\u001b[39m: mse,\n\u001b[1;32m   (...)\u001b[0m\n\u001b[0;32m    170\u001b[0m     \u001b[38;5;124m\"\u001b[39m\u001b[38;5;124mtest_loss\u001b[39m\u001b[38;5;124m\"\u001b[39m: test_results[\u001b[38;5;241m0\u001b[39m][\u001b[38;5;124m'\u001b[39m\u001b[38;5;124mtest_loss\u001b[39m\u001b[38;5;124m'\u001b[39m]\n\u001b[0;32m    171\u001b[0m }\n\u001b[0;32m    173\u001b[0m \u001b[38;5;28;01mwith\u001b[39;00m \u001b[38;5;28mopen\u001b[39m(\u001b[38;5;124m\"\u001b[39m\u001b[38;5;124mmodel_results.json\u001b[39m\u001b[38;5;124m\"\u001b[39m, \u001b[38;5;124m\"\u001b[39m\u001b[38;5;124mw\u001b[39m\u001b[38;5;124m\"\u001b[39m) \u001b[38;5;28;01mas\u001b[39;00m f:\n\u001b[1;32m--> 174\u001b[0m     \u001b[43mjson\u001b[49m\u001b[38;5;241;43m.\u001b[39;49m\u001b[43mdump\u001b[49m\u001b[43m(\u001b[49m\u001b[43mresults\u001b[49m\u001b[43m,\u001b[49m\u001b[43m \u001b[49m\u001b[43mf\u001b[49m\u001b[43m,\u001b[49m\u001b[43m \u001b[49m\u001b[43mindent\u001b[49m\u001b[38;5;241;43m=\u001b[39;49m\u001b[38;5;241;43m4\u001b[39;49m\u001b[43m)\u001b[49m\n",
      "File \u001b[1;32m~\\AppData\\Local\\Programs\\Python\\Python312\\Lib\\json\\__init__.py:179\u001b[0m, in \u001b[0;36mdump\u001b[1;34m(obj, fp, skipkeys, ensure_ascii, check_circular, allow_nan, cls, indent, separators, default, sort_keys, **kw)\u001b[0m\n\u001b[0;32m    173\u001b[0m     iterable \u001b[38;5;241m=\u001b[39m \u001b[38;5;28mcls\u001b[39m(skipkeys\u001b[38;5;241m=\u001b[39mskipkeys, ensure_ascii\u001b[38;5;241m=\u001b[39mensure_ascii,\n\u001b[0;32m    174\u001b[0m         check_circular\u001b[38;5;241m=\u001b[39mcheck_circular, allow_nan\u001b[38;5;241m=\u001b[39mallow_nan, indent\u001b[38;5;241m=\u001b[39mindent,\n\u001b[0;32m    175\u001b[0m         separators\u001b[38;5;241m=\u001b[39mseparators,\n\u001b[0;32m    176\u001b[0m         default\u001b[38;5;241m=\u001b[39mdefault, sort_keys\u001b[38;5;241m=\u001b[39msort_keys, \u001b[38;5;241m*\u001b[39m\u001b[38;5;241m*\u001b[39mkw)\u001b[38;5;241m.\u001b[39miterencode(obj)\n\u001b[0;32m    177\u001b[0m \u001b[38;5;66;03m# could accelerate with writelines in some versions of Python, at\u001b[39;00m\n\u001b[0;32m    178\u001b[0m \u001b[38;5;66;03m# a debuggability cost\u001b[39;00m\n\u001b[1;32m--> 179\u001b[0m \u001b[43m\u001b[49m\u001b[38;5;28;43;01mfor\u001b[39;49;00m\u001b[43m \u001b[49m\u001b[43mchunk\u001b[49m\u001b[43m \u001b[49m\u001b[38;5;129;43;01min\u001b[39;49;00m\u001b[43m \u001b[49m\u001b[43miterable\u001b[49m\u001b[43m:\u001b[49m\n\u001b[0;32m    180\u001b[0m \u001b[43m    \u001b[49m\u001b[43mfp\u001b[49m\u001b[38;5;241;43m.\u001b[39;49m\u001b[43mwrite\u001b[49m\u001b[43m(\u001b[49m\u001b[43mchunk\u001b[49m\u001b[43m)\u001b[49m\n",
      "File \u001b[1;32m~\\AppData\\Local\\Programs\\Python\\Python312\\Lib\\json\\encoder.py:432\u001b[0m, in \u001b[0;36m_make_iterencode.<locals>._iterencode\u001b[1;34m(o, _current_indent_level)\u001b[0m\n\u001b[0;32m    430\u001b[0m     \u001b[38;5;28;01myield from\u001b[39;00m _iterencode_list(o, _current_indent_level)\n\u001b[0;32m    431\u001b[0m \u001b[38;5;28;01melif\u001b[39;00m \u001b[38;5;28misinstance\u001b[39m(o, \u001b[38;5;28mdict\u001b[39m):\n\u001b[1;32m--> 432\u001b[0m     \u001b[38;5;28;01myield from\u001b[39;00m _iterencode_dict(o, _current_indent_level)\n\u001b[0;32m    433\u001b[0m \u001b[38;5;28;01melse\u001b[39;00m:\n\u001b[0;32m    434\u001b[0m     \u001b[38;5;28;01mif\u001b[39;00m markers \u001b[38;5;129;01mis\u001b[39;00m \u001b[38;5;129;01mnot\u001b[39;00m \u001b[38;5;28;01mNone\u001b[39;00m:\n",
      "File \u001b[1;32m~\\AppData\\Local\\Programs\\Python\\Python312\\Lib\\json\\encoder.py:406\u001b[0m, in \u001b[0;36m_make_iterencode.<locals>._iterencode_dict\u001b[1;34m(dct, _current_indent_level)\u001b[0m\n\u001b[0;32m    404\u001b[0m         \u001b[38;5;28;01melse\u001b[39;00m:\n\u001b[0;32m    405\u001b[0m             chunks \u001b[38;5;241m=\u001b[39m _iterencode(value, _current_indent_level)\n\u001b[1;32m--> 406\u001b[0m         \u001b[38;5;28;01myield from\u001b[39;00m chunks\n\u001b[0;32m    407\u001b[0m \u001b[38;5;28;01mif\u001b[39;00m newline_indent \u001b[38;5;129;01mis\u001b[39;00m \u001b[38;5;129;01mnot\u001b[39;00m \u001b[38;5;28;01mNone\u001b[39;00m:\n\u001b[0;32m    408\u001b[0m     _current_indent_level \u001b[38;5;241m-\u001b[39m\u001b[38;5;241m=\u001b[39m \u001b[38;5;241m1\u001b[39m\n",
      "File \u001b[1;32m~\\AppData\\Local\\Programs\\Python\\Python312\\Lib\\json\\encoder.py:439\u001b[0m, in \u001b[0;36m_make_iterencode.<locals>._iterencode\u001b[1;34m(o, _current_indent_level)\u001b[0m\n\u001b[0;32m    437\u001b[0m         \u001b[38;5;28;01mraise\u001b[39;00m \u001b[38;5;167;01mValueError\u001b[39;00m(\u001b[38;5;124m\"\u001b[39m\u001b[38;5;124mCircular reference detected\u001b[39m\u001b[38;5;124m\"\u001b[39m)\n\u001b[0;32m    438\u001b[0m     markers[markerid] \u001b[38;5;241m=\u001b[39m o\n\u001b[1;32m--> 439\u001b[0m o \u001b[38;5;241m=\u001b[39m \u001b[43m_default\u001b[49m\u001b[43m(\u001b[49m\u001b[43mo\u001b[49m\u001b[43m)\u001b[49m\n\u001b[0;32m    440\u001b[0m \u001b[38;5;28;01myield from\u001b[39;00m _iterencode(o, _current_indent_level)\n\u001b[0;32m    441\u001b[0m \u001b[38;5;28;01mif\u001b[39;00m markers \u001b[38;5;129;01mis\u001b[39;00m \u001b[38;5;129;01mnot\u001b[39;00m \u001b[38;5;28;01mNone\u001b[39;00m:\n",
      "File \u001b[1;32m~\\AppData\\Local\\Programs\\Python\\Python312\\Lib\\json\\encoder.py:180\u001b[0m, in \u001b[0;36mJSONEncoder.default\u001b[1;34m(self, o)\u001b[0m\n\u001b[0;32m    161\u001b[0m \u001b[38;5;28;01mdef\u001b[39;00m \u001b[38;5;21mdefault\u001b[39m(\u001b[38;5;28mself\u001b[39m, o):\n\u001b[0;32m    162\u001b[0m \u001b[38;5;250m    \u001b[39m\u001b[38;5;124;03m\"\"\"Implement this method in a subclass such that it returns\u001b[39;00m\n\u001b[0;32m    163\u001b[0m \u001b[38;5;124;03m    a serializable object for ``o``, or calls the base implementation\u001b[39;00m\n\u001b[0;32m    164\u001b[0m \u001b[38;5;124;03m    (to raise a ``TypeError``).\u001b[39;00m\n\u001b[1;32m   (...)\u001b[0m\n\u001b[0;32m    178\u001b[0m \n\u001b[0;32m    179\u001b[0m \u001b[38;5;124;03m    \"\"\"\u001b[39;00m\n\u001b[1;32m--> 180\u001b[0m     \u001b[38;5;28;01mraise\u001b[39;00m \u001b[38;5;167;01mTypeError\u001b[39;00m(\u001b[38;5;124mf\u001b[39m\u001b[38;5;124m'\u001b[39m\u001b[38;5;124mObject of type \u001b[39m\u001b[38;5;132;01m{\u001b[39;00mo\u001b[38;5;241m.\u001b[39m\u001b[38;5;18m__class__\u001b[39m\u001b[38;5;241m.\u001b[39m\u001b[38;5;18m__name__\u001b[39m\u001b[38;5;132;01m}\u001b[39;00m\u001b[38;5;124m \u001b[39m\u001b[38;5;124m'\u001b[39m\n\u001b[0;32m    181\u001b[0m                     \u001b[38;5;124mf\u001b[39m\u001b[38;5;124m'\u001b[39m\u001b[38;5;124mis not JSON serializable\u001b[39m\u001b[38;5;124m'\u001b[39m)\n",
      "\u001b[1;31mTypeError\u001b[0m: Object of type float32 is not JSON serializable"
     ]
    }
   ],
   "source": [
    "import os\n",
    "import torch\n",
    "import matplotlib.pyplot as plt\n",
    "from pytorch_forecasting.models import TemporalFusionTransformer\n",
    "from pytorch_forecasting.metrics import QuantileLoss\n",
    "from pytorch_lightning import Trainer, LightningModule\n",
    "from pytorch_lightning.callbacks import EarlyStopping\n",
    "from pytorch_optimizer import Ranger  # Import the Ranger optimizer\n",
    "from pytorch_forecasting.data import TimeSeriesDataSet\n",
    "import pandas as pd\n",
    "import numpy as np\n",
    "from sklearn.metrics import mean_squared_error, r2_score\n",
    "import json\n",
    "\n",
    "# Set random seed for reproducibility\n",
    "def set_random_seed(seed=42):\n",
    "    torch.manual_seed(seed)\n",
    "    np.random.seed(seed)\n",
    "    if torch.cuda.is_available():\n",
    "        torch.cuda.manual_seed(seed)\n",
    "\n",
    "set_random_seed(42)\n",
    "\n",
    "# Initialize the Temporal Fusion Transformer model\n",
    "tft = TemporalFusionTransformer.from_dataset(\n",
    "    training,\n",
    "    optimizer=\"ranger\",  # Use Ranger optimizer\n",
    "    learning_rate=0.03,\n",
    "    hidden_size=16,\n",
    "    attention_head_size=1,\n",
    "    dropout=0.1,\n",
    "    hidden_continuous_size=8,\n",
    "    output_size=7,  # Number of quantiles (default is 7)\n",
    "    loss=QuantileLoss(),\n",
    "    log_interval=10,\n",
    "    reduce_on_plateau_patience=4,\n",
    ")\n",
    "\n",
    "# Define a LightningModule that wraps the Temporal Fusion Transformer model\n",
    "class TFTLightningModule(LightningModule):\n",
    "    def __init__(self, model):\n",
    "        super().__init__()\n",
    "        self.model = model\n",
    "        self.save_hyperparameters(ignore=[\"model\", \"loss\", \"logging_metrics\"])\n",
    "\n",
    "    def forward(self, x):\n",
    "        return self.model(x)\n",
    "\n",
    "    def training_step(self, batch, batch_idx):\n",
    "        x, y = batch\n",
    "        out = self.model(x)\n",
    "        y_pred = out[0]  # The model output is a tuple, 'y_pred' is the first element\n",
    "        loss = self.model.loss(y_pred, y)\n",
    "        self.log(\"train_loss\", loss, on_step=True, on_epoch=True, prog_bar=True, batch_size=x['encoder_target'].shape[0])\n",
    "        return loss\n",
    "\n",
    "    def validation_step(self, batch, batch_idx):\n",
    "        x, y = batch\n",
    "        out = self.model(x)\n",
    "        y_pred = out[0]  # The model output is a tuple, 'y_pred' is the first element\n",
    "        loss = self.model.loss(y_pred, y)\n",
    "        self.log(\"val_loss\", loss, prog_bar=True, batch_size=x['encoder_target'].shape[0])\n",
    "        return loss\n",
    "\n",
    "    def test_step(self, batch, batch_idx):\n",
    "        x, y = batch\n",
    "        out = self.model(x)\n",
    "        y_pred = out[0]  # The model output is a tuple, 'y_pred' is the first element\n",
    "        loss = self.model.loss(y_pred, y)\n",
    "        self.log(\"test_loss\", loss, prog_bar=True, batch_size=x['encoder_target'].shape[0])\n",
    "        return loss\n",
    "\n",
    "    def configure_optimizers(self):\n",
    "        optimizer = Ranger(self.model.parameters(), lr=self.model.hparams.learning_rate)\n",
    "        return optimizer\n",
    "\n",
    "# Wrap the Temporal Fusion Transformer model into the LightningModule\n",
    "tft_module = TFTLightningModule(tft)\n",
    "\n",
    "# Initialize PyTorch Lightning Trainer\n",
    "trainer = Trainer(\n",
    "    max_epochs=30,\n",
    "    accelerator=\"gpu\" if torch.cuda.is_available() else \"cpu\",  # Use GPU if available\n",
    "    devices=1,  # Use a single device\n",
    "    callbacks=[EarlyStopping(monitor=\"val_loss\", patience=3, verbose=True)],  # Early stopping callback\n",
    "    num_sanity_val_steps=0,  # Disable sanity check\n",
    "    deterministic=True,  # Ensure deterministic behavior for reproducibility\n",
    ")\n",
    "\n",
    "# Increase the `num_workers` parameter in DataLoaders for faster data loading\n",
    "train_dataloader = training.to_dataloader(train=True, batch_size=64, num_workers=4, persistent_workers=True)\n",
    "val_dataloader = validation.to_dataloader(train=False, batch_size=64, num_workers=4, persistent_workers=True)\n",
    "\n",
    "# Train the model\n",
    "trainer.fit(\n",
    "    tft_module,\n",
    "    train_dataloaders=train_dataloader,\n",
    "    val_dataloaders=val_dataloader\n",
    ")\n",
    "\n",
    "# Save the trained model\n",
    "torch.save(tft.state_dict(), \"tft_final_model.pth\")\n",
    "\n",
    "# Prepare test dataset and DataLoader\n",
    "test_dataset = TimeSeriesDataSet.from_dataset(\n",
    "    training,  \n",
    "    data,      \n",
    "    predict=True\n",
    ")\n",
    "\n",
    "test_dataloader = test_dataset.to_dataloader(train=False, batch_size=64)\n",
    "\n",
    "# Test the model on test data\n",
    "test_results = trainer.test(tft_module, dataloaders=test_dataloader)\n",
    "print(test_results)\n",
    "\n",
    "# 1. Get Raw Predictions\n",
    "raw_predictions = tft.predict(test_dataloader, mode=\"raw\")  \n",
    "\n",
    "# 2. Get Final Predictions\n",
    "predictions = tft.predict(test_dataloader, mode=\"prediction\")\n",
    "predictions_df = pd.DataFrame(predictions.numpy())\n",
    "\n",
    "# 3. Get Actual Values\n",
    "actuals = []\n",
    "for batch in iter(test_dataloader):\n",
    "    targets = batch[1][0]  \n",
    "    actuals.append(targets)\n",
    "\n",
    "actuals = torch.cat(actuals).numpy()\n",
    "actuals_df = pd.DataFrame(actuals)\n",
    "\n",
    "# 4. Plot Predicted vs Actual\n",
    "plt.figure(figsize=(10, 6))\n",
    "plt.plot(predictions_df.iloc[0], label=\"Predicted\")\n",
    "plt.plot(actuals_df.iloc[0], label=\"Actual\")\n",
    "plt.title(\"Predicted vs Actual\")\n",
    "plt.legend()\n",
    "plt.show()\n",
    "\n",
    "# 5. Save Predictions and Actuals to CSV\n",
    "combined_df = pd.concat([predictions_df, actuals_df], axis=1)\n",
    "combined_df.columns = [f\"prediction_{i}\" for i in range(predictions_df.shape[1])] + [f\"actual_{i}\" for i in range(actuals_df.shape[1])]\n",
    "combined_df.to_csv(\"predictions_vs_actuals.csv\", index=False)\n",
    "\n",
    "# 6. Calculate Mean Absolute Error (MAE), Mean Squared Error (MSE), Root Mean Squared Error (RMSE), and R2 Score\n",
    "mae = (predictions_df - actuals_df).abs().mean().mean()\n",
    "mse = mean_squared_error(actuals_df, predictions_df)\n",
    "rmse = np.sqrt(mse)\n",
    "r2 = r2_score(actuals_df, predictions_df)\n",
    "print(f\"Mean Absolute Error (MAE): {mae:.4f}\")\n",
    "print(f\"Mean Squared Error (MSE): {mse:.4f}\")\n",
    "print(f\"Root Mean Squared Error (RMSE): {rmse:.4f}\")\n",
    "print(f\"R2 Score: {r2:.4f}\")\n",
    "\n",
    "# 7. Plot Distribution of Predicted vs Actual\n",
    "plt.figure(figsize=(10, 6))\n",
    "plt.hist(predictions_df.values.flatten(), bins=50, alpha=0.5, label=\"Predicted\")\n",
    "plt.hist(actuals_df.values.flatten(), bins=50, alpha=0.5, label=\"Actual\")\n",
    "plt.title(\"Distribution of Predicted vs Actual\")\n",
    "plt.legend()\n",
    "plt.show()\n",
    "\n",
    "# 8. Save Detailed Results to JSON\n",
    "results = {\n",
    "    \"MAE\": mae,\n",
    "    \"MSE\": mse,\n",
    "    \"RMSE\": rmse,\n",
    "    \"R2\": r2,\n",
    "    \"test_loss\": test_results[0]['test_loss']\n",
    "}\n",
    "\n",
    "with open(\"model_results.json\", \"w\") as f:\n",
    "    json.dump(results, f, indent=4)\n"
   ]
  },
  {
   "cell_type": "code",
   "execution_count": 75,
   "id": "6ca123ae-5053-422b-8b4f-b257d36fb007",
   "metadata": {},
   "outputs": [
    {
     "name": "stderr",
     "output_type": "stream",
     "text": [
      "C:\\Users\\egeme\\PycharmProjects\\pythonProject1\\.venv\\Lib\\site-packages\\lightning\\pytorch\\utilities\\parsing.py:208: Attribute 'loss' is an instance of `nn.Module` and is already saved during checkpointing. It is recommended to ignore them using `self.save_hyperparameters(ignore=['loss'])`.\n",
      "C:\\Users\\egeme\\PycharmProjects\\pythonProject1\\.venv\\Lib\\site-packages\\lightning\\pytorch\\utilities\\parsing.py:208: Attribute 'logging_metrics' is an instance of `nn.Module` and is already saved during checkpointing. It is recommended to ignore them using `self.save_hyperparameters(ignore=['logging_metrics'])`.\n",
      "GPU available: False, used: False\n",
      "TPU available: False, using: 0 TPU cores\n",
      "HPU available: False, using: 0 HPUs\n",
      "\n",
      "  | Name  | Type                      | Params | Mode \n",
      "------------------------------------------------------------\n",
      "0 | model | TemporalFusionTransformer | 31.3 K | train\n",
      "------------------------------------------------------------\n",
      "31.3 K    Trainable params\n",
      "0         Non-trainable params\n",
      "31.3 K    Total params\n",
      "0.125     Total estimated model params size (MB)\n",
      "505       Modules in train mode\n",
      "0         Modules in eval mode\n"
     ]
    },
    {
     "data": {
      "application/vnd.jupyter.widget-view+json": {
       "model_id": "479858c07deb4013a2dc31a94819e6d4",
       "version_major": 2,
       "version_minor": 0
      },
      "text/plain": [
       "Training: |                                                                                                   …"
      ]
     },
     "metadata": {},
     "output_type": "display_data"
    },
    {
     "data": {
      "application/vnd.jupyter.widget-view+json": {
       "model_id": "",
       "version_major": 2,
       "version_minor": 0
      },
      "text/plain": [
       "Validation: |                                                                                                 …"
      ]
     },
     "metadata": {},
     "output_type": "display_data"
    },
    {
     "name": "stderr",
     "output_type": "stream",
     "text": [
      "Metric val_loss improved. New best score: 0.308\n"
     ]
    },
    {
     "data": {
      "application/vnd.jupyter.widget-view+json": {
       "model_id": "",
       "version_major": 2,
       "version_minor": 0
      },
      "text/plain": [
       "Validation: |                                                                                                 …"
      ]
     },
     "metadata": {},
     "output_type": "display_data"
    },
    {
     "name": "stderr",
     "output_type": "stream",
     "text": [
      "Metric val_loss improved by 0.009 >= min_delta = 0.0. New best score: 0.299\n"
     ]
    },
    {
     "data": {
      "application/vnd.jupyter.widget-view+json": {
       "model_id": "",
       "version_major": 2,
       "version_minor": 0
      },
      "text/plain": [
       "Validation: |                                                                                                 …"
      ]
     },
     "metadata": {},
     "output_type": "display_data"
    },
    {
     "data": {
      "application/vnd.jupyter.widget-view+json": {
       "model_id": "",
       "version_major": 2,
       "version_minor": 0
      },
      "text/plain": [
       "Validation: |                                                                                                 …"
      ]
     },
     "metadata": {},
     "output_type": "display_data"
    },
    {
     "name": "stderr",
     "output_type": "stream",
     "text": [
      "Metric val_loss improved by 0.014 >= min_delta = 0.0. New best score: 0.285\n"
     ]
    },
    {
     "data": {
      "application/vnd.jupyter.widget-view+json": {
       "model_id": "",
       "version_major": 2,
       "version_minor": 0
      },
      "text/plain": [
       "Validation: |                                                                                                 …"
      ]
     },
     "metadata": {},
     "output_type": "display_data"
    },
    {
     "name": "stderr",
     "output_type": "stream",
     "text": [
      "Metric val_loss improved by 0.010 >= min_delta = 0.0. New best score: 0.275\n"
     ]
    },
    {
     "data": {
      "application/vnd.jupyter.widget-view+json": {
       "model_id": "",
       "version_major": 2,
       "version_minor": 0
      },
      "text/plain": [
       "Validation: |                                                                                                 …"
      ]
     },
     "metadata": {},
     "output_type": "display_data"
    },
    {
     "data": {
      "application/vnd.jupyter.widget-view+json": {
       "model_id": "",
       "version_major": 2,
       "version_minor": 0
      },
      "text/plain": [
       "Validation: |                                                                                                 …"
      ]
     },
     "metadata": {},
     "output_type": "display_data"
    },
    {
     "data": {
      "application/vnd.jupyter.widget-view+json": {
       "model_id": "",
       "version_major": 2,
       "version_minor": 0
      },
      "text/plain": [
       "Validation: |                                                                                                 …"
      ]
     },
     "metadata": {},
     "output_type": "display_data"
    },
    {
     "name": "stderr",
     "output_type": "stream",
     "text": [
      "Monitored metric val_loss did not improve in the last 3 records. Best score: 0.275. Signaling Trainer to stop.\n",
      "C:\\Users\\egeme\\PycharmProjects\\pythonProject1\\.venv\\Lib\\site-packages\\pytorch_forecasting\\data\\timeseries.py:1188: UserWarning: If predicting, no randomization should be possible - setting stop_randomization=True\n",
      "  warnings.warn(\n",
      "C:\\Users\\egeme\\PycharmProjects\\pythonProject1\\.venv\\Lib\\site-packages\\pytorch_lightning\\trainer\\connectors\\data_connector.py:424: The 'test_dataloader' does not have many workers which may be a bottleneck. Consider increasing the value of the `num_workers` argument` to `num_workers=11` in the `DataLoader` to improve performance.\n"
     ]
    },
    {
     "data": {
      "application/vnd.jupyter.widget-view+json": {
       "model_id": "f1633fe64d474d039dec905f715c7ef7",
       "version_major": 2,
       "version_minor": 0
      },
      "text/plain": [
       "Testing: |                                                                                                    …"
      ]
     },
     "metadata": {},
     "output_type": "display_data"
    },
    {
     "name": "stderr",
     "output_type": "stream",
     "text": [
      "C:\\Users\\egeme\\PycharmProjects\\pythonProject1\\.venv\\Lib\\site-packages\\lightning\\pytorch\\trainer\\connectors\\data_connector.py:424: The 'predict_dataloader' does not have many workers which may be a bottleneck. Consider increasing the value of the `num_workers` argument` to `num_workers=11` in the `DataLoader` to improve performance.\n"
     ]
    },
    {
     "name": "stdout",
     "output_type": "stream",
     "text": [
      "────────────────────────────────────────────────────────────────────────────────────────────────────────────────────────────────────────────────────────────────────────────────────\n",
      "       Test metric             DataLoader 0\n",
      "────────────────────────────────────────────────────────────────────────────────────────────────────────────────────────────────────────────────────────────────────────────────────\n",
      "        test_loss           0.6754381656646729\n",
      "────────────────────────────────────────────────────────────────────────────────────────────────────────────────────────────────────────────────────────────────────────────────────\n",
      "[{'test_loss': 0.6754381656646729}]\n"
     ]
    },
    {
     "data": {
      "image/png": "[encoded data removed]",
      "text/plain": [
       "<Figure size 1000x600 with 1 Axes>"
      ]
     },
     "metadata": {},
     "output_type": "display_data"
    },
    {
     "name": "stdout",
     "output_type": "stream",
     "text": [
      "Mean Absolute Error (MAE): 0.9946\n",
      "Mean Squared Error (MSE): 2.1120\n",
      "Root Mean Squared Error (RMSE): 1.4533\n",
      "R2 Score: nan\n"
     ]
    },
    {
     "name": "stderr",
     "output_type": "stream",
     "text": [
      "C:\\Users\\egeme\\PycharmProjects\\pythonProject1\\.venv\\Lib\\site-packages\\sklearn\\metrics\\_regression.py:1211: UndefinedMetricWarning: R^2 score is not well-defined with less than two samples.\n",
      "  warnings.warn(msg, UndefinedMetricWarning)\n"
     ]
    }
   ],
   "source": [
    "import os\n",
    "import torch\n",
    "import matplotlib.pyplot as plt\n",
    "from pytorch_forecasting.models import TemporalFusionTransformer\n",
    "from pytorch_forecasting.metrics import QuantileLoss\n",
    "from pytorch_lightning import Trainer, LightningModule\n",
    "from pytorch_lightning.callbacks import EarlyStopping\n",
    "from pytorch_optimizer import Ranger  # Import the Ranger optimizer\n",
    "from pytorch_forecasting.data import TimeSeriesDataSet\n",
    "import pandas as pd\n",
    "import numpy as np\n",
    "from sklearn.metrics import mean_squared_error, r2_score\n",
    "import json\n",
    "\n",
    "# Set random seed for reproducibility\n",
    "def set_random_seed(seed=42):\n",
    "    torch.manual_seed(seed)\n",
    "    np.random.seed(seed)\n",
    "    if torch.cuda.is_available():\n",
    "        torch.cuda.manual_seed(seed)\n",
    "\n",
    "set_random_seed(42)\n",
    "\n",
    "# Initialize the Temporal Fusion Transformer model\n",
    "tft = TemporalFusionTransformer.from_dataset(\n",
    "    training,\n",
    "    optimizer=\"ranger\",  # Use Ranger optimizer\n",
    "    learning_rate=0.03,\n",
    "    hidden_size=16,\n",
    "    attention_head_size=1,\n",
    "    dropout=0.1,\n",
    "    hidden_continuous_size=8,\n",
    "    output_size=7,  # Number of quantiles (default is 7)\n",
    "    loss=QuantileLoss(),\n",
    "    log_interval=10,\n",
    "    reduce_on_plateau_patience=4,\n",
    ")\n",
    "\n",
    "# Define a LightningModule that wraps the Temporal Fusion Transformer model\n",
    "class TFTLightningModule(LightningModule):\n",
    "    def __init__(self, model):\n",
    "        super().__init__()\n",
    "        self.model = model\n",
    "        self.save_hyperparameters(ignore=[\"model\", \"loss\", \"logging_metrics\"])\n",
    "\n",
    "    def forward(self, x):\n",
    "        return self.model(x)\n",
    "\n",
    "    def training_step(self, batch, batch_idx):\n",
    "        x, y = batch\n",
    "        out = self.model(x)\n",
    "        y_pred = out[0]  # The model output is a tuple, 'y_pred' is the first element\n",
    "        loss = self.model.loss(y_pred, y)\n",
    "        self.log(\"train_loss\", loss, on_step=True, on_epoch=True, prog_bar=True, batch_size=x['encoder_target'].shape[0])\n",
    "        return loss\n",
    "\n",
    "    def validation_step(self, batch, batch_idx):\n",
    "        x, y = batch\n",
    "        out = self.model(x)\n",
    "        y_pred = out[0]  # The model output is a tuple, 'y_pred' is the first element\n",
    "        loss = self.model.loss(y_pred, y)\n",
    "        self.log(\"val_loss\", loss, prog_bar=True, batch_size=x['encoder_target'].shape[0])\n",
    "        return loss\n",
    "\n",
    "    def test_step(self, batch, batch_idx):\n",
    "        x, y = batch\n",
    "        out = self.model(x)\n",
    "        y_pred = out[0]  # The model output is a tuple, 'y_pred' is the first element\n",
    "        loss = self.model.loss(y_pred, y)\n",
    "        self.log(\"test_loss\", loss, prog_bar=True, batch_size=x['encoder_target'].shape[0])\n",
    "        return loss\n",
    "\n",
    "    def configure_optimizers(self):\n",
    "        optimizer = Ranger(self.model.parameters(), lr=self.model.hparams.learning_rate)\n",
    "        return optimizer\n",
    "\n",
    "# Wrap the Temporal Fusion Transformer model into the LightningModule\n",
    "tft_module = TFTLightningModule(tft)\n",
    "\n",
    "# Initialize PyTorch Lightning Trainer\n",
    "trainer = Trainer(\n",
    "    max_epochs=30,\n",
    "    accelerator=\"gpu\" if torch.cuda.is_available() else \"cpu\",  # Use GPU if available\n",
    "    devices=1,  # Use a single device\n",
    "    callbacks=[EarlyStopping(monitor=\"val_loss\", patience=3, verbose=True)],  # Early stopping callback\n",
    "    num_sanity_val_steps=0,  # Disable sanity check\n",
    "    deterministic=True,  # Ensure deterministic behavior for reproducibility\n",
    ")\n",
    "\n",
    "# Increase the `num_workers` parameter in DataLoaders for faster data loading\n",
    "train_dataloader = training.to_dataloader(train=True, batch_size=64, num_workers=4, persistent_workers=True)\n",
    "val_dataloader = validation.to_dataloader(train=False, batch_size=64, num_workers=4, persistent_workers=True)\n",
    "\n",
    "# Train the model\n",
    "trainer.fit(\n",
    "    tft_module,\n",
    "    train_dataloaders=train_dataloader,\n",
    "    val_dataloaders=val_dataloader\n",
    ")\n",
    "\n",
    "# Save the trained model\n",
    "torch.save(tft.state_dict(), \"tft_final_model.pth\")\n",
    "\n",
    "# Prepare test dataset and DataLoader\n",
    "test_dataset = TimeSeriesDataSet.from_dataset(\n",
    "    training,  \n",
    "    data,      \n",
    "    predict=True\n",
    ")\n",
    "\n",
    "test_dataloader = test_dataset.to_dataloader(train=False, batch_size=64)\n",
    "\n",
    "# Test the model on test data\n",
    "test_results = trainer.test(tft_module, dataloaders=test_dataloader)\n",
    "print(test_results)\n",
    "\n",
    "# 1. Get Raw Predictions\n",
    "raw_predictions = tft.predict(test_dataloader, mode=\"raw\")  \n",
    "\n",
    "# 2. Get Final Predictions\n",
    "predictions = tft.predict(test_dataloader, mode=\"prediction\")\n",
    "predictions_df = pd.DataFrame(predictions.numpy())\n",
    "\n",
    "# 3. Get Actual Values\n",
    "actuals = []\n",
    "for batch in iter(test_dataloader):\n",
    "    targets = batch[1][0]  \n",
    "    actuals.append(targets)\n",
    "\n",
    "actuals = torch.cat(actuals).numpy()\n",
    "actuals_df = pd.DataFrame(actuals)\n",
    "\n",
    "# 4. Plot Predicted vs Actual\n",
    "plt.figure(figsize=(10, 6))\n",
    "plt.plot(predictions_df.iloc[0], label=\"Predicted\")\n",
    "plt.plot(actuals_df.iloc[0], label=\"Actual\")\n",
    "plt.title(\"Predicted vs Actual\")\n",
    "plt.legend()\n",
    "plt.show()\n",
    "\n",
    "# 5. Save Predictions and Actuals to CSV\n",
    "combined_df = pd.concat([predictions_df, actuals_df], axis=1)\n",
    "combined_df.columns = [f\"prediction_{i}\" for i in range(predictions_df.shape[1])] + [f\"actual_{i}\" for i in range(actuals_df.shape[1])]\n",
    "combined_df.to_csv(\"predictions_vs_actuals.csv\", index=False)\n",
    "\n",
    "# 6. Calculate Mean Absolute Error (MAE), Mean Squared Error (MSE), Root Mean Squared Error (RMSE), and R2 Score\n",
    "mae = (predictions_df - actuals_df).abs().mean().mean()\n",
    "mse = mean_squared_error(actuals_df, predictions_df)\n",
    "rmse = np.sqrt(mse)\n",
    "r2 = r2_score(actuals_df, predictions_df)\n",
    "print(f\"Mean Absolute Error (MAE): {mae:.4f}\")\n",
    "print(f\"Mean Squared Error (MSE): {mse:.4f}\")\n",
    "print(f\"Root Mean Squared Error (RMSE): {rmse:.4f}\")\n",
    "print(f\"R2 Score: {r2:.4f}\")\n",
    "\n",
    "# Convert the values to float for JSON serialization\n",
    "results = {\n",
    "    \"MAE\": float(mae),\n",
    "    \"MSE\": float(mse),\n",
    "    \"RMSE\": float(rmse),\n",
    "    \"R2\": float(r2),\n",
    "    \"test_loss\": float(test_results[0]['test_loss'])\n",
    "}\n",
    "\n",
    "# 7. Save Detailed Results to JSON\n",
    "with open(\"model_results.json\", \"w\") as f:\n",
    "    json.dump(results, f, indent=4)\n"
   ]
  },
  {
   "cell_type": "code",
   "execution_count": 82,
   "id": "a432d92a-19c2-40fa-bb40-9a6a920989dd",
   "metadata": {},
   "outputs": [
    {
     "name": "stdout",
     "output_type": "stream",
     "text": [
      "Predictions and actual values saved to 'model_results/predictions_vs_actuals.csv'.\n",
      "Evaluation metrics saved to 'model_results/evaluation_metrics.json'.\n"
     ]
    }
   ],
   "source": [
    "import os\n",
    "import pandas as pd\n",
    "import json\n",
    "\n",
    "# Create a directory to save the results if it doesn't exist\n",
    "if not os.path.exists(\"model_results\"):\n",
    "    os.makedirs(\"model_results\")\n",
    "\n",
    "# Save predictions and actuals to a CSV file\n",
    "combined_df = pd.concat([predictions_df, actuals_df], axis=1)\n",
    "combined_df.columns = [f\"prediction_{i}\" for i in range(predictions_df.shape[1])] + [f\"actual_{i}\" for i in range(actuals_df.shape[1])]\n",
    "combined_df.to_csv(\"model_results/predictions_vs_actuals.csv\", index=False)\n",
    "print(\"Predictions and actual values saved to 'model_results/predictions_vs_actuals.csv'.\")\n",
    "\n",
    "# Save evaluation metrics to a JSON file\n",
    "results = {\n",
    "    \"Mean Absolute Error (MAE)\": float(mae),\n",
    "    \"Mean Squared Error (MSE)\": float(mse),\n",
    "    \"Root Mean Squared Error (RMSE)\": float(rmse),\n",
    "    \"R2 Score\": float(r2),\n",
    "    \"Test Loss\": float(test_results[0]['test_loss'])\n",
    "}\n",
    "\n",
    "with open(\"model_results/evaluation_metrics.json\", \"w\") as f:\n",
    "    json.dump(results, f, indent=4)\n",
    "\n",
    "print(\"Evaluation metrics saved to 'model_results/evaluation_metrics.json'.\")\n"
   ]
  },
  {
   "cell_type": "code",
   "execution_count": 83,
   "id": "080d74df-55f8-4356-9dab-eb2926635805",
   "metadata": {},
   "outputs": [
    {
     "name": "stdout",
     "output_type": "stream",
     "text": [
      "Predicted vs Actual graph saved to 'model_results/predicted_vs_actual.png'.\n"
     ]
    },
    {
     "data": {
      "image/png": "[encoded data removed]",
      "text/plain": [
       "<Figure size 1000x600 with 1 Axes>"
      ]
     },
     "metadata": {},
     "output_type": "display_data"
    },
    {
     "name": "stdout",
     "output_type": "stream",
     "text": [
      "Residuals histogram saved to 'model_results/residuals_histogram.png'.\n"
     ]
    },
    {
     "data": {
      "image/png": "[encoded data removed]",
      "text/plain": [
       "<Figure size 1000x600 with 1 Axes>"
      ]
     },
     "metadata": {},
     "output_type": "display_data"
    },
    {
     "name": "stdout",
     "output_type": "stream",
     "text": [
      "Scatter plot saved to 'model_results/scatter_predictions_vs_actuals.png'.\n"
     ]
    },
    {
     "data": {
      "image/png": "[encoded data removed]",
      "text/plain": [
       "<Figure size 1000x600 with 1 Axes>"
      ]
     },
     "metadata": {},
     "output_type": "display_data"
    }
   ],
   "source": [
    "import matplotlib.pyplot as plt\n",
    "\n",
    "# Plot and save the Predicted vs Actual values graph\n",
    "plt.figure(figsize=(10, 6))\n",
    "plt.plot(predictions_df.iloc[0], label=\"Predicted\")\n",
    "plt.plot(actuals_df.iloc[0], label=\"Actual\")\n",
    "plt.title(\"Predicted vs Actual\")\n",
    "plt.legend()\n",
    "plt.savefig(\"model_results/predicted_vs_actual.png\")  # Save the plot as PNG\n",
    "print(\"Predicted vs Actual graph saved to 'model_results/predicted_vs_actual.png'.\")\n",
    "plt.show()\n",
    "\n",
    "# Calculate residuals (errors) between predictions and actuals\n",
    "residuals = predictions_df - actuals_df\n",
    "\n",
    "# Plot and save the residuals histogram\n",
    "plt.figure(figsize=(10, 6))\n",
    "plt.hist(residuals.values.flatten(), bins=50, alpha=0.75, color='red')\n",
    "plt.title(\"Residuals (Prediction Errors) Histogram\")\n",
    "plt.xlabel(\"Error\")\n",
    "plt.ylabel(\"Frequency\")\n",
    "plt.savefig(\"model_results/residuals_histogram.png\")  # Save the plot as PNG\n",
    "print(\"Residuals histogram saved to 'model_results/residuals_histogram.png'.\")\n",
    "plt.show()\n",
    "\n",
    "# Scatter plot of predictions vs actuals\n",
    "plt.figure(figsize=(10, 6))\n",
    "plt.scatter(actuals_df.values.flatten(), predictions_df.values.flatten(), alpha=0.5)\n",
    "plt.plot([actuals_df.min().min(), actuals_df.max().max()], [actuals_df.min().min(), actuals_df.max().max()], color='blue', lw=2, label=\"45-degree line\")\n",
    "plt.title(\"Predictions vs Actual Values (Scatter Plot)\")\n",
    "plt.xlabel(\"Actual Values\")\n",
    "plt.ylabel(\"Predicted Values\")\n",
    "plt.legend()\n",
    "plt.savefig(\"model_results/scatter_predictions_vs_actuals.png\")  # Save the plot as PNG\n",
    "print(\"Scatter plot saved to 'model_results/scatter_predictions_vs_actuals.png'.\")\n",
    "plt.show()\n"
   ]
  },
  {
   "cell_type": "code",
   "execution_count": 84,
   "id": "72cc6fd6-8612-4c49-be5e-7a1afc96d7b6",
   "metadata": {},
   "outputs": [
    {
     "name": "stdout",
     "output_type": "stream",
     "text": [
      "Residuals Summary:\n",
      "              0         1         2         3         4         5         6  \\\n",
      "count  1.000000  1.000000  1.000000  1.000000  1.000000  1.000000  1.000000   \n",
      "mean   0.694374  0.058168 -2.544361 -3.090503 -1.838473 -1.016926 -0.308909   \n",
      "std         NaN       NaN       NaN       NaN       NaN       NaN       NaN   \n",
      "min    0.694374  0.058168 -2.544361 -3.090503 -1.838473 -1.016926 -0.308909   \n",
      "25%    0.694374  0.058168 -2.544361 -3.090503 -1.838473 -1.016926 -0.308909   \n",
      "50%    0.694374  0.058168 -2.544361 -3.090503 -1.838473 -1.016926 -0.308909   \n",
      "75%    0.694374  0.058168 -2.544361 -3.090503 -1.838473 -1.016926 -0.308909   \n",
      "max    0.694374  0.058168 -2.544361 -3.090503 -1.838473 -1.016926 -0.308909   \n",
      "\n",
      "              7         8         9  \n",
      "count  1.000000  1.000000  1.000000  \n",
      "mean  -0.303628  0.000006 -0.090257  \n",
      "std         NaN       NaN       NaN  \n",
      "min   -0.303628  0.000006 -0.090257  \n",
      "25%   -0.303628  0.000006 -0.090257  \n",
      "50%   -0.303628  0.000006 -0.090257  \n",
      "75%   -0.303628  0.000006 -0.090257  \n",
      "max   -0.303628  0.000006 -0.090257  \n",
      "Residuals summary saved to 'model_results/residuals_summary.csv'.\n"
     ]
    }
   ],
   "source": [
    "# Statistical summary of the residuals (errors)\n",
    "residuals_summary = residuals.describe()\n",
    "print(\"Residuals Summary:\")\n",
    "print(residuals_summary)\n",
    "\n",
    "# Save residuals summary to a CSV file\n",
    "residuals_summary.to_csv(\"model_results/residuals_summary.csv\")\n",
    "print(\"Residuals summary saved to 'model_results/residuals_summary.csv'.\")\n"
   ]
  },
  {
   "cell_type": "code",
   "execution_count": 85,
   "id": "a16c9165-08d4-4a34-b48e-9bfd409fa253",
   "metadata": {},
   "outputs": [
    {
     "name": "stdout",
     "output_type": "stream",
     "text": [
      "Predicted values:\n",
      "          0         1         2         3         4         5         6  \\\n",
      "0  1.194374  1.158168  1.455639  1.909497  2.061527  2.083074  2.091091   \n",
      "\n",
      "          7         8         9  \n",
      "0  2.096372  2.100006  2.109743  \n",
      "\n",
      "Actual values:\n",
      "     0    1    2    3    4    5    6    7    8    9\n",
      "0  0.5  1.1  4.0  5.0  3.9  3.1  2.4  2.4  2.1  2.2\n"
     ]
    }
   ],
   "source": [
    "# Print the first few rows of predicted and actual values\n",
    "print(\"Predicted values:\")\n",
    "print(predictions_df.head())\n",
    "\n",
    "print(\"\\nActual values:\")\n",
    "print(actuals_df.head())"
   ]
  },
  {
   "cell_type": "code",
   "execution_count": 86,
   "id": "a52a8a12-236b-4486-b69f-5b2a25ae4fc5",
   "metadata": {},
   "outputs": [
    {
     "name": "stdout",
     "output_type": "stream",
     "text": [
      "Predictions and actual values saved to 'predictions_vs_actuals_full.csv'.\n"
     ]
    }
   ],
   "source": [
    "# Combine predictions and actuals for a side-by-side comparison\n",
    "combined_df = pd.concat([predictions_df, actuals_df], axis=1)\n",
    "combined_df.columns = [f\"prediction_{i}\" for i in range(predictions_df.shape[1])] + [f\"actual_{i}\" for i in range(actuals_df.shape[1])]\n",
    "\n",
    "# Save to CSV for easy viewing\n",
    "combined_df.to_csv(\"predictions_vs_actuals_full.csv\", index=False)\n",
    "\n",
    "print(\"Predictions and actual values saved to 'predictions_vs_actuals_full.csv'.\")"
   ]
  },
  {
   "cell_type": "code",
   "execution_count": 87,
   "id": "ee25b1d3-5143-4a66-a62c-c18a19f26fee",
   "metadata": {},
   "outputs": [
    {
     "name": "stdout",
     "output_type": "stream",
     "text": [
      "R² Score: -0.2601\n"
     ]
    }
   ],
   "source": [
    "from sklearn.metrics import r2_score\n",
    "\n",
    "# Calculate R² score\n",
    "r2 = r2_score(actuals_df.values.flatten(), predictions_df.values.flatten())\n",
    "\n",
    "# Print the R² score\n",
    "print(f\"R² Score: {r2:.4f}\")\n"
   ]
  },
  {
   "cell_type": "code",
   "execution_count": 89,
   "id": "19bda706-3610-4bef-a129-66a592743b8b",
   "metadata": {},
   "outputs": [
    {
     "name": "stdout",
     "output_type": "stream",
     "text": [
      "Collecting optuna\n",
      "  Downloading optuna-4.0.0-py3-none-any.whl.metadata (16 kB)\n",
      "Collecting alembic>=1.5.0 (from optuna)\n",
      "  Downloading alembic-1.13.3-py3-none-any.whl.metadata (7.4 kB)\n",
      "Collecting colorlog (from optuna)\n",
      "  Downloading colorlog-6.8.2-py3-none-any.whl.metadata (10 kB)\n",
      "Requirement already satisfied: numpy in c:\\users\\egeme\\pycharmprojects\\pythonproject1\\.venv\\lib\\site-packages (from optuna) (1.26.4)\n",
      "Requirement already satisfied: packaging>=20.0 in c:\\users\\egeme\\pycharmprojects\\pythonproject1\\.venv\\lib\\site-packages (from optuna) (24.1)\n",
      "Collecting sqlalchemy>=1.3.0 (from optuna)\n",
      "  Downloading SQLAlchemy-2.0.35-cp312-cp312-win_amd64.whl.metadata (9.9 kB)\n",
      "Requirement already satisfied: tqdm in c:\\users\\egeme\\pycharmprojects\\pythonproject1\\.venv\\lib\\site-packages (from optuna) (4.66.5)\n",
      "Requirement already satisfied: PyYAML in c:\\users\\egeme\\pycharmprojects\\pythonproject1\\.venv\\lib\\site-packages (from optuna) (6.0.2)\n",
      "Collecting Mako (from alembic>=1.5.0->optuna)\n",
      "  Downloading Mako-1.3.5-py3-none-any.whl.metadata (2.9 kB)\n",
      "Requirement already satisfied: typing-extensions>=4 in c:\\users\\egeme\\pycharmprojects\\pythonproject1\\.venv\\lib\\site-packages (from alembic>=1.5.0->optuna) (4.12.2)\n",
      "Collecting greenlet!=0.4.17 (from sqlalchemy>=1.3.0->optuna)\n",
      "  Downloading greenlet-3.1.1-cp312-cp312-win_amd64.whl.metadata (3.9 kB)\n",
      "Requirement already satisfied: colorama in c:\\users\\egeme\\pycharmprojects\\pythonproject1\\.venv\\lib\\site-packages (from colorlog->optuna) (0.4.6)\n",
      "Requirement already satisfied: MarkupSafe>=0.9.2 in c:\\users\\egeme\\pycharmprojects\\pythonproject1\\.venv\\lib\\site-packages (from Mako->alembic>=1.5.0->optuna) (2.1.5)\n",
      "Downloading optuna-4.0.0-py3-none-any.whl (362 kB)\n",
      "Downloading alembic-1.13.3-py3-none-any.whl (233 kB)\n",
      "Downloading SQLAlchemy-2.0.35-cp312-cp312-win_amd64.whl (2.1 MB)\n",
      "   ---------------------------------------- 0.0/2.1 MB ? eta -:--:--\n",
      "   ---------------------------------------- 2.1/2.1 MB 14.6 MB/s eta 0:00:00\n",
      "Downloading colorlog-6.8.2-py3-none-any.whl (11 kB)\n",
      "Downloading greenlet-3.1.1-cp312-cp312-win_amd64.whl (299 kB)\n",
      "Downloading Mako-1.3.5-py3-none-any.whl (78 kB)\n",
      "Installing collected packages: Mako, greenlet, colorlog, sqlalchemy, alembic, optuna\n",
      "Successfully installed Mako-1.3.5 alembic-1.13.3 colorlog-6.8.2 greenlet-3.1.1 optuna-4.0.0 sqlalchemy-2.0.35\n"
     ]
    }
   ],
   "source": [
    "!pip install optuna"
   ]
  },
  {
   "cell_type": "code",
   "execution_count": 97,
   "id": "da667c77-4718-410e-8d47-9b148ea8a80a",
   "metadata": {},
   "outputs": [
    {
     "name": "stderr",
     "output_type": "stream",
     "text": [
      "C:\\Users\\egeme\\PycharmProjects\\pythonProject1\\.venv\\Lib\\site-packages\\lightning\\pytorch\\utilities\\parsing.py:208: Attribute 'loss' is an instance of `nn.Module` and is already saved during checkpointing. It is recommended to ignore them using `self.save_hyperparameters(ignore=['loss'])`.\n",
      "C:\\Users\\egeme\\PycharmProjects\\pythonProject1\\.venv\\Lib\\site-packages\\lightning\\pytorch\\utilities\\parsing.py:208: Attribute 'logging_metrics' is an instance of `nn.Module` and is already saved during checkpointing. It is recommended to ignore them using `self.save_hyperparameters(ignore=['logging_metrics'])`.\n",
      "GPU available: False, used: False\n",
      "TPU available: False, using: 0 TPU cores\n",
      "HPU available: False, using: 0 HPUs\n",
      "\n",
      "  | Name  | Type                      | Params | Mode \n",
      "------------------------------------------------------------\n",
      "0 | model | TemporalFusionTransformer | 293 K  | train\n",
      "------------------------------------------------------------\n",
      "293 K     Trainable params\n",
      "0         Non-trainable params\n",
      "293 K     Total params\n",
      "1.175     Total estimated model params size (MB)\n",
      "507       Modules in train mode\n",
      "0         Modules in eval mode\n"
     ]
    },
    {
     "data": {
      "application/vnd.jupyter.widget-view+json": {
       "model_id": "",
       "version_major": 2,
       "version_minor": 0
      },
      "text/plain": [
       "Sanity Checking: |                                                                                            …"
      ]
     },
     "metadata": {},
     "output_type": "display_data"
    },
    {
     "data": {
      "application/vnd.jupyter.widget-view+json": {
       "model_id": "093e74e7ea11453ea9f2f64735097c32",
       "version_major": 2,
       "version_minor": 0
      },
      "text/plain": [
       "Training: |                                                                                                   …"
      ]
     },
     "metadata": {},
     "output_type": "display_data"
    },
    {
     "data": {
      "application/vnd.jupyter.widget-view+json": {
       "model_id": "",
       "version_major": 2,
       "version_minor": 0
      },
      "text/plain": [
       "Validation: |                                                                                                 …"
      ]
     },
     "metadata": {},
     "output_type": "display_data"
    },
    {
     "name": "stderr",
     "output_type": "stream",
     "text": [
      "Metric val_loss improved. New best score: 0.310\n"
     ]
    },
    {
     "data": {
      "application/vnd.jupyter.widget-view+json": {
       "model_id": "",
       "version_major": 2,
       "version_minor": 0
      },
      "text/plain": [
       "Validation: |                                                                                                 …"
      ]
     },
     "metadata": {},
     "output_type": "display_data"
    },
    {
     "data": {
      "application/vnd.jupyter.widget-view+json": {
       "model_id": "",
       "version_major": 2,
       "version_minor": 0
      },
      "text/plain": [
       "Validation: |                                                                                                 …"
      ]
     },
     "metadata": {},
     "output_type": "display_data"
    },
    {
     "name": "stderr",
     "output_type": "stream",
     "text": [
      "Metric val_loss improved by 0.009 >= min_delta = 0.0. New best score: 0.301\n"
     ]
    },
    {
     "data": {
      "application/vnd.jupyter.widget-view+json": {
       "model_id": "",
       "version_major": 2,
       "version_minor": 0
      },
      "text/plain": [
       "Validation: |                                                                                                 …"
      ]
     },
     "metadata": {},
     "output_type": "display_data"
    },
    {
     "name": "stderr",
     "output_type": "stream",
     "text": [
      "Metric val_loss improved by 0.000 >= min_delta = 0.0. New best score: 0.301\n"
     ]
    },
    {
     "data": {
      "application/vnd.jupyter.widget-view+json": {
       "model_id": "",
       "version_major": 2,
       "version_minor": 0
      },
      "text/plain": [
       "Validation: |                                                                                                 …"
      ]
     },
     "metadata": {},
     "output_type": "display_data"
    },
    {
     "name": "stderr",
     "output_type": "stream",
     "text": [
      "Metric val_loss improved by 0.014 >= min_delta = 0.0. New best score: 0.287\n"
     ]
    },
    {
     "data": {
      "application/vnd.jupyter.widget-view+json": {
       "model_id": "",
       "version_major": 2,
       "version_minor": 0
      },
      "text/plain": [
       "Validation: |                                                                                                 …"
      ]
     },
     "metadata": {},
     "output_type": "display_data"
    },
    {
     "name": "stderr",
     "output_type": "stream",
     "text": [
      "Metric val_loss improved by 0.003 >= min_delta = 0.0. New best score: 0.284\n"
     ]
    },
    {
     "data": {
      "application/vnd.jupyter.widget-view+json": {
       "model_id": "",
       "version_major": 2,
       "version_minor": 0
      },
      "text/plain": [
       "Validation: |                                                                                                 …"
      ]
     },
     "metadata": {},
     "output_type": "display_data"
    },
    {
     "data": {
      "application/vnd.jupyter.widget-view+json": {
       "model_id": "",
       "version_major": 2,
       "version_minor": 0
      },
      "text/plain": [
       "Validation: |                                                                                                 …"
      ]
     },
     "metadata": {},
     "output_type": "display_data"
    },
    {
     "data": {
      "application/vnd.jupyter.widget-view+json": {
       "model_id": "",
       "version_major": 2,
       "version_minor": 0
      },
      "text/plain": [
       "Validation: |                                                                                                 …"
      ]
     },
     "metadata": {},
     "output_type": "display_data"
    },
    {
     "data": {
      "application/vnd.jupyter.widget-view+json": {
       "model_id": "",
       "version_major": 2,
       "version_minor": 0
      },
      "text/plain": [
       "Validation: |                                                                                                 …"
      ]
     },
     "metadata": {},
     "output_type": "display_data"
    },
    {
     "data": {
      "application/vnd.jupyter.widget-view+json": {
       "model_id": "",
       "version_major": 2,
       "version_minor": 0
      },
      "text/plain": [
       "Validation: |                                                                                                 …"
      ]
     },
     "metadata": {},
     "output_type": "display_data"
    },
    {
     "name": "stderr",
     "output_type": "stream",
     "text": [
      "Monitored metric val_loss did not improve in the last 5 records. Best score: 0.284. Signaling Trainer to stop.\n",
      "C:\\Users\\egeme\\PycharmProjects\\pythonProject1\\.venv\\Lib\\site-packages\\pytorch_lightning\\trainer\\connectors\\data_connector.py:424: The 'test_dataloader' does not have many workers which may be a bottleneck. Consider increasing the value of the `num_workers` argument` to `num_workers=11` in the `DataLoader` to improve performance.\n"
     ]
    },
    {
     "data": {
      "application/vnd.jupyter.widget-view+json": {
       "model_id": "26708bed6a4d4beabdecfe03ec5ed9ef",
       "version_major": 2,
       "version_minor": 0
      },
      "text/plain": [
       "Testing: |                                                                                                    …"
      ]
     },
     "metadata": {},
     "output_type": "display_data"
    },
    {
     "name": "stdout",
     "output_type": "stream",
     "text": [
      "────────────────────────────────────────────────────────────────────────────────────────────────────────────────────────────────────────────────────────────────────────────────────\n",
      "       Test metric             DataLoader 0\n",
      "────────────────────────────────────────────────────────────────────────────────────────────────────────────────────────────────────────────────────────────────────────────────────\n",
      "        test_loss           1.1464083194732666\n",
      "────────────────────────────────────────────────────────────────────────────────────────────────────────────────────────────────────────────────────────────────────────────────────\n",
      "[{'test_loss': 1.1464083194732666}]\n"
     ]
    },
    {
     "name": "stderr",
     "output_type": "stream",
     "text": [
      "C:\\Users\\egeme\\PycharmProjects\\pythonProject1\\.venv\\Lib\\site-packages\\lightning\\pytorch\\trainer\\connectors\\data_connector.py:424: The 'predict_dataloader' does not have many workers which may be a bottleneck. Consider increasing the value of the `num_workers` argument` to `num_workers=11` in the `DataLoader` to improve performance.\n",
      "C:\\Users\\egeme\\PycharmProjects\\pythonProject1\\.venv\\Lib\\site-packages\\sklearn\\metrics\\_regression.py:1211: UndefinedMetricWarning: R^2 score is not well-defined with less than two samples.\n",
      "  warnings.warn(msg, UndefinedMetricWarning)\n"
     ]
    },
    {
     "name": "stdout",
     "output_type": "stream",
     "text": [
      "Mean Absolute Error (MAE): 1.5306\n",
      "Mean Squared Error (MSE): 3.3451\n",
      "Root Mean Squared Error (RMSE): 1.8289\n",
      "R2 Score: nan\n"
     ]
    },
    {
     "data": {
      "image/png": "[encoded data removed]",
      "text/plain": [
       "<Figure size 1000x600 with 1 Axes>"
      ]
     },
     "metadata": {},
     "output_type": "display_data"
    }
   ],
   "source": [
    "import torch\n",
    "from pytorch_forecasting.models import TemporalFusionTransformer\n",
    "from pytorch_lightning import Trainer, LightningModule\n",
    "from pytorch_lightning.callbacks import EarlyStopping\n",
    "from pytorch_optimizer import Ranger  # Import the Ranger optimizer\n",
    "from pytorch_forecasting.metrics import QuantileLoss\n",
    "import matplotlib.pyplot as plt\n",
    "import pandas as pd\n",
    "import numpy as np\n",
    "from sklearn.metrics import mean_squared_error, r2_score\n",
    "\n",
    "# Set random seed for reproducibility\n",
    "def set_random_seed(seed=42):\n",
    "    torch.manual_seed(seed)\n",
    "    np.random.seed(seed)\n",
    "    if torch.cuda.is_available():\n",
    "        torch.cuda.manual_seed(seed)\n",
    "\n",
    "set_random_seed(42)\n",
    "\n",
    "# Initialize the Temporal Fusion Transformer model with optimized parameters\n",
    "tft = TemporalFusionTransformer.from_dataset(\n",
    "    training,\n",
    "    optimizer=\"ranger\",  # Use Ranger optimizer\n",
    "    learning_rate=0.005,  # Lower learning rate for better optimization\n",
    "    hidden_size=64,  # Increased hidden size\n",
    "    attention_head_size=2,  # Use 2 attention heads\n",
    "    dropout=0.05,  # Lower dropout rate for better generalization\n",
    "    hidden_continuous_size=16,  # Increased continuous hidden size\n",
    "    output_size=7,  # Number of quantiles (default is 7)\n",
    "    loss=QuantileLoss(),\n",
    "    log_interval=10,\n",
    "    reduce_on_plateau_patience=4,\n",
    ")\n",
    "\n",
    "# Define a LightningModule that wraps the Temporal Fusion Transformer model\n",
    "class TFTLightningModule(LightningModule):\n",
    "    def __init__(self, model):\n",
    "        super().__init__()\n",
    "        self.model = model\n",
    "\n",
    "    def forward(self, x):\n",
    "        return self.model(x)\n",
    "\n",
    "    def training_step(self, batch, batch_idx):\n",
    "        x, y = batch\n",
    "        out = self.model(x)\n",
    "        y_pred = out[0]\n",
    "        loss = self.model.loss(y_pred, y)\n",
    "        self.log(\"train_loss\", loss, on_step=True, on_epoch=True, prog_bar=True, batch_size=x['encoder_target'].shape[0])\n",
    "        return loss\n",
    "\n",
    "    def validation_step(self, batch, batch_idx):\n",
    "        x, y = batch\n",
    "        out = self.model(x)\n",
    "        y_pred = out[0]\n",
    "        loss = self.model.loss(y_pred, y)\n",
    "        self.log(\"val_loss\", loss, prog_bar=True, batch_size=x['encoder_target'].shape[0])\n",
    "        return loss\n",
    "\n",
    "    def test_step(self, batch, batch_idx):\n",
    "        x, y = batch\n",
    "        out = self.model(x)\n",
    "        y_pred = out[0]\n",
    "        loss = self.model.loss(y_pred, y)\n",
    "        self.log(\"test_loss\", loss, prog_bar=True, batch_size=x['encoder_target'].shape[0])\n",
    "        return loss\n",
    "\n",
    "    def configure_optimizers(self):\n",
    "        optimizer = Ranger(self.model.parameters(), lr=self.model.hparams.learning_rate)\n",
    "        return optimizer\n",
    "\n",
    "# Wrap the Temporal Fusion Transformer model into the LightningModule\n",
    "tft_module = TFTLightningModule(tft)\n",
    "\n",
    "# Initialize PyTorch Lightning Trainer\n",
    "trainer = Trainer(\n",
    "    max_epochs=50,  # Increased epochs for more training\n",
    "    accelerator=\"gpu\" if torch.cuda.is_available() else \"cpu\",  # Use GPU if available\n",
    "    devices=1,\n",
    "    callbacks=[EarlyStopping(monitor=\"val_loss\", patience=5, verbose=True)],\n",
    "    deterministic=True,\n",
    ")\n",
    "\n",
    "# Train the model\n",
    "trainer.fit(\n",
    "    tft_module,\n",
    "    train_dataloaders=train_dataloader,\n",
    "    val_dataloaders=val_dataloader\n",
    ")\n",
    "\n",
    "# Save the trained model\n",
    "torch.save(tft.state_dict(), \"tft_optimized_model.pth\")\n",
    "\n",
    "# Evaluate the model on test data\n",
    "test_results = trainer.test(tft_module, dataloaders=test_dataloader)\n",
    "print(test_results)\n",
    "\n",
    "# Get Final Predictions\n",
    "predictions = tft.predict(test_dataloader, mode=\"prediction\")\n",
    "predictions_df = pd.DataFrame(predictions.numpy())\n",
    "\n",
    "# Get Actual Values\n",
    "actuals = []\n",
    "for batch in iter(test_dataloader):\n",
    "    targets = batch[1][0]\n",
    "    actuals.append(targets)\n",
    "\n",
    "actuals = torch.cat(actuals).numpy()\n",
    "actuals_df = pd.DataFrame(actuals)\n",
    "\n",
    "# Calculate metrics\n",
    "mae = (predictions_df - actuals_df).abs().mean().mean()\n",
    "mse = mean_squared_error(actuals_df, predictions_df)\n",
    "rmse = np.sqrt(mse)\n",
    "r2 = r2_score(actuals_df, predictions_df)\n",
    "\n",
    "print(f\"Mean Absolute Error (MAE): {mae:.4f}\")\n",
    "print(f\"Mean Squared Error (MSE): {mse:.4f}\")\n",
    "print(f\"Root Mean Squared Error (RMSE): {rmse:.4f}\")\n",
    "print(f\"R2 Score: {r2:.4f}\")\n",
    "\n",
    "# Plot Predicted vs Actual\n",
    "plt.figure(figsize=(10, 6))\n",
    "plt.plot(predictions_df.iloc[0], label=\"Predicted\")\n",
    "plt.plot(actuals_df.iloc[0], label=\"Actual\")\n",
    "plt.title(\"Predicted vs Actual\")\n",
    "plt.legend()\n",
    "plt.show()\n",
    "\n",
    "# Save Predictions and Actuals to CSV\n",
    "combined_df = pd.concat([predictions_df, actuals_df], axis=1)\n",
    "combined_df.columns = [f\"prediction_{i}\" for i in range(predictions_df.shape[1])] + [f\"actual_{i}\" for i in range(actuals_df.shape[1])]\n",
    "combined_df.to_csv(\"predictions_vs_actuals.csv\", index=False)\n"
   ]
  },
  {
   "cell_type": "code",
   "execution_count": 98,
   "id": "b4cf82ae-4d3c-4ea6-a807-943569e56cda",
   "metadata": {},
   "outputs": [
    {
     "data": {
      "text/plain": [
       "-0.9957382678985596"
      ]
     },
     "execution_count": 98,
     "metadata": {},
     "output_type": "execute_result"
    }
   ],
   "source": [
    "r2 = r2_score(actuals_df.values.flatten(), predictions_df.values.flatten())\n",
    "r2"
   ]
  },
  {
   "cell_type": "code",
   "execution_count": null,
   "id": "d84da80e-42c3-4d55-9581-00bd47fda340",
   "metadata": {},
   "outputs": [],
   "source": []
  }
 ],
 "metadata": {
  "kernelspec": {
   "display_name": "Python 3 (ipykernel)",
   "language": "python",
   "name": "python3"
  },
  "language_info": {
   "codemirror_mode": {
    "name": "ipython",
    "version": 3
   },
   "file_extension": ".py",
   "mimetype": "text/x-python",
   "name": "python",
   "nbconvert_exporter": "python",
   "pygments_lexer": "ipython3",
   "version": "3.12.7"
  }
 },
 "nbformat": 4,
 "nbformat_minor": 5
}

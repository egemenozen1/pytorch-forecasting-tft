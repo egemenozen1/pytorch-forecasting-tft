{
 "cells": [
  {
   "cell_type": "markdown",
   "id": "c2d8743ad5e6b242",
   "metadata": {},
   "source": [
    "# Air Quality Time Series Forecasting Project\n",
    "\n",
    "## Introduction\n",
    "This project aims to analyze and build a predictive model for air quality using time series data from the UCI Air Quality dataset. Air quality is a crucial factor for human health and environmental monitoring. Accurate predictions of air pollutants like CO, NOx, and other gases can support better decision-making for air quality management and policy development.\n",
    "\n",
    "## Objectives\n",
    "1. **Data Exploration and Cleaning**: Understand and preprocess the dataset for time series analysis.\n",
    "2. **Feature Engineering**: Create suitable features to enhance the predictive power of the model.\n",
    "3. **Model Training and Evaluation**: Build and train a time series forecasting model to predict air quality levels.\n",
    "4. **Result Analysis and Visualization**: Visualize and interpret the results for actionable insights.\n",
    "\n",
    "**Dataset Source**: The dataset is sourced from the UCI Machine Learning Repository and contains measurements from an air quality monitoring station in Italy.\n",
    "\n",
    "## Table of Contents\n",
    "1. [Loading and Exploring Data](#loading-exploring-data)\n",
    "2. [Data Cleaning and Preparation](#data-cleaning-preparation)\n",
    "3. [Feature Engineering and Model Training](#feature-engineering-model-training)"
   ]
  },
  {
   "cell_type": "markdown",
   "id": "15621bac22a09271",
   "metadata": {},
   "source": [
    "## Loading and Exploring Data <a id=\"loading-exploring-data\"></a>\n",
    "The dataset is provided as a `.csv` file and contains measurements of air pollutants and meteorological variables. We will load the data using the `pandas` library, explore its structure, and check for any issues like missing values."
   ]
  },
  {
   "cell_type": "code",
   "id": "initial_id",
   "metadata": {
    "ExecuteTime": {
     "end_time": "2024-10-09T21:22:54.260305Z",
     "start_time": "2024-10-09T21:22:52.194389Z"
    }
   },
   "source": [
    "import pandas as pd\n",
    "import numpy as np\n",
    "\n",
    "# Path to the data file\n",
    "file_path = '../data/AirQualityUCI.xlsx'  # Make sure the path is correct\n",
    "\n",
    "# Load the data\n",
    "data = pd.read_excel(file_path)  # Load Excel file\n",
    "\n",
    "# Display the first few rows of the data\n",
    "print(data.head())"
   ],
   "outputs": [
    {
     "name": "stdout",
     "output_type": "stream",
     "text": [
      "        Date      Time  CO(GT)  PT08.S1(CO)  NMHC(GT)   C6H6(GT)  \\\n",
      "0 2004-03-10  18:00:00     2.6      1360.00       150  11.881723   \n",
      "1 2004-03-10  19:00:00     2.0      1292.25       112   9.397165   \n",
      "2 2004-03-10  20:00:00     2.2      1402.00        88   8.997817   \n",
      "3 2004-03-10  21:00:00     2.2      1375.50        80   9.228796   \n",
      "4 2004-03-10  22:00:00     1.6      1272.25        51   6.518224   \n",
      "\n",
      "   PT08.S2(NMHC)  NOx(GT)  PT08.S3(NOx)  NO2(GT)  PT08.S4(NO2)  PT08.S5(O3)  \\\n",
      "0        1045.50    166.0       1056.25    113.0       1692.00      1267.50   \n",
      "1         954.75    103.0       1173.75     92.0       1558.75       972.25   \n",
      "2         939.25    131.0       1140.00    114.0       1554.50      1074.00   \n",
      "3         948.25    172.0       1092.00    122.0       1583.75      1203.25   \n",
      "4         835.50    131.0       1205.00    116.0       1490.00      1110.00   \n",
      "\n",
      "       T         RH        AH  \n",
      "0  13.60  48.875001  0.757754  \n",
      "1  13.30  47.700000  0.725487  \n",
      "2  11.90  53.975000  0.750239  \n",
      "3  11.00  60.000000  0.786713  \n",
      "4  11.15  59.575001  0.788794  \n"
     ]
    }
   ],
   "execution_count": 2
  },
  {
   "cell_type": "markdown",
   "id": "bdede995f882b5ff",
   "metadata": {},
   "source": [
    "## Output Analysis: Step 1\n",
    "The output displays the first few rows of the dataset. The columns include:\n",
    "- `Date`, `Time`: Date and time of the observation.\n",
    "- Air quality measurements like `CO(GT)`, `NMHC(GT)`, `C6H6(GT)`.\n",
    "- Various other features such as temperature (`T`), relative humidity (`RH`), and absolute humidity (`AH`).\n",
    "\n",
    "This step provides an overview of the dataset's structure and the types of data we'll be working with."
   ]
  },
  {
   "cell_type": "markdown",
   "id": "fd74951ac486cf2e",
   "metadata": {},
   "source": [
    "# Step 2: Combine Date and Time Columns\n",
    "To make the dataset suitable for time series analysis, we'll combine the `Date` and `Time` columns into a single `datetime` column."
   ]
  },
  {
   "cell_type": "code",
   "id": "4f60f69ceb09b633",
   "metadata": {
    "ExecuteTime": {
     "end_time": "2024-10-09T21:22:54.370417Z",
     "start_time": "2024-10-09T21:22:54.332044Z"
    }
   },
   "source": [
    "# Combine 'Date' and 'Time' columns into a single datetime column\n",
    "data['datetime'] = pd.to_datetime(data['Date'].astype(str) + ' ' + data['Time'].astype(str))\n",
    "\n",
    "# Drop the original 'Date' and 'Time' columns\n",
    "data.drop(columns=['Date', 'Time'], inplace=True)\n",
    "\n",
    "# Display the first few rows with new datetime column\n",
    "data.head()"
   ],
   "outputs": [
    {
     "data": {
      "text/plain": [
       "   CO(GT)  PT08.S1(CO)  NMHC(GT)   C6H6(GT)  PT08.S2(NMHC)  NOx(GT)  \\\n",
       "0     2.6      1360.00       150  11.881723        1045.50    166.0   \n",
       "1     2.0      1292.25       112   9.397165         954.75    103.0   \n",
       "2     2.2      1402.00        88   8.997817         939.25    131.0   \n",
       "3     2.2      1375.50        80   9.228796         948.25    172.0   \n",
       "4     1.6      1272.25        51   6.518224         835.50    131.0   \n",
       "\n",
       "   PT08.S3(NOx)  NO2(GT)  PT08.S4(NO2)  PT08.S5(O3)      T         RH  \\\n",
       "0       1056.25    113.0       1692.00      1267.50  13.60  48.875001   \n",
       "1       1173.75     92.0       1558.75       972.25  13.30  47.700000   \n",
       "2       1140.00    114.0       1554.50      1074.00  11.90  53.975000   \n",
       "3       1092.00    122.0       1583.75      1203.25  11.00  60.000000   \n",
       "4       1205.00    116.0       1490.00      1110.00  11.15  59.575001   \n",
       "\n",
       "         AH            datetime  \n",
       "0  0.757754 2004-03-10 18:00:00  \n",
       "1  0.725487 2004-03-10 19:00:00  \n",
       "2  0.750239 2004-03-10 20:00:00  \n",
       "3  0.786713 2004-03-10 21:00:00  \n",
       "4  0.788794 2004-03-10 22:00:00  "
      ],
      "text/html": [
       "<div>\n",
       "<style scoped>\n",
       "    .dataframe tbody tr th:only-of-type {\n",
       "        vertical-align: middle;\n",
       "    }\n",
       "\n",
       "    .dataframe tbody tr th {\n",
       "        vertical-align: top;\n",
       "    }\n",
       "\n",
       "    .dataframe thead th {\n",
       "        text-align: right;\n",
       "    }\n",
       "</style>\n",
       "<table border=\"1\" class=\"dataframe\">\n",
       "  <thead>\n",
       "    <tr style=\"text-align: right;\">\n",
       "      <th></th>\n",
       "      <th>CO(GT)</th>\n",
       "      <th>PT08.S1(CO)</th>\n",
       "      <th>NMHC(GT)</th>\n",
       "      <th>C6H6(GT)</th>\n",
       "      <th>PT08.S2(NMHC)</th>\n",
       "      <th>NOx(GT)</th>\n",
       "      <th>PT08.S3(NOx)</th>\n",
       "      <th>NO2(GT)</th>\n",
       "      <th>PT08.S4(NO2)</th>\n",
       "      <th>PT08.S5(O3)</th>\n",
       "      <th>T</th>\n",
       "      <th>RH</th>\n",
       "      <th>AH</th>\n",
       "      <th>datetime</th>\n",
       "    </tr>\n",
       "  </thead>\n",
       "  <tbody>\n",
       "    <tr>\n",
       "      <th>0</th>\n",
       "      <td>2.6</td>\n",
       "      <td>1360.00</td>\n",
       "      <td>150</td>\n",
       "      <td>11.881723</td>\n",
       "      <td>1045.50</td>\n",
       "      <td>166.0</td>\n",
       "      <td>1056.25</td>\n",
       "      <td>113.0</td>\n",
       "      <td>1692.00</td>\n",
       "      <td>1267.50</td>\n",
       "      <td>13.60</td>\n",
       "      <td>48.875001</td>\n",
       "      <td>0.757754</td>\n",
       "      <td>2004-03-10 18:00:00</td>\n",
       "    </tr>\n",
       "    <tr>\n",
       "      <th>1</th>\n",
       "      <td>2.0</td>\n",
       "      <td>1292.25</td>\n",
       "      <td>112</td>\n",
       "      <td>9.397165</td>\n",
       "      <td>954.75</td>\n",
       "      <td>103.0</td>\n",
       "      <td>1173.75</td>\n",
       "      <td>92.0</td>\n",
       "      <td>1558.75</td>\n",
       "      <td>972.25</td>\n",
       "      <td>13.30</td>\n",
       "      <td>47.700000</td>\n",
       "      <td>0.725487</td>\n",
       "      <td>2004-03-10 19:00:00</td>\n",
       "    </tr>\n",
       "    <tr>\n",
       "      <th>2</th>\n",
       "      <td>2.2</td>\n",
       "      <td>1402.00</td>\n",
       "      <td>88</td>\n",
       "      <td>8.997817</td>\n",
       "      <td>939.25</td>\n",
       "      <td>131.0</td>\n",
       "      <td>1140.00</td>\n",
       "      <td>114.0</td>\n",
       "      <td>1554.50</td>\n",
       "      <td>1074.00</td>\n",
       "      <td>11.90</td>\n",
       "      <td>53.975000</td>\n",
       "      <td>0.750239</td>\n",
       "      <td>2004-03-10 20:00:00</td>\n",
       "    </tr>\n",
       "    <tr>\n",
       "      <th>3</th>\n",
       "      <td>2.2</td>\n",
       "      <td>1375.50</td>\n",
       "      <td>80</td>\n",
       "      <td>9.228796</td>\n",
       "      <td>948.25</td>\n",
       "      <td>172.0</td>\n",
       "      <td>1092.00</td>\n",
       "      <td>122.0</td>\n",
       "      <td>1583.75</td>\n",
       "      <td>1203.25</td>\n",
       "      <td>11.00</td>\n",
       "      <td>60.000000</td>\n",
       "      <td>0.786713</td>\n",
       "      <td>2004-03-10 21:00:00</td>\n",
       "    </tr>\n",
       "    <tr>\n",
       "      <th>4</th>\n",
       "      <td>1.6</td>\n",
       "      <td>1272.25</td>\n",
       "      <td>51</td>\n",
       "      <td>6.518224</td>\n",
       "      <td>835.50</td>\n",
       "      <td>131.0</td>\n",
       "      <td>1205.00</td>\n",
       "      <td>116.0</td>\n",
       "      <td>1490.00</td>\n",
       "      <td>1110.00</td>\n",
       "      <td>11.15</td>\n",
       "      <td>59.575001</td>\n",
       "      <td>0.788794</td>\n",
       "      <td>2004-03-10 22:00:00</td>\n",
       "    </tr>\n",
       "  </tbody>\n",
       "</table>\n",
       "</div>"
      ]
     },
     "execution_count": 3,
     "metadata": {},
     "output_type": "execute_result"
    }
   ],
   "execution_count": 3
  },
  {
   "cell_type": "markdown",
   "id": "e9dbb73ca6553baa",
   "metadata": {},
   "source": [
    "## Output Analysis: Step 2\n",
    "The `datetime` column is created by combining the `Date` and `Time` columns. The original `Date` and `Time` columns are dropped to avoid redundancy.\n",
    "This ensures that the model understands the data as a time series, and the datetime format is correct for further processing."
   ]
  },
  {
   "cell_type": "markdown",
   "id": "65b3796081a59de1",
   "metadata": {},
   "source": [
    "# Step 3: Handle Missing Values\n",
    "The dataset may contain missing values represented by `-200`. We'll replace `-200` with `NaN` to handle them properly and check for missing data in each column."
   ]
  },
  {
   "cell_type": "code",
   "id": "de69486303f94abd",
   "metadata": {
    "ExecuteTime": {
     "end_time": "2024-10-09T21:22:54.477591Z",
     "start_time": "2024-10-09T21:22:54.468391Z"
    }
   },
   "source": [
    "# Replace -200 with NaN to handle missing values\n",
    "data.replace(-200, np.nan, inplace=True)\n",
    "\n",
    "# Check for missing values in each column\n",
    "missing_values = data.isnull().sum()\n",
    "missing_values"
   ],
   "outputs": [
    {
     "data": {
      "text/plain": [
       "CO(GT)           1683\n",
       "PT08.S1(CO)       366\n",
       "NMHC(GT)         8443\n",
       "C6H6(GT)          366\n",
       "PT08.S2(NMHC)     366\n",
       "NOx(GT)          1639\n",
       "PT08.S3(NOx)      366\n",
       "NO2(GT)          1642\n",
       "PT08.S4(NO2)      366\n",
       "PT08.S5(O3)       366\n",
       "T                 366\n",
       "RH                366\n",
       "AH                366\n",
       "datetime            0\n",
       "dtype: int64"
      ]
     },
     "execution_count": 4,
     "metadata": {},
     "output_type": "execute_result"
    }
   ],
   "execution_count": 4
  },
  {
   "cell_type": "markdown",
   "id": "c42e0739e7686c0d",
   "metadata": {},
   "source": [
    "## Output Analysis: Step 3\n",
    "The output lists the number of missing values in each column. Some columns have significant missing values (e.g., `NMHC(GT)`), which we need to handle before proceeding with analysis or modeling."
   ]
  },
  {
   "cell_type": "markdown",
   "id": "7369e1a76fca723c",
   "metadata": {},
   "source": [
    "# Step 4: Impute Missing Values\n",
    "We will handle missing values by imputing them with the median of each column. This is because the median is robust to outliers and provides a stable estimate for missing data."
   ]
  },
  {
   "cell_type": "code",
   "id": "1e89b7f7c998ca8b",
   "metadata": {
    "ExecuteTime": {
     "end_time": "2024-10-09T21:22:54.614375Z",
     "start_time": "2024-10-09T21:22:54.603215Z"
    }
   },
   "source": [
    "# Impute missing values with the median of each column\n",
    "data.fillna(data.median(), inplace=True)\n",
    "\n",
    "# Check if there are any remaining missing values\n",
    "missing_values_after_imputation = data.isnull().sum()\n",
    "missing_values_after_imputation"
   ],
   "outputs": [
    {
     "data": {
      "text/plain": [
       "CO(GT)           0\n",
       "PT08.S1(CO)      0\n",
       "NMHC(GT)         0\n",
       "C6H6(GT)         0\n",
       "PT08.S2(NMHC)    0\n",
       "NOx(GT)          0\n",
       "PT08.S3(NOx)     0\n",
       "NO2(GT)          0\n",
       "PT08.S4(NO2)     0\n",
       "PT08.S5(O3)      0\n",
       "T                0\n",
       "RH               0\n",
       "AH               0\n",
       "datetime         0\n",
       "dtype: int64"
      ]
     },
     "execution_count": 5,
     "metadata": {},
     "output_type": "execute_result"
    }
   ],
   "execution_count": 5
  },
  {
   "cell_type": "markdown",
   "id": "d7a3fb5b8bb2e691",
   "metadata": {},
   "source": [
    "## Output Analysis: Step 4\n",
    "The missing values in each column have been successfully imputed using the median. As a result, all columns now have `0` missing values. The data is now clean and ready for further feature engineering or analysis. This step ensures that our model does not encounter any issues due to missing data during training."
   ]
  },
  {
   "cell_type": "markdown",
   "id": "6007865da53d728c",
   "metadata": {},
   "source": [
    "# Step 5: Feature Engineering for Time Series\n",
    "We will extract additional time-based features from the `datetime` column. These features will help the model better understand the temporal aspects of the data and improve its performance."
   ]
  },
  {
   "cell_type": "code",
   "id": "b0349ba8fe70d4b7",
   "metadata": {
    "ExecuteTime": {
     "end_time": "2024-10-09T21:22:54.829915Z",
     "start_time": "2024-10-09T21:22:54.809840Z"
    }
   },
   "source": [
    "# Extract time-based features from the datetime column\n",
    "data['hour'] = data['datetime'].dt.hour\n",
    "data['day'] = data['datetime'].dt.day\n",
    "data['month'] = data['datetime'].dt.month\n",
    "data['day_of_week'] = data['datetime'].dt.dayofweek\n",
    "data['is_weekend'] = data['day_of_week'].apply(lambda x: 1 if x >= 5 else 0)\n",
    "\n",
    "# Display the first few rows with new time-based features\n",
    "data.head()"
   ],
   "outputs": [
    {
     "data": {
      "text/plain": [
       "   CO(GT)  PT08.S1(CO)  NMHC(GT)   C6H6(GT)  PT08.S2(NMHC)  NOx(GT)  \\\n",
       "0     2.6      1360.00     150.0  11.881723        1045.50    166.0   \n",
       "1     2.0      1292.25     112.0   9.397165         954.75    103.0   \n",
       "2     2.2      1402.00      88.0   8.997817         939.25    131.0   \n",
       "3     2.2      1375.50      80.0   9.228796         948.25    172.0   \n",
       "4     1.6      1272.25      51.0   6.518224         835.50    131.0   \n",
       "\n",
       "   PT08.S3(NOx)  NO2(GT)  PT08.S4(NO2)  PT08.S5(O3)      T         RH  \\\n",
       "0       1056.25    113.0       1692.00      1267.50  13.60  48.875001   \n",
       "1       1173.75     92.0       1558.75       972.25  13.30  47.700000   \n",
       "2       1140.00    114.0       1554.50      1074.00  11.90  53.975000   \n",
       "3       1092.00    122.0       1583.75      1203.25  11.00  60.000000   \n",
       "4       1205.00    116.0       1490.00      1110.00  11.15  59.575001   \n",
       "\n",
       "         AH            datetime  hour  day  month  day_of_week  is_weekend  \n",
       "0  0.757754 2004-03-10 18:00:00    18   10      3            2           0  \n",
       "1  0.725487 2004-03-10 19:00:00    19   10      3            2           0  \n",
       "2  0.750239 2004-03-10 20:00:00    20   10      3            2           0  \n",
       "3  0.786713 2004-03-10 21:00:00    21   10      3            2           0  \n",
       "4  0.788794 2004-03-10 22:00:00    22   10      3            2           0  "
      ],
      "text/html": [
       "<div>\n",
       "<style scoped>\n",
       "    .dataframe tbody tr th:only-of-type {\n",
       "        vertical-align: middle;\n",
       "    }\n",
       "\n",
       "    .dataframe tbody tr th {\n",
       "        vertical-align: top;\n",
       "    }\n",
       "\n",
       "    .dataframe thead th {\n",
       "        text-align: right;\n",
       "    }\n",
       "</style>\n",
       "<table border=\"1\" class=\"dataframe\">\n",
       "  <thead>\n",
       "    <tr style=\"text-align: right;\">\n",
       "      <th></th>\n",
       "      <th>CO(GT)</th>\n",
       "      <th>PT08.S1(CO)</th>\n",
       "      <th>NMHC(GT)</th>\n",
       "      <th>C6H6(GT)</th>\n",
       "      <th>PT08.S2(NMHC)</th>\n",
       "      <th>NOx(GT)</th>\n",
       "      <th>PT08.S3(NOx)</th>\n",
       "      <th>NO2(GT)</th>\n",
       "      <th>PT08.S4(NO2)</th>\n",
       "      <th>PT08.S5(O3)</th>\n",
       "      <th>T</th>\n",
       "      <th>RH</th>\n",
       "      <th>AH</th>\n",
       "      <th>datetime</th>\n",
       "      <th>hour</th>\n",
       "      <th>day</th>\n",
       "      <th>month</th>\n",
       "      <th>day_of_week</th>\n",
       "      <th>is_weekend</th>\n",
       "    </tr>\n",
       "  </thead>\n",
       "  <tbody>\n",
       "    <tr>\n",
       "      <th>0</th>\n",
       "      <td>2.6</td>\n",
       "      <td>1360.00</td>\n",
       "      <td>150.0</td>\n",
       "      <td>11.881723</td>\n",
       "      <td>1045.50</td>\n",
       "      <td>166.0</td>\n",
       "      <td>1056.25</td>\n",
       "      <td>113.0</td>\n",
       "      <td>1692.00</td>\n",
       "      <td>1267.50</td>\n",
       "      <td>13.60</td>\n",
       "      <td>48.875001</td>\n",
       "      <td>0.757754</td>\n",
       "      <td>2004-03-10 18:00:00</td>\n",
       "      <td>18</td>\n",
       "      <td>10</td>\n",
       "      <td>3</td>\n",
       "      <td>2</td>\n",
       "      <td>0</td>\n",
       "    </tr>\n",
       "    <tr>\n",
       "      <th>1</th>\n",
       "      <td>2.0</td>\n",
       "      <td>1292.25</td>\n",
       "      <td>112.0</td>\n",
       "      <td>9.397165</td>\n",
       "      <td>954.75</td>\n",
       "      <td>103.0</td>\n",
       "      <td>1173.75</td>\n",
       "      <td>92.0</td>\n",
       "      <td>1558.75</td>\n",
       "      <td>972.25</td>\n",
       "      <td>13.30</td>\n",
       "      <td>47.700000</td>\n",
       "      <td>0.725487</td>\n",
       "      <td>2004-03-10 19:00:00</td>\n",
       "      <td>19</td>\n",
       "      <td>10</td>\n",
       "      <td>3</td>\n",
       "      <td>2</td>\n",
       "      <td>0</td>\n",
       "    </tr>\n",
       "    <tr>\n",
       "      <th>2</th>\n",
       "      <td>2.2</td>\n",
       "      <td>1402.00</td>\n",
       "      <td>88.0</td>\n",
       "      <td>8.997817</td>\n",
       "      <td>939.25</td>\n",
       "      <td>131.0</td>\n",
       "      <td>1140.00</td>\n",
       "      <td>114.0</td>\n",
       "      <td>1554.50</td>\n",
       "      <td>1074.00</td>\n",
       "      <td>11.90</td>\n",
       "      <td>53.975000</td>\n",
       "      <td>0.750239</td>\n",
       "      <td>2004-03-10 20:00:00</td>\n",
       "      <td>20</td>\n",
       "      <td>10</td>\n",
       "      <td>3</td>\n",
       "      <td>2</td>\n",
       "      <td>0</td>\n",
       "    </tr>\n",
       "    <tr>\n",
       "      <th>3</th>\n",
       "      <td>2.2</td>\n",
       "      <td>1375.50</td>\n",
       "      <td>80.0</td>\n",
       "      <td>9.228796</td>\n",
       "      <td>948.25</td>\n",
       "      <td>172.0</td>\n",
       "      <td>1092.00</td>\n",
       "      <td>122.0</td>\n",
       "      <td>1583.75</td>\n",
       "      <td>1203.25</td>\n",
       "      <td>11.00</td>\n",
       "      <td>60.000000</td>\n",
       "      <td>0.786713</td>\n",
       "      <td>2004-03-10 21:00:00</td>\n",
       "      <td>21</td>\n",
       "      <td>10</td>\n",
       "      <td>3</td>\n",
       "      <td>2</td>\n",
       "      <td>0</td>\n",
       "    </tr>\n",
       "    <tr>\n",
       "      <th>4</th>\n",
       "      <td>1.6</td>\n",
       "      <td>1272.25</td>\n",
       "      <td>51.0</td>\n",
       "      <td>6.518224</td>\n",
       "      <td>835.50</td>\n",
       "      <td>131.0</td>\n",
       "      <td>1205.00</td>\n",
       "      <td>116.0</td>\n",
       "      <td>1490.00</td>\n",
       "      <td>1110.00</td>\n",
       "      <td>11.15</td>\n",
       "      <td>59.575001</td>\n",
       "      <td>0.788794</td>\n",
       "      <td>2004-03-10 22:00:00</td>\n",
       "      <td>22</td>\n",
       "      <td>10</td>\n",
       "      <td>3</td>\n",
       "      <td>2</td>\n",
       "      <td>0</td>\n",
       "    </tr>\n",
       "  </tbody>\n",
       "</table>\n",
       "</div>"
      ]
     },
     "execution_count": 6,
     "metadata": {},
     "output_type": "execute_result"
    }
   ],
   "execution_count": 6
  },
  {
   "cell_type": "markdown",
   "id": "bfc060cdd24d170b",
   "metadata": {},
   "source": [
    "## Output Analysis: Step 5\n",
    "The `datetime` column was successfully recreated by combining `Date` and `Time`. Additionally, new time-based features were extracted:\n",
    "\n",
    "- `hour`: The hour of the observation.\n",
    "- `day`: The day of the month.\n",
    "- `month`: The month of the observation.\n",
    "- `day_of_week`: The day of the week (0 = Monday, 6 = Sunday).\n",
    "- `is_weekend`: A binary flag indicating whether the observation occurred on a weekend.\n",
    "\n",
    "The first few rows confirm that these new features have been correctly added. These features will help the model better understand patterns and seasonality in the data."
   ]
  },
  {
   "cell_type": "markdown",
   "id": "a39d445222b476f2",
   "metadata": {},
   "source": [
    "# Step 6: Detecting and Handling Outliers\n",
    "Outliers can significantly affect the model's performance, so it's crucial to detect and handle them effectively. We'll use the IQR (Interquartile Range) method to detect potential outliers and either remove or cap them."
   ]
  },
  {
   "cell_type": "code",
   "id": "432c8b395d3cc2dd",
   "metadata": {
    "ExecuteTime": {
     "end_time": "2024-10-09T21:22:55.705974Z",
     "start_time": "2024-10-09T21:22:55.104219Z"
    }
   },
   "source": [
    "import matplotlib.pyplot as plt\n",
    "\n",
    "# Plotting boxplots to visualize outliers in numerical columns\n",
    "plt.figure(figsize=(15, 10))\n",
    "data.drop(columns=['datetime', 'hour', 'day', 'month', 'day_of_week', 'is_weekend']).boxplot()\n",
    "plt.xticks(rotation=90)\n",
    "plt.title('Boxplots of Numerical Columns for Outlier Detection')\n",
    "plt.show()\n"
   ],
   "outputs": [
    {
     "data": {
      "text/plain": [
       "<Figure size 1500x1000 with 1 Axes>"
      ],
      "image/png": "[encoded data removed]"
     },
     "metadata": {},
     "output_type": "display_data"
    }
   ],
   "execution_count": 7
  },
  {
   "cell_type": "code",
   "id": "6b1daf404f56682f",
   "metadata": {
    "ExecuteTime": {
     "end_time": "2024-10-09T21:22:55.779854Z",
     "start_time": "2024-10-09T21:22:55.748513Z"
    }
   },
   "source": [
    "# Calculating Q1, Q3, and IQR for each numerical column\n",
    "Q1 = data.quantile(0.25)\n",
    "Q3 = data.quantile(0.75)\n",
    "IQR = Q3 - Q1\n",
    "\n",
    "# Defining the boundaries for detecting outliers\n",
    "lower_bound = Q1 - 1.5 * IQR\n",
    "upper_bound = Q3 + 1.5 * IQR\n",
    "\n",
    "# Filtering out rows that contain outliers beyond the IQR boundaries\n",
    "outliers_filtered_data = data[~((data < lower_bound) | (data > upper_bound)).any(axis=1)]\n",
    "\n",
    "# Displaying the shape of the data before and after outlier removal\n",
    "data_shape_before = data.shape\n",
    "data_shape_after = outliers_filtered_data.shape\n",
    "\n",
    "data_shape_before, data_shape_after"
   ],
   "outputs": [
    {
     "data": {
      "text/plain": [
       "((9357, 19), (7173, 19))"
      ]
     },
     "execution_count": 8,
     "metadata": {},
     "output_type": "execute_result"
    }
   ],
   "execution_count": 8
  },
  {
   "cell_type": "markdown",
   "id": "566b53e087494610",
   "metadata": {},
   "source": [
    "## Output Analysis: Step 6\n",
    "The output will show the shape of the data before and after removing outliers:\n",
    "- **Before Outlier Removal**: Original number of rows and columns in the dataset.\n",
    "- **After Outlier Removal**: Reduced number of rows after removing rows that contained extreme outliers.\n",
    "\n",
    "This step ensures that the model is trained on clean data without extreme anomalies that could hinder its performance."
   ]
  },
  {
   "cell_type": "markdown",
   "id": "881d8126cde3583c",
   "metadata": {},
   "source": [
    "# Step 7: Verifying the Data Distribution After Outlier Handling\n",
    "To confirm that the outliers have been effectively removed or capped, we'll plot the boxplots again for numerical columns. This helps us verify the improved data distribution."
   ]
  },
  {
   "cell_type": "code",
   "id": "e8da4e826504de51",
   "metadata": {
    "ExecuteTime": {
     "end_time": "2024-10-09T21:22:56.090578Z",
     "start_time": "2024-10-09T21:22:55.919857Z"
    }
   },
   "source": [
    "# Plotting boxplots to verify data distribution after handling outliers\n",
    "plt.figure(figsize=(15, 10))\n",
    "outliers_filtered_data.drop(columns=['datetime', 'hour', 'day', 'month', 'day_of_week', 'is_weekend']).boxplot()\n",
    "plt.xticks(rotation=90)\n",
    "plt.title('Boxplots After Outlier Handling')\n",
    "plt.show()"
   ],
   "outputs": [
    {
     "data": {
      "text/plain": [
       "<Figure size 1500x1000 with 1 Axes>"
      ],
      "image/png": "[encoded data removed]"
     },
     "metadata": {},
     "output_type": "display_data"
    }
   ],
   "execution_count": 9
  },
  {
   "cell_type": "markdown",
   "id": "cebd2fb703546a4e",
   "metadata": {},
   "source": [
    "## Output Analysis: Step 7\n",
    "The new boxplots display a more balanced data distribution, with a significant reduction in extreme values (outliers). The minor outliers that remain are less likely to adversely impact model training. The overall improvement in data quality will contribute to better model performance."
   ]
  },
  {
   "cell_type": "markdown",
   "id": "fdc227ae0a13e537",
   "metadata": {},
   "source": [
    "# Step 8: Feature Selection Based on Correlation\n",
    "We will calculate the correlation of all features with the target variable (e.g., `CO(GT)`) to understand which features are most relevant for predicting the target."
   ]
  },
  {
   "cell_type": "code",
   "id": "70c4a33e8f56bcaa",
   "metadata": {
    "ExecuteTime": {
     "end_time": "2024-10-09T21:22:56.126992Z",
     "start_time": "2024-10-09T21:22:56.112105Z"
    }
   },
   "source": [
    "# Calculate correlations with the target variable\n",
    "target_variable = 'CO(GT)'\n",
    "correlations = outliers_filtered_data.corr()[target_variable].sort_values(ascending=False)\n",
    "\n",
    "# Display correlations\n",
    "correlations"
   ],
   "outputs": [
    {
     "data": {
      "text/plain": [
       "CO(GT)           1.000000\n",
       "PT08.S2(NMHC)    0.759045\n",
       "C6H6(GT)         0.757833\n",
       "PT08.S1(CO)      0.694639\n",
       "PT08.S5(O3)      0.682843\n",
       "NOx(GT)          0.654886\n",
       "NO2(GT)          0.567919\n",
       "PT08.S4(NO2)     0.476746\n",
       "hour             0.343705\n",
       "T                0.132501\n",
       "month            0.103744\n",
       "AH               0.075473\n",
       "day             -0.016126\n",
       "datetime        -0.071766\n",
       "RH              -0.074426\n",
       "day_of_week     -0.101201\n",
       "is_weekend      -0.152911\n",
       "PT08.S3(NOx)    -0.633838\n",
       "NMHC(GT)              NaN\n",
       "Name: CO(GT), dtype: float64"
      ]
     },
     "execution_count": 10,
     "metadata": {},
     "output_type": "execute_result"
    }
   ],
   "execution_count": 10
  },
  {
   "cell_type": "markdown",
   "id": "6a78cfb72ba9fa38",
   "metadata": {},
   "source": [
    "## Output Analysis: Step 8\n",
    "The output will show the correlation of each feature with the target variable (`CO(GT)`). Features with high correlation (either positive or negative) are potentially important for model training. Features with very low correlation might be less useful and could be removed."
   ]
  },
  {
   "cell_type": "markdown",
   "id": "32ea77a375beadad",
   "metadata": {},
   "source": [
    "## Step: Removing NaN Correlation Column\n",
    "\n",
    "Since the column `NMHC(GT)` has a NaN value in its correlation with the target variable (`CO(GT)`), we will remove this column from the filtered dataset `outliers_filtered_data` to ensure that all features used for modeling are valid."
   ]
  },
  {
   "cell_type": "code",
   "id": "d0c235eba3b088ec",
   "metadata": {
    "ExecuteTime": {
     "end_time": "2024-10-09T21:22:56.201359Z",
     "start_time": "2024-10-09T21:22:56.180192Z"
    }
   },
   "source": [
    "# Correct step: Removing the 'NMHC(GT)' column from the correct dataset\n",
    "cleaned_data_corrected = outliers_filtered_data.drop(columns=['NMHC(GT)'])\n",
    "\n",
    "# Display the structure of the dataset after removing the NaN column\n",
    "cleaned_data_corrected.head()"
   ],
   "outputs": [
    {
     "data": {
      "text/plain": [
       "     CO(GT)  PT08.S1(CO)   C6H6(GT)  PT08.S2(NMHC)  NOx(GT)  PT08.S3(NOx)  \\\n",
       "0       2.6      1360.00  11.881723        1045.50    166.0       1056.25   \n",
       "23      2.9      1383.00  11.151581        1019.75    243.0       1008.00   \n",
       "39      1.8      1544.50  22.074162        1353.00    179.8        767.25   \n",
       "94      3.0      1457.75  11.867358        1045.00    170.0        973.75   \n",
       "184     4.5      1616.50  21.312687        1332.50    349.0        685.75   \n",
       "\n",
       "     NO2(GT)  PT08.S4(NO2)  PT08.S5(O3)       T         RH        AH  \\\n",
       "0      113.0       1692.00      1267.50  13.600  48.875001  0.757754   \n",
       "23     135.0       1718.75      1104.00   9.775  67.624998  0.818501   \n",
       "39     109.0       2058.00      1587.75   9.225  56.199999  0.656065   \n",
       "94     129.0       1646.00      1098.50  22.225  28.400000  0.751627   \n",
       "184    150.0       2010.00      1818.50  17.850  40.525000  0.820964   \n",
       "\n",
       "               datetime  hour  day  month  day_of_week  is_weekend  \n",
       "0   2004-03-10 18:00:00    18   10      3            2           0  \n",
       "23  2004-03-11 17:00:00    17   11      3            3           0  \n",
       "39  2004-03-12 09:00:00     9   12      3            4           0  \n",
       "94  2004-03-14 16:00:00    16   14      3            6           1  \n",
       "184 2004-03-18 10:00:00    10   18      3            3           0  "
      ],
      "text/html": [
       "<div>\n",
       "<style scoped>\n",
       "    .dataframe tbody tr th:only-of-type {\n",
       "        vertical-align: middle;\n",
       "    }\n",
       "\n",
       "    .dataframe tbody tr th {\n",
       "        vertical-align: top;\n",
       "    }\n",
       "\n",
       "    .dataframe thead th {\n",
       "        text-align: right;\n",
       "    }\n",
       "</style>\n",
       "<table border=\"1\" class=\"dataframe\">\n",
       "  <thead>\n",
       "    <tr style=\"text-align: right;\">\n",
       "      <th></th>\n",
       "      <th>CO(GT)</th>\n",
       "      <th>PT08.S1(CO)</th>\n",
       "      <th>C6H6(GT)</th>\n",
       "      <th>PT08.S2(NMHC)</th>\n",
       "      <th>NOx(GT)</th>\n",
       "      <th>PT08.S3(NOx)</th>\n",
       "      <th>NO2(GT)</th>\n",
       "      <th>PT08.S4(NO2)</th>\n",
       "      <th>PT08.S5(O3)</th>\n",
       "      <th>T</th>\n",
       "      <th>RH</th>\n",
       "      <th>AH</th>\n",
       "      <th>datetime</th>\n",
       "      <th>hour</th>\n",
       "      <th>day</th>\n",
       "      <th>month</th>\n",
       "      <th>day_of_week</th>\n",
       "      <th>is_weekend</th>\n",
       "    </tr>\n",
       "  </thead>\n",
       "  <tbody>\n",
       "    <tr>\n",
       "      <th>0</th>\n",
       "      <td>2.6</td>\n",
       "      <td>1360.00</td>\n",
       "      <td>11.881723</td>\n",
       "      <td>1045.50</td>\n",
       "      <td>166.0</td>\n",
       "      <td>1056.25</td>\n",
       "      <td>113.0</td>\n",
       "      <td>1692.00</td>\n",
       "      <td>1267.50</td>\n",
       "      <td>13.600</td>\n",
       "      <td>48.875001</td>\n",
       "      <td>0.757754</td>\n",
       "      <td>2004-03-10 18:00:00</td>\n",
       "      <td>18</td>\n",
       "      <td>10</td>\n",
       "      <td>3</td>\n",
       "      <td>2</td>\n",
       "      <td>0</td>\n",
       "    </tr>\n",
       "    <tr>\n",
       "      <th>23</th>\n",
       "      <td>2.9</td>\n",
       "      <td>1383.00</td>\n",
       "      <td>11.151581</td>\n",
       "      <td>1019.75</td>\n",
       "      <td>243.0</td>\n",
       "      <td>1008.00</td>\n",
       "      <td>135.0</td>\n",
       "      <td>1718.75</td>\n",
       "      <td>1104.00</td>\n",
       "      <td>9.775</td>\n",
       "      <td>67.624998</td>\n",
       "      <td>0.818501</td>\n",
       "      <td>2004-03-11 17:00:00</td>\n",
       "      <td>17</td>\n",
       "      <td>11</td>\n",
       "      <td>3</td>\n",
       "      <td>3</td>\n",
       "      <td>0</td>\n",
       "    </tr>\n",
       "    <tr>\n",
       "      <th>39</th>\n",
       "      <td>1.8</td>\n",
       "      <td>1544.50</td>\n",
       "      <td>22.074162</td>\n",
       "      <td>1353.00</td>\n",
       "      <td>179.8</td>\n",
       "      <td>767.25</td>\n",
       "      <td>109.0</td>\n",
       "      <td>2058.00</td>\n",
       "      <td>1587.75</td>\n",
       "      <td>9.225</td>\n",
       "      <td>56.199999</td>\n",
       "      <td>0.656065</td>\n",
       "      <td>2004-03-12 09:00:00</td>\n",
       "      <td>9</td>\n",
       "      <td>12</td>\n",
       "      <td>3</td>\n",
       "      <td>4</td>\n",
       "      <td>0</td>\n",
       "    </tr>\n",
       "    <tr>\n",
       "      <th>94</th>\n",
       "      <td>3.0</td>\n",
       "      <td>1457.75</td>\n",
       "      <td>11.867358</td>\n",
       "      <td>1045.00</td>\n",
       "      <td>170.0</td>\n",
       "      <td>973.75</td>\n",
       "      <td>129.0</td>\n",
       "      <td>1646.00</td>\n",
       "      <td>1098.50</td>\n",
       "      <td>22.225</td>\n",
       "      <td>28.400000</td>\n",
       "      <td>0.751627</td>\n",
       "      <td>2004-03-14 16:00:00</td>\n",
       "      <td>16</td>\n",
       "      <td>14</td>\n",
       "      <td>3</td>\n",
       "      <td>6</td>\n",
       "      <td>1</td>\n",
       "    </tr>\n",
       "    <tr>\n",
       "      <th>184</th>\n",
       "      <td>4.5</td>\n",
       "      <td>1616.50</td>\n",
       "      <td>21.312687</td>\n",
       "      <td>1332.50</td>\n",
       "      <td>349.0</td>\n",
       "      <td>685.75</td>\n",
       "      <td>150.0</td>\n",
       "      <td>2010.00</td>\n",
       "      <td>1818.50</td>\n",
       "      <td>17.850</td>\n",
       "      <td>40.525000</td>\n",
       "      <td>0.820964</td>\n",
       "      <td>2004-03-18 10:00:00</td>\n",
       "      <td>10</td>\n",
       "      <td>18</td>\n",
       "      <td>3</td>\n",
       "      <td>3</td>\n",
       "      <td>0</td>\n",
       "    </tr>\n",
       "  </tbody>\n",
       "</table>\n",
       "</div>"
      ]
     },
     "execution_count": 11,
     "metadata": {},
     "output_type": "execute_result"
    }
   ],
   "execution_count": 11
  },
  {
   "cell_type": "markdown",
   "id": "8f4ac914f71ff8f4",
   "metadata": {},
   "source": [
    "# Step 9: Selecting Important Features Based on Correlation\n",
    "We'll select features with strong correlations to the target variable `CO(GT)` and drop less important features. This ensures the model focuses on the most informative variables.\n"
   ]
  },
  {
   "cell_type": "code",
   "id": "919e31540b1d3c05",
   "metadata": {
    "ExecuteTime": {
     "end_time": "2024-10-09T21:22:56.308669Z",
     "start_time": "2024-10-09T21:22:56.285386Z"
    }
   },
   "source": [
    "# Calculate correlation matrix\n",
    "correlation_matrix = cleaned_data_corrected.corr()\n",
    "\n",
    "# Display correlations with the target variable 'CO(GT)'\n",
    "target_variable = 'CO(GT)'\n",
    "co_corr = correlation_matrix[target_variable].abs().sort_values(ascending=False)\n",
    "\n",
    "# Set a threshold to select important features (e.g., correlation > 0.5)\n",
    "threshold = 0.5\n",
    "important_features = co_corr[co_corr > threshold].index.tolist()\n",
    "\n",
    "# Filter the dataset to only include important features\n",
    "data_filtered = cleaned_data_corrected[important_features]\n",
    "\n",
    "# Display the structure of the filtered dataset with selected features\n",
    "data_filtered.head()"
   ],
   "outputs": [
    {
     "data": {
      "text/plain": [
       "     CO(GT)  PT08.S2(NMHC)   C6H6(GT)  PT08.S1(CO)  PT08.S5(O3)  NOx(GT)  \\\n",
       "0       2.6        1045.50  11.881723      1360.00      1267.50    166.0   \n",
       "23      2.9        1019.75  11.151581      1383.00      1104.00    243.0   \n",
       "39      1.8        1353.00  22.074162      1544.50      1587.75    179.8   \n",
       "94      3.0        1045.00  11.867358      1457.75      1098.50    170.0   \n",
       "184     4.5        1332.50  21.312687      1616.50      1818.50    349.0   \n",
       "\n",
       "     PT08.S3(NOx)  NO2(GT)  \n",
       "0         1056.25    113.0  \n",
       "23        1008.00    135.0  \n",
       "39         767.25    109.0  \n",
       "94         973.75    129.0  \n",
       "184        685.75    150.0  "
      ],
      "text/html": [
       "<div>\n",
       "<style scoped>\n",
       "    .dataframe tbody tr th:only-of-type {\n",
       "        vertical-align: middle;\n",
       "    }\n",
       "\n",
       "    .dataframe tbody tr th {\n",
       "        vertical-align: top;\n",
       "    }\n",
       "\n",
       "    .dataframe thead th {\n",
       "        text-align: right;\n",
       "    }\n",
       "</style>\n",
       "<table border=\"1\" class=\"dataframe\">\n",
       "  <thead>\n",
       "    <tr style=\"text-align: right;\">\n",
       "      <th></th>\n",
       "      <th>CO(GT)</th>\n",
       "      <th>PT08.S2(NMHC)</th>\n",
       "      <th>C6H6(GT)</th>\n",
       "      <th>PT08.S1(CO)</th>\n",
       "      <th>PT08.S5(O3)</th>\n",
       "      <th>NOx(GT)</th>\n",
       "      <th>PT08.S3(NOx)</th>\n",
       "      <th>NO2(GT)</th>\n",
       "    </tr>\n",
       "  </thead>\n",
       "  <tbody>\n",
       "    <tr>\n",
       "      <th>0</th>\n",
       "      <td>2.6</td>\n",
       "      <td>1045.50</td>\n",
       "      <td>11.881723</td>\n",
       "      <td>1360.00</td>\n",
       "      <td>1267.50</td>\n",
       "      <td>166.0</td>\n",
       "      <td>1056.25</td>\n",
       "      <td>113.0</td>\n",
       "    </tr>\n",
       "    <tr>\n",
       "      <th>23</th>\n",
       "      <td>2.9</td>\n",
       "      <td>1019.75</td>\n",
       "      <td>11.151581</td>\n",
       "      <td>1383.00</td>\n",
       "      <td>1104.00</td>\n",
       "      <td>243.0</td>\n",
       "      <td>1008.00</td>\n",
       "      <td>135.0</td>\n",
       "    </tr>\n",
       "    <tr>\n",
       "      <th>39</th>\n",
       "      <td>1.8</td>\n",
       "      <td>1353.00</td>\n",
       "      <td>22.074162</td>\n",
       "      <td>1544.50</td>\n",
       "      <td>1587.75</td>\n",
       "      <td>179.8</td>\n",
       "      <td>767.25</td>\n",
       "      <td>109.0</td>\n",
       "    </tr>\n",
       "    <tr>\n",
       "      <th>94</th>\n",
       "      <td>3.0</td>\n",
       "      <td>1045.00</td>\n",
       "      <td>11.867358</td>\n",
       "      <td>1457.75</td>\n",
       "      <td>1098.50</td>\n",
       "      <td>170.0</td>\n",
       "      <td>973.75</td>\n",
       "      <td>129.0</td>\n",
       "    </tr>\n",
       "    <tr>\n",
       "      <th>184</th>\n",
       "      <td>4.5</td>\n",
       "      <td>1332.50</td>\n",
       "      <td>21.312687</td>\n",
       "      <td>1616.50</td>\n",
       "      <td>1818.50</td>\n",
       "      <td>349.0</td>\n",
       "      <td>685.75</td>\n",
       "      <td>150.0</td>\n",
       "    </tr>\n",
       "  </tbody>\n",
       "</table>\n",
       "</div>"
      ]
     },
     "execution_count": 12,
     "metadata": {},
     "output_type": "execute_result"
    }
   ],
   "execution_count": 12
  },
  {
   "cell_type": "code",
   "id": "a4f5bc6412a8a41b",
   "metadata": {
    "ExecuteTime": {
     "end_time": "2024-10-09T21:22:56.428355Z",
     "start_time": "2024-10-09T21:22:56.411677Z"
    }
   },
   "source": [
    "# Extract time-based features from 'datetime' column\n",
    "data_filtered['hour'] = cleaned_data_corrected['datetime'].dt.hour\n",
    "data_filtered['day'] = cleaned_data_corrected['datetime'].dt.day\n",
    "data_filtered.loc[:, 'month'] = cleaned_data_corrected['datetime'].dt.month\n",
    "data_filtered.loc[:, 'day_of_week'] = cleaned_data_corrected['datetime'].dt.dayofweek\n",
    "data_filtered.loc[:, 'is_weekend'] = data_filtered['day_of_week'].apply(lambda x: 1 if x >= 5 else 0)\n",
    "\n",
    "# Display the structure of the dataset after the modification\n",
    "data_filtered.head()"
   ],
   "outputs": [
    {
     "name": "stderr",
     "output_type": "stream",
     "text": [
      "C:\\Users\\egeme\\AppData\\Local\\Temp\\ipykernel_28660\\4009268488.py:2: SettingWithCopyWarning: \n",
      "A value is trying to be set on a copy of a slice from a DataFrame.\n",
      "Try using .loc[row_indexer,col_indexer] = value instead\n",
      "\n",
      "See the caveats in the documentation: https://pandas.pydata.org/pandas-docs/stable/user_guide/indexing.html#returning-a-view-versus-a-copy\n",
      "  data_filtered['hour'] = cleaned_data_corrected['datetime'].dt.hour\n",
      "C:\\Users\\egeme\\AppData\\Local\\Temp\\ipykernel_28660\\4009268488.py:3: SettingWithCopyWarning: \n",
      "A value is trying to be set on a copy of a slice from a DataFrame.\n",
      "Try using .loc[row_indexer,col_indexer] = value instead\n",
      "\n",
      "See the caveats in the documentation: https://pandas.pydata.org/pandas-docs/stable/user_guide/indexing.html#returning-a-view-versus-a-copy\n",
      "  data_filtered['day'] = cleaned_data_corrected['datetime'].dt.day\n",
      "C:\\Users\\egeme\\AppData\\Local\\Temp\\ipykernel_28660\\4009268488.py:4: SettingWithCopyWarning: \n",
      "A value is trying to be set on a copy of a slice from a DataFrame.\n",
      "Try using .loc[row_indexer,col_indexer] = value instead\n",
      "\n",
      "See the caveats in the documentation: https://pandas.pydata.org/pandas-docs/stable/user_guide/indexing.html#returning-a-view-versus-a-copy\n",
      "  data_filtered.loc[:, 'month'] = cleaned_data_corrected['datetime'].dt.month\n",
      "C:\\Users\\egeme\\AppData\\Local\\Temp\\ipykernel_28660\\4009268488.py:5: SettingWithCopyWarning: \n",
      "A value is trying to be set on a copy of a slice from a DataFrame.\n",
      "Try using .loc[row_indexer,col_indexer] = value instead\n",
      "\n",
      "See the caveats in the documentation: https://pandas.pydata.org/pandas-docs/stable/user_guide/indexing.html#returning-a-view-versus-a-copy\n",
      "  data_filtered.loc[:, 'day_of_week'] = cleaned_data_corrected['datetime'].dt.dayofweek\n",
      "C:\\Users\\egeme\\AppData\\Local\\Temp\\ipykernel_28660\\4009268488.py:6: SettingWithCopyWarning: \n",
      "A value is trying to be set on a copy of a slice from a DataFrame.\n",
      "Try using .loc[row_indexer,col_indexer] = value instead\n",
      "\n",
      "See the caveats in the documentation: https://pandas.pydata.org/pandas-docs/stable/user_guide/indexing.html#returning-a-view-versus-a-copy\n",
      "  data_filtered.loc[:, 'is_weekend'] = data_filtered['day_of_week'].apply(lambda x: 1 if x >= 5 else 0)\n"
     ]
    },
    {
     "data": {
      "text/plain": [
       "     CO(GT)  PT08.S2(NMHC)   C6H6(GT)  PT08.S1(CO)  PT08.S5(O3)  NOx(GT)  \\\n",
       "0       2.6        1045.50  11.881723      1360.00      1267.50    166.0   \n",
       "23      2.9        1019.75  11.151581      1383.00      1104.00    243.0   \n",
       "39      1.8        1353.00  22.074162      1544.50      1587.75    179.8   \n",
       "94      3.0        1045.00  11.867358      1457.75      1098.50    170.0   \n",
       "184     4.5        1332.50  21.312687      1616.50      1818.50    349.0   \n",
       "\n",
       "     PT08.S3(NOx)  NO2(GT)  hour  day  month  day_of_week  is_weekend  \n",
       "0         1056.25    113.0    18   10      3            2           0  \n",
       "23        1008.00    135.0    17   11      3            3           0  \n",
       "39         767.25    109.0     9   12      3            4           0  \n",
       "94         973.75    129.0    16   14      3            6           1  \n",
       "184        685.75    150.0    10   18      3            3           0  "
      ],
      "text/html": [
       "<div>\n",
       "<style scoped>\n",
       "    .dataframe tbody tr th:only-of-type {\n",
       "        vertical-align: middle;\n",
       "    }\n",
       "\n",
       "    .dataframe tbody tr th {\n",
       "        vertical-align: top;\n",
       "    }\n",
       "\n",
       "    .dataframe thead th {\n",
       "        text-align: right;\n",
       "    }\n",
       "</style>\n",
       "<table border=\"1\" class=\"dataframe\">\n",
       "  <thead>\n",
       "    <tr style=\"text-align: right;\">\n",
       "      <th></th>\n",
       "      <th>CO(GT)</th>\n",
       "      <th>PT08.S2(NMHC)</th>\n",
       "      <th>C6H6(GT)</th>\n",
       "      <th>PT08.S1(CO)</th>\n",
       "      <th>PT08.S5(O3)</th>\n",
       "      <th>NOx(GT)</th>\n",
       "      <th>PT08.S3(NOx)</th>\n",
       "      <th>NO2(GT)</th>\n",
       "      <th>hour</th>\n",
       "      <th>day</th>\n",
       "      <th>month</th>\n",
       "      <th>day_of_week</th>\n",
       "      <th>is_weekend</th>\n",
       "    </tr>\n",
       "  </thead>\n",
       "  <tbody>\n",
       "    <tr>\n",
       "      <th>0</th>\n",
       "      <td>2.6</td>\n",
       "      <td>1045.50</td>\n",
       "      <td>11.881723</td>\n",
       "      <td>1360.00</td>\n",
       "      <td>1267.50</td>\n",
       "      <td>166.0</td>\n",
       "      <td>1056.25</td>\n",
       "      <td>113.0</td>\n",
       "      <td>18</td>\n",
       "      <td>10</td>\n",
       "      <td>3</td>\n",
       "      <td>2</td>\n",
       "      <td>0</td>\n",
       "    </tr>\n",
       "    <tr>\n",
       "      <th>23</th>\n",
       "      <td>2.9</td>\n",
       "      <td>1019.75</td>\n",
       "      <td>11.151581</td>\n",
       "      <td>1383.00</td>\n",
       "      <td>1104.00</td>\n",
       "      <td>243.0</td>\n",
       "      <td>1008.00</td>\n",
       "      <td>135.0</td>\n",
       "      <td>17</td>\n",
       "      <td>11</td>\n",
       "      <td>3</td>\n",
       "      <td>3</td>\n",
       "      <td>0</td>\n",
       "    </tr>\n",
       "    <tr>\n",
       "      <th>39</th>\n",
       "      <td>1.8</td>\n",
       "      <td>1353.00</td>\n",
       "      <td>22.074162</td>\n",
       "      <td>1544.50</td>\n",
       "      <td>1587.75</td>\n",
       "      <td>179.8</td>\n",
       "      <td>767.25</td>\n",
       "      <td>109.0</td>\n",
       "      <td>9</td>\n",
       "      <td>12</td>\n",
       "      <td>3</td>\n",
       "      <td>4</td>\n",
       "      <td>0</td>\n",
       "    </tr>\n",
       "    <tr>\n",
       "      <th>94</th>\n",
       "      <td>3.0</td>\n",
       "      <td>1045.00</td>\n",
       "      <td>11.867358</td>\n",
       "      <td>1457.75</td>\n",
       "      <td>1098.50</td>\n",
       "      <td>170.0</td>\n",
       "      <td>973.75</td>\n",
       "      <td>129.0</td>\n",
       "      <td>16</td>\n",
       "      <td>14</td>\n",
       "      <td>3</td>\n",
       "      <td>6</td>\n",
       "      <td>1</td>\n",
       "    </tr>\n",
       "    <tr>\n",
       "      <th>184</th>\n",
       "      <td>4.5</td>\n",
       "      <td>1332.50</td>\n",
       "      <td>21.312687</td>\n",
       "      <td>1616.50</td>\n",
       "      <td>1818.50</td>\n",
       "      <td>349.0</td>\n",
       "      <td>685.75</td>\n",
       "      <td>150.0</td>\n",
       "      <td>10</td>\n",
       "      <td>18</td>\n",
       "      <td>3</td>\n",
       "      <td>3</td>\n",
       "      <td>0</td>\n",
       "    </tr>\n",
       "  </tbody>\n",
       "</table>\n",
       "</div>"
      ]
     },
     "execution_count": 13,
     "metadata": {},
     "output_type": "execute_result"
    }
   ],
   "execution_count": 13
  },
  {
   "cell_type": "code",
   "id": "c939eb9024b0a674",
   "metadata": {
    "ExecuteTime": {
     "end_time": "2024-10-09T21:22:56.670883Z",
     "start_time": "2024-10-09T21:22:56.647989Z"
    }
   },
   "source": [
    "from sklearn.preprocessing import StandardScaler\n",
    "\n",
    "# Initialize the scaler\n",
    "scaler = StandardScaler()\n",
    "\n",
    "# Select columns to scale (excluding the target variable and time-based features)\n",
    "columns_to_scale = [col for col in data_filtered.columns if col not in [target_variable, 'datetime', 'hour', 'day', 'month', 'day_of_week', 'is_weekend']]\n",
    "\n",
    "# Scale the features with .loc to avoid the SettingWithCopyWarning\n",
    "data_filtered.loc[:, columns_to_scale] = scaler.fit_transform(data_filtered[columns_to_scale])\n",
    "\n",
    "# Display the scaled data to verify\n",
    "data_filtered.head()"
   ],
   "outputs": [
    {
     "data": {
      "text/plain": [
       "     CO(GT)  PT08.S2(NMHC)  C6H6(GT)  PT08.S1(CO)  PT08.S5(O3)   NOx(GT)  \\\n",
       "0       2.6       0.714796  0.615331     1.889660     1.048492 -0.230858   \n",
       "23      2.9       0.592518  0.478662     2.030925     0.510156  0.449649   \n",
       "39      1.8       2.175007  2.523169     3.022845     2.102941 -0.108897   \n",
       "94      3.0       0.712421  0.612643     2.490033     0.492046 -0.195507   \n",
       "184     4.5       2.077660  2.380635     3.465064     2.862703  1.386452   \n",
       "\n",
       "     PT08.S3(NOx)   NO2(GT)  hour  day  month  day_of_week  is_weekend  \n",
       "0        1.174218  0.210131    18   10      3            2           0  \n",
       "23       0.918771  0.845593    17   11      3            3           0  \n",
       "39      -0.355814  0.094593     9   12      3            4           0  \n",
       "94       0.737444  0.672286    16   14      3            6           1  \n",
       "184     -0.787293  1.278863    10   18      3            3           0  "
      ],
      "text/html": [
       "<div>\n",
       "<style scoped>\n",
       "    .dataframe tbody tr th:only-of-type {\n",
       "        vertical-align: middle;\n",
       "    }\n",
       "\n",
       "    .dataframe tbody tr th {\n",
       "        vertical-align: top;\n",
       "    }\n",
       "\n",
       "    .dataframe thead th {\n",
       "        text-align: right;\n",
       "    }\n",
       "</style>\n",
       "<table border=\"1\" class=\"dataframe\">\n",
       "  <thead>\n",
       "    <tr style=\"text-align: right;\">\n",
       "      <th></th>\n",
       "      <th>CO(GT)</th>\n",
       "      <th>PT08.S2(NMHC)</th>\n",
       "      <th>C6H6(GT)</th>\n",
       "      <th>PT08.S1(CO)</th>\n",
       "      <th>PT08.S5(O3)</th>\n",
       "      <th>NOx(GT)</th>\n",
       "      <th>PT08.S3(NOx)</th>\n",
       "      <th>NO2(GT)</th>\n",
       "      <th>hour</th>\n",
       "      <th>day</th>\n",
       "      <th>month</th>\n",
       "      <th>day_of_week</th>\n",
       "      <th>is_weekend</th>\n",
       "    </tr>\n",
       "  </thead>\n",
       "  <tbody>\n",
       "    <tr>\n",
       "      <th>0</th>\n",
       "      <td>2.6</td>\n",
       "      <td>0.714796</td>\n",
       "      <td>0.615331</td>\n",
       "      <td>1.889660</td>\n",
       "      <td>1.048492</td>\n",
       "      <td>-0.230858</td>\n",
       "      <td>1.174218</td>\n",
       "      <td>0.210131</td>\n",
       "      <td>18</td>\n",
       "      <td>10</td>\n",
       "      <td>3</td>\n",
       "      <td>2</td>\n",
       "      <td>0</td>\n",
       "    </tr>\n",
       "    <tr>\n",
       "      <th>23</th>\n",
       "      <td>2.9</td>\n",
       "      <td>0.592518</td>\n",
       "      <td>0.478662</td>\n",
       "      <td>2.030925</td>\n",
       "      <td>0.510156</td>\n",
       "      <td>0.449649</td>\n",
       "      <td>0.918771</td>\n",
       "      <td>0.845593</td>\n",
       "      <td>17</td>\n",
       "      <td>11</td>\n",
       "      <td>3</td>\n",
       "      <td>3</td>\n",
       "      <td>0</td>\n",
       "    </tr>\n",
       "    <tr>\n",
       "      <th>39</th>\n",
       "      <td>1.8</td>\n",
       "      <td>2.175007</td>\n",
       "      <td>2.523169</td>\n",
       "      <td>3.022845</td>\n",
       "      <td>2.102941</td>\n",
       "      <td>-0.108897</td>\n",
       "      <td>-0.355814</td>\n",
       "      <td>0.094593</td>\n",
       "      <td>9</td>\n",
       "      <td>12</td>\n",
       "      <td>3</td>\n",
       "      <td>4</td>\n",
       "      <td>0</td>\n",
       "    </tr>\n",
       "    <tr>\n",
       "      <th>94</th>\n",
       "      <td>3.0</td>\n",
       "      <td>0.712421</td>\n",
       "      <td>0.612643</td>\n",
       "      <td>2.490033</td>\n",
       "      <td>0.492046</td>\n",
       "      <td>-0.195507</td>\n",
       "      <td>0.737444</td>\n",
       "      <td>0.672286</td>\n",
       "      <td>16</td>\n",
       "      <td>14</td>\n",
       "      <td>3</td>\n",
       "      <td>6</td>\n",
       "      <td>1</td>\n",
       "    </tr>\n",
       "    <tr>\n",
       "      <th>184</th>\n",
       "      <td>4.5</td>\n",
       "      <td>2.077660</td>\n",
       "      <td>2.380635</td>\n",
       "      <td>3.465064</td>\n",
       "      <td>2.862703</td>\n",
       "      <td>1.386452</td>\n",
       "      <td>-0.787293</td>\n",
       "      <td>1.278863</td>\n",
       "      <td>10</td>\n",
       "      <td>18</td>\n",
       "      <td>3</td>\n",
       "      <td>3</td>\n",
       "      <td>0</td>\n",
       "    </tr>\n",
       "  </tbody>\n",
       "</table>\n",
       "</div>"
      ]
     },
     "execution_count": 14,
     "metadata": {},
     "output_type": "execute_result"
    }
   ],
   "execution_count": 14
  },
  {
   "cell_type": "code",
   "id": "fd7a15b709d32298",
   "metadata": {
    "ExecuteTime": {
     "end_time": "2024-10-09T21:22:56.848803Z",
     "start_time": "2024-10-09T21:22:56.830193Z"
    }
   },
   "source": [
    "# Create a deep copy to avoid SettingWithCopyWarning\n",
    "data_filtered = cleaned_data_corrected[important_features].copy()\n",
    "\n",
    "# Forward fill any missing values\n",
    "data_filtered = data_filtered.ffill()\n",
    "\n",
    "# Display dataset after handling missing values\n",
    "data_filtered.head()"
   ],
   "outputs": [
    {
     "data": {
      "text/plain": [
       "     CO(GT)  PT08.S2(NMHC)   C6H6(GT)  PT08.S1(CO)  PT08.S5(O3)  NOx(GT)  \\\n",
       "0       2.6        1045.50  11.881723      1360.00      1267.50    166.0   \n",
       "23      2.9        1019.75  11.151581      1383.00      1104.00    243.0   \n",
       "39      1.8        1353.00  22.074162      1544.50      1587.75    179.8   \n",
       "94      3.0        1045.00  11.867358      1457.75      1098.50    170.0   \n",
       "184     4.5        1332.50  21.312687      1616.50      1818.50    349.0   \n",
       "\n",
       "     PT08.S3(NOx)  NO2(GT)  \n",
       "0         1056.25    113.0  \n",
       "23        1008.00    135.0  \n",
       "39         767.25    109.0  \n",
       "94         973.75    129.0  \n",
       "184        685.75    150.0  "
      ],
      "text/html": [
       "<div>\n",
       "<style scoped>\n",
       "    .dataframe tbody tr th:only-of-type {\n",
       "        vertical-align: middle;\n",
       "    }\n",
       "\n",
       "    .dataframe tbody tr th {\n",
       "        vertical-align: top;\n",
       "    }\n",
       "\n",
       "    .dataframe thead th {\n",
       "        text-align: right;\n",
       "    }\n",
       "</style>\n",
       "<table border=\"1\" class=\"dataframe\">\n",
       "  <thead>\n",
       "    <tr style=\"text-align: right;\">\n",
       "      <th></th>\n",
       "      <th>CO(GT)</th>\n",
       "      <th>PT08.S2(NMHC)</th>\n",
       "      <th>C6H6(GT)</th>\n",
       "      <th>PT08.S1(CO)</th>\n",
       "      <th>PT08.S5(O3)</th>\n",
       "      <th>NOx(GT)</th>\n",
       "      <th>PT08.S3(NOx)</th>\n",
       "      <th>NO2(GT)</th>\n",
       "    </tr>\n",
       "  </thead>\n",
       "  <tbody>\n",
       "    <tr>\n",
       "      <th>0</th>\n",
       "      <td>2.6</td>\n",
       "      <td>1045.50</td>\n",
       "      <td>11.881723</td>\n",
       "      <td>1360.00</td>\n",
       "      <td>1267.50</td>\n",
       "      <td>166.0</td>\n",
       "      <td>1056.25</td>\n",
       "      <td>113.0</td>\n",
       "    </tr>\n",
       "    <tr>\n",
       "      <th>23</th>\n",
       "      <td>2.9</td>\n",
       "      <td>1019.75</td>\n",
       "      <td>11.151581</td>\n",
       "      <td>1383.00</td>\n",
       "      <td>1104.00</td>\n",
       "      <td>243.0</td>\n",
       "      <td>1008.00</td>\n",
       "      <td>135.0</td>\n",
       "    </tr>\n",
       "    <tr>\n",
       "      <th>39</th>\n",
       "      <td>1.8</td>\n",
       "      <td>1353.00</td>\n",
       "      <td>22.074162</td>\n",
       "      <td>1544.50</td>\n",
       "      <td>1587.75</td>\n",
       "      <td>179.8</td>\n",
       "      <td>767.25</td>\n",
       "      <td>109.0</td>\n",
       "    </tr>\n",
       "    <tr>\n",
       "      <th>94</th>\n",
       "      <td>3.0</td>\n",
       "      <td>1045.00</td>\n",
       "      <td>11.867358</td>\n",
       "      <td>1457.75</td>\n",
       "      <td>1098.50</td>\n",
       "      <td>170.0</td>\n",
       "      <td>973.75</td>\n",
       "      <td>129.0</td>\n",
       "    </tr>\n",
       "    <tr>\n",
       "      <th>184</th>\n",
       "      <td>4.5</td>\n",
       "      <td>1332.50</td>\n",
       "      <td>21.312687</td>\n",
       "      <td>1616.50</td>\n",
       "      <td>1818.50</td>\n",
       "      <td>349.0</td>\n",
       "      <td>685.75</td>\n",
       "      <td>150.0</td>\n",
       "    </tr>\n",
       "  </tbody>\n",
       "</table>\n",
       "</div>"
      ]
     },
     "execution_count": 15,
     "metadata": {},
     "output_type": "execute_result"
    }
   ],
   "execution_count": 15
  },
  {
   "cell_type": "code",
   "id": "83adfd07dbd1cb60",
   "metadata": {
    "ExecuteTime": {
     "end_time": "2024-10-09T21:22:57.145850Z",
     "start_time": "2024-10-09T21:22:57.110577Z"
    }
   },
   "source": [
    "# Export the final processed dataset to a CSV file\n",
    "final_data_copy = data_filtered.copy()  # Make a copy of the data\n",
    "\n",
    "# Save to a CSV file\n",
    "final_data_copy.to_csv('final_data.csv', index=False)"
   ],
   "outputs": [],
   "execution_count": 16
  },
  {
   "cell_type": "code",
   "id": "d3400234276c9580",
   "metadata": {
    "ExecuteTime": {
     "end_time": "2024-10-09T21:22:57.331898Z",
     "start_time": "2024-10-09T21:22:57.318124Z"
    }
   },
   "source": [
    "# Add the 'datetime' column back to the dataset if it was previously dropped or excluded\n",
    "data_filtered['datetime'] = cleaned_data_corrected['datetime']\n",
    "\n",
    "# Display the structure of the dataset with 'datetime' column added\n",
    "data_filtered.head()"
   ],
   "outputs": [
    {
     "data": {
      "text/plain": [
       "     CO(GT)  PT08.S2(NMHC)   C6H6(GT)  PT08.S1(CO)  PT08.S5(O3)  NOx(GT)  \\\n",
       "0       2.6        1045.50  11.881723      1360.00      1267.50    166.0   \n",
       "23      2.9        1019.75  11.151581      1383.00      1104.00    243.0   \n",
       "39      1.8        1353.00  22.074162      1544.50      1587.75    179.8   \n",
       "94      3.0        1045.00  11.867358      1457.75      1098.50    170.0   \n",
       "184     4.5        1332.50  21.312687      1616.50      1818.50    349.0   \n",
       "\n",
       "     PT08.S3(NOx)  NO2(GT)            datetime  \n",
       "0         1056.25    113.0 2004-03-10 18:00:00  \n",
       "23        1008.00    135.0 2004-03-11 17:00:00  \n",
       "39         767.25    109.0 2004-03-12 09:00:00  \n",
       "94         973.75    129.0 2004-03-14 16:00:00  \n",
       "184        685.75    150.0 2004-03-18 10:00:00  "
      ],
      "text/html": [
       "<div>\n",
       "<style scoped>\n",
       "    .dataframe tbody tr th:only-of-type {\n",
       "        vertical-align: middle;\n",
       "    }\n",
       "\n",
       "    .dataframe tbody tr th {\n",
       "        vertical-align: top;\n",
       "    }\n",
       "\n",
       "    .dataframe thead th {\n",
       "        text-align: right;\n",
       "    }\n",
       "</style>\n",
       "<table border=\"1\" class=\"dataframe\">\n",
       "  <thead>\n",
       "    <tr style=\"text-align: right;\">\n",
       "      <th></th>\n",
       "      <th>CO(GT)</th>\n",
       "      <th>PT08.S2(NMHC)</th>\n",
       "      <th>C6H6(GT)</th>\n",
       "      <th>PT08.S1(CO)</th>\n",
       "      <th>PT08.S5(O3)</th>\n",
       "      <th>NOx(GT)</th>\n",
       "      <th>PT08.S3(NOx)</th>\n",
       "      <th>NO2(GT)</th>\n",
       "      <th>datetime</th>\n",
       "    </tr>\n",
       "  </thead>\n",
       "  <tbody>\n",
       "    <tr>\n",
       "      <th>0</th>\n",
       "      <td>2.6</td>\n",
       "      <td>1045.50</td>\n",
       "      <td>11.881723</td>\n",
       "      <td>1360.00</td>\n",
       "      <td>1267.50</td>\n",
       "      <td>166.0</td>\n",
       "      <td>1056.25</td>\n",
       "      <td>113.0</td>\n",
       "      <td>2004-03-10 18:00:00</td>\n",
       "    </tr>\n",
       "    <tr>\n",
       "      <th>23</th>\n",
       "      <td>2.9</td>\n",
       "      <td>1019.75</td>\n",
       "      <td>11.151581</td>\n",
       "      <td>1383.00</td>\n",
       "      <td>1104.00</td>\n",
       "      <td>243.0</td>\n",
       "      <td>1008.00</td>\n",
       "      <td>135.0</td>\n",
       "      <td>2004-03-11 17:00:00</td>\n",
       "    </tr>\n",
       "    <tr>\n",
       "      <th>39</th>\n",
       "      <td>1.8</td>\n",
       "      <td>1353.00</td>\n",
       "      <td>22.074162</td>\n",
       "      <td>1544.50</td>\n",
       "      <td>1587.75</td>\n",
       "      <td>179.8</td>\n",
       "      <td>767.25</td>\n",
       "      <td>109.0</td>\n",
       "      <td>2004-03-12 09:00:00</td>\n",
       "    </tr>\n",
       "    <tr>\n",
       "      <th>94</th>\n",
       "      <td>3.0</td>\n",
       "      <td>1045.00</td>\n",
       "      <td>11.867358</td>\n",
       "      <td>1457.75</td>\n",
       "      <td>1098.50</td>\n",
       "      <td>170.0</td>\n",
       "      <td>973.75</td>\n",
       "      <td>129.0</td>\n",
       "      <td>2004-03-14 16:00:00</td>\n",
       "    </tr>\n",
       "    <tr>\n",
       "      <th>184</th>\n",
       "      <td>4.5</td>\n",
       "      <td>1332.50</td>\n",
       "      <td>21.312687</td>\n",
       "      <td>1616.50</td>\n",
       "      <td>1818.50</td>\n",
       "      <td>349.0</td>\n",
       "      <td>685.75</td>\n",
       "      <td>150.0</td>\n",
       "      <td>2004-03-18 10:00:00</td>\n",
       "    </tr>\n",
       "  </tbody>\n",
       "</table>\n",
       "</div>"
      ]
     },
     "execution_count": 17,
     "metadata": {},
     "output_type": "execute_result"
    }
   ],
   "execution_count": 17
  },
  {
   "cell_type": "code",
   "id": "b3f569f53427dbe2",
   "metadata": {
    "ExecuteTime": {
     "end_time": "2024-10-09T21:22:57.540207Z",
     "start_time": "2024-10-09T21:22:57.507804Z"
    }
   },
   "source": [
    "# Ensure 'datetime' column is in datetime format\n",
    "data_filtered['datetime'] = pd.to_datetime(data_filtered['datetime'])\n",
    "\n",
    "# Extract time-based features\n",
    "data_filtered['hour'] = data_filtered['datetime'].dt.hour\n",
    "data_filtered['day'] = data_filtered['datetime'].dt.day\n",
    "data_filtered['month'] = data_filtered['datetime'].dt.month\n",
    "data_filtered['day_of_week'] = data_filtered['datetime'].dt.dayofweek\n",
    "data_filtered['is_weekend'] = data_filtered['day_of_week'].apply(lambda x: 1 if x >= 5 else 0)\n",
    "\n",
    "# Apply cyclic encoding for the time-based features\n",
    "# Hour\n",
    "data_filtered['hour_sin'] = np.sin(2 * np.pi * data_filtered['hour'] / 24)\n",
    "data_filtered['hour_cos'] = np.cos(2 * np.pi * data_filtered['hour'] / 24)\n",
    "\n",
    "# Day of the month\n",
    "data_filtered['day_sin'] = np.sin(2 * np.pi * data_filtered['day'] / 31)\n",
    "data_filtered['day_cos'] = np.cos(2 * np.pi * data_filtered['day'] / 31)\n",
    "\n",
    "# Month of the year\n",
    "data_filtered['month_sin'] = np.sin(2 * np.pi * data_filtered['month'] / 12)\n",
    "data_filtered['month_cos'] = np.cos(2 * np.pi * data_filtered['month'] / 12)\n",
    "\n",
    "# Display the modified dataset\n",
    "data_filtered.head()"
   ],
   "outputs": [
    {
     "data": {
      "text/plain": [
       "     CO(GT)  PT08.S2(NMHC)   C6H6(GT)  PT08.S1(CO)  PT08.S5(O3)  NOx(GT)  \\\n",
       "0       2.6        1045.50  11.881723      1360.00      1267.50    166.0   \n",
       "23      2.9        1019.75  11.151581      1383.00      1104.00    243.0   \n",
       "39      1.8        1353.00  22.074162      1544.50      1587.75    179.8   \n",
       "94      3.0        1045.00  11.867358      1457.75      1098.50    170.0   \n",
       "184     4.5        1332.50  21.312687      1616.50      1818.50    349.0   \n",
       "\n",
       "     PT08.S3(NOx)  NO2(GT)            datetime  hour  day  month  day_of_week  \\\n",
       "0         1056.25    113.0 2004-03-10 18:00:00    18   10      3            2   \n",
       "23        1008.00    135.0 2004-03-11 17:00:00    17   11      3            3   \n",
       "39         767.25    109.0 2004-03-12 09:00:00     9   12      3            4   \n",
       "94         973.75    129.0 2004-03-14 16:00:00    16   14      3            6   \n",
       "184        685.75    150.0 2004-03-18 10:00:00    10   18      3            3   \n",
       "\n",
       "     is_weekend  hour_sin      hour_cos   day_sin   day_cos  month_sin  \\\n",
       "0             0 -1.000000 -1.836970e-16  0.897805 -0.440394        1.0   \n",
       "23            0 -0.965926 -2.588190e-01  0.790776 -0.612106        1.0   \n",
       "39            0  0.707107 -7.071068e-01  0.651372 -0.758758        1.0   \n",
       "94            1 -0.866025 -5.000000e-01  0.299363 -0.954139        1.0   \n",
       "184           0  0.500000 -8.660254e-01 -0.485302 -0.874347        1.0   \n",
       "\n",
       "        month_cos  \n",
       "0    6.123234e-17  \n",
       "23   6.123234e-17  \n",
       "39   6.123234e-17  \n",
       "94   6.123234e-17  \n",
       "184  6.123234e-17  "
      ],
      "text/html": [
       "<div>\n",
       "<style scoped>\n",
       "    .dataframe tbody tr th:only-of-type {\n",
       "        vertical-align: middle;\n",
       "    }\n",
       "\n",
       "    .dataframe tbody tr th {\n",
       "        vertical-align: top;\n",
       "    }\n",
       "\n",
       "    .dataframe thead th {\n",
       "        text-align: right;\n",
       "    }\n",
       "</style>\n",
       "<table border=\"1\" class=\"dataframe\">\n",
       "  <thead>\n",
       "    <tr style=\"text-align: right;\">\n",
       "      <th></th>\n",
       "      <th>CO(GT)</th>\n",
       "      <th>PT08.S2(NMHC)</th>\n",
       "      <th>C6H6(GT)</th>\n",
       "      <th>PT08.S1(CO)</th>\n",
       "      <th>PT08.S5(O3)</th>\n",
       "      <th>NOx(GT)</th>\n",
       "      <th>PT08.S3(NOx)</th>\n",
       "      <th>NO2(GT)</th>\n",
       "      <th>datetime</th>\n",
       "      <th>hour</th>\n",
       "      <th>day</th>\n",
       "      <th>month</th>\n",
       "      <th>day_of_week</th>\n",
       "      <th>is_weekend</th>\n",
       "      <th>hour_sin</th>\n",
       "      <th>hour_cos</th>\n",
       "      <th>day_sin</th>\n",
       "      <th>day_cos</th>\n",
       "      <th>month_sin</th>\n",
       "      <th>month_cos</th>\n",
       "    </tr>\n",
       "  </thead>\n",
       "  <tbody>\n",
       "    <tr>\n",
       "      <th>0</th>\n",
       "      <td>2.6</td>\n",
       "      <td>1045.50</td>\n",
       "      <td>11.881723</td>\n",
       "      <td>1360.00</td>\n",
       "      <td>1267.50</td>\n",
       "      <td>166.0</td>\n",
       "      <td>1056.25</td>\n",
       "      <td>113.0</td>\n",
       "      <td>2004-03-10 18:00:00</td>\n",
       "      <td>18</td>\n",
       "      <td>10</td>\n",
       "      <td>3</td>\n",
       "      <td>2</td>\n",
       "      <td>0</td>\n",
       "      <td>-1.000000</td>\n",
       "      <td>-1.836970e-16</td>\n",
       "      <td>0.897805</td>\n",
       "      <td>-0.440394</td>\n",
       "      <td>1.0</td>\n",
       "      <td>6.123234e-17</td>\n",
       "    </tr>\n",
       "    <tr>\n",
       "      <th>23</th>\n",
       "      <td>2.9</td>\n",
       "      <td>1019.75</td>\n",
       "      <td>11.151581</td>\n",
       "      <td>1383.00</td>\n",
       "      <td>1104.00</td>\n",
       "      <td>243.0</td>\n",
       "      <td>1008.00</td>\n",
       "      <td>135.0</td>\n",
       "      <td>2004-03-11 17:00:00</td>\n",
       "      <td>17</td>\n",
       "      <td>11</td>\n",
       "      <td>3</td>\n",
       "      <td>3</td>\n",
       "      <td>0</td>\n",
       "      <td>-0.965926</td>\n",
       "      <td>-2.588190e-01</td>\n",
       "      <td>0.790776</td>\n",
       "      <td>-0.612106</td>\n",
       "      <td>1.0</td>\n",
       "      <td>6.123234e-17</td>\n",
       "    </tr>\n",
       "    <tr>\n",
       "      <th>39</th>\n",
       "      <td>1.8</td>\n",
       "      <td>1353.00</td>\n",
       "      <td>22.074162</td>\n",
       "      <td>1544.50</td>\n",
       "      <td>1587.75</td>\n",
       "      <td>179.8</td>\n",
       "      <td>767.25</td>\n",
       "      <td>109.0</td>\n",
       "      <td>2004-03-12 09:00:00</td>\n",
       "      <td>9</td>\n",
       "      <td>12</td>\n",
       "      <td>3</td>\n",
       "      <td>4</td>\n",
       "      <td>0</td>\n",
       "      <td>0.707107</td>\n",
       "      <td>-7.071068e-01</td>\n",
       "      <td>0.651372</td>\n",
       "      <td>-0.758758</td>\n",
       "      <td>1.0</td>\n",
       "      <td>6.123234e-17</td>\n",
       "    </tr>\n",
       "    <tr>\n",
       "      <th>94</th>\n",
       "      <td>3.0</td>\n",
       "      <td>1045.00</td>\n",
       "      <td>11.867358</td>\n",
       "      <td>1457.75</td>\n",
       "      <td>1098.50</td>\n",
       "      <td>170.0</td>\n",
       "      <td>973.75</td>\n",
       "      <td>129.0</td>\n",
       "      <td>2004-03-14 16:00:00</td>\n",
       "      <td>16</td>\n",
       "      <td>14</td>\n",
       "      <td>3</td>\n",
       "      <td>6</td>\n",
       "      <td>1</td>\n",
       "      <td>-0.866025</td>\n",
       "      <td>-5.000000e-01</td>\n",
       "      <td>0.299363</td>\n",
       "      <td>-0.954139</td>\n",
       "      <td>1.0</td>\n",
       "      <td>6.123234e-17</td>\n",
       "    </tr>\n",
       "    <tr>\n",
       "      <th>184</th>\n",
       "      <td>4.5</td>\n",
       "      <td>1332.50</td>\n",
       "      <td>21.312687</td>\n",
       "      <td>1616.50</td>\n",
       "      <td>1818.50</td>\n",
       "      <td>349.0</td>\n",
       "      <td>685.75</td>\n",
       "      <td>150.0</td>\n",
       "      <td>2004-03-18 10:00:00</td>\n",
       "      <td>10</td>\n",
       "      <td>18</td>\n",
       "      <td>3</td>\n",
       "      <td>3</td>\n",
       "      <td>0</td>\n",
       "      <td>0.500000</td>\n",
       "      <td>-8.660254e-01</td>\n",
       "      <td>-0.485302</td>\n",
       "      <td>-0.874347</td>\n",
       "      <td>1.0</td>\n",
       "      <td>6.123234e-17</td>\n",
       "    </tr>\n",
       "  </tbody>\n",
       "</table>\n",
       "</div>"
      ]
     },
     "execution_count": 18,
     "metadata": {},
     "output_type": "execute_result"
    }
   ],
   "execution_count": 18
  },
  {
   "cell_type": "code",
   "id": "eb98d6e7e837abf7",
   "metadata": {
    "ExecuteTime": {
     "end_time": "2024-10-09T21:22:57.763602Z",
     "start_time": "2024-10-09T21:22:57.644318Z"
    }
   },
   "source": [
    "# Export the final processed dataset to a CSV file\n",
    "final_data_copy = data_filtered.copy()  # Make a copy of the data\n",
    "\n",
    "# Save to a CSV file\n",
    "final_data_copy.to_csv('final_data.csv', index=False)"
   ],
   "outputs": [],
   "execution_count": 19
  },
  {
   "cell_type": "code",
   "id": "33b0308f68a09231",
   "metadata": {
    "ExecuteTime": {
     "end_time": "2024-10-09T21:22:58.038892Z",
     "start_time": "2024-10-09T21:22:58.017026Z"
    }
   },
   "source": [
    "# Sort the data by datetime to ensure chronological order\n",
    "data_filtered.sort_values('datetime', inplace=True)\n",
    "\n",
    "# Define the split index (80% train, 20% test)\n",
    "train_size = int(len(data_filtered) * 0.8)\n",
    "\n",
    "# Split into train and test sets\n",
    "train_df = data_filtered[:train_size].copy()\n",
    "test_df = data_filtered[train_size:].copy()\n",
    "\n",
    "print(f\"Training set: {train_df.shape}\")\n",
    "print(f\"Test set: {test_df.shape}\")"
   ],
   "outputs": [
    {
     "name": "stdout",
     "output_type": "stream",
     "text": [
      "Training set: (5738, 20)\n",
      "Test set: (1435, 20)\n"
     ]
    }
   ],
   "execution_count": 20
  },
  {
   "cell_type": "code",
   "id": "38d6f44148837573",
   "metadata": {
    "ExecuteTime": {
     "end_time": "2024-10-09T21:22:58.212201Z",
     "start_time": "2024-10-09T21:22:58.198399Z"
    }
   },
   "source": [
    "# Convert 'datetime' to an integer index\n",
    "train_df['time_idx'] = pd.to_numeric(train_df['datetime']).astype(int)\n",
    "test_df['time_idx'] = pd.to_numeric(test_df['datetime']).astype(int)"
   ],
   "outputs": [],
   "execution_count": 21
  },
  {
   "cell_type": "code",
   "id": "6d7994a8676aec89",
   "metadata": {
    "ExecuteTime": {
     "end_time": "2024-10-09T21:22:58.451365Z",
     "start_time": "2024-10-09T21:22:58.443934Z"
    }
   },
   "source": [
    "# Replace '.' characters in column names with '_'\n",
    "train_df.columns = [col.replace('.', '_') for col in train_df.columns]\n",
    "test_df.columns = [col.replace('.', '_') for col in test_df.columns]\n",
    "\n",
    "# Display updated column names to verify\n",
    "print(train_df.columns)"
   ],
   "outputs": [
    {
     "name": "stdout",
     "output_type": "stream",
     "text": [
      "Index(['CO(GT)', 'PT08_S2(NMHC)', 'C6H6(GT)', 'PT08_S1(CO)', 'PT08_S5(O3)',\n",
      "       'NOx(GT)', 'PT08_S3(NOx)', 'NO2(GT)', 'datetime', 'hour', 'day',\n",
      "       'month', 'day_of_week', 'is_weekend', 'hour_sin', 'hour_cos', 'day_sin',\n",
      "       'day_cos', 'month_sin', 'month_cos', 'time_idx'],\n",
      "      dtype='object')\n"
     ]
    }
   ],
   "execution_count": 22
  },
  {
   "cell_type": "code",
   "id": "7f3343cac559636b",
   "metadata": {
    "ExecuteTime": {
     "end_time": "2024-10-09T21:22:58.503450Z",
     "start_time": "2024-10-09T21:22:58.498782Z"
    }
   },
   "source": [
    "# Add a default 'group' column to indicate a single series\n",
    "train_df['group'] = 'default'\n",
    "test_df['group'] = 'default'"
   ],
   "outputs": [],
   "execution_count": 23
  },
  {
   "cell_type": "code",
   "id": "f8ff0f60a0038604",
   "metadata": {
    "ExecuteTime": {
     "end_time": "2024-10-09T21:22:58.574613Z",
     "start_time": "2024-10-09T21:22:58.561851Z"
    }
   },
   "source": [
    "print(f\"Total number of observations: {len(train_df)}\")\n"
   ],
   "outputs": [
    {
     "name": "stdout",
     "output_type": "stream",
     "text": [
      "Total number of observations: 5738\n"
     ]
    }
   ],
   "execution_count": 24
  },
  {
   "cell_type": "code",
   "id": "3a07b76d9fee3dab",
   "metadata": {
    "ExecuteTime": {
     "end_time": "2024-10-09T21:22:58.655213Z",
     "start_time": "2024-10-09T21:22:58.640774Z"
    }
   },
   "source": [
    "# Check the time distribution in your data\n",
    "time_counts = train_df['time_idx'].value_counts().sort_index()\n",
    "print(time_counts.describe())\n",
    "\n",
    "# Check if there are any missing time steps\n",
    "print(\"Number of unique time steps:\", train_df['time_idx'].nunique())\n"
   ],
   "outputs": [
    {
     "name": "stdout",
     "output_type": "stream",
     "text": [
      "count    5738.0\n",
      "mean        1.0\n",
      "std         0.0\n",
      "min         1.0\n",
      "25%         1.0\n",
      "50%         1.0\n",
      "75%         1.0\n",
      "max         1.0\n",
      "Name: count, dtype: float64\n",
      "Number of unique time steps: 5738\n"
     ]
    }
   ],
   "execution_count": 25
  },
  {
   "cell_type": "code",
   "id": "ded5dfda63f93ba8",
   "metadata": {
    "ExecuteTime": {
     "end_time": "2024-10-09T21:22:58.736305Z",
     "start_time": "2024-10-09T21:22:58.720161Z"
    }
   },
   "source": [
    "# Sort by datetime to ensure proper order\n",
    "train_df.sort_values('datetime', inplace=True)\n",
    "\n",
    "# Create a sequential time index based on row order\n",
    "train_df['time_idx'] = range(len(train_df))\n",
    "\n",
    "# Check the first few rows to ensure proper indexing\n",
    "print(train_df[['datetime', 'time_idx']].head())"
   ],
   "outputs": [
    {
     "name": "stdout",
     "output_type": "stream",
     "text": [
      "               datetime  time_idx\n",
      "0   2004-03-10 18:00:00         0\n",
      "23  2004-03-11 17:00:00         1\n",
      "39  2004-03-12 09:00:00         2\n",
      "94  2004-03-14 16:00:00         3\n",
      "184 2004-03-18 10:00:00         4\n"
     ]
    }
   ],
   "execution_count": 26
  },
  {
   "cell_type": "code",
   "id": "218ff07ef84c871b",
   "metadata": {
    "ExecuteTime": {
     "end_time": "2024-10-09T21:22:58.898172Z",
     "start_time": "2024-10-09T21:22:58.799294Z"
    }
   },
   "source": [
    "# Save train_df as a CSV file\n",
    "train_df.to_csv('train_df.csv', index=False)\n",
    "\n",
    "# Save test_df as a CSV file\n",
    "test_df.to_csv('test_df.csv', index=False)\n",
    "\n",
    "print(\"Files saved as 'train_df.csv' and 'test_df.csv'\")"
   ],
   "outputs": [
    {
     "name": "stdout",
     "output_type": "stream",
     "text": [
      "Files saved as 'train_df.csv' and 'test_df.csv'\n"
     ]
    }
   ],
   "execution_count": 27
  },
  {
   "cell_type": "code",
   "id": "9c0c368053a3b5a6",
   "metadata": {
    "ExecuteTime": {
     "end_time": "2024-10-09T21:23:02.430160Z",
     "start_time": "2024-10-09T21:22:58.944912Z"
    }
   },
   "source": [
    "import torch\n",
    "from pytorch_forecasting import TimeSeriesDataSet\n",
    "from pytorch_forecasting.models import TemporalFusionTransformer\n",
    "from pytorch_forecasting.metrics import QuantileLoss\n",
    "from pytorch_lightning import Trainer\n",
    "from pytorch_lightning.callbacks import EarlyStopping\n",
    "import pandas as pd\n"
   ],
   "outputs": [],
   "execution_count": 28
  },
  {
   "cell_type": "code",
   "id": "970fc5daf70d5979",
   "metadata": {
    "ExecuteTime": {
     "end_time": "2024-10-09T21:23:02.480165Z",
     "start_time": "2024-10-09T21:23:02.475117Z"
    }
   },
   "source": [
    "max_encoder_length = 30  # Length of the past sequences used for model input\n",
    "max_prediction_length = 10  # Length of the prediction horizon\n",
    "\n",
    "# Columns in your DataFrame\n",
    "time_idx_col = \"time_idx\"  # Time index column\n",
    "target_col = \"CO(GT)\"  # Target variable to be predicted\n",
    "group_col = \"group\"  # Group column\n",
    "\n",
    "# Specify the known and unknown variables\n",
    "known_reals = [\n",
    "    \"time_idx\", \"hour\", \"day\", \"month\", \"day_of_week\", \"is_weekend\",\n",
    "    \"hour_sin\", \"hour_cos\", \"day_sin\", \"day_cos\", \"month_sin\", \"month_cos\"\n",
    "]  # Replace with your known variables\n",
    "unknown_reals = [target_col]  # The target variable is unknown during prediction"
   ],
   "outputs": [],
   "execution_count": 29
  },
  {
   "cell_type": "code",
   "id": "115de9cac9574439",
   "metadata": {
    "ExecuteTime": {
     "end_time": "2024-10-09T21:23:02.570734Z",
     "start_time": "2024-10-09T21:23:02.520864Z"
    }
   },
   "source": [
    "from pytorch_forecasting import TimeSeriesDataSet\n",
    "\n",
    "# Create the TimeSeriesDataSet for training\n",
    "training = TimeSeriesDataSet(\n",
    "    train_df,\n",
    "    time_idx=time_idx_col,\n",
    "    target=target_col,\n",
    "    group_ids=[group_col],\n",
    "    max_encoder_length=max_encoder_length,\n",
    "    max_prediction_length=max_prediction_length,\n",
    "    time_varying_known_reals=known_reals,\n",
    "    time_varying_unknown_reals=unknown_reals,\n",
    "    allow_missing_timesteps=True  # Set to True based on your data structure\n",
    ")"
   ],
   "outputs": [],
   "execution_count": 30
  },
  {
   "cell_type": "code",
   "id": "223f6532712a8dc7",
   "metadata": {
    "ExecuteTime": {
     "end_time": "2024-10-09T21:23:02.619334Z",
     "start_time": "2024-10-09T21:23:02.612772Z"
    }
   },
   "source": [
    "# Find the maximum time_idx in train_df\n",
    "max_time_idx_train = train_df[time_idx_col].max()\n",
    "\n",
    "# Adjust time_idx in test_df to be sequential from max_time_idx_train + 1\n",
    "test_df[time_idx_col] = range(max_time_idx_train + 1, max_time_idx_train + 1 + len(test_df))\n",
    "\n",
    "# Print to confirm changes\n",
    "print(f\"Adjusted time_idx in test_df: {test_df[time_idx_col].min()} to {test_df[time_idx_col].max()}\")\n"
   ],
   "outputs": [
    {
     "name": "stdout",
     "output_type": "stream",
     "text": [
      "Adjusted time_idx in test_df: 5738 to 7172\n"
     ]
    }
   ],
   "execution_count": 31
  },
  {
   "cell_type": "code",
   "id": "34ec45f9dcafdd55",
   "metadata": {
    "ExecuteTime": {
     "end_time": "2024-10-09T21:23:02.700262Z",
     "start_time": "2024-10-09T21:23:02.673149Z"
    }
   },
   "source": [
    "# Recreate the validation dataset from the corrected test_df\n",
    "validation = TimeSeriesDataSet.from_dataset(\n",
    "    training,\n",
    "    test_df,\n",
    "    min_prediction_idx=max_time_idx_train + 1  # Use the new start of time_idx in test_df\n",
    ")\n",
    "\n",
    "# Define a suitable batch size\n",
    "batch_size = 64  # Adjust this value as needed based on your data and memory\n",
    "\n",
    "\n",
    "# Create dataloaders again\n",
    "train_dataloader = training.to_dataloader(train=True, batch_size=batch_size, num_workers=0)\n",
    "val_dataloader = validation.to_dataloader(train=False, batch_size=batch_size, num_workers=0)"
   ],
   "outputs": [],
   "execution_count": 32
  },
  {
   "cell_type": "code",
   "id": "e35199ad609ea9b3",
   "metadata": {
    "ExecuteTime": {
     "end_time": "2024-10-09T21:25:32.163691Z",
     "start_time": "2024-10-09T21:23:02.742782Z"
    }
   },
   "source": [
    "import os\n",
    "import torch\n",
    "from pytorch_forecasting.models import TemporalFusionTransformer\n",
    "from pytorch_forecasting.metrics import QuantileLoss\n",
    "from pytorch_lightning import Trainer, LightningModule\n",
    "from pytorch_lightning.callbacks import EarlyStopping\n",
    "\n",
    "# Temporal Fusion Transformer modelini başlatın\n",
    "tft = TemporalFusionTransformer.from_dataset(\n",
    "    training,\n",
    "    learning_rate=0.03,\n",
    "    hidden_size=16,\n",
    "    attention_head_size=1,\n",
    "    dropout=0.1,\n",
    "    hidden_continuous_size=8,\n",
    "    output_size=7,  # Number of quantiles by default\n",
    "    loss=QuantileLoss(),\n",
    "    log_interval=10,\n",
    "    reduce_on_plateau_patience=4,\n",
    ")\n",
    "\n",
    "# LightningModule olarak TemporalFusionTransformer modelini sarmalayan sınıf\n",
    "class TFTLightningModule(LightningModule):\n",
    "    def __init__(self, model):\n",
    "        super().__init__()\n",
    "        self.model = model\n",
    "\n",
    "    def forward(self, x):\n",
    "        return self.model(x)\n",
    "\n",
    "    def training_step(self, batch, batch_idx):\n",
    "        # Eğitim adımını gerçekleştir\n",
    "        x, y = batch\n",
    "        # `model` içindeki `loss` hesaplamasını doğru şekilde ayarla\n",
    "        out = self.model(x)\n",
    "        y_pred = out[0]  # Modelin çıktısı tuple, `y_pred` ilk elemandır\n",
    "        loss = self.model.loss(y_pred, y)\n",
    "        # `batch_size` parametresini ekleyerek kaydedin\n",
    "        self.log(\"train_loss\", loss, on_step=True, on_epoch=True, prog_bar=True, batch_size=x['encoder_target'].shape[0])\n",
    "        return loss\n",
    "\n",
    "    def validation_step(self, batch, batch_idx):\n",
    "        # Doğrulama adımını gerçekleştir\n",
    "        x, y = batch\n",
    "        out = self.model(x)\n",
    "        y_pred = out[0]  # Modelin çıktısı tuple, `y_pred` ilk elemandır\n",
    "        loss = self.model.loss(y_pred, y)\n",
    "        # `batch_size` parametresini ekleyerek kaydedin\n",
    "        self.log(\"val_loss\", loss, prog_bar=True, batch_size=x['encoder_target'].shape[0])\n",
    "        return loss\n",
    "\n",
    "    def configure_optimizers(self):\n",
    "        # Adam optimizasyon algoritmasını kullanarak optimizer ayarla\n",
    "        optimizer = torch.optim.Adam(self.model.parameters(), lr=self.model.hparams.learning_rate)\n",
    "        return optimizer\n",
    "\n",
    "# TemporalFusionTransformer modelini TFTLightningModule içerisine sar\n",
    "tft_module = TFTLightningModule(tft)\n",
    "\n",
    "# PyTorch Lightning Trainer'ı başlatın\n",
    "trainer = Trainer(\n",
    "    max_epochs=30,\n",
    "    accelerator=\"gpu\" if torch.cuda.is_available() else \"cpu\",  # GPU varsa kullan\n",
    "    devices=1,  # Tek cihaz kullan\n",
    "    callbacks=[EarlyStopping(monitor=\"val_loss\", patience=3, verbose=True)],  # Early stopping callback\n",
    "    num_sanity_val_steps=0,  # Sanity check'i kapat\n",
    ")\n",
    "\n",
    "# Modeli eğitin\n",
    "trainer.fit(\n",
    "    tft_module,\n",
    "    train_dataloaders=train_dataloader,\n",
    "    val_dataloaders=val_dataloader\n",
    ")\n"
   ],
   "outputs": [
    {
     "name": "stderr",
     "output_type": "stream",
     "text": [
      "C:\\Users\\egeme\\PycharmProjects\\pythonProject1\\.venv\\Lib\\site-packages\\lightning\\pytorch\\utilities\\parsing.py:208: Attribute 'loss' is an instance of `nn.Module` and is already saved during checkpointing. It is recommended to ignore them using `self.save_hyperparameters(ignore=['loss'])`.\n",
      "C:\\Users\\egeme\\PycharmProjects\\pythonProject1\\.venv\\Lib\\site-packages\\lightning\\pytorch\\utilities\\parsing.py:208: Attribute 'logging_metrics' is an instance of `nn.Module` and is already saved during checkpointing. It is recommended to ignore them using `self.save_hyperparameters(ignore=['logging_metrics'])`.\n",
      "C:\\Users\\egeme\\PycharmProjects\\pythonProject1\\.venv\\Lib\\site-packages\\pytorch_forecasting\\models\\temporal_fusion_transformer\\__init__.py:143: UserWarning: In pytorch-forecasting models, from version 1.2.0, the default optimizer will be 'adam', in order to minimize the number of dependencies in default parameter settings. Users who wish to ensure their code continues using 'ranger' as optimizer should ensure that pytorch_optimizer is installed, and set the optimizer parameter explicitly to 'ranger'.\n",
      "  super().__init__(loss=loss, logging_metrics=logging_metrics, **kwargs)\n",
      "GPU available: False, used: False\n",
      "TPU available: False, using: 0 TPU cores\n",
      "HPU available: False, using: 0 HPUs\n",
      "\n",
      "  | Name  | Type                      | Params | Mode \n",
      "------------------------------------------------------------\n",
      "0 | model | TemporalFusionTransformer | 31.3 K | train\n",
      "------------------------------------------------------------\n",
      "31.3 K    Trainable params\n",
      "0         Non-trainable params\n",
      "31.3 K    Total params\n",
      "0.125     Total estimated model params size (MB)\n",
      "505       Modules in train mode\n",
      "0         Modules in eval mode\n",
      "C:\\Users\\egeme\\PycharmProjects\\pythonProject1\\.venv\\Lib\\site-packages\\pytorch_lightning\\trainer\\connectors\\data_connector.py:424: The 'train_dataloader' does not have many workers which may be a bottleneck. Consider increasing the value of the `num_workers` argument` to `num_workers=11` in the `DataLoader` to improve performance.\n",
      "C:\\Users\\egeme\\PycharmProjects\\pythonProject1\\.venv\\Lib\\site-packages\\pytorch_lightning\\trainer\\connectors\\data_connector.py:424: The 'val_dataloader' does not have many workers which may be a bottleneck. Consider increasing the value of the `num_workers` argument` to `num_workers=11` in the `DataLoader` to improve performance.\n"
     ]
    },
    {
     "data": {
      "text/plain": [
       "Training: |          | 0/? [00:00<?, ?it/s]"
      ],
      "application/vnd.jupyter.widget-view+json": {
       "version_major": 2,
       "version_minor": 0,
       "model_id": "a8325453a8234bcfb808ac67618da807"
      }
     },
     "metadata": {},
     "output_type": "display_data"
    },
    {
     "data": {
      "text/plain": [
       "Validation: |          | 0/? [00:00<?, ?it/s]"
      ],
      "application/vnd.jupyter.widget-view+json": {
       "version_major": 2,
       "version_minor": 0,
       "model_id": "857141a496e74508853e1b1060f8b0fd"
      }
     },
     "metadata": {},
     "output_type": "display_data"
    },
    {
     "name": "stderr",
     "output_type": "stream",
     "text": [
      "Metric val_loss improved. New best score: 0.284\n"
     ]
    },
    {
     "data": {
      "text/plain": [
       "Validation: |          | 0/? [00:00<?, ?it/s]"
      ],
      "application/vnd.jupyter.widget-view+json": {
       "version_major": 2,
       "version_minor": 0,
       "model_id": "5baca89fad5746df8200dd641dffc004"
      }
     },
     "metadata": {},
     "output_type": "display_data"
    },
    {
     "data": {
      "text/plain": [
       "Validation: |          | 0/? [00:00<?, ?it/s]"
      ],
      "application/vnd.jupyter.widget-view+json": {
       "version_major": 2,
       "version_minor": 0,
       "model_id": "a863470e9e074e5d847f14d8d6a0a22a"
      }
     },
     "metadata": {},
     "output_type": "display_data"
    },
    {
     "name": "stderr",
     "output_type": "stream",
     "text": [
      "Metric val_loss improved by 0.001 >= min_delta = 0.0. New best score: 0.283\n"
     ]
    },
    {
     "data": {
      "text/plain": [
       "Validation: |          | 0/? [00:00<?, ?it/s]"
      ],
      "application/vnd.jupyter.widget-view+json": {
       "version_major": 2,
       "version_minor": 0,
       "model_id": "16365d3c6e9b434581389a62f5cd15f1"
      }
     },
     "metadata": {},
     "output_type": "display_data"
    },
    {
     "name": "stderr",
     "output_type": "stream",
     "text": [
      "Metric val_loss improved by 0.001 >= min_delta = 0.0. New best score: 0.282\n"
     ]
    },
    {
     "data": {
      "text/plain": [
       "Validation: |          | 0/? [00:00<?, ?it/s]"
      ],
      "application/vnd.jupyter.widget-view+json": {
       "version_major": 2,
       "version_minor": 0,
       "model_id": "64f44e28acb04784b15426e8e155fd30"
      }
     },
     "metadata": {},
     "output_type": "display_data"
    },
    {
     "data": {
      "text/plain": [
       "Validation: |          | 0/? [00:00<?, ?it/s]"
      ],
      "application/vnd.jupyter.widget-view+json": {
       "version_major": 2,
       "version_minor": 0,
       "model_id": "771d571bd7944a75932d2de87b878552"
      }
     },
     "metadata": {},
     "output_type": "display_data"
    },
    {
     "name": "stderr",
     "output_type": "stream",
     "text": [
      "Metric val_loss improved by 0.013 >= min_delta = 0.0. New best score: 0.269\n"
     ]
    },
    {
     "data": {
      "text/plain": [
       "Validation: |          | 0/? [00:00<?, ?it/s]"
      ],
      "application/vnd.jupyter.widget-view+json": {
       "version_major": 2,
       "version_minor": 0,
       "model_id": "7209f1b9e93c4c26abc01b21b2171804"
      }
     },
     "metadata": {},
     "output_type": "display_data"
    },
    {
     "data": {
      "text/plain": [
       "Validation: |          | 0/? [00:00<?, ?it/s]"
      ],
      "application/vnd.jupyter.widget-view+json": {
       "version_major": 2,
       "version_minor": 0,
       "model_id": "bbc58c74d0e649f4acfe040b44e288b3"
      }
     },
     "metadata": {},
     "output_type": "display_data"
    },
    {
     "data": {
      "text/plain": [
       "Validation: |          | 0/? [00:00<?, ?it/s]"
      ],
      "application/vnd.jupyter.widget-view+json": {
       "version_major": 2,
       "version_minor": 0,
       "model_id": "5132fdb0a21544b9a662007440743842"
      }
     },
     "metadata": {},
     "output_type": "display_data"
    },
    {
     "name": "stderr",
     "output_type": "stream",
     "text": [
      "Monitored metric val_loss did not improve in the last 3 records. Best score: 0.269. Signaling Trainer to stop.\n"
     ]
    }
   ],
   "execution_count": 33
  },
  {
   "cell_type": "code",
   "id": "8b8056db0fb54ddc",
   "metadata": {
    "ExecuteTime": {
     "end_time": "2024-10-09T21:25:32.238500Z",
     "start_time": "2024-10-09T21:25:32.220097Z"
    }
   },
   "source": "torch.save(tft.state_dict(), \"model_results/tft_final_model.pth\")\n",
   "outputs": [],
   "execution_count": 34
  },
  {
   "cell_type": "code",
   "id": "38ba3d11-6a4f-4720-9f07-6e4bfe40021b",
   "metadata": {
    "ExecuteTime": {
     "end_time": "2024-10-09T21:25:32.312215Z",
     "start_time": "2024-10-09T21:25:32.285477Z"
    }
   },
   "source": [
    "# Model ağırlıklarını yükleyin\n",
    "tft.load_state_dict(torch.load(\"model_results/tft_final_model.pth\"))\n",
    "\n",
    "# Modeli eval moduna geçirin (dropout gibi katmanların doğru çalışmasını sağlamak için)\n",
    "tft.eval()"
   ],
   "outputs": [
    {
     "name": "stderr",
     "output_type": "stream",
     "text": [
      "C:\\Users\\egeme\\AppData\\Local\\Temp\\ipykernel_28660\\1963916747.py:2: FutureWarning: You are using `torch.load` with `weights_only=False` (the current default value), which uses the default pickle module implicitly. It is possible to construct malicious pickle data which will execute arbitrary code during unpickling (See https://github.com/pytorch/pytorch/blob/main/SECURITY.md#untrusted-models for more details). In a future release, the default value for `weights_only` will be flipped to `True`. This limits the functions that could be executed during unpickling. Arbitrary objects will no longer be allowed to be loaded via this mode unless they are explicitly allowlisted by the user via `torch.serialization.add_safe_globals`. We recommend you start setting `weights_only=True` for any use case where you don't have full control of the loaded file. Please open an issue on GitHub for any issues related to this experimental feature.\n",
      "  tft.load_state_dict(torch.load(\"tft_final_model.pth\"))\n"
     ]
    },
    {
     "data": {
      "text/plain": [
       "TemporalFusionTransformer(\n",
       "  \t\"attention_head_size\":               1\n",
       "  \t\"categorical_groups\":                {}\n",
       "  \t\"causal_attention\":                  True\n",
       "  \t\"dataset_parameters\":                {'time_idx': 'time_idx', 'target': 'CO(GT)', 'group_ids': ['group'], 'weight': None, 'max_encoder_length': 30, 'min_encoder_length': 30, 'min_prediction_idx': 0, 'min_prediction_length': 10, 'max_prediction_length': 10, 'static_categoricals': [], 'static_reals': [], 'time_varying_known_categoricals': [], 'time_varying_known_reals': ['time_idx', 'hour', 'day', 'month', 'day_of_week', 'is_weekend', 'hour_sin', 'hour_cos', 'day_sin', 'day_cos', 'month_sin', 'month_cos'], 'time_varying_unknown_categoricals': [], 'time_varying_unknown_reals': ['CO(GT)'], 'variable_groups': {}, 'constant_fill_strategy': {}, 'allow_missing_timesteps': True, 'lags': {}, 'add_relative_time_idx': False, 'add_target_scales': False, 'add_encoder_length': False, 'target_normalizer': EncoderNormalizer(\n",
       "  \t\tmethod='standard',\n",
       "  \t\tcenter=True,\n",
       "  \t\tmax_length=None,\n",
       "  \t\ttransformation='relu',\n",
       "  \t\tmethod_kwargs={}\n",
       "  \t), 'categorical_encoders': {'__group_id__group': NaNLabelEncoder(add_nan=False, warn=True)}, 'scalers': {'time_idx': StandardScaler(), 'hour': StandardScaler(), 'day': StandardScaler(), 'month': StandardScaler(), 'day_of_week': StandardScaler(), 'is_weekend': StandardScaler(), 'hour_sin': StandardScaler(), 'hour_cos': StandardScaler(), 'day_sin': StandardScaler(), 'day_cos': StandardScaler(), 'month_sin': StandardScaler(), 'month_cos': StandardScaler()}, 'randomize_length': None, 'predict_mode': False}\n",
       "  \t\"dropout\":                           0.1\n",
       "  \t\"embedding_labels\":                  {}\n",
       "  \t\"embedding_paddings\":                []\n",
       "  \t\"embedding_sizes\":                   {}\n",
       "  \t\"hidden_continuous_size\":            8\n",
       "  \t\"hidden_continuous_sizes\":           {}\n",
       "  \t\"hidden_size\":                       16\n",
       "  \t\"learning_rate\":                     0.03\n",
       "  \t\"log_gradient_flow\":                 False\n",
       "  \t\"log_interval\":                      10\n",
       "  \t\"log_val_interval\":                  10\n",
       "  \t\"lstm_layers\":                       1\n",
       "  \t\"max_encoder_length\":                30\n",
       "  \t\"monotone_constaints\":               {}\n",
       "  \t\"optimizer\":                         ranger\n",
       "  \t\"optimizer_params\":                  None\n",
       "  \t\"output_size\":                       7\n",
       "  \t\"output_transformer\":                EncoderNormalizer(\n",
       "  \t\tmethod='standard',\n",
       "  \t\tcenter=True,\n",
       "  \t\tmax_length=None,\n",
       "  \t\ttransformation='relu',\n",
       "  \t\tmethod_kwargs={}\n",
       "  \t)\n",
       "  \t\"reduce_on_plateau_min_lr\":          1e-05\n",
       "  \t\"reduce_on_plateau_patience\":        4\n",
       "  \t\"reduce_on_plateau_reduction\":       2.0\n",
       "  \t\"share_single_variable_networks\":    False\n",
       "  \t\"static_categoricals\":               []\n",
       "  \t\"static_reals\":                      []\n",
       "  \t\"time_varying_categoricals_decoder\": []\n",
       "  \t\"time_varying_categoricals_encoder\": []\n",
       "  \t\"time_varying_reals_decoder\":        ['time_idx', 'hour', 'day', 'month', 'day_of_week', 'is_weekend', 'hour_sin', 'hour_cos', 'day_sin', 'day_cos', 'month_sin', 'month_cos']\n",
       "  \t\"time_varying_reals_encoder\":        ['time_idx', 'hour', 'day', 'month', 'day_of_week', 'is_weekend', 'hour_sin', 'hour_cos', 'day_sin', 'day_cos', 'month_sin', 'month_cos', 'CO(GT)']\n",
       "  \t\"weight_decay\":                      0.0\n",
       "  \t\"x_categoricals\":                    []\n",
       "  \t\"x_reals\":                           ['time_idx', 'hour', 'day', 'month', 'day_of_week', 'is_weekend', 'hour_sin', 'hour_cos', 'day_sin', 'day_cos', 'month_sin', 'month_cos', 'CO(GT)']\n",
       "  (loss): QuantileLoss(quantiles=[0.02, 0.1, 0.25, 0.5, 0.75, 0.9, 0.98])\n",
       "  (logging_metrics): ModuleList(\n",
       "    (0): SMAPE()\n",
       "    (1): MAE()\n",
       "    (2): RMSE()\n",
       "    (3): MAPE()\n",
       "  )\n",
       "  (input_embeddings): MultiEmbedding(\n",
       "    (embeddings): ModuleDict()\n",
       "  )\n",
       "  (prescalers): ModuleDict(\n",
       "    (time_idx): Linear(in_features=1, out_features=8, bias=True)\n",
       "    (hour): Linear(in_features=1, out_features=8, bias=True)\n",
       "    (day): Linear(in_features=1, out_features=8, bias=True)\n",
       "    (month): Linear(in_features=1, out_features=8, bias=True)\n",
       "    (day_of_week): Linear(in_features=1, out_features=8, bias=True)\n",
       "    (is_weekend): Linear(in_features=1, out_features=8, bias=True)\n",
       "    (hour_sin): Linear(in_features=1, out_features=8, bias=True)\n",
       "    (hour_cos): Linear(in_features=1, out_features=8, bias=True)\n",
       "    (day_sin): Linear(in_features=1, out_features=8, bias=True)\n",
       "    (day_cos): Linear(in_features=1, out_features=8, bias=True)\n",
       "    (month_sin): Linear(in_features=1, out_features=8, bias=True)\n",
       "    (month_cos): Linear(in_features=1, out_features=8, bias=True)\n",
       "    (CO(GT)): Linear(in_features=1, out_features=8, bias=True)\n",
       "  )\n",
       "  (static_variable_selection): VariableSelectionNetwork(\n",
       "    (single_variable_grns): ModuleDict()\n",
       "    (prescalers): ModuleDict()\n",
       "    (softmax): Softmax(dim=-1)\n",
       "  )\n",
       "  (encoder_variable_selection): VariableSelectionNetwork(\n",
       "    (flattened_grn): GatedResidualNetwork(\n",
       "      (resample_norm): ResampleNorm(\n",
       "        (resample): TimeDistributedInterpolation()\n",
       "        (gate): Sigmoid()\n",
       "        (norm): LayerNorm((13,), eps=1e-05, elementwise_affine=True)\n",
       "      )\n",
       "      (fc1): Linear(in_features=104, out_features=13, bias=True)\n",
       "      (elu): ELU(alpha=1.0)\n",
       "      (context): Linear(in_features=16, out_features=13, bias=False)\n",
       "      (fc2): Linear(in_features=13, out_features=13, bias=True)\n",
       "      (gate_norm): GateAddNorm(\n",
       "        (glu): GatedLinearUnit(\n",
       "          (dropout): Dropout(p=0.1, inplace=False)\n",
       "          (fc): Linear(in_features=13, out_features=26, bias=True)\n",
       "        )\n",
       "        (add_norm): AddNorm(\n",
       "          (norm): LayerNorm((13,), eps=1e-05, elementwise_affine=True)\n",
       "        )\n",
       "      )\n",
       "    )\n",
       "    (single_variable_grns): ModuleDict(\n",
       "      (time_idx): GatedResidualNetwork(\n",
       "        (resample_norm): ResampleNorm(\n",
       "          (resample): TimeDistributedInterpolation()\n",
       "          (gate): Sigmoid()\n",
       "          (norm): LayerNorm((16,), eps=1e-05, elementwise_affine=True)\n",
       "        )\n",
       "        (fc1): Linear(in_features=8, out_features=8, bias=True)\n",
       "        (elu): ELU(alpha=1.0)\n",
       "        (fc2): Linear(in_features=8, out_features=8, bias=True)\n",
       "        (gate_norm): GateAddNorm(\n",
       "          (glu): GatedLinearUnit(\n",
       "            (dropout): Dropout(p=0.1, inplace=False)\n",
       "            (fc): Linear(in_features=8, out_features=32, bias=True)\n",
       "          )\n",
       "          (add_norm): AddNorm(\n",
       "            (norm): LayerNorm((16,), eps=1e-05, elementwise_affine=True)\n",
       "          )\n",
       "        )\n",
       "      )\n",
       "      (hour): GatedResidualNetwork(\n",
       "        (resample_norm): ResampleNorm(\n",
       "          (resample): TimeDistributedInterpolation()\n",
       "          (gate): Sigmoid()\n",
       "          (norm): LayerNorm((16,), eps=1e-05, elementwise_affine=True)\n",
       "        )\n",
       "        (fc1): Linear(in_features=8, out_features=8, bias=True)\n",
       "        (elu): ELU(alpha=1.0)\n",
       "        (fc2): Linear(in_features=8, out_features=8, bias=True)\n",
       "        (gate_norm): GateAddNorm(\n",
       "          (glu): GatedLinearUnit(\n",
       "            (dropout): Dropout(p=0.1, inplace=False)\n",
       "            (fc): Linear(in_features=8, out_features=32, bias=True)\n",
       "          )\n",
       "          (add_norm): AddNorm(\n",
       "            (norm): LayerNorm((16,), eps=1e-05, elementwise_affine=True)\n",
       "          )\n",
       "        )\n",
       "      )\n",
       "      (day): GatedResidualNetwork(\n",
       "        (resample_norm): ResampleNorm(\n",
       "          (resample): TimeDistributedInterpolation()\n",
       "          (gate): Sigmoid()\n",
       "          (norm): LayerNorm((16,), eps=1e-05, elementwise_affine=True)\n",
       "        )\n",
       "        (fc1): Linear(in_features=8, out_features=8, bias=True)\n",
       "        (elu): ELU(alpha=1.0)\n",
       "        (fc2): Linear(in_features=8, out_features=8, bias=True)\n",
       "        (gate_norm): GateAddNorm(\n",
       "          (glu): GatedLinearUnit(\n",
       "            (dropout): Dropout(p=0.1, inplace=False)\n",
       "            (fc): Linear(in_features=8, out_features=32, bias=True)\n",
       "          )\n",
       "          (add_norm): AddNorm(\n",
       "            (norm): LayerNorm((16,), eps=1e-05, elementwise_affine=True)\n",
       "          )\n",
       "        )\n",
       "      )\n",
       "      (month): GatedResidualNetwork(\n",
       "        (resample_norm): ResampleNorm(\n",
       "          (resample): TimeDistributedInterpolation()\n",
       "          (gate): Sigmoid()\n",
       "          (norm): LayerNorm((16,), eps=1e-05, elementwise_affine=True)\n",
       "        )\n",
       "        (fc1): Linear(in_features=8, out_features=8, bias=True)\n",
       "        (elu): ELU(alpha=1.0)\n",
       "        (fc2): Linear(in_features=8, out_features=8, bias=True)\n",
       "        (gate_norm): GateAddNorm(\n",
       "          (glu): GatedLinearUnit(\n",
       "            (dropout): Dropout(p=0.1, inplace=False)\n",
       "            (fc): Linear(in_features=8, out_features=32, bias=True)\n",
       "          )\n",
       "          (add_norm): AddNorm(\n",
       "            (norm): LayerNorm((16,), eps=1e-05, elementwise_affine=True)\n",
       "          )\n",
       "        )\n",
       "      )\n",
       "      (day_of_week): GatedResidualNetwork(\n",
       "        (resample_norm): ResampleNorm(\n",
       "          (resample): TimeDistributedInterpolation()\n",
       "          (gate): Sigmoid()\n",
       "          (norm): LayerNorm((16,), eps=1e-05, elementwise_affine=True)\n",
       "        )\n",
       "        (fc1): Linear(in_features=8, out_features=8, bias=True)\n",
       "        (elu): ELU(alpha=1.0)\n",
       "        (fc2): Linear(in_features=8, out_features=8, bias=True)\n",
       "        (gate_norm): GateAddNorm(\n",
       "          (glu): GatedLinearUnit(\n",
       "            (dropout): Dropout(p=0.1, inplace=False)\n",
       "            (fc): Linear(in_features=8, out_features=32, bias=True)\n",
       "          )\n",
       "          (add_norm): AddNorm(\n",
       "            (norm): LayerNorm((16,), eps=1e-05, elementwise_affine=True)\n",
       "          )\n",
       "        )\n",
       "      )\n",
       "      (is_weekend): GatedResidualNetwork(\n",
       "        (resample_norm): ResampleNorm(\n",
       "          (resample): TimeDistributedInterpolation()\n",
       "          (gate): Sigmoid()\n",
       "          (norm): LayerNorm((16,), eps=1e-05, elementwise_affine=True)\n",
       "        )\n",
       "        (fc1): Linear(in_features=8, out_features=8, bias=True)\n",
       "        (elu): ELU(alpha=1.0)\n",
       "        (fc2): Linear(in_features=8, out_features=8, bias=True)\n",
       "        (gate_norm): GateAddNorm(\n",
       "          (glu): GatedLinearUnit(\n",
       "            (dropout): Dropout(p=0.1, inplace=False)\n",
       "            (fc): Linear(in_features=8, out_features=32, bias=True)\n",
       "          )\n",
       "          (add_norm): AddNorm(\n",
       "            (norm): LayerNorm((16,), eps=1e-05, elementwise_affine=True)\n",
       "          )\n",
       "        )\n",
       "      )\n",
       "      (hour_sin): GatedResidualNetwork(\n",
       "        (resample_norm): ResampleNorm(\n",
       "          (resample): TimeDistributedInterpolation()\n",
       "          (gate): Sigmoid()\n",
       "          (norm): LayerNorm((16,), eps=1e-05, elementwise_affine=True)\n",
       "        )\n",
       "        (fc1): Linear(in_features=8, out_features=8, bias=True)\n",
       "        (elu): ELU(alpha=1.0)\n",
       "        (fc2): Linear(in_features=8, out_features=8, bias=True)\n",
       "        (gate_norm): GateAddNorm(\n",
       "          (glu): GatedLinearUnit(\n",
       "            (dropout): Dropout(p=0.1, inplace=False)\n",
       "            (fc): Linear(in_features=8, out_features=32, bias=True)\n",
       "          )\n",
       "          (add_norm): AddNorm(\n",
       "            (norm): LayerNorm((16,), eps=1e-05, elementwise_affine=True)\n",
       "          )\n",
       "        )\n",
       "      )\n",
       "      (hour_cos): GatedResidualNetwork(\n",
       "        (resample_norm): ResampleNorm(\n",
       "          (resample): TimeDistributedInterpolation()\n",
       "          (gate): Sigmoid()\n",
       "          (norm): LayerNorm((16,), eps=1e-05, elementwise_affine=True)\n",
       "        )\n",
       "        (fc1): Linear(in_features=8, out_features=8, bias=True)\n",
       "        (elu): ELU(alpha=1.0)\n",
       "        (fc2): Linear(in_features=8, out_features=8, bias=True)\n",
       "        (gate_norm): GateAddNorm(\n",
       "          (glu): GatedLinearUnit(\n",
       "            (dropout): Dropout(p=0.1, inplace=False)\n",
       "            (fc): Linear(in_features=8, out_features=32, bias=True)\n",
       "          )\n",
       "          (add_norm): AddNorm(\n",
       "            (norm): LayerNorm((16,), eps=1e-05, elementwise_affine=True)\n",
       "          )\n",
       "        )\n",
       "      )\n",
       "      (day_sin): GatedResidualNetwork(\n",
       "        (resample_norm): ResampleNorm(\n",
       "          (resample): TimeDistributedInterpolation()\n",
       "          (gate): Sigmoid()\n",
       "          (norm): LayerNorm((16,), eps=1e-05, elementwise_affine=True)\n",
       "        )\n",
       "        (fc1): Linear(in_features=8, out_features=8, bias=True)\n",
       "        (elu): ELU(alpha=1.0)\n",
       "        (fc2): Linear(in_features=8, out_features=8, bias=True)\n",
       "        (gate_norm): GateAddNorm(\n",
       "          (glu): GatedLinearUnit(\n",
       "            (dropout): Dropout(p=0.1, inplace=False)\n",
       "            (fc): Linear(in_features=8, out_features=32, bias=True)\n",
       "          )\n",
       "          (add_norm): AddNorm(\n",
       "            (norm): LayerNorm((16,), eps=1e-05, elementwise_affine=True)\n",
       "          )\n",
       "        )\n",
       "      )\n",
       "      (day_cos): GatedResidualNetwork(\n",
       "        (resample_norm): ResampleNorm(\n",
       "          (resample): TimeDistributedInterpolation()\n",
       "          (gate): Sigmoid()\n",
       "          (norm): LayerNorm((16,), eps=1e-05, elementwise_affine=True)\n",
       "        )\n",
       "        (fc1): Linear(in_features=8, out_features=8, bias=True)\n",
       "        (elu): ELU(alpha=1.0)\n",
       "        (fc2): Linear(in_features=8, out_features=8, bias=True)\n",
       "        (gate_norm): GateAddNorm(\n",
       "          (glu): GatedLinearUnit(\n",
       "            (dropout): Dropout(p=0.1, inplace=False)\n",
       "            (fc): Linear(in_features=8, out_features=32, bias=True)\n",
       "          )\n",
       "          (add_norm): AddNorm(\n",
       "            (norm): LayerNorm((16,), eps=1e-05, elementwise_affine=True)\n",
       "          )\n",
       "        )\n",
       "      )\n",
       "      (month_sin): GatedResidualNetwork(\n",
       "        (resample_norm): ResampleNorm(\n",
       "          (resample): TimeDistributedInterpolation()\n",
       "          (gate): Sigmoid()\n",
       "          (norm): LayerNorm((16,), eps=1e-05, elementwise_affine=True)\n",
       "        )\n",
       "        (fc1): Linear(in_features=8, out_features=8, bias=True)\n",
       "        (elu): ELU(alpha=1.0)\n",
       "        (fc2): Linear(in_features=8, out_features=8, bias=True)\n",
       "        (gate_norm): GateAddNorm(\n",
       "          (glu): GatedLinearUnit(\n",
       "            (dropout): Dropout(p=0.1, inplace=False)\n",
       "            (fc): Linear(in_features=8, out_features=32, bias=True)\n",
       "          )\n",
       "          (add_norm): AddNorm(\n",
       "            (norm): LayerNorm((16,), eps=1e-05, elementwise_affine=True)\n",
       "          )\n",
       "        )\n",
       "      )\n",
       "      (month_cos): GatedResidualNetwork(\n",
       "        (resample_norm): ResampleNorm(\n",
       "          (resample): TimeDistributedInterpolation()\n",
       "          (gate): Sigmoid()\n",
       "          (norm): LayerNorm((16,), eps=1e-05, elementwise_affine=True)\n",
       "        )\n",
       "        (fc1): Linear(in_features=8, out_features=8, bias=True)\n",
       "        (elu): ELU(alpha=1.0)\n",
       "        (fc2): Linear(in_features=8, out_features=8, bias=True)\n",
       "        (gate_norm): GateAddNorm(\n",
       "          (glu): GatedLinearUnit(\n",
       "            (dropout): Dropout(p=0.1, inplace=False)\n",
       "            (fc): Linear(in_features=8, out_features=32, bias=True)\n",
       "          )\n",
       "          (add_norm): AddNorm(\n",
       "            (norm): LayerNorm((16,), eps=1e-05, elementwise_affine=True)\n",
       "          )\n",
       "        )\n",
       "      )\n",
       "      (CO(GT)): GatedResidualNetwork(\n",
       "        (resample_norm): ResampleNorm(\n",
       "          (resample): TimeDistributedInterpolation()\n",
       "          (gate): Sigmoid()\n",
       "          (norm): LayerNorm((16,), eps=1e-05, elementwise_affine=True)\n",
       "        )\n",
       "        (fc1): Linear(in_features=8, out_features=8, bias=True)\n",
       "        (elu): ELU(alpha=1.0)\n",
       "        (fc2): Linear(in_features=8, out_features=8, bias=True)\n",
       "        (gate_norm): GateAddNorm(\n",
       "          (glu): GatedLinearUnit(\n",
       "            (dropout): Dropout(p=0.1, inplace=False)\n",
       "            (fc): Linear(in_features=8, out_features=32, bias=True)\n",
       "          )\n",
       "          (add_norm): AddNorm(\n",
       "            (norm): LayerNorm((16,), eps=1e-05, elementwise_affine=True)\n",
       "          )\n",
       "        )\n",
       "      )\n",
       "    )\n",
       "    (prescalers): ModuleDict(\n",
       "      (time_idx): Linear(in_features=1, out_features=8, bias=True)\n",
       "      (hour): Linear(in_features=1, out_features=8, bias=True)\n",
       "      (day): Linear(in_features=1, out_features=8, bias=True)\n",
       "      (month): Linear(in_features=1, out_features=8, bias=True)\n",
       "      (day_of_week): Linear(in_features=1, out_features=8, bias=True)\n",
       "      (is_weekend): Linear(in_features=1, out_features=8, bias=True)\n",
       "      (hour_sin): Linear(in_features=1, out_features=8, bias=True)\n",
       "      (hour_cos): Linear(in_features=1, out_features=8, bias=True)\n",
       "      (day_sin): Linear(in_features=1, out_features=8, bias=True)\n",
       "      (day_cos): Linear(in_features=1, out_features=8, bias=True)\n",
       "      (month_sin): Linear(in_features=1, out_features=8, bias=True)\n",
       "      (month_cos): Linear(in_features=1, out_features=8, bias=True)\n",
       "      (CO(GT)): Linear(in_features=1, out_features=8, bias=True)\n",
       "    )\n",
       "    (softmax): Softmax(dim=-1)\n",
       "  )\n",
       "  (decoder_variable_selection): VariableSelectionNetwork(\n",
       "    (flattened_grn): GatedResidualNetwork(\n",
       "      (resample_norm): ResampleNorm(\n",
       "        (resample): TimeDistributedInterpolation()\n",
       "        (gate): Sigmoid()\n",
       "        (norm): LayerNorm((12,), eps=1e-05, elementwise_affine=True)\n",
       "      )\n",
       "      (fc1): Linear(in_features=96, out_features=12, bias=True)\n",
       "      (elu): ELU(alpha=1.0)\n",
       "      (context): Linear(in_features=16, out_features=12, bias=False)\n",
       "      (fc2): Linear(in_features=12, out_features=12, bias=True)\n",
       "      (gate_norm): GateAddNorm(\n",
       "        (glu): GatedLinearUnit(\n",
       "          (dropout): Dropout(p=0.1, inplace=False)\n",
       "          (fc): Linear(in_features=12, out_features=24, bias=True)\n",
       "        )\n",
       "        (add_norm): AddNorm(\n",
       "          (norm): LayerNorm((12,), eps=1e-05, elementwise_affine=True)\n",
       "        )\n",
       "      )\n",
       "    )\n",
       "    (single_variable_grns): ModuleDict(\n",
       "      (time_idx): GatedResidualNetwork(\n",
       "        (resample_norm): ResampleNorm(\n",
       "          (resample): TimeDistributedInterpolation()\n",
       "          (gate): Sigmoid()\n",
       "          (norm): LayerNorm((16,), eps=1e-05, elementwise_affine=True)\n",
       "        )\n",
       "        (fc1): Linear(in_features=8, out_features=8, bias=True)\n",
       "        (elu): ELU(alpha=1.0)\n",
       "        (fc2): Linear(in_features=8, out_features=8, bias=True)\n",
       "        (gate_norm): GateAddNorm(\n",
       "          (glu): GatedLinearUnit(\n",
       "            (dropout): Dropout(p=0.1, inplace=False)\n",
       "            (fc): Linear(in_features=8, out_features=32, bias=True)\n",
       "          )\n",
       "          (add_norm): AddNorm(\n",
       "            (norm): LayerNorm((16,), eps=1e-05, elementwise_affine=True)\n",
       "          )\n",
       "        )\n",
       "      )\n",
       "      (hour): GatedResidualNetwork(\n",
       "        (resample_norm): ResampleNorm(\n",
       "          (resample): TimeDistributedInterpolation()\n",
       "          (gate): Sigmoid()\n",
       "          (norm): LayerNorm((16,), eps=1e-05, elementwise_affine=True)\n",
       "        )\n",
       "        (fc1): Linear(in_features=8, out_features=8, bias=True)\n",
       "        (elu): ELU(alpha=1.0)\n",
       "        (fc2): Linear(in_features=8, out_features=8, bias=True)\n",
       "        (gate_norm): GateAddNorm(\n",
       "          (glu): GatedLinearUnit(\n",
       "            (dropout): Dropout(p=0.1, inplace=False)\n",
       "            (fc): Linear(in_features=8, out_features=32, bias=True)\n",
       "          )\n",
       "          (add_norm): AddNorm(\n",
       "            (norm): LayerNorm((16,), eps=1e-05, elementwise_affine=True)\n",
       "          )\n",
       "        )\n",
       "      )\n",
       "      (day): GatedResidualNetwork(\n",
       "        (resample_norm): ResampleNorm(\n",
       "          (resample): TimeDistributedInterpolation()\n",
       "          (gate): Sigmoid()\n",
       "          (norm): LayerNorm((16,), eps=1e-05, elementwise_affine=True)\n",
       "        )\n",
       "        (fc1): Linear(in_features=8, out_features=8, bias=True)\n",
       "        (elu): ELU(alpha=1.0)\n",
       "        (fc2): Linear(in_features=8, out_features=8, bias=True)\n",
       "        (gate_norm): GateAddNorm(\n",
       "          (glu): GatedLinearUnit(\n",
       "            (dropout): Dropout(p=0.1, inplace=False)\n",
       "            (fc): Linear(in_features=8, out_features=32, bias=True)\n",
       "          )\n",
       "          (add_norm): AddNorm(\n",
       "            (norm): LayerNorm((16,), eps=1e-05, elementwise_affine=True)\n",
       "          )\n",
       "        )\n",
       "      )\n",
       "      (month): GatedResidualNetwork(\n",
       "        (resample_norm): ResampleNorm(\n",
       "          (resample): TimeDistributedInterpolation()\n",
       "          (gate): Sigmoid()\n",
       "          (norm): LayerNorm((16,), eps=1e-05, elementwise_affine=True)\n",
       "        )\n",
       "        (fc1): Linear(in_features=8, out_features=8, bias=True)\n",
       "        (elu): ELU(alpha=1.0)\n",
       "        (fc2): Linear(in_features=8, out_features=8, bias=True)\n",
       "        (gate_norm): GateAddNorm(\n",
       "          (glu): GatedLinearUnit(\n",
       "            (dropout): Dropout(p=0.1, inplace=False)\n",
       "            (fc): Linear(in_features=8, out_features=32, bias=True)\n",
       "          )\n",
       "          (add_norm): AddNorm(\n",
       "            (norm): LayerNorm((16,), eps=1e-05, elementwise_affine=True)\n",
       "          )\n",
       "        )\n",
       "      )\n",
       "      (day_of_week): GatedResidualNetwork(\n",
       "        (resample_norm): ResampleNorm(\n",
       "          (resample): TimeDistributedInterpolation()\n",
       "          (gate): Sigmoid()\n",
       "          (norm): LayerNorm((16,), eps=1e-05, elementwise_affine=True)\n",
       "        )\n",
       "        (fc1): Linear(in_features=8, out_features=8, bias=True)\n",
       "        (elu): ELU(alpha=1.0)\n",
       "        (fc2): Linear(in_features=8, out_features=8, bias=True)\n",
       "        (gate_norm): GateAddNorm(\n",
       "          (glu): GatedLinearUnit(\n",
       "            (dropout): Dropout(p=0.1, inplace=False)\n",
       "            (fc): Linear(in_features=8, out_features=32, bias=True)\n",
       "          )\n",
       "          (add_norm): AddNorm(\n",
       "            (norm): LayerNorm((16,), eps=1e-05, elementwise_affine=True)\n",
       "          )\n",
       "        )\n",
       "      )\n",
       "      (is_weekend): GatedResidualNetwork(\n",
       "        (resample_norm): ResampleNorm(\n",
       "          (resample): TimeDistributedInterpolation()\n",
       "          (gate): Sigmoid()\n",
       "          (norm): LayerNorm((16,), eps=1e-05, elementwise_affine=True)\n",
       "        )\n",
       "        (fc1): Linear(in_features=8, out_features=8, bias=True)\n",
       "        (elu): ELU(alpha=1.0)\n",
       "        (fc2): Linear(in_features=8, out_features=8, bias=True)\n",
       "        (gate_norm): GateAddNorm(\n",
       "          (glu): GatedLinearUnit(\n",
       "            (dropout): Dropout(p=0.1, inplace=False)\n",
       "            (fc): Linear(in_features=8, out_features=32, bias=True)\n",
       "          )\n",
       "          (add_norm): AddNorm(\n",
       "            (norm): LayerNorm((16,), eps=1e-05, elementwise_affine=True)\n",
       "          )\n",
       "        )\n",
       "      )\n",
       "      (hour_sin): GatedResidualNetwork(\n",
       "        (resample_norm): ResampleNorm(\n",
       "          (resample): TimeDistributedInterpolation()\n",
       "          (gate): Sigmoid()\n",
       "          (norm): LayerNorm((16,), eps=1e-05, elementwise_affine=True)\n",
       "        )\n",
       "        (fc1): Linear(in_features=8, out_features=8, bias=True)\n",
       "        (elu): ELU(alpha=1.0)\n",
       "        (fc2): Linear(in_features=8, out_features=8, bias=True)\n",
       "        (gate_norm): GateAddNorm(\n",
       "          (glu): GatedLinearUnit(\n",
       "            (dropout): Dropout(p=0.1, inplace=False)\n",
       "            (fc): Linear(in_features=8, out_features=32, bias=True)\n",
       "          )\n",
       "          (add_norm): AddNorm(\n",
       "            (norm): LayerNorm((16,), eps=1e-05, elementwise_affine=True)\n",
       "          )\n",
       "        )\n",
       "      )\n",
       "      (hour_cos): GatedResidualNetwork(\n",
       "        (resample_norm): ResampleNorm(\n",
       "          (resample): TimeDistributedInterpolation()\n",
       "          (gate): Sigmoid()\n",
       "          (norm): LayerNorm((16,), eps=1e-05, elementwise_affine=True)\n",
       "        )\n",
       "        (fc1): Linear(in_features=8, out_features=8, bias=True)\n",
       "        (elu): ELU(alpha=1.0)\n",
       "        (fc2): Linear(in_features=8, out_features=8, bias=True)\n",
       "        (gate_norm): GateAddNorm(\n",
       "          (glu): GatedLinearUnit(\n",
       "            (dropout): Dropout(p=0.1, inplace=False)\n",
       "            (fc): Linear(in_features=8, out_features=32, bias=True)\n",
       "          )\n",
       "          (add_norm): AddNorm(\n",
       "            (norm): LayerNorm((16,), eps=1e-05, elementwise_affine=True)\n",
       "          )\n",
       "        )\n",
       "      )\n",
       "      (day_sin): GatedResidualNetwork(\n",
       "        (resample_norm): ResampleNorm(\n",
       "          (resample): TimeDistributedInterpolation()\n",
       "          (gate): Sigmoid()\n",
       "          (norm): LayerNorm((16,), eps=1e-05, elementwise_affine=True)\n",
       "        )\n",
       "        (fc1): Linear(in_features=8, out_features=8, bias=True)\n",
       "        (elu): ELU(alpha=1.0)\n",
       "        (fc2): Linear(in_features=8, out_features=8, bias=True)\n",
       "        (gate_norm): GateAddNorm(\n",
       "          (glu): GatedLinearUnit(\n",
       "            (dropout): Dropout(p=0.1, inplace=False)\n",
       "            (fc): Linear(in_features=8, out_features=32, bias=True)\n",
       "          )\n",
       "          (add_norm): AddNorm(\n",
       "            (norm): LayerNorm((16,), eps=1e-05, elementwise_affine=True)\n",
       "          )\n",
       "        )\n",
       "      )\n",
       "      (day_cos): GatedResidualNetwork(\n",
       "        (resample_norm): ResampleNorm(\n",
       "          (resample): TimeDistributedInterpolation()\n",
       "          (gate): Sigmoid()\n",
       "          (norm): LayerNorm((16,), eps=1e-05, elementwise_affine=True)\n",
       "        )\n",
       "        (fc1): Linear(in_features=8, out_features=8, bias=True)\n",
       "        (elu): ELU(alpha=1.0)\n",
       "        (fc2): Linear(in_features=8, out_features=8, bias=True)\n",
       "        (gate_norm): GateAddNorm(\n",
       "          (glu): GatedLinearUnit(\n",
       "            (dropout): Dropout(p=0.1, inplace=False)\n",
       "            (fc): Linear(in_features=8, out_features=32, bias=True)\n",
       "          )\n",
       "          (add_norm): AddNorm(\n",
       "            (norm): LayerNorm((16,), eps=1e-05, elementwise_affine=True)\n",
       "          )\n",
       "        )\n",
       "      )\n",
       "      (month_sin): GatedResidualNetwork(\n",
       "        (resample_norm): ResampleNorm(\n",
       "          (resample): TimeDistributedInterpolation()\n",
       "          (gate): Sigmoid()\n",
       "          (norm): LayerNorm((16,), eps=1e-05, elementwise_affine=True)\n",
       "        )\n",
       "        (fc1): Linear(in_features=8, out_features=8, bias=True)\n",
       "        (elu): ELU(alpha=1.0)\n",
       "        (fc2): Linear(in_features=8, out_features=8, bias=True)\n",
       "        (gate_norm): GateAddNorm(\n",
       "          (glu): GatedLinearUnit(\n",
       "            (dropout): Dropout(p=0.1, inplace=False)\n",
       "            (fc): Linear(in_features=8, out_features=32, bias=True)\n",
       "          )\n",
       "          (add_norm): AddNorm(\n",
       "            (norm): LayerNorm((16,), eps=1e-05, elementwise_affine=True)\n",
       "          )\n",
       "        )\n",
       "      )\n",
       "      (month_cos): GatedResidualNetwork(\n",
       "        (resample_norm): ResampleNorm(\n",
       "          (resample): TimeDistributedInterpolation()\n",
       "          (gate): Sigmoid()\n",
       "          (norm): LayerNorm((16,), eps=1e-05, elementwise_affine=True)\n",
       "        )\n",
       "        (fc1): Linear(in_features=8, out_features=8, bias=True)\n",
       "        (elu): ELU(alpha=1.0)\n",
       "        (fc2): Linear(in_features=8, out_features=8, bias=True)\n",
       "        (gate_norm): GateAddNorm(\n",
       "          (glu): GatedLinearUnit(\n",
       "            (dropout): Dropout(p=0.1, inplace=False)\n",
       "            (fc): Linear(in_features=8, out_features=32, bias=True)\n",
       "          )\n",
       "          (add_norm): AddNorm(\n",
       "            (norm): LayerNorm((16,), eps=1e-05, elementwise_affine=True)\n",
       "          )\n",
       "        )\n",
       "      )\n",
       "    )\n",
       "    (prescalers): ModuleDict(\n",
       "      (time_idx): Linear(in_features=1, out_features=8, bias=True)\n",
       "      (hour): Linear(in_features=1, out_features=8, bias=True)\n",
       "      (day): Linear(in_features=1, out_features=8, bias=True)\n",
       "      (month): Linear(in_features=1, out_features=8, bias=True)\n",
       "      (day_of_week): Linear(in_features=1, out_features=8, bias=True)\n",
       "      (is_weekend): Linear(in_features=1, out_features=8, bias=True)\n",
       "      (hour_sin): Linear(in_features=1, out_features=8, bias=True)\n",
       "      (hour_cos): Linear(in_features=1, out_features=8, bias=True)\n",
       "      (day_sin): Linear(in_features=1, out_features=8, bias=True)\n",
       "      (day_cos): Linear(in_features=1, out_features=8, bias=True)\n",
       "      (month_sin): Linear(in_features=1, out_features=8, bias=True)\n",
       "      (month_cos): Linear(in_features=1, out_features=8, bias=True)\n",
       "    )\n",
       "    (softmax): Softmax(dim=-1)\n",
       "  )\n",
       "  (static_context_variable_selection): GatedResidualNetwork(\n",
       "    (fc1): Linear(in_features=16, out_features=16, bias=True)\n",
       "    (elu): ELU(alpha=1.0)\n",
       "    (fc2): Linear(in_features=16, out_features=16, bias=True)\n",
       "    (gate_norm): GateAddNorm(\n",
       "      (glu): GatedLinearUnit(\n",
       "        (dropout): Dropout(p=0.1, inplace=False)\n",
       "        (fc): Linear(in_features=16, out_features=32, bias=True)\n",
       "      )\n",
       "      (add_norm): AddNorm(\n",
       "        (norm): LayerNorm((16,), eps=1e-05, elementwise_affine=True)\n",
       "      )\n",
       "    )\n",
       "  )\n",
       "  (static_context_initial_hidden_lstm): GatedResidualNetwork(\n",
       "    (fc1): Linear(in_features=16, out_features=16, bias=True)\n",
       "    (elu): ELU(alpha=1.0)\n",
       "    (fc2): Linear(in_features=16, out_features=16, bias=True)\n",
       "    (gate_norm): GateAddNorm(\n",
       "      (glu): GatedLinearUnit(\n",
       "        (dropout): Dropout(p=0.1, inplace=False)\n",
       "        (fc): Linear(in_features=16, out_features=32, bias=True)\n",
       "      )\n",
       "      (add_norm): AddNorm(\n",
       "        (norm): LayerNorm((16,), eps=1e-05, elementwise_affine=True)\n",
       "      )\n",
       "    )\n",
       "  )\n",
       "  (static_context_initial_cell_lstm): GatedResidualNetwork(\n",
       "    (fc1): Linear(in_features=16, out_features=16, bias=True)\n",
       "    (elu): ELU(alpha=1.0)\n",
       "    (fc2): Linear(in_features=16, out_features=16, bias=True)\n",
       "    (gate_norm): GateAddNorm(\n",
       "      (glu): GatedLinearUnit(\n",
       "        (dropout): Dropout(p=0.1, inplace=False)\n",
       "        (fc): Linear(in_features=16, out_features=32, bias=True)\n",
       "      )\n",
       "      (add_norm): AddNorm(\n",
       "        (norm): LayerNorm((16,), eps=1e-05, elementwise_affine=True)\n",
       "      )\n",
       "    )\n",
       "  )\n",
       "  (static_context_enrichment): GatedResidualNetwork(\n",
       "    (fc1): Linear(in_features=16, out_features=16, bias=True)\n",
       "    (elu): ELU(alpha=1.0)\n",
       "    (fc2): Linear(in_features=16, out_features=16, bias=True)\n",
       "    (gate_norm): GateAddNorm(\n",
       "      (glu): GatedLinearUnit(\n",
       "        (dropout): Dropout(p=0.1, inplace=False)\n",
       "        (fc): Linear(in_features=16, out_features=32, bias=True)\n",
       "      )\n",
       "      (add_norm): AddNorm(\n",
       "        (norm): LayerNorm((16,), eps=1e-05, elementwise_affine=True)\n",
       "      )\n",
       "    )\n",
       "  )\n",
       "  (lstm_encoder): LSTM(16, 16, batch_first=True)\n",
       "  (lstm_decoder): LSTM(16, 16, batch_first=True)\n",
       "  (post_lstm_gate_encoder): GatedLinearUnit(\n",
       "    (dropout): Dropout(p=0.1, inplace=False)\n",
       "    (fc): Linear(in_features=16, out_features=32, bias=True)\n",
       "  )\n",
       "  (post_lstm_gate_decoder): GatedLinearUnit(\n",
       "    (dropout): Dropout(p=0.1, inplace=False)\n",
       "    (fc): Linear(in_features=16, out_features=32, bias=True)\n",
       "  )\n",
       "  (post_lstm_add_norm_encoder): AddNorm(\n",
       "    (norm): LayerNorm((16,), eps=1e-05, elementwise_affine=True)\n",
       "  )\n",
       "  (post_lstm_add_norm_decoder): AddNorm(\n",
       "    (norm): LayerNorm((16,), eps=1e-05, elementwise_affine=True)\n",
       "  )\n",
       "  (static_enrichment): GatedResidualNetwork(\n",
       "    (fc1): Linear(in_features=16, out_features=16, bias=True)\n",
       "    (elu): ELU(alpha=1.0)\n",
       "    (context): Linear(in_features=16, out_features=16, bias=False)\n",
       "    (fc2): Linear(in_features=16, out_features=16, bias=True)\n",
       "    (gate_norm): GateAddNorm(\n",
       "      (glu): GatedLinearUnit(\n",
       "        (dropout): Dropout(p=0.1, inplace=False)\n",
       "        (fc): Linear(in_features=16, out_features=32, bias=True)\n",
       "      )\n",
       "      (add_norm): AddNorm(\n",
       "        (norm): LayerNorm((16,), eps=1e-05, elementwise_affine=True)\n",
       "      )\n",
       "    )\n",
       "  )\n",
       "  (multihead_attn): InterpretableMultiHeadAttention(\n",
       "    (dropout): Dropout(p=0.1, inplace=False)\n",
       "    (v_layer): Linear(in_features=16, out_features=16, bias=True)\n",
       "    (q_layers): ModuleList(\n",
       "      (0): Linear(in_features=16, out_features=16, bias=True)\n",
       "    )\n",
       "    (k_layers): ModuleList(\n",
       "      (0): Linear(in_features=16, out_features=16, bias=True)\n",
       "    )\n",
       "    (attention): ScaledDotProductAttention(\n",
       "      (softmax): Softmax(dim=2)\n",
       "    )\n",
       "    (w_h): Linear(in_features=16, out_features=16, bias=False)\n",
       "  )\n",
       "  (post_attn_gate_norm): GateAddNorm(\n",
       "    (glu): GatedLinearUnit(\n",
       "      (dropout): Dropout(p=0.1, inplace=False)\n",
       "      (fc): Linear(in_features=16, out_features=32, bias=True)\n",
       "    )\n",
       "    (add_norm): AddNorm(\n",
       "      (norm): LayerNorm((16,), eps=1e-05, elementwise_affine=True)\n",
       "    )\n",
       "  )\n",
       "  (pos_wise_ff): GatedResidualNetwork(\n",
       "    (fc1): Linear(in_features=16, out_features=16, bias=True)\n",
       "    (elu): ELU(alpha=1.0)\n",
       "    (fc2): Linear(in_features=16, out_features=16, bias=True)\n",
       "    (gate_norm): GateAddNorm(\n",
       "      (glu): GatedLinearUnit(\n",
       "        (dropout): Dropout(p=0.1, inplace=False)\n",
       "        (fc): Linear(in_features=16, out_features=32, bias=True)\n",
       "      )\n",
       "      (add_norm): AddNorm(\n",
       "        (norm): LayerNorm((16,), eps=1e-05, elementwise_affine=True)\n",
       "      )\n",
       "    )\n",
       "  )\n",
       "  (pre_output_gate_norm): GateAddNorm(\n",
       "    (glu): GatedLinearUnit(\n",
       "      (fc): Linear(in_features=16, out_features=32, bias=True)\n",
       "    )\n",
       "    (add_norm): AddNorm(\n",
       "      (norm): LayerNorm((16,), eps=1e-05, elementwise_affine=True)\n",
       "    )\n",
       "  )\n",
       "  (output_layer): Linear(in_features=16, out_features=7, bias=True)\n",
       ")"
      ]
     },
     "execution_count": 35,
     "metadata": {},
     "output_type": "execute_result"
    }
   ],
   "execution_count": 35
  },
  {
   "cell_type": "code",
   "id": "2e3662de-336c-4c00-bf49-7bab2837c50a",
   "metadata": {
    "ExecuteTime": {
     "end_time": "2024-10-09T21:25:32.361373Z",
     "start_time": "2024-10-09T21:25:32.357621Z"
    }
   },
   "source": [
    "data['time_idx'] = range(len(data))"
   ],
   "outputs": [],
   "execution_count": 36
  },
  {
   "cell_type": "code",
   "id": "f313b8e4-a983-4df6-aa63-d84af0d913ec",
   "metadata": {
    "ExecuteTime": {
     "end_time": "2024-10-09T21:25:32.414682Z",
     "start_time": "2024-10-09T21:25:32.409358Z"
    }
   },
   "source": [
    "# Değiştirilecek sütun adları\n",
    "data.columns = data.columns.str.replace('.', '_', regex=False)\n",
    "\n",
    "# Şimdi veri setinizdeki sütun adları düzeltildi\n"
   ],
   "outputs": [],
   "execution_count": 37
  },
  {
   "cell_type": "code",
   "id": "61e35d28-4fb9-4083-9358-8d646752b069",
   "metadata": {
    "ExecuteTime": {
     "end_time": "2024-10-09T21:25:32.470197Z",
     "start_time": "2024-10-09T21:25:32.465759Z"
    }
   },
   "source": [
    "print(training.group_ids)"
   ],
   "outputs": [
    {
     "name": "stdout",
     "output_type": "stream",
     "text": [
      "['group']\n"
     ]
    }
   ],
   "execution_count": 38
  },
  {
   "cell_type": "code",
   "id": "732e2279-36cf-4311-afc3-9725d86cab64",
   "metadata": {
    "ExecuteTime": {
     "end_time": "2024-10-09T21:25:32.522739Z",
     "start_time": "2024-10-09T21:25:32.518831Z"
    }
   },
   "source": [
    "data['group'] = 'group_1'"
   ],
   "outputs": [],
   "execution_count": 39
  },
  {
   "cell_type": "code",
   "id": "b7e4ec24-0b89-484d-b360-410776977c86",
   "metadata": {
    "ExecuteTime": {
     "end_time": "2024-10-09T21:25:32.576806Z",
     "start_time": "2024-10-09T21:25:32.570046Z"
    }
   },
   "source": [
    "import numpy as np\n",
    "\n",
    "# Sinüzoidal dönüşümleri ekleyin\n",
    "data['hour_sin'] = np.sin(2 * np.pi * data['hour'] / 24)\n",
    "data['hour_cos'] = np.cos(2 * np.pi * data['hour'] / 24)\n",
    "data['day_sin'] = np.sin(2 * np.pi * data['day'] / 31)\n",
    "data['day_cos'] = np.cos(2 * np.pi * data['day'] / 31)\n",
    "data['month_sin'] = np.sin(2 * np.pi * data['month'] / 12)\n",
    "data['month_cos'] = np.cos(2 * np.pi * data['month'] / 12)\n"
   ],
   "outputs": [],
   "execution_count": 40
  },
  {
   "cell_type": "code",
   "id": "8f3b5a3b-f17c-47e9-bc31-853029c4185d",
   "metadata": {
    "ExecuteTime": {
     "end_time": "2024-10-09T21:25:32.665208Z",
     "start_time": "2024-10-09T21:25:32.624786Z"
    }
   },
   "source": [
    "test_dataset = TimeSeriesDataSet.from_dataset(\n",
    "    training,  # Eğitim veri kümesindeki ayarları kullanın\n",
    "    data,      # Test verisi\n",
    "    predict=True\n",
    ")\n",
    "\n",
    "# DataLoader'ı oluşturun\n",
    "test_dataloader = test_dataset.to_dataloader(train=False, batch_size=64)\n"
   ],
   "outputs": [
    {
     "name": "stderr",
     "output_type": "stream",
     "text": [
      "C:\\Users\\egeme\\PycharmProjects\\pythonProject1\\.venv\\Lib\\site-packages\\pytorch_forecasting\\data\\timeseries.py:1188: UserWarning: If predicting, no randomization should be possible - setting stop_randomization=True\n",
      "  warnings.warn(\n"
     ]
    }
   ],
   "execution_count": 41
  },
  {
   "cell_type": "code",
   "id": "db8dd4c4-460d-4f0d-9cdc-82200a2ec8b5",
   "metadata": {
    "ExecuteTime": {
     "end_time": "2024-10-09T21:27:16.985150Z",
     "start_time": "2024-10-09T21:25:32.715825Z"
    }
   },
   "source": [
    "import os\n",
    "import torch\n",
    "from pytorch_forecasting.models import TemporalFusionTransformer\n",
    "from pytorch_forecasting.metrics import QuantileLoss\n",
    "from pytorch_lightning import Trainer, LightningModule\n",
    "from pytorch_lightning.callbacks import EarlyStopping\n",
    "from pytorch_optimizer import Ranger  # Import the Ranger optimizer\n",
    "\n",
    "# Initialize the Temporal Fusion Transformer model\n",
    "tft = TemporalFusionTransformer.from_dataset(\n",
    "    training,\n",
    "    optimizer=\"ranger\",  # Use Ranger optimizer\n",
    "    learning_rate=0.03,\n",
    "    hidden_size=16,\n",
    "    attention_head_size=1,\n",
    "    dropout=0.1,\n",
    "    hidden_continuous_size=8,\n",
    "    output_size=7,  # Number of quantiles (default is 7)\n",
    "    loss=QuantileLoss(),\n",
    "    log_interval=10,\n",
    "    reduce_on_plateau_patience=4,\n",
    ")\n",
    "\n",
    "# Define a LightningModule that wraps the TemporalFusionTransformer model\n",
    "class TFTLightningModule(LightningModule):\n",
    "    def __init__(self, model):\n",
    "        super().__init__()\n",
    "        self.model = model\n",
    "        # Exclude 'model', 'loss', and 'logging_metrics' attributes from being saved in hyperparameters\n",
    "        self.save_hyperparameters(ignore=[\"model\", \"loss\", \"logging_metrics\"])\n",
    "\n",
    "    def forward(self, x):\n",
    "        return self.model(x)\n",
    "\n",
    "    def training_step(self, batch, batch_idx):\n",
    "        # Perform a single training step\n",
    "        x, y = batch\n",
    "        out = self.model(x)\n",
    "        y_pred = out[0]  # The model output is a tuple, 'y_pred' is the first element\n",
    "        loss = self.model.loss(y_pred, y)\n",
    "        self.log(\"train_loss\", loss, on_step=True, on_epoch=True, prog_bar=True, batch_size=x['encoder_target'].shape[0])\n",
    "        return loss\n",
    "\n",
    "    def validation_step(self, batch, batch_idx):\n",
    "        # Perform a single validation step\n",
    "        x, y = batch\n",
    "        out = self.model(x)\n",
    "        y_pred = out[0]  # The model output is a tuple, 'y_pred' is the first element\n",
    "        loss = self.model.loss(y_pred, y)\n",
    "        self.log(\"val_loss\", loss, prog_bar=True, batch_size=x['encoder_target'].shape[0])\n",
    "        return loss\n",
    "\n",
    "    def test_step(self, batch, batch_idx):\n",
    "        # Perform a single test step\n",
    "        x, y = batch\n",
    "        out = self.model(x)\n",
    "        y_pred = out[0]  # The model output is a tuple, 'y_pred' is the first element\n",
    "        loss = self.model.loss(y_pred, y)\n",
    "        self.log(\"test_loss\", loss, prog_bar=True, batch_size=x['encoder_target'].shape[0])\n",
    "        return loss\n",
    "\n",
    "    def configure_optimizers(self):\n",
    "        # Set optimizer to use Ranger algorithm\n",
    "        optimizer = Ranger(self.model.parameters(), lr=self.model.hparams.learning_rate)\n",
    "        return optimizer\n",
    "\n",
    "# Wrap the TemporalFusionTransformer model into the LightningModule\n",
    "tft_module = TFTLightningModule(tft)\n",
    "\n",
    "# Initialize PyTorch Lightning Trainer\n",
    "trainer = Trainer(\n",
    "    max_epochs=30,\n",
    "    accelerator=\"gpu\" if torch.cuda.is_available() else \"cpu\",  # Use GPU if available\n",
    "    devices=1,  # Use a single device\n",
    "    callbacks=[EarlyStopping(monitor=\"val_loss\", patience=3, verbose=True)],  # Early stopping callback\n",
    "    num_sanity_val_steps=0,  # Disable sanity check\n",
    "    deterministic=True,  # Ensure deterministic behavior for reproducibility\n",
    ")\n",
    "\n",
    "# Increase the `num_workers` parameter in DataLoaders for faster data loading\n",
    "train_dataloader = training.to_dataloader(train=True, batch_size=64, num_workers=4, persistent_workers=True)\n",
    "val_dataloader = validation.to_dataloader(train=False, batch_size=64, num_workers=4, persistent_workers=True)\n",
    "\n",
    "# Train the model\n",
    "trainer.fit(\n",
    "    tft_module,\n",
    "    train_dataloaders=train_dataloader,\n",
    "    val_dataloaders=val_dataloader\n",
    ")\n",
    "\n",
    "# Save the trained model\n",
    "torch.save(tft.state_dict(), \"model_results/tft_final_model.pth\")\n",
    "\n",
    "# To load the model for testing (if tested in a separate code block)\n",
    "# tft.load_state_dict(torch.load(\"tft_final_model.pth\"))\n",
    "\n",
    "# Prepare test dataset and DataLoader\n",
    "test_dataset = TimeSeriesDataSet.from_dataset(\n",
    "    training,  # Use the settings from training dataset\n",
    "    data,      # Your test dataset (should be processed similar to training)\n",
    "    predict=True\n",
    ")\n",
    "\n",
    "# Create test DataLoader\n",
    "test_dataloader = test_dataset.to_dataloader(train=False, batch_size=64)\n",
    "\n",
    "# Test the model on test data\n",
    "test_results = trainer.test(tft_module, dataloaders=test_dataloader)\n",
    "print(test_results)\n"
   ],
   "outputs": [
    {
     "name": "stderr",
     "output_type": "stream",
     "text": [
      "C:\\Users\\egeme\\PycharmProjects\\pythonProject1\\.venv\\Lib\\site-packages\\lightning\\pytorch\\utilities\\parsing.py:208: Attribute 'loss' is an instance of `nn.Module` and is already saved during checkpointing. It is recommended to ignore them using `self.save_hyperparameters(ignore=['loss'])`.\n",
      "C:\\Users\\egeme\\PycharmProjects\\pythonProject1\\.venv\\Lib\\site-packages\\lightning\\pytorch\\utilities\\parsing.py:208: Attribute 'logging_metrics' is an instance of `nn.Module` and is already saved during checkpointing. It is recommended to ignore them using `self.save_hyperparameters(ignore=['logging_metrics'])`.\n",
      "GPU available: False, used: False\n",
      "TPU available: False, using: 0 TPU cores\n",
      "HPU available: False, using: 0 HPUs\n",
      "\n",
      "  | Name  | Type                      | Params | Mode \n",
      "------------------------------------------------------------\n",
      "0 | model | TemporalFusionTransformer | 31.3 K | train\n",
      "------------------------------------------------------------\n",
      "31.3 K    Trainable params\n",
      "0         Non-trainable params\n",
      "31.3 K    Total params\n",
      "0.125     Total estimated model params size (MB)\n",
      "505       Modules in train mode\n",
      "0         Modules in eval mode\n"
     ]
    },
    {
     "data": {
      "text/plain": [
       "Training: |          | 0/? [00:00<?, ?it/s]"
      ],
      "application/vnd.jupyter.widget-view+json": {
       "version_major": 2,
       "version_minor": 0,
       "model_id": "d37127ff18db4b53b9933278a3c44647"
      }
     },
     "metadata": {},
     "output_type": "display_data"
    },
    {
     "data": {
      "text/plain": [
       "Validation: |          | 0/? [00:00<?, ?it/s]"
      ],
      "application/vnd.jupyter.widget-view+json": {
       "version_major": 2,
       "version_minor": 0,
       "model_id": "a5a70dab1e2449c7b3e46a9fa860faab"
      }
     },
     "metadata": {},
     "output_type": "display_data"
    },
    {
     "name": "stderr",
     "output_type": "stream",
     "text": [
      "Metric val_loss improved. New best score: 0.307\n"
     ]
    },
    {
     "data": {
      "text/plain": [
       "Validation: |          | 0/? [00:00<?, ?it/s]"
      ],
      "application/vnd.jupyter.widget-view+json": {
       "version_major": 2,
       "version_minor": 0,
       "model_id": "016dd6b63b86454b8c4f999ddecca70e"
      }
     },
     "metadata": {},
     "output_type": "display_data"
    },
    {
     "name": "stderr",
     "output_type": "stream",
     "text": [
      "Metric val_loss improved by 0.004 >= min_delta = 0.0. New best score: 0.303\n"
     ]
    },
    {
     "data": {
      "text/plain": [
       "Validation: |          | 0/? [00:00<?, ?it/s]"
      ],
      "application/vnd.jupyter.widget-view+json": {
       "version_major": 2,
       "version_minor": 0,
       "model_id": "3b03e31a3ab04be4a6209c9d0716b803"
      }
     },
     "metadata": {},
     "output_type": "display_data"
    },
    {
     "data": {
      "text/plain": [
       "Validation: |          | 0/? [00:00<?, ?it/s]"
      ],
      "application/vnd.jupyter.widget-view+json": {
       "version_major": 2,
       "version_minor": 0,
       "model_id": "a5629f1bde2a4a9b9f6988abd29ae40e"
      }
     },
     "metadata": {},
     "output_type": "display_data"
    },
    {
     "name": "stderr",
     "output_type": "stream",
     "text": [
      "Metric val_loss improved by 0.013 >= min_delta = 0.0. New best score: 0.291\n"
     ]
    },
    {
     "data": {
      "text/plain": [
       "Validation: |          | 0/? [00:00<?, ?it/s]"
      ],
      "application/vnd.jupyter.widget-view+json": {
       "version_major": 2,
       "version_minor": 0,
       "model_id": "aa2c9a1ffe24418ea517fb07eb16f9d7"
      }
     },
     "metadata": {},
     "output_type": "display_data"
    },
    {
     "data": {
      "text/plain": [
       "Validation: |          | 0/? [00:00<?, ?it/s]"
      ],
      "application/vnd.jupyter.widget-view+json": {
       "version_major": 2,
       "version_minor": 0,
       "model_id": "5cd74dcab7d74c928f863875fa3a89a0"
      }
     },
     "metadata": {},
     "output_type": "display_data"
    },
    {
     "data": {
      "text/plain": [
       "Validation: |          | 0/? [00:00<?, ?it/s]"
      ],
      "application/vnd.jupyter.widget-view+json": {
       "version_major": 2,
       "version_minor": 0,
       "model_id": "ab7f5ec36951407c8c347933c24e32a9"
      }
     },
     "metadata": {},
     "output_type": "display_data"
    },
    {
     "name": "stderr",
     "output_type": "stream",
     "text": [
      "Monitored metric val_loss did not improve in the last 3 records. Best score: 0.291. Signaling Trainer to stop.\n",
      "C:\\Users\\egeme\\PycharmProjects\\pythonProject1\\.venv\\Lib\\site-packages\\pytorch_forecasting\\data\\timeseries.py:1188: UserWarning: If predicting, no randomization should be possible - setting stop_randomization=True\n",
      "  warnings.warn(\n",
      "C:\\Users\\egeme\\PycharmProjects\\pythonProject1\\.venv\\Lib\\site-packages\\pytorch_lightning\\trainer\\connectors\\data_connector.py:424: The 'test_dataloader' does not have many workers which may be a bottleneck. Consider increasing the value of the `num_workers` argument` to `num_workers=11` in the `DataLoader` to improve performance.\n"
     ]
    },
    {
     "data": {
      "text/plain": [
       "Testing: |          | 0/? [00:00<?, ?it/s]"
      ],
      "application/vnd.jupyter.widget-view+json": {
       "version_major": 2,
       "version_minor": 0,
       "model_id": "51b721b2c11b4769a85b3821e3aa29be"
      }
     },
     "metadata": {},
     "output_type": "display_data"
    },
    {
     "name": "stdout",
     "output_type": "stream",
     "text": [
      "────────────────────────────────────────────────────────────────────────────────────────────────────────────────────────\r\n",
      "       Test metric             DataLoader 0\r\n",
      "────────────────────────────────────────────────────────────────────────────────────────────────────────────────────────\r\n",
      "        test_loss           1.5176875591278076\r\n",
      "────────────────────────────────────────────────────────────────────────────────────────────────────────────────────────\n",
      "[{'test_loss': 1.5176875591278076}]\n"
     ]
    }
   ],
   "execution_count": 42
  },
  {
   "cell_type": "code",
   "id": "0dbb738b-16c1-4dcf-a454-feeebbc7a1c7",
   "metadata": {
    "ExecuteTime": {
     "end_time": "2024-10-09T21:27:17.183420Z",
     "start_time": "2024-10-09T21:27:17.071649Z"
    }
   },
   "source": [
    "# Get raw predictions and inputs from the model on the test set\n",
    "raw_predictions = tft.predict(test_dataloader, mode=\"raw\", return_x=True)"
   ],
   "outputs": [
    {
     "name": "stderr",
     "output_type": "stream",
     "text": [
      "C:\\Users\\egeme\\PycharmProjects\\pythonProject1\\.venv\\Lib\\site-packages\\lightning\\pytorch\\trainer\\connectors\\data_connector.py:424: The 'predict_dataloader' does not have many workers which may be a bottleneck. Consider increasing the value of the `num_workers` argument` to `num_workers=11` in the `DataLoader` to improve performance.\n"
     ]
    }
   ],
   "execution_count": 43
  },
  {
   "cell_type": "code",
   "id": "a82cba14-d445-4ba6-b2f6-7c544f76890e",
   "metadata": {
    "ExecuteTime": {
     "end_time": "2024-10-09T21:27:17.259063Z",
     "start_time": "2024-10-09T21:27:17.247537Z"
    }
   },
   "source": [
    "print(type(raw_predictions))\n",
    "print(len(raw_predictions))\n",
    "print(raw_predictions)"
   ],
   "outputs": [
    {
     "name": "stdout",
     "output_type": "stream",
     "text": [
      "<class 'pytorch_forecasting.models.base_model.Prediction'>\n",
      "5\n",
      "Prediction(output=Output(prediction=tensor([[[0.0000, 0.1374, 0.3576, 0.4574, 0.6602, 0.9395, 1.1225],\n",
      "         [0.0000, 0.1525, 0.3647, 0.4648, 0.6677, 0.9311, 1.1010],\n",
      "         [0.0000, 0.1669, 0.3640, 0.4837, 0.7021, 0.9443, 1.1277],\n",
      "         [0.0000, 0.1874, 0.3717, 0.5219, 0.7689, 1.0005, 1.2086],\n",
      "         [0.0000, 0.2346, 0.4109, 0.5980, 0.8802, 1.1157, 1.3592],\n",
      "         [0.0000, 0.3450, 0.5185, 0.7442, 1.0577, 1.3085, 1.6022],\n",
      "         [0.1343, 0.5240, 0.7177, 0.9746, 1.3116, 1.6022, 2.0085],\n",
      "         [0.2273, 0.6151, 0.8388, 1.1359, 1.4963, 1.8958, 2.4862],\n",
      "         [0.3077, 0.6577, 0.8826, 1.1590, 1.5024, 1.9351, 2.5600],\n",
      "         [0.3919, 0.6944, 0.8996, 1.1309, 1.4269, 1.8256, 2.3855]]]), encoder_attention=tensor([[[[2.7535e-01, 1.0983e-04, 5.9979e-05, 8.9504e-04, 2.3084e-05,\n",
      "           7.4718e-05, 2.0679e-04, 1.2519e-04, 6.5267e-05, 1.1340e-04,\n",
      "           7.6952e-06, 7.9478e-06, 1.3767e-05, 1.6616e-05, 1.6253e-04,\n",
      "           2.5949e-04, 1.0999e-04, 3.2595e-05, 2.6967e-05, 3.4066e-04,\n",
      "           5.0731e-06, 1.2701e-05, 7.4763e-04, 4.9956e-04, 7.0521e-03,\n",
      "           8.5547e-02, 1.5423e-01, 1.8606e-01, 2.8774e-01, 9.8225e-05]],\n",
      "\n",
      "         [[2.7811e-01, 1.1096e-04, 5.9957e-05, 8.7457e-04, 2.2809e-05,\n",
      "           7.3837e-05, 2.0409e-04, 1.2331e-04, 6.4212e-05, 1.1135e-04,\n",
      "           7.6952e-06, 8.0693e-06, 1.4153e-05, 1.7125e-05, 1.6711e-04,\n",
      "           2.6626e-04, 1.1317e-04, 3.3572e-05, 2.7742e-05, 3.4809e-04,\n",
      "           5.1820e-06, 1.3001e-05, 7.5869e-04, 5.0787e-04, 7.1074e-03,\n",
      "           8.6864e-02, 1.5518e-01, 1.8540e-01, 2.8066e-01, 9.6001e-05]],\n",
      "\n",
      "         [[2.7820e-01, 1.1343e-04, 6.1301e-05, 9.2525e-04, 2.2293e-05,\n",
      "           7.0247e-05, 1.8895e-04, 1.1207e-04, 5.8224e-05, 1.0196e-04,\n",
      "           7.2812e-06, 7.7539e-06, 1.3685e-05, 1.6609e-05, 1.5750e-04,\n",
      "           2.4973e-04, 1.0718e-04, 3.2487e-05, 2.7109e-05, 3.3557e-04,\n",
      "           5.0407e-06, 1.2939e-05, 7.4893e-04, 5.0385e-04, 6.9589e-03,\n",
      "           8.2706e-02, 1.4875e-01, 1.8178e-01, 2.9201e-01, 9.2312e-05]],\n",
      "\n",
      "         [[2.6872e-01, 1.2233e-04, 6.7131e-05, 1.0828e-03, 2.2445e-05,\n",
      "           6.6882e-05, 1.7029e-04, 9.6439e-05, 4.9903e-05, 8.9772e-05,\n",
      "           6.7966e-06, 7.3966e-06, 1.3103e-05, 1.5952e-05, 1.4150e-04,\n",
      "           2.2161e-04, 9.7048e-05, 3.0863e-05, 2.6369e-05, 3.1557e-04,\n",
      "           5.0756e-06, 1.3763e-05, 7.4931e-04, 5.1135e-04, 6.7508e-03,\n",
      "           7.4841e-02, 1.3773e-01, 1.7724e-01, 3.2022e-01, 8.6715e-05]],\n",
      "\n",
      "         [[2.4022e-01, 1.6152e-04, 9.2393e-05, 1.5655e-03, 2.6775e-05,\n",
      "           7.1928e-05, 1.6734e-04, 8.7776e-05, 4.5618e-05, 8.6139e-05,\n",
      "           7.4704e-06, 8.4528e-06, 1.4971e-05, 1.8223e-05, 1.3704e-04,\n",
      "           2.0656e-04, 9.5069e-05, 3.3688e-05, 3.0167e-05, 3.2007e-04,\n",
      "           6.6914e-06, 1.9806e-05, 8.3777e-04, 5.9309e-04, 6.7472e-03,\n",
      "           6.4288e-02, 1.2255e-01, 1.7178e-01, 3.6941e-01, 8.5924e-05]],\n",
      "\n",
      "         [[1.7750e-01, 5.2584e-04, 3.4143e-04, 4.9335e-03, 7.6473e-05,\n",
      "           1.6127e-04, 3.0899e-04, 1.4650e-04, 8.0791e-05, 1.6016e-04,\n",
      "           2.1461e-05, 2.6322e-05, 4.5336e-05, 5.4337e-05, 2.4763e-04,\n",
      "           3.2835e-04, 1.7724e-04, 8.4878e-05, 8.4573e-05, 5.6706e-04,\n",
      "           3.1085e-05, 1.0288e-04, 1.6762e-03, 1.3254e-03, 8.7768e-03,\n",
      "           5.1606e-02, 1.0051e-01, 1.6006e-01, 4.3547e-01, 1.4469e-04]],\n",
      "\n",
      "         [[3.3749e-02, 2.8007e-02, 2.9573e-02, 1.1102e-01, 5.5787e-03,\n",
      "           5.4755e-03, 5.9807e-03, 2.9054e-03, 2.3320e-03, 4.4498e-03,\n",
      "           3.0945e-03, 4.2685e-03, 5.7559e-03, 6.1724e-03, 5.0560e-03,\n",
      "           4.3227e-03, 4.1484e-03, 5.1991e-03, 6.7084e-03, 7.4806e-03,\n",
      "           1.3882e-02, 4.0484e-02, 2.0610e-02, 2.3300e-02, 2.0884e-02,\n",
      "           2.1907e-02, 3.7393e-02, 6.7719e-02, 1.9618e-01, 2.0016e-03]],\n",
      "\n",
      "         [[2.8226e-03, 5.0244e-02, 7.4263e-02, 1.2683e-01, 1.5198e-02,\n",
      "           8.8351e-03, 6.6060e-03, 3.4093e-03, 3.5762e-03, 6.9826e-03,\n",
      "           1.3585e-02, 1.9315e-02, 2.1656e-02, 2.1428e-02, 6.7873e-03,\n",
      "           4.5409e-03, 6.0037e-03, 1.2691e-02, 1.8447e-02, 7.2830e-03,\n",
      "           9.1439e-02, 2.2140e-01, 1.7616e-02, 2.3991e-02, 7.3273e-03,\n",
      "           3.3492e-03, 5.5125e-03, 1.1542e-02, 3.2579e-02, 2.1511e-03]],\n",
      "\n",
      "         [[2.1603e-03, 4.7829e-02, 7.4579e-02, 9.6577e-02, 1.7877e-02,\n",
      "           1.0116e-02, 7.3456e-03, 4.5362e-03, 5.2351e-03, 9.0077e-03,\n",
      "           2.1290e-02, 2.9465e-02, 3.1986e-02, 3.1523e-02, 1.0105e-02,\n",
      "           6.6797e-03, 9.0144e-03, 1.8501e-02, 2.5516e-02, 9.0236e-03,\n",
      "           1.1774e-01, 2.2924e-01, 1.7464e-02, 2.3569e-02, 6.7185e-03,\n",
      "           2.7616e-03, 4.2573e-03, 7.9777e-03, 1.5952e-02, 2.6437e-03]],\n",
      "\n",
      "         [[4.0834e-03, 4.3818e-02, 6.4958e-02, 7.6098e-02, 1.9051e-02,\n",
      "           1.2375e-02, 9.7747e-03, 7.7606e-03, 9.3883e-03, 1.3183e-02,\n",
      "           2.8631e-02, 3.7581e-02, 4.1341e-02, 4.1709e-02, 1.8906e-02,\n",
      "           1.3415e-02, 1.6679e-02, 2.7383e-02, 3.3611e-02, 1.4644e-02,\n",
      "           1.0222e-01, 1.5545e-01, 2.1436e-02, 2.6745e-02, 1.0061e-02,\n",
      "           4.5839e-03, 6.3945e-03, 9.8025e-03, 1.2745e-02, 4.4069e-03]]]]), decoder_attention=tensor([[[[0.0000, 0.0000, 0.0000, 0.0000, 0.0000, 0.0000, 0.0000, 0.0000,\n",
      "           0.0000, 0.0000]],\n",
      "\n",
      "         [[0.0027, 0.0000, 0.0000, 0.0000, 0.0000, 0.0000, 0.0000, 0.0000,\n",
      "           0.0000, 0.0000]],\n",
      "\n",
      "         [[0.0028, 0.0028, 0.0000, 0.0000, 0.0000, 0.0000, 0.0000, 0.0000,\n",
      "           0.0000, 0.0000]],\n",
      "\n",
      "         [[0.0032, 0.0032, 0.0041, 0.0000, 0.0000, 0.0000, 0.0000, 0.0000,\n",
      "           0.0000, 0.0000]],\n",
      "\n",
      "         [[0.0040, 0.0041, 0.0052, 0.0070, 0.0000, 0.0000, 0.0000, 0.0000,\n",
      "           0.0000, 0.0000]],\n",
      "\n",
      "         [[0.0075, 0.0074, 0.0094, 0.0127, 0.0175, 0.0000, 0.0000, 0.0000,\n",
      "           0.0000, 0.0000]],\n",
      "\n",
      "         [[0.0333, 0.0305, 0.0348, 0.0435, 0.0565, 0.0757, 0.0000, 0.0000,\n",
      "           0.0000, 0.0000]],\n",
      "\n",
      "         [[0.0183, 0.0164, 0.0175, 0.0206, 0.0255, 0.0332, 0.0210, 0.0000,\n",
      "           0.0000, 0.0000]],\n",
      "\n",
      "         [[0.0111, 0.0101, 0.0105, 0.0119, 0.0141, 0.0185, 0.0166, 0.0105,\n",
      "           0.0000, 0.0000]],\n",
      "\n",
      "         [[0.0086, 0.0080, 0.0083, 0.0090, 0.0103, 0.0137, 0.0185, 0.0164,\n",
      "           0.0189, 0.0000]]]]), static_variables=tensor([], size=(1, 0)), encoder_variables=tensor([[[[0.0037, 0.0578, 0.0177, 0.0274, 0.0392, 0.1398, 0.2339, 0.0367,\n",
      "           0.0725, 0.0331, 0.0710, 0.0514, 0.2160]],\n",
      "\n",
      "         [[0.0114, 0.0533, 0.0264, 0.0142, 0.0141, 0.1292, 0.1720, 0.0645,\n",
      "           0.2358, 0.0248, 0.0104, 0.0482, 0.1957]],\n",
      "\n",
      "         [[0.0133, 0.0475, 0.0284, 0.0140, 0.0134, 0.1272, 0.1639, 0.0684,\n",
      "           0.2505, 0.0246, 0.0093, 0.0467, 0.1929]],\n",
      "\n",
      "         [[0.0140, 0.0485, 0.0288, 0.0135, 0.0136, 0.1223, 0.1667, 0.0690,\n",
      "           0.2338, 0.0258, 0.0088, 0.0450, 0.2103]],\n",
      "\n",
      "         [[0.0158, 0.0375, 0.0305, 0.0139, 0.0123, 0.1242, 0.1468, 0.0791,\n",
      "           0.2745, 0.0243, 0.0086, 0.0460, 0.1864]],\n",
      "\n",
      "         [[0.0138, 0.0479, 0.0280, 0.0124, 0.0138, 0.1138, 0.1689, 0.0727,\n",
      "           0.2024, 0.0273, 0.0088, 0.0435, 0.2469]],\n",
      "\n",
      "         [[0.0120, 0.0481, 0.0257, 0.0112, 0.0144, 0.1032, 0.1756, 0.0710,\n",
      "           0.1657, 0.0275, 0.0099, 0.0420, 0.2936]],\n",
      "\n",
      "         [[0.0115, 0.0450, 0.0253, 0.0114, 0.0141, 0.1075, 0.1676, 0.0809,\n",
      "           0.1777, 0.0287, 0.0105, 0.0451, 0.2747]],\n",
      "\n",
      "         [[0.0112, 0.0367, 0.0253, 0.0123, 0.0130, 0.1176, 0.1478, 0.0995,\n",
      "           0.2167, 0.0282, 0.0117, 0.0506, 0.2295]],\n",
      "\n",
      "         [[0.0098, 0.0295, 0.0239, 0.0132, 0.0126, 0.1230, 0.1315, 0.1185,\n",
      "           0.2371, 0.0267, 0.0149, 0.0557, 0.2035]],\n",
      "\n",
      "         [[0.0138, 0.0114, 0.0274, 0.0190, 0.0105, 0.1232, 0.0735, 0.1760,\n",
      "           0.3552, 0.0186, 0.0198, 0.0621, 0.0895]],\n",
      "\n",
      "         [[0.0148, 0.0084, 0.0277, 0.0230, 0.0112, 0.1195, 0.0605, 0.2106,\n",
      "           0.3517, 0.0169, 0.0277, 0.0650, 0.0631]],\n",
      "\n",
      "         [[0.0109, 0.0092, 0.0232, 0.0244, 0.0129, 0.1275, 0.0686, 0.2249,\n",
      "           0.3024, 0.0177, 0.0450, 0.0680, 0.0654]],\n",
      "\n",
      "         [[0.0112, 0.0082, 0.0228, 0.0277, 0.0143, 0.1279, 0.0677, 0.2421,\n",
      "           0.2806, 0.0172, 0.0587, 0.0685, 0.0532]],\n",
      "\n",
      "         [[0.0052, 0.0208, 0.0178, 0.0223, 0.0199, 0.1456, 0.1237, 0.1840,\n",
      "           0.1744, 0.0286, 0.0735, 0.0710, 0.1132]],\n",
      "\n",
      "         [[0.0047, 0.0248, 0.0176, 0.0225, 0.0219, 0.1473, 0.1415, 0.1663,\n",
      "           0.1558, 0.0318, 0.0765, 0.0714, 0.1179]],\n",
      "\n",
      "         [[0.0048, 0.0227, 0.0178, 0.0242, 0.0224, 0.1569, 0.1460, 0.1603,\n",
      "           0.1641, 0.0297, 0.0785, 0.0723, 0.1003]],\n",
      "\n",
      "         [[0.0057, 0.0159, 0.0187, 0.0275, 0.0213, 0.1682, 0.1342, 0.1651,\n",
      "           0.1980, 0.0232, 0.0798, 0.0731, 0.0692]],\n",
      "\n",
      "         [[0.0060, 0.0146, 0.0192, 0.0297, 0.0220, 0.1777, 0.1392, 0.1510,\n",
      "           0.2067, 0.0207, 0.0809, 0.0733, 0.0590]],\n",
      "\n",
      "         [[0.0041, 0.0316, 0.0181, 0.0275, 0.0281, 0.1831, 0.1997, 0.0975,\n",
      "           0.1397, 0.0285, 0.0801, 0.0701, 0.0920]],\n",
      "\n",
      "         [[0.0346, 0.0048, 0.0394, 0.0511, 0.0188, 0.1103, 0.0546, 0.2410,\n",
      "           0.2769, 0.0122, 0.0675, 0.0682, 0.0206]],\n",
      "\n",
      "         [[0.0283, 0.0051, 0.0370, 0.0506, 0.0191, 0.1220, 0.0654, 0.2095,\n",
      "           0.2907, 0.0115, 0.0692, 0.0703, 0.0214]],\n",
      "\n",
      "         [[0.0054, 0.0188, 0.0198, 0.0350, 0.0284, 0.2313, 0.1876, 0.0770,\n",
      "           0.1819, 0.0156, 0.0779, 0.0676, 0.0537]],\n",
      "\n",
      "         [[0.0064, 0.0147, 0.0214, 0.0373, 0.0270, 0.2309, 0.1714, 0.0787,\n",
      "           0.2127, 0.0129, 0.0727, 0.0674, 0.0464]],\n",
      "\n",
      "         [[0.0040, 0.0418, 0.0191, 0.0301, 0.0342, 0.2189, 0.2326, 0.0474,\n",
      "           0.1218, 0.0229, 0.0657, 0.0597, 0.1018]],\n",
      "\n",
      "         [[0.0162, 0.0304, 0.0267, 0.0076, 0.0405, 0.0080, 0.3720, 0.0570,\n",
      "           0.0512, 0.0339, 0.0449, 0.0391, 0.2724]],\n",
      "\n",
      "         [[0.0171, 0.0301, 0.0263, 0.0080, 0.0395, 0.0073, 0.3439, 0.0557,\n",
      "           0.0480, 0.0348, 0.0425, 0.0376, 0.3092]],\n",
      "\n",
      "         [[0.0176, 0.0292, 0.0265, 0.0078, 0.0387, 0.0073, 0.3331, 0.0567,\n",
      "           0.0480, 0.0346, 0.0422, 0.0373, 0.3211]],\n",
      "\n",
      "         [[0.0180, 0.0285, 0.0266, 0.0078, 0.0383, 0.0072, 0.3232, 0.0582,\n",
      "           0.0476, 0.0345, 0.0417, 0.0372, 0.3314]],\n",
      "\n",
      "         [[0.0208, 0.0089, 0.0363, 0.0078, 0.0172, 0.0629, 0.2638, 0.1455,\n",
      "           0.1831, 0.0168, 0.0434, 0.0460, 0.1475]]]]), decoder_variables=tensor([[[[0.0166, 0.0297, 0.0149, 0.0261, 0.0422, 0.0379, 0.6888, 0.0683,\n",
      "           0.0152, 0.0232, 0.0317, 0.0053]],\n",
      "\n",
      "         [[0.0149, 0.0328, 0.0107, 0.0255, 0.0424, 0.0389, 0.6907, 0.0613,\n",
      "           0.0195, 0.0239, 0.0337, 0.0057]],\n",
      "\n",
      "         [[0.0137, 0.0360, 0.0074, 0.0257, 0.0439, 0.0417, 0.6763, 0.0572,\n",
      "           0.0256, 0.0264, 0.0388, 0.0073]],\n",
      "\n",
      "         [[0.0137, 0.0411, 0.0054, 0.0278, 0.0486, 0.0478, 0.6318, 0.0576,\n",
      "           0.0343, 0.0318, 0.0498, 0.0105]],\n",
      "\n",
      "         [[0.0151, 0.0487, 0.0043, 0.0320, 0.0566, 0.0572, 0.5556, 0.0624,\n",
      "           0.0454, 0.0392, 0.0682, 0.0152]],\n",
      "\n",
      "         [[0.0175, 0.0574, 0.0038, 0.0374, 0.0664, 0.0679, 0.4636, 0.0698,\n",
      "           0.0573, 0.0470, 0.0922, 0.0198]],\n",
      "\n",
      "         [[0.0197, 0.0645, 0.0037, 0.0422, 0.0748, 0.0767, 0.3881, 0.0775,\n",
      "           0.0669, 0.0533, 0.1118, 0.0207]],\n",
      "\n",
      "         [[0.0222, 0.0725, 0.0038, 0.0475, 0.0843, 0.0866, 0.3135, 0.0890,\n",
      "           0.0775, 0.0608, 0.1252, 0.0171]],\n",
      "\n",
      "         [[0.0257, 0.0817, 0.0044, 0.0541, 0.0958, 0.0986, 0.2294, 0.1057,\n",
      "           0.0901, 0.0704, 0.1321, 0.0119]],\n",
      "\n",
      "         [[0.0287, 0.0861, 0.0054, 0.0587, 0.1030, 0.1059, 0.1797, 0.1216,\n",
      "           0.0978, 0.0771, 0.1277, 0.0084]]]]), decoder_lengths=tensor([10]), encoder_lengths=tensor([30])), x={'encoder_cat': tensor([], size=(1, 30, 0), dtype=torch.int64), 'encoder_cont': tensor([[[ 3.8930,  1.6492, -1.5413, -1.2586,  0.9327,  1.4660, -0.3834,\n",
      "           1.3150,  0.5262,  1.3601,  1.9516, -0.4901, -0.6604],\n",
      "         [ 3.8936, -1.6162, -1.4266, -1.2586,  1.4222,  1.4660, -0.0128,\n",
      "           1.3626,  0.7753,  1.2204,  1.9516, -0.4901, -0.4851],\n",
      "         [ 3.8942, -1.4742, -1.4266, -1.2586,  1.4222,  1.4660,  0.3579,\n",
      "           1.3150,  0.7753,  1.2204,  1.9516, -0.4901, -0.4851],\n",
      "         [ 3.8949, -1.3322, -1.4266, -1.2586,  1.4222,  1.4660,  0.7033,\n",
      "           1.1753,  0.7753,  1.2204,  1.9516, -0.4901, -0.6604],\n",
      "         [ 3.8955, -1.1903, -1.4266, -1.2586,  1.4222,  1.4660,  0.9999,\n",
      "           0.9532,  0.7753,  1.2204,  1.9516, -0.4901, -0.4851],\n",
      "         [ 3.8961, -1.0483, -1.4266, -1.2586,  1.4222,  1.4660,  1.2274,\n",
      "           0.6636,  0.7753,  1.2204,  1.9516, -0.4901, -1.0111],\n",
      "         [ 3.8967, -0.9063, -1.4266, -1.2586,  1.4222,  1.4660,  1.3705,\n",
      "           0.3265,  0.7753,  1.2204,  1.9516, -0.4901, -1.3617],\n",
      "         [ 3.8973, -0.7644, -1.4266, -1.2586,  1.4222,  1.4660,  1.4193,\n",
      "          -0.0353,  0.7753,  1.2204,  1.9516, -0.4901, -1.1864],\n",
      "         [ 3.8979, -0.6224, -1.4266, -1.2586,  1.4222,  1.4660,  1.3705,\n",
      "          -0.3972,  0.7753,  1.2204,  1.9516, -0.4901, -0.8357],\n",
      "         [ 3.8985, -0.4804, -1.4266, -1.2586,  1.4222,  1.4660,  1.2274,\n",
      "          -0.7343,  0.7753,  1.2204,  1.9516, -0.4901, -0.6604],\n",
      "         [ 3.8991, -0.3384, -1.4266, -1.2586,  1.4222,  1.4660,  0.9999,\n",
      "          -1.0239,  0.7753,  1.2204,  1.9516, -0.4901,  0.2162],\n",
      "         [ 3.8997, -0.1965, -1.4266, -1.2586,  1.4222,  1.4660,  0.7033,\n",
      "          -1.2460,  0.7753,  1.2204,  1.9516, -0.4901,  0.5669],\n",
      "         [ 3.9003, -0.0545, -1.4266, -1.2586,  1.4222,  1.4660,  0.3579,\n",
      "          -1.3857,  0.7753,  1.2204,  1.9516, -0.4901,  0.3916],\n",
      "         [ 3.9009,  0.0875, -1.4266, -1.2586,  1.4222,  1.4660, -0.0128,\n",
      "          -1.4333,  0.7753,  1.2204,  1.9516, -0.4901,  0.5669],\n",
      "         [ 3.9015,  0.2295, -1.4266, -1.2586,  1.4222,  1.4660, -0.3834,\n",
      "          -1.3857,  0.7753,  1.2204,  1.9516, -0.4901, -0.1344],\n",
      "         [ 3.9021,  0.3714, -1.4266, -1.2586,  1.4222,  1.4660, -0.7288,\n",
      "          -1.2460,  0.7753,  1.2204,  1.9516, -0.4901, -0.1344],\n",
      "         [ 3.9027,  0.5134, -1.4266, -1.2586,  1.4222,  1.4660, -1.0254,\n",
      "          -1.0239,  0.7753,  1.2204,  1.9516, -0.4901,  0.0409],\n",
      "         [ 3.9033,  0.6554, -1.4266, -1.2586,  1.4222,  1.4660, -1.2530,\n",
      "          -0.7343,  0.7753,  1.2204,  1.9516, -0.4901,  0.3916],\n",
      "         [ 3.9039,  0.7974, -1.4266, -1.2586,  1.4222,  1.4660, -1.3961,\n",
      "          -0.3972,  0.7753,  1.2204,  1.9516, -0.4901,  0.5669],\n",
      "         [ 3.9045,  0.9393, -1.4266, -1.2586,  1.4222,  1.4660, -1.4449,\n",
      "          -0.0353,  0.7753,  1.2204,  1.9516, -0.4901,  0.2162],\n",
      "         [ 3.9051,  1.0813, -1.4266, -1.2586,  1.4222,  1.4660, -1.3961,\n",
      "           0.3265,  0.7753,  1.2204,  1.9516, -0.4901,  2.8462],\n",
      "         [ 3.9057,  1.2233, -1.4266, -1.2586,  1.4222,  1.4660, -1.2530,\n",
      "           0.6636,  0.7753,  1.2204,  1.9516, -0.4901,  2.4955],\n",
      "         [ 3.9063,  1.3653, -1.4266, -1.2586,  1.4222,  1.4660, -1.0254,\n",
      "           0.9532,  0.7753,  1.2204,  1.9516, -0.4901,  0.7422],\n",
      "         [ 3.9069,  1.5072, -1.4266, -1.2586,  1.4222,  1.4660, -0.7288,\n",
      "           1.1753,  0.7753,  1.2204,  1.9516, -0.4901,  0.9176],\n",
      "         [ 3.9075,  1.6492, -1.4266, -1.2586,  1.4222,  1.4660, -0.3834,\n",
      "           1.3150,  0.7753,  1.2204,  1.9516, -0.4901,  0.2162],\n",
      "         [ 3.9081, -1.6162, -1.3118, -1.2586, -1.5148, -0.6821, -0.0128,\n",
      "           1.3626,  0.9914,  1.0328,  1.9516, -0.4901, -0.3098],\n",
      "         [ 3.9087, -1.4742, -1.3118, -1.2586, -1.5148, -0.6821,  0.3579,\n",
      "           1.3150,  0.9914,  1.0328,  1.9516, -0.4901, -0.8357],\n",
      "         [ 3.9093, -1.3322, -1.3118, -1.2586, -1.5148, -0.6821,  0.7033,\n",
      "           1.1753,  0.9914,  1.0328,  1.9516, -0.4901, -1.0111],\n",
      "         [ 3.9099, -1.1903, -1.3118, -1.2586, -1.5148, -0.6821,  0.9999,\n",
      "           0.9532,  0.9914,  1.0328,  1.9516, -0.4901, -1.1864],\n",
      "         [ 3.9105, -1.0483, -1.3118, -1.2586, -1.5148, -0.6821,  1.2274,\n",
      "           0.6636,  0.9914,  1.0328,  1.9516, -0.4901,  1.2682]]]), 'encoder_target': tensor([[0.7000, 0.8000, 0.8000, 0.7000, 0.8000, 0.5000, 0.3000, 0.4000, 0.6000,\n",
      "         0.7000, 1.2000, 1.4000, 1.3000, 1.4000, 1.0000, 1.0000, 1.1000, 1.3000,\n",
      "         1.4000, 1.2000, 2.7000, 2.5000, 1.5000, 1.6000, 1.2000, 0.9000, 0.6000,\n",
      "         0.5000, 0.4000, 1.8000]]), 'encoder_lengths': tensor([30]), 'decoder_cat': tensor([], size=(1, 10, 0), dtype=torch.int64), 'decoder_cont': tensor([[[ 3.9112, -0.9063, -1.3118, -1.2586, -1.5148, -0.6821,  1.3705,\n",
      "           0.3265,  0.9914,  1.0328,  1.9516, -0.4901, -1.0111],\n",
      "         [ 3.9118, -0.7644, -1.3118, -1.2586, -1.5148, -0.6821,  1.4193,\n",
      "          -0.0353,  0.9914,  1.0328,  1.9516, -0.4901,  0.0409],\n",
      "         [ 3.9124, -0.6224, -1.3118, -1.2586, -1.5148, -0.6821,  1.3705,\n",
      "          -0.3972,  0.9914,  1.0328,  1.9516, -0.4901,  5.1255],\n",
      "         [ 3.9130, -0.4804, -1.3118, -1.2586, -1.5148, -0.6821,  1.2274,\n",
      "          -0.7343,  0.9914,  1.0328,  1.9516, -0.4901,  6.8788],\n",
      "         [ 3.9136, -0.3384, -1.3118, -1.2586, -1.5148, -0.6821,  0.9999,\n",
      "          -1.0239,  0.9914,  1.0328,  1.9516, -0.4901,  4.9502],\n",
      "         [ 3.9142, -0.1965, -1.3118, -1.2586, -1.5148, -0.6821,  0.7033,\n",
      "          -1.2460,  0.9914,  1.0328,  1.9516, -0.4901,  3.5475],\n",
      "         [ 3.9148, -0.0545, -1.3118, -1.2586, -1.5148, -0.6821,  0.3579,\n",
      "          -1.3857,  0.9914,  1.0328,  1.9516, -0.4901,  2.3202],\n",
      "         [ 3.9154,  0.0875, -1.3118, -1.2586, -1.5148, -0.6821, -0.0128,\n",
      "          -1.4333,  0.9914,  1.0328,  1.9516, -0.4901,  2.3202],\n",
      "         [ 3.9160,  0.2295, -1.3118, -1.2586, -1.5148, -0.6821, -0.3834,\n",
      "          -1.3857,  0.9914,  1.0328,  1.9516, -0.4901,  1.7942],\n",
      "         [ 3.9166,  0.3714, -1.3118, -1.2586, -1.5148, -0.6821, -0.7288,\n",
      "          -1.2460,  0.9914,  1.0328,  1.9516, -0.4901,  1.9696]]]), 'decoder_target': tensor([[0.5000, 1.1000, 4.0000, 5.0000, 3.9000, 3.1000, 2.4000, 2.4000, 2.1000,\n",
      "         2.2000]]), 'decoder_lengths': tensor([10]), 'decoder_time_idx': tensor([[9347, 9348, 9349, 9350, 9351, 9352, 9353, 9354, 9355, 9356]]), 'groups': tensor([[1]]), 'target_scale': tensor([[1.0767, 0.5703]])}, index=None, decoder_lengths=None, y=None)\n"
     ]
    }
   ],
   "execution_count": 44
  },
  {
   "cell_type": "code",
   "id": "49db61ce-3602-4f77-8d58-7e8217e87f05",
   "metadata": {
    "ExecuteTime": {
     "end_time": "2024-10-09T21:27:17.487429Z",
     "start_time": "2024-10-09T21:27:17.330132Z"
    }
   },
   "source": [
    "import matplotlib.pyplot as plt\n",
    "\n",
    "# Extract 'output' and 'x' from the 'raw_predictions'\n",
    "out = raw_predictions.output\n",
    "x = raw_predictions.x\n",
    "\n",
    "# Visualize predictions for the single available sample in the test set\n",
    "fig, ax = plt.subplots(figsize=(10, 6))\n",
    "tft.plot_prediction(x=x, out=out, idx=0, add_loss_to_title=True, ax=ax)\n",
    "plt.show()\n"
   ],
   "outputs": [
    {
     "data": {
      "text/plain": [
       "<Figure size 1000x600 with 2 Axes>"
      ],
      "image/png": "[encoded data removed]"
     },
     "metadata": {},
     "output_type": "display_data"
    }
   ],
   "execution_count": 45
  },
  {
   "cell_type": "code",
   "id": "2fb9f816-d021-44b3-9186-8ab9ec109844",
   "metadata": {
    "ExecuteTime": {
     "end_time": "2024-10-09T21:27:17.634305Z",
     "start_time": "2024-10-09T21:27:17.550095Z"
    }
   },
   "source": [
    "import pandas as pd\n",
    "\n",
    "# Get predictions as a DataFrame\n",
    "predictions = tft.predict(test_dataloader, mode=\"prediction\")\n",
    "\n",
    "# Convert predictions to a DataFrame\n",
    "predictions_df = pd.DataFrame(predictions.numpy())\n",
    "print(predictions_df.head())"
   ],
   "outputs": [
    {
     "name": "stdout",
     "output_type": "stream",
     "text": [
      "          0        1         2         3         4         5         6  \\\n",
      "0  0.457417  0.46482  0.483711  0.521876  0.598042  0.744242  0.974631   \n",
      "\n",
      "          7         8         9  \n",
      "0  1.135941  1.158952  1.130933  \n"
     ]
    },
    {
     "name": "stderr",
     "output_type": "stream",
     "text": [
      "C:\\Users\\egeme\\PycharmProjects\\pythonProject1\\.venv\\Lib\\site-packages\\lightning\\pytorch\\trainer\\connectors\\data_connector.py:424: The 'predict_dataloader' does not have many workers which may be a bottleneck. Consider increasing the value of the `num_workers` argument` to `num_workers=11` in the `DataLoader` to improve performance.\n"
     ]
    }
   ],
   "execution_count": 46
  },
  {
   "cell_type": "code",
   "id": "27d5ad8f-20c6-41ca-bae6-5a61ca6664be",
   "metadata": {
    "ExecuteTime": {
     "end_time": "2024-10-09T21:27:17.704096Z",
     "start_time": "2024-10-09T21:27:17.699421Z"
    }
   },
   "source": [
    "# Create test DataLoader with more workers\n",
    "test_dataloader = test_dataset.to_dataloader(train=False, batch_size=64, num_workers=4, persistent_workers=True)"
   ],
   "outputs": [],
   "execution_count": 47
  },
  {
   "cell_type": "code",
   "id": "d3645783-c8ec-4bff-994f-8abf41c69c9c",
   "metadata": {
    "ExecuteTime": {
     "end_time": "2024-10-09T21:27:22.417086Z",
     "start_time": "2024-10-09T21:27:17.764772Z"
    }
   },
   "source": [
    "import pandas as pd\n",
    "import torch\n",
    "from pytorch_forecasting.data import TimeSeriesDataSet\n",
    "\n",
    "# 1. Create test DataLoader with optimized parameters for fast processing\n",
    "test_dataloader = test_dataset.to_dataloader(\n",
    "    train=False,\n",
    "    batch_size=64,\n",
    "    num_workers=4,  # Set the number of workers for faster data loading\n",
    "    persistent_workers=True  # Keep workers active to speed up processing\n",
    ")\n",
    "\n",
    "# 2. Get predictions from the model on the test data\n",
    "predictions = tft.predict(test_dataloader, mode=\"prediction\")\n",
    "\n",
    "# 3. Convert predictions to a DataFrame for better visualization\n",
    "predictions_df = pd.DataFrame(predictions.numpy())\n",
    "print(predictions_df.head())  # Display first few rows of predictions\n",
    "\n",
    "# Optional: Save predictions to CSV for future analysis\n",
    "predictions_df.to_csv(\"predictions.csv\", index=False)\n",
    "\n",
    "# If you want to perform visualization or further analysis on the predictions\n",
    "# (e.g., using matplotlib), you can do so here.\n"
   ],
   "outputs": [
    {
     "name": "stdout",
     "output_type": "stream",
     "text": [
      "          0        1         2         3         4         5         6  \\\n",
      "0  0.457417  0.46482  0.483711  0.521876  0.598042  0.744242  0.974631   \n",
      "\n",
      "          7         8         9  \n",
      "0  1.135941  1.158952  1.130933  \n"
     ]
    }
   ],
   "execution_count": 48
  },
  {
   "cell_type": "code",
   "id": "6135c16d-a91a-4b62-8f88-29a15b11f0ac",
   "metadata": {
    "ExecuteTime": {
     "end_time": "2024-10-09T21:27:26.194300Z",
     "start_time": "2024-10-09T21:27:22.480547Z"
    }
   },
   "source": [
    "import pandas as pd\n",
    "import torch\n",
    "\n",
    "# Extract actual values from test_dataloader correctly\n",
    "actuals = []\n",
    "\n",
    "for batch in iter(test_dataloader):\n",
    "    # Assuming the target values are the second item in the batch\n",
    "    targets = batch[1]  # Extract target tensor\n",
    "    # If targets is a tuple, take the first tensor\n",
    "    if isinstance(targets, tuple):\n",
    "        targets = targets[0]\n",
    "    actuals.append(targets)\n",
    "\n",
    "# Concatenate all target tensors and convert to numpy\n",
    "actuals = torch.cat(actuals).numpy()\n",
    "\n",
    "# Create a DataFrame for actual values for better visualization\n",
    "actuals_df = pd.DataFrame(actuals)\n",
    "\n",
    "# Calculate error (Mean Absolute Error)\n",
    "mae = (predictions_df - actuals_df).abs().mean().mean()\n",
    "print(f\"Mean Absolute Error (MAE): {mae:.4f}\")\n",
    "\n",
    "# Save predictions and actuals to a CSV file for further analysis\n",
    "combined_df = pd.concat([predictions_df, actuals_df], axis=1)\n",
    "combined_df.columns = [f\"prediction_{i}\" for i in range(predictions_df.shape[1])] + [f\"actual_{i}\" for i in range(actuals_df.shape[1])]\n",
    "combined_df.to_csv(\"predictions_vs_actuals.csv\", index=False)\n",
    "\n",
    "# Display first few rows of predictions vs actuals\n",
    "print(combined_df.head())\n"
   ],
   "outputs": [
    {
     "name": "stdout",
     "output_type": "stream",
     "text": [
      "Mean Absolute Error (MAE): 1.9029\n",
      "   prediction_0  prediction_1  prediction_2  prediction_3  prediction_4  \\\n",
      "0      0.457417       0.46482      0.483711      0.521876      0.598042   \n",
      "\n",
      "   prediction_5  prediction_6  prediction_7  prediction_8  prediction_9  \\\n",
      "0      0.744242      0.974631      1.135941      1.158952      1.130933   \n",
      "\n",
      "   actual_0  actual_1  actual_2  actual_3  actual_4  actual_5  actual_6  \\\n",
      "0       0.5       1.1       4.0       5.0       3.9       3.1       2.4   \n",
      "\n",
      "   actual_7  actual_8  actual_9  \n",
      "0       2.4       2.1       2.2  \n"
     ]
    }
   ],
   "execution_count": 49
  },
  {
   "cell_type": "code",
   "id": "7fd867a1-6b0a-4d94-a2f4-f8193133511a",
   "metadata": {
    "ExecuteTime": {
     "end_time": "2024-10-09T21:29:09.077712Z",
     "start_time": "2024-10-09T21:27:26.285697Z"
    }
   },
   "source": [
    "import os\n",
    "import torch\n",
    "import matplotlib.pyplot as plt\n",
    "from pytorch_forecasting.models import TemporalFusionTransformer\n",
    "from pytorch_forecasting.metrics import QuantileLoss\n",
    "from pytorch_lightning import Trainer, LightningModule\n",
    "from pytorch_lightning.callbacks import EarlyStopping\n",
    "from pytorch_optimizer import Ranger  # Import the Ranger optimizer\n",
    "from pytorch_forecasting.data import TimeSeriesDataSet\n",
    "import pandas as pd\n",
    "import numpy as np\n",
    "\n",
    "# Initialize the Temporal Fusion Transformer model\n",
    "tft = TemporalFusionTransformer.from_dataset(\n",
    "    training,\n",
    "    optimizer=\"ranger\",  # Use Ranger optimizer\n",
    "    learning_rate=0.03,\n",
    "    hidden_size=16,\n",
    "    attention_head_size=1,\n",
    "    dropout=0.1,\n",
    "    hidden_continuous_size=8,\n",
    "    output_size=7,  # Number of quantiles (default is 7)\n",
    "    loss=QuantileLoss(),\n",
    "    log_interval=10,\n",
    "    reduce_on_plateau_patience=4,\n",
    ")\n",
    "\n",
    "# Define a LightningModule that wraps the TemporalFusionTransformer model\n",
    "class TFTLightningModule(LightningModule):\n",
    "    def __init__(self, model):\n",
    "        super().__init__()\n",
    "        self.model = model\n",
    "        self.save_hyperparameters(ignore=[\"model\", \"loss\", \"logging_metrics\"])\n",
    "\n",
    "    def forward(self, x):\n",
    "        return self.model(x)\n",
    "\n",
    "    def training_step(self, batch, batch_idx):\n",
    "        x, y = batch\n",
    "        out = self.model(x)\n",
    "        y_pred = out[0]  # The model output is a tuple, 'y_pred' is the first element\n",
    "        loss = self.model.loss(y_pred, y)\n",
    "        self.log(\"train_loss\", loss, on_step=True, on_epoch=True, prog_bar=True, batch_size=x['encoder_target'].shape[0])\n",
    "        return loss\n",
    "\n",
    "    def validation_step(self, batch, batch_idx):\n",
    "        x, y = batch\n",
    "        out = self.model(x)\n",
    "        y_pred = out[0]  # The model output is a tuple, 'y_pred' is the first element\n",
    "        loss = self.model.loss(y_pred, y)\n",
    "        self.log(\"val_loss\", loss, prog_bar=True, batch_size=x['encoder_target'].shape[0])\n",
    "        return loss\n",
    "\n",
    "    def test_step(self, batch, batch_idx):\n",
    "        x, y = batch\n",
    "        out = self.model(x)\n",
    "        y_pred = out[0]  # The model output is a tuple, 'y_pred' is the first element\n",
    "        loss = self.model.loss(y_pred, y)\n",
    "        self.log(\"test_loss\", loss, prog_bar=True, batch_size=x['encoder_target'].shape[0])\n",
    "        return loss\n",
    "\n",
    "    def configure_optimizers(self):\n",
    "        optimizer = Ranger(self.model.parameters(), lr=self.model.hparams.learning_rate)\n",
    "        return optimizer\n",
    "\n",
    "# Wrap the TemporalFusionTransformer model into the LightningModule\n",
    "tft_module = TFTLightningModule(tft)\n",
    "\n",
    "# Initialize PyTorch Lightning Trainer\n",
    "trainer = Trainer(\n",
    "    max_epochs=30,\n",
    "    accelerator=\"gpu\" if torch.cuda.is_available() else \"cpu\",  # Use GPU if available\n",
    "    devices=1,  # Use a single device\n",
    "    callbacks=[EarlyStopping(monitor=\"val_loss\", patience=3, verbose=True)],  # Early stopping callback\n",
    "    num_sanity_val_steps=0,  # Disable sanity check\n",
    "    deterministic=True,  # Ensure deterministic behavior for reproducibility\n",
    ")\n",
    "\n",
    "# Increase the `num_workers` parameter in DataLoaders for faster data loading\n",
    "train_dataloader = training.to_dataloader(train=True, batch_size=64, num_workers=4, persistent_workers=True)\n",
    "val_dataloader = validation.to_dataloader(train=False, batch_size=64, num_workers=4, persistent_workers=True)\n",
    "\n",
    "# Train the model\n",
    "trainer.fit(\n",
    "    tft_module,\n",
    "    train_dataloaders=train_dataloader,\n",
    "    val_dataloaders=val_dataloader\n",
    ")\n",
    "\n",
    "# Save the trained model\n",
    "torch.save(tft.state_dict(), \"model_results/tft_final_model.pth\")\n",
    "\n",
    "# Prepare test dataset and DataLoader\n",
    "test_dataset = TimeSeriesDataSet.from_dataset(\n",
    "    training,  \n",
    "    data,      \n",
    "    predict=True\n",
    ")\n",
    "\n",
    "\n",
    "test_dataloader = test_dataset.to_dataloader(train=False, batch_size=64)\n",
    "\n",
    "\n",
    "test_results = trainer.test(tft_module, dataloaders=test_dataloader)\n",
    "print(test_results)\n",
    "\n",
    "\n",
    "\n",
    "raw_predictions = tft.predict(test_dataloader, mode=\"raw\")  \n",
    "\n",
    "\n",
    "predictions = tft.predict(test_dataloader, mode=\"prediction\")\n",
    "predictions_df = pd.DataFrame(predictions.numpy())\n",
    "\n",
    "\n",
    "actuals = []\n",
    "for batch in iter(test_dataloader):\n",
    "    targets = batch[1][0]  \n",
    "    actuals.append(targets)\n",
    "\n",
    "actuals = torch.cat(actuals).numpy()\n",
    "actuals_df = pd.DataFrame(actuals)\n",
    "\n",
    "\n",
    "plt.figure(figsize=(10, 6))\n",
    "plt.plot(predictions_df.iloc[0], label=\"Predicted\")\n",
    "plt.plot(actuals_df.iloc[0], label=\"Actual\")\n",
    "plt.title(\"Predicted vs Actual\")\n",
    "plt.legend()\n",
    "plt.show()\n",
    "\n",
    "\n",
    "combined_df = pd.concat([predictions_df, actuals_df], axis=1)\n",
    "combined_df.columns = [f\"prediction_{i}\" for i in range(predictions_df.shape[1])] + [f\"actual_{i}\" for i in range(actuals_df.shape[1])]\n",
    "combined_df.to_csv(\"predictions_vs_actuals.csv\", index=False)\n",
    "\n",
    "\n",
    "mae = (predictions_df - actuals_df).abs().mean().mean()\n",
    "print(f\"Mean Absolute Error (MAE): {mae:.4f}\")\n",
    "\n"
   ],
   "outputs": [
    {
     "name": "stderr",
     "output_type": "stream",
     "text": [
      "C:\\Users\\egeme\\PycharmProjects\\pythonProject1\\.venv\\Lib\\site-packages\\lightning\\pytorch\\utilities\\parsing.py:208: Attribute 'loss' is an instance of `nn.Module` and is already saved during checkpointing. It is recommended to ignore them using `self.save_hyperparameters(ignore=['loss'])`.\n",
      "C:\\Users\\egeme\\PycharmProjects\\pythonProject1\\.venv\\Lib\\site-packages\\lightning\\pytorch\\utilities\\parsing.py:208: Attribute 'logging_metrics' is an instance of `nn.Module` and is already saved during checkpointing. It is recommended to ignore them using `self.save_hyperparameters(ignore=['logging_metrics'])`.\n",
      "GPU available: False, used: False\n",
      "TPU available: False, using: 0 TPU cores\n",
      "HPU available: False, using: 0 HPUs\n",
      "\n",
      "  | Name  | Type                      | Params | Mode \n",
      "------------------------------------------------------------\n",
      "0 | model | TemporalFusionTransformer | 31.3 K | train\n",
      "------------------------------------------------------------\n",
      "31.3 K    Trainable params\n",
      "0         Non-trainable params\n",
      "31.3 K    Total params\n",
      "0.125     Total estimated model params size (MB)\n",
      "505       Modules in train mode\n",
      "0         Modules in eval mode\n"
     ]
    },
    {
     "data": {
      "text/plain": [
       "Training: |          | 0/? [00:00<?, ?it/s]"
      ],
      "application/vnd.jupyter.widget-view+json": {
       "version_major": 2,
       "version_minor": 0,
       "model_id": "2f8d7c0541a84d48be265beda7d9b46b"
      }
     },
     "metadata": {},
     "output_type": "display_data"
    },
    {
     "data": {
      "text/plain": [
       "Validation: |          | 0/? [00:00<?, ?it/s]"
      ],
      "application/vnd.jupyter.widget-view+json": {
       "version_major": 2,
       "version_minor": 0,
       "model_id": "0fea14f7cac04f1f97256433e4aae7d1"
      }
     },
     "metadata": {},
     "output_type": "display_data"
    },
    {
     "name": "stderr",
     "output_type": "stream",
     "text": [
      "Metric val_loss improved. New best score: 0.304\n"
     ]
    },
    {
     "data": {
      "text/plain": [
       "Validation: |          | 0/? [00:00<?, ?it/s]"
      ],
      "application/vnd.jupyter.widget-view+json": {
       "version_major": 2,
       "version_minor": 0,
       "model_id": "6c8283cb60fd4592b11b0609bedda25d"
      }
     },
     "metadata": {},
     "output_type": "display_data"
    },
    {
     "name": "stderr",
     "output_type": "stream",
     "text": [
      "Metric val_loss improved by 0.012 >= min_delta = 0.0. New best score: 0.292\n"
     ]
    },
    {
     "data": {
      "text/plain": [
       "Validation: |          | 0/? [00:00<?, ?it/s]"
      ],
      "application/vnd.jupyter.widget-view+json": {
       "version_major": 2,
       "version_minor": 0,
       "model_id": "8c97b33503ed4ebb8bd30e57e05bb4cf"
      }
     },
     "metadata": {},
     "output_type": "display_data"
    },
    {
     "data": {
      "text/plain": [
       "Validation: |          | 0/? [00:00<?, ?it/s]"
      ],
      "application/vnd.jupyter.widget-view+json": {
       "version_major": 2,
       "version_minor": 0,
       "model_id": "74139537593b4f8792c4d1c6cf526c0e"
      }
     },
     "metadata": {},
     "output_type": "display_data"
    },
    {
     "name": "stderr",
     "output_type": "stream",
     "text": [
      "Metric val_loss improved by 0.016 >= min_delta = 0.0. New best score: 0.276\n"
     ]
    },
    {
     "data": {
      "text/plain": [
       "Validation: |          | 0/? [00:00<?, ?it/s]"
      ],
      "application/vnd.jupyter.widget-view+json": {
       "version_major": 2,
       "version_minor": 0,
       "model_id": "60120dfac3764faabd1e5ee9d563a95e"
      }
     },
     "metadata": {},
     "output_type": "display_data"
    },
    {
     "data": {
      "text/plain": [
       "Validation: |          | 0/? [00:00<?, ?it/s]"
      ],
      "application/vnd.jupyter.widget-view+json": {
       "version_major": 2,
       "version_minor": 0,
       "model_id": "0f711c7115be4315abf6332930c7722b"
      }
     },
     "metadata": {},
     "output_type": "display_data"
    },
    {
     "data": {
      "text/plain": [
       "Validation: |          | 0/? [00:00<?, ?it/s]"
      ],
      "application/vnd.jupyter.widget-view+json": {
       "version_major": 2,
       "version_minor": 0,
       "model_id": "08435acc0bf14a44b97de55d972c13bc"
      }
     },
     "metadata": {},
     "output_type": "display_data"
    },
    {
     "name": "stderr",
     "output_type": "stream",
     "text": [
      "Monitored metric val_loss did not improve in the last 3 records. Best score: 0.276. Signaling Trainer to stop.\n",
      "C:\\Users\\egeme\\PycharmProjects\\pythonProject1\\.venv\\Lib\\site-packages\\pytorch_forecasting\\data\\timeseries.py:1188: UserWarning: If predicting, no randomization should be possible - setting stop_randomization=True\n",
      "  warnings.warn(\n",
      "C:\\Users\\egeme\\PycharmProjects\\pythonProject1\\.venv\\Lib\\site-packages\\pytorch_lightning\\trainer\\connectors\\data_connector.py:424: The 'test_dataloader' does not have many workers which may be a bottleneck. Consider increasing the value of the `num_workers` argument` to `num_workers=11` in the `DataLoader` to improve performance.\n"
     ]
    },
    {
     "data": {
      "text/plain": [
       "Testing: |          | 0/? [00:00<?, ?it/s]"
      ],
      "application/vnd.jupyter.widget-view+json": {
       "version_major": 2,
       "version_minor": 0,
       "model_id": "c53c50f019f54fad9a4df2b9972eb04e"
      }
     },
     "metadata": {},
     "output_type": "display_data"
    },
    {
     "name": "stderr",
     "output_type": "stream",
     "text": [
      "C:\\Users\\egeme\\PycharmProjects\\pythonProject1\\.venv\\Lib\\site-packages\\lightning\\pytorch\\trainer\\connectors\\data_connector.py:424: The 'predict_dataloader' does not have many workers which may be a bottleneck. Consider increasing the value of the `num_workers` argument` to `num_workers=11` in the `DataLoader` to improve performance.\n"
     ]
    },
    {
     "name": "stdout",
     "output_type": "stream",
     "text": [
      "────────────────────────────────────────────────────────────────────────────────────────────────────────────────────────\r\n",
      "       Test metric             DataLoader 0\r\n",
      "────────────────────────────────────────────────────────────────────────────────────────────────────────────────────────\r\n",
      "        test_loss           1.0608454942703247\r\n",
      "────────────────────────────────────────────────────────────────────────────────────────────────────────────────────────\n",
      "[{'test_loss': 1.0608454942703247}]\n"
     ]
    },
    {
     "data": {
      "text/plain": [
       "<Figure size 1000x600 with 1 Axes>"
      ],
      "image/png": "[encoded data removed]"
     },
     "metadata": {},
     "output_type": "display_data"
    },
    {
     "name": "stdout",
     "output_type": "stream",
     "text": [
      "Mean Absolute Error (MAE): 1.4548\n"
     ]
    }
   ],
   "execution_count": 50
  },
  {
   "cell_type": "code",
   "id": "eab66578-9193-4d07-8f39-c3d84d5cd180",
   "metadata": {
    "ExecuteTime": {
     "end_time": "2024-10-09T21:31:01.914140Z",
     "start_time": "2024-10-09T21:29:09.191813Z"
    }
   },
   "source": [
    "import os\n",
    "import torch\n",
    "import matplotlib.pyplot as plt\n",
    "from pytorch_forecasting.models import TemporalFusionTransformer\n",
    "from pytorch_forecasting.metrics import QuantileLoss\n",
    "from pytorch_lightning import Trainer, LightningModule\n",
    "from pytorch_lightning.callbacks import EarlyStopping\n",
    "from pytorch_optimizer import Ranger  # Import the Ranger optimizer\n",
    "from pytorch_forecasting.data import TimeSeriesDataSet\n",
    "import pandas as pd\n",
    "import numpy as np\n",
    "from sklearn.metrics import mean_squared_error\n",
    "\n",
    "# Initialize the Temporal Fusion Transformer model\n",
    "tft = TemporalFusionTransformer.from_dataset(\n",
    "    training,\n",
    "    optimizer=\"ranger\",  # Use Ranger optimizer\n",
    "    learning_rate=0.03,\n",
    "    hidden_size=16,\n",
    "    attention_head_size=1,\n",
    "    dropout=0.1,\n",
    "    hidden_continuous_size=8,\n",
    "    output_size=7,  # Number of quantiles (default is 7)\n",
    "    loss=QuantileLoss(),\n",
    "    log_interval=10,\n",
    "    reduce_on_plateau_patience=4,\n",
    ")\n",
    "\n",
    "# Define a LightningModule that wraps the Temporal Fusion Transformer model\n",
    "class TFTLightningModule(LightningModule):\n",
    "    def __init__(self, model):\n",
    "        super().__init__()\n",
    "        self.model = model\n",
    "        self.save_hyperparameters(ignore=[\"model\", \"loss\", \"logging_metrics\"])\n",
    "\n",
    "    def forward(self, x):\n",
    "        return self.model(x)\n",
    "\n",
    "    def training_step(self, batch, batch_idx):\n",
    "        x, y = batch\n",
    "        out = self.model(x)\n",
    "        y_pred = out[0]  # The model output is a tuple, 'y_pred' is the first element\n",
    "        loss = self.model.loss(y_pred, y)\n",
    "        self.log(\"train_loss\", loss, on_step=True, on_epoch=True, prog_bar=True, batch_size=x['encoder_target'].shape[0])\n",
    "        return loss\n",
    "\n",
    "    def validation_step(self, batch, batch_idx):\n",
    "        x, y = batch\n",
    "        out = self.model(x)\n",
    "        y_pred = out[0]  # The model output is a tuple, 'y_pred' is the first element\n",
    "        loss = self.model.loss(y_pred, y)\n",
    "        self.log(\"val_loss\", loss, prog_bar=True, batch_size=x['encoder_target'].shape[0])\n",
    "        return loss\n",
    "\n",
    "    def test_step(self, batch, batch_idx):\n",
    "        x, y = batch\n",
    "        out = self.model(x)\n",
    "        y_pred = out[0]  # The model output is a tuple, 'y_pred' is the first element\n",
    "        loss = self.model.loss(y_pred, y)\n",
    "        self.log(\"test_loss\", loss, prog_bar=True, batch_size=x['encoder_target'].shape[0])\n",
    "        return loss\n",
    "\n",
    "    def configure_optimizers(self):\n",
    "        optimizer = Ranger(self.model.parameters(), lr=self.model.hparams.learning_rate)\n",
    "        return optimizer\n",
    "\n",
    "# Wrap the Temporal Fusion Transformer model into the LightningModule\n",
    "tft_module = TFTLightningModule(tft)\n",
    "\n",
    "# Initialize PyTorch Lightning Trainer\n",
    "trainer = Trainer(\n",
    "    max_epochs=30,\n",
    "    accelerator=\"gpu\" if torch.cuda.is_available() else \"cpu\",  # Use GPU if available\n",
    "    devices=1,  # Use a single device\n",
    "    callbacks=[EarlyStopping(monitor=\"val_loss\", patience=3, verbose=True)],  # Early stopping callback\n",
    "    num_sanity_val_steps=0,  # Disable sanity check\n",
    "    deterministic=True,  # Ensure deterministic behavior for reproducibility\n",
    ")\n",
    "\n",
    "# Increase the `num_workers` parameter in DataLoaders for faster data loading\n",
    "train_dataloader = training.to_dataloader(train=True, batch_size=64, num_workers=4, persistent_workers=True)\n",
    "val_dataloader = validation.to_dataloader(train=False, batch_size=64, num_workers=4, persistent_workers=True)\n",
    "\n",
    "# Train the model\n",
    "trainer.fit(\n",
    "    tft_module,\n",
    "    train_dataloaders=train_dataloader,\n",
    "    val_dataloaders=val_dataloader\n",
    ")\n",
    "\n",
    "# Save the trained model\n",
    "torch.save(tft.state_dict(), \"model_results/tft_final_model.pth\")\n",
    "\n",
    "# Prepare test dataset and DataLoader\n",
    "test_dataset = TimeSeriesDataSet.from_dataset(\n",
    "    training,  \n",
    "    data,      \n",
    "    predict=True\n",
    ")\n",
    "\n",
    "test_dataloader = test_dataset.to_dataloader(train=False, batch_size=64)\n",
    "\n",
    "# Test the model on test data\n",
    "test_results = trainer.test(tft_module, dataloaders=test_dataloader)\n",
    "print(test_results)\n",
    "\n",
    "# 1. Get Raw Predictions\n",
    "raw_predictions = tft.predict(test_dataloader, mode=\"raw\")  \n",
    "\n",
    "# 2. Get Final Predictions\n",
    "predictions = tft.predict(test_dataloader, mode=\"prediction\")\n",
    "predictions_df = pd.DataFrame(predictions.numpy())\n",
    "\n",
    "# 3. Get Actual Values\n",
    "actuals = []\n",
    "for batch in iter(test_dataloader):\n",
    "    targets = batch[1][0]  \n",
    "    actuals.append(targets)\n",
    "\n",
    "actuals = torch.cat(actuals).numpy()\n",
    "actuals_df = pd.DataFrame(actuals)\n",
    "\n",
    "# 4. Plot Predicted vs Actual\n",
    "plt.figure(figsize=(10, 6))\n",
    "plt.plot(predictions_df.iloc[0], label=\"Predicted\")\n",
    "plt.plot(actuals_df.iloc[0], label=\"Actual\")\n",
    "plt.title(\"Predicted vs Actual\")\n",
    "plt.legend()\n",
    "plt.show()\n",
    "\n",
    "# 5. Save Predictions and Actuals to CSV\n",
    "combined_df = pd.concat([predictions_df, actuals_df], axis=1)\n",
    "combined_df.columns = [f\"prediction_{i}\" for i in range(predictions_df.shape[1])] + [f\"actual_{i}\" for i in range(actuals_df.shape[1])]\n",
    "combined_df.to_csv(\"predictions_vs_actuals.csv\", index=False)\n",
    "\n",
    "# 6. Calculate Mean Absolute Error (MAE), Mean Squared Error (MSE) and Root Mean Squared Error (RMSE)\n",
    "mae = (predictions_df - actuals_df).abs().mean().mean()\n",
    "mse = mean_squared_error(actuals_df, predictions_df)\n",
    "rmse = np.sqrt(mse)\n",
    "print(f\"Mean Absolute Error (MAE): {mae:.4f}\")\n",
    "print(f\"Mean Squared Error (MSE): {mse:.4f}\")\n",
    "print(f\"Root Mean Squared Error (RMSE): {rmse:.4f}\")\n",
    "\n",
    "# 7. Plot Distribution of Predicted vs Actual\n",
    "plt.figure(figsize=(10, 6))\n",
    "plt.hist(predictions_df.values.flatten(), bins=50, alpha=0.5, label=\"Predicted\")\n",
    "plt.hist(actuals_df.values.flatten(), bins=50, alpha=0.5, label=\"Actual\")\n",
    "plt.title(\"Distribution of Predicted vs Actual\")\n",
    "plt.legend()\n",
    "plt.show()\n"
   ],
   "outputs": [
    {
     "name": "stderr",
     "output_type": "stream",
     "text": [
      "C:\\Users\\egeme\\PycharmProjects\\pythonProject1\\.venv\\Lib\\site-packages\\lightning\\pytorch\\utilities\\parsing.py:208: Attribute 'loss' is an instance of `nn.Module` and is already saved during checkpointing. It is recommended to ignore them using `self.save_hyperparameters(ignore=['loss'])`.\n",
      "C:\\Users\\egeme\\PycharmProjects\\pythonProject1\\.venv\\Lib\\site-packages\\lightning\\pytorch\\utilities\\parsing.py:208: Attribute 'logging_metrics' is an instance of `nn.Module` and is already saved during checkpointing. It is recommended to ignore them using `self.save_hyperparameters(ignore=['logging_metrics'])`.\n",
      "GPU available: False, used: False\n",
      "TPU available: False, using: 0 TPU cores\n",
      "HPU available: False, using: 0 HPUs\n",
      "\n",
      "  | Name  | Type                      | Params | Mode \n",
      "------------------------------------------------------------\n",
      "0 | model | TemporalFusionTransformer | 31.3 K | train\n",
      "------------------------------------------------------------\n",
      "31.3 K    Trainable params\n",
      "0         Non-trainable params\n",
      "31.3 K    Total params\n",
      "0.125     Total estimated model params size (MB)\n",
      "505       Modules in train mode\n",
      "0         Modules in eval mode\n"
     ]
    },
    {
     "data": {
      "text/plain": [
       "Training: |          | 0/? [00:00<?, ?it/s]"
      ],
      "application/vnd.jupyter.widget-view+json": {
       "version_major": 2,
       "version_minor": 0,
       "model_id": "625e1c147cc448d1948b73c588c21044"
      }
     },
     "metadata": {},
     "output_type": "display_data"
    },
    {
     "data": {
      "text/plain": [
       "Validation: |          | 0/? [00:00<?, ?it/s]"
      ],
      "application/vnd.jupyter.widget-view+json": {
       "version_major": 2,
       "version_minor": 0,
       "model_id": "f291e6174da44575b6262de70bfabc11"
      }
     },
     "metadata": {},
     "output_type": "display_data"
    },
    {
     "name": "stderr",
     "output_type": "stream",
     "text": [
      "Metric val_loss improved. New best score: 0.311\n"
     ]
    },
    {
     "data": {
      "text/plain": [
       "Validation: |          | 0/? [00:00<?, ?it/s]"
      ],
      "application/vnd.jupyter.widget-view+json": {
       "version_major": 2,
       "version_minor": 0,
       "model_id": "a7376c3a338a4a02bdc3567342ba5e95"
      }
     },
     "metadata": {},
     "output_type": "display_data"
    },
    {
     "name": "stderr",
     "output_type": "stream",
     "text": [
      "Metric val_loss improved by 0.006 >= min_delta = 0.0. New best score: 0.305\n"
     ]
    },
    {
     "data": {
      "text/plain": [
       "Validation: |          | 0/? [00:00<?, ?it/s]"
      ],
      "application/vnd.jupyter.widget-view+json": {
       "version_major": 2,
       "version_minor": 0,
       "model_id": "6d240f379ec44f62a9ef30dff39329a1"
      }
     },
     "metadata": {},
     "output_type": "display_data"
    },
    {
     "name": "stderr",
     "output_type": "stream",
     "text": [
      "Metric val_loss improved by 0.015 >= min_delta = 0.0. New best score: 0.290\n"
     ]
    },
    {
     "data": {
      "text/plain": [
       "Validation: |          | 0/? [00:00<?, ?it/s]"
      ],
      "application/vnd.jupyter.widget-view+json": {
       "version_major": 2,
       "version_minor": 0,
       "model_id": "7a8589c6acaf4266915e3cbc98d76119"
      }
     },
     "metadata": {},
     "output_type": "display_data"
    },
    {
     "name": "stderr",
     "output_type": "stream",
     "text": [
      "Metric val_loss improved by 0.008 >= min_delta = 0.0. New best score: 0.282\n"
     ]
    },
    {
     "data": {
      "text/plain": [
       "Validation: |          | 0/? [00:00<?, ?it/s]"
      ],
      "application/vnd.jupyter.widget-view+json": {
       "version_major": 2,
       "version_minor": 0,
       "model_id": "cf0068e360d74a6fa52ec3f3afd8b0a8"
      }
     },
     "metadata": {},
     "output_type": "display_data"
    },
    {
     "name": "stderr",
     "output_type": "stream",
     "text": [
      "Metric val_loss improved by 0.000 >= min_delta = 0.0. New best score: 0.282\n"
     ]
    },
    {
     "data": {
      "text/plain": [
       "Validation: |          | 0/? [00:00<?, ?it/s]"
      ],
      "application/vnd.jupyter.widget-view+json": {
       "version_major": 2,
       "version_minor": 0,
       "model_id": "d3dc0640338c4b309610bca95df27f56"
      }
     },
     "metadata": {},
     "output_type": "display_data"
    },
    {
     "data": {
      "text/plain": [
       "Validation: |          | 0/? [00:00<?, ?it/s]"
      ],
      "application/vnd.jupyter.widget-view+json": {
       "version_major": 2,
       "version_minor": 0,
       "model_id": "c5f7ebfc2cf240859d02aaeb5dae8e9e"
      }
     },
     "metadata": {},
     "output_type": "display_data"
    },
    {
     "data": {
      "text/plain": [
       "Validation: |          | 0/? [00:00<?, ?it/s]"
      ],
      "application/vnd.jupyter.widget-view+json": {
       "version_major": 2,
       "version_minor": 0,
       "model_id": "9237c85b071749cb94c785fc072a5d8b"
      }
     },
     "metadata": {},
     "output_type": "display_data"
    },
    {
     "name": "stderr",
     "output_type": "stream",
     "text": [
      "Monitored metric val_loss did not improve in the last 3 records. Best score: 0.282. Signaling Trainer to stop.\n",
      "C:\\Users\\egeme\\PycharmProjects\\pythonProject1\\.venv\\Lib\\site-packages\\pytorch_forecasting\\data\\timeseries.py:1188: UserWarning: If predicting, no randomization should be possible - setting stop_randomization=True\n",
      "  warnings.warn(\n",
      "C:\\Users\\egeme\\PycharmProjects\\pythonProject1\\.venv\\Lib\\site-packages\\pytorch_lightning\\trainer\\connectors\\data_connector.py:424: The 'test_dataloader' does not have many workers which may be a bottleneck. Consider increasing the value of the `num_workers` argument` to `num_workers=11` in the `DataLoader` to improve performance.\n"
     ]
    },
    {
     "data": {
      "text/plain": [
       "Testing: |          | 0/? [00:00<?, ?it/s]"
      ],
      "application/vnd.jupyter.widget-view+json": {
       "version_major": 2,
       "version_minor": 0,
       "model_id": "f4a40a864c8a4b4e8db39095e5b0a0e4"
      }
     },
     "metadata": {},
     "output_type": "display_data"
    },
    {
     "name": "stderr",
     "output_type": "stream",
     "text": [
      "C:\\Users\\egeme\\PycharmProjects\\pythonProject1\\.venv\\Lib\\site-packages\\lightning\\pytorch\\trainer\\connectors\\data_connector.py:424: The 'predict_dataloader' does not have many workers which may be a bottleneck. Consider increasing the value of the `num_workers` argument` to `num_workers=11` in the `DataLoader` to improve performance.\n"
     ]
    },
    {
     "name": "stdout",
     "output_type": "stream",
     "text": [
      "────────────────────────────────────────────────────────────────────────────────────────────────────────────────────────\r\n",
      "       Test metric             DataLoader 0\r\n",
      "────────────────────────────────────────────────────────────────────────────────────────────────────────────────────────\r\n",
      "        test_loss           1.2164952754974365\r\n",
      "────────────────────────────────────────────────────────────────────────────────────────────────────────────────────────\n",
      "[{'test_loss': 1.2164952754974365}]\n"
     ]
    },
    {
     "data": {
      "text/plain": [
       "<Figure size 1000x600 with 1 Axes>"
      ],
      "image/png": "[encoded data removed]"
     },
     "metadata": {},
     "output_type": "display_data"
    },
    {
     "name": "stdout",
     "output_type": "stream",
     "text": [
      "Mean Absolute Error (MAE): 1.6781\n",
      "Mean Squared Error (MSE): 4.5805\n",
      "Root Mean Squared Error (RMSE): 2.1402\n"
     ]
    },
    {
     "data": {
      "text/plain": [
       "<Figure size 1000x600 with 1 Axes>"
      ],
      "image/png": "[encoded data removed]"
     },
     "metadata": {},
     "output_type": "display_data"
    }
   ],
   "execution_count": 51
  },
  {
   "cell_type": "code",
   "id": "6ca123ae-5053-422b-8b4f-b257d36fb007",
   "metadata": {
    "ExecuteTime": {
     "end_time": "2024-10-09T21:35:33.618865Z",
     "start_time": "2024-10-09T21:33:40.500952Z"
    }
   },
   "source": [
    "import os\n",
    "import torch\n",
    "import matplotlib.pyplot as plt\n",
    "from pytorch_forecasting.models import TemporalFusionTransformer\n",
    "from pytorch_forecasting.metrics import QuantileLoss\n",
    "from pytorch_lightning import Trainer, LightningModule\n",
    "from pytorch_lightning.callbacks import EarlyStopping\n",
    "from pytorch_optimizer import Ranger  # Import the Ranger optimizer\n",
    "from pytorch_forecasting.data import TimeSeriesDataSet\n",
    "import pandas as pd\n",
    "import numpy as np\n",
    "from sklearn.metrics import mean_squared_error, r2_score\n",
    "import json\n",
    "\n",
    "# Set random seed for reproducibility\n",
    "def set_random_seed(seed=42):\n",
    "    torch.manual_seed(seed)\n",
    "    np.random.seed(seed)\n",
    "    if torch.cuda.is_available():\n",
    "        torch.cuda.manual_seed(seed)\n",
    "\n",
    "set_random_seed(42)\n",
    "\n",
    "# Initialize the Temporal Fusion Transformer model\n",
    "tft = TemporalFusionTransformer.from_dataset(\n",
    "    training,\n",
    "    optimizer=\"ranger\",  # Use Ranger optimizer\n",
    "    learning_rate=0.03,\n",
    "    hidden_size=16,\n",
    "    attention_head_size=1,\n",
    "    dropout=0.1,\n",
    "    hidden_continuous_size=8,\n",
    "    output_size=7,  # Number of quantiles (default is 7)\n",
    "    loss=QuantileLoss(),\n",
    "    log_interval=10,\n",
    "    reduce_on_plateau_patience=4,\n",
    ")\n",
    "\n",
    "# Define a LightningModule that wraps the Temporal Fusion Transformer model\n",
    "class TFTLightningModule(LightningModule):\n",
    "    def __init__(self, model):\n",
    "        super().__init__()\n",
    "        self.model = model\n",
    "        self.save_hyperparameters(ignore=[\"model\", \"loss\", \"logging_metrics\"])\n",
    "\n",
    "    def forward(self, x):\n",
    "        return self.model(x)\n",
    "\n",
    "    def training_step(self, batch, batch_idx):\n",
    "        x, y = batch\n",
    "        out = self.model(x)\n",
    "        y_pred = out[0]  # The model output is a tuple, 'y_pred' is the first element\n",
    "        loss = self.model.loss(y_pred, y)\n",
    "        self.log(\"train_loss\", loss, on_step=True, on_epoch=True, prog_bar=True, batch_size=x['encoder_target'].shape[0])\n",
    "        return loss\n",
    "\n",
    "    def validation_step(self, batch, batch_idx):\n",
    "        x, y = batch\n",
    "        out = self.model(x)\n",
    "        y_pred = out[0]  # The model output is a tuple, 'y_pred' is the first element\n",
    "        loss = self.model.loss(y_pred, y)\n",
    "        self.log(\"val_loss\", loss, prog_bar=True, batch_size=x['encoder_target'].shape[0])\n",
    "        return loss\n",
    "\n",
    "    def test_step(self, batch, batch_idx):\n",
    "        x, y = batch\n",
    "        out = self.model(x)\n",
    "        y_pred = out[0]  # The model output is a tuple, 'y_pred' is the first element\n",
    "        loss = self.model.loss(y_pred, y)\n",
    "        self.log(\"test_loss\", loss, prog_bar=True, batch_size=x['encoder_target'].shape[0])\n",
    "        return loss\n",
    "\n",
    "    def configure_optimizers(self):\n",
    "        optimizer = Ranger(self.model.parameters(), lr=self.model.hparams.learning_rate)\n",
    "        return optimizer\n",
    "\n",
    "# Wrap the Temporal Fusion Transformer model into the LightningModule\n",
    "tft_module = TFTLightningModule(tft)\n",
    "\n",
    "# Initialize PyTorch Lightning Trainer\n",
    "trainer = Trainer(\n",
    "    max_epochs=30,\n",
    "    accelerator=\"gpu\" if torch.cuda.is_available() else \"cpu\",  # Use GPU if available\n",
    "    devices=1,  # Use a single device\n",
    "    callbacks=[EarlyStopping(monitor=\"val_loss\", patience=3, verbose=True)],  # Early stopping callback\n",
    "    num_sanity_val_steps=0,  # Disable sanity check\n",
    "    deterministic=True,  # Ensure deterministic behavior for reproducibility\n",
    ")\n",
    "\n",
    "# Increase the `num_workers` parameter in DataLoaders for faster data loading\n",
    "train_dataloader = training.to_dataloader(train=True, batch_size=64, num_workers=4, persistent_workers=True)\n",
    "val_dataloader = validation.to_dataloader(train=False, batch_size=64, num_workers=4, persistent_workers=True)\n",
    "\n",
    "# Train the model\n",
    "trainer.fit(\n",
    "    tft_module,\n",
    "    train_dataloaders=train_dataloader,\n",
    "    val_dataloaders=val_dataloader\n",
    ")\n",
    "\n",
    "# Save the trained model\n",
    "torch.save(tft.state_dict(), \"model_results/tft_final_model.pth\")\n",
    "\n",
    "# Prepare test dataset and DataLoader\n",
    "test_dataset = TimeSeriesDataSet.from_dataset(\n",
    "    training,  \n",
    "    data,      \n",
    "    predict=True\n",
    ")\n",
    "\n",
    "test_dataloader = test_dataset.to_dataloader(train=False, batch_size=64)\n",
    "\n",
    "# Test the model on test data\n",
    "test_results = trainer.test(tft_module, dataloaders=test_dataloader)\n",
    "print(test_results)\n",
    "\n",
    "# 1. Get Raw Predictions\n",
    "raw_predictions = tft.predict(test_dataloader, mode=\"raw\")  \n",
    "\n",
    "# 2. Get Final Predictions\n",
    "predictions = tft.predict(test_dataloader, mode=\"prediction\")\n",
    "predictions_df = pd.DataFrame(predictions.numpy())\n",
    "\n",
    "# 3. Get Actual Values\n",
    "actuals = []\n",
    "for batch in iter(test_dataloader):\n",
    "    targets = batch[1][0]  \n",
    "    actuals.append(targets)\n",
    "\n",
    "actuals = torch.cat(actuals).numpy()\n",
    "actuals_df = pd.DataFrame(actuals)\n",
    "\n",
    "# 4. Plot Predicted vs Actual\n",
    "plt.figure(figsize=(10, 6))\n",
    "plt.plot(predictions_df.iloc[0], label=\"Predicted\")\n",
    "plt.plot(actuals_df.iloc[0], label=\"Actual\")\n",
    "plt.title(\"Predicted vs Actual\")\n",
    "plt.legend()\n",
    "plt.show()\n",
    "\n",
    "# 5. Save Predictions and Actuals to CSV\n",
    "combined_df = pd.concat([predictions_df, actuals_df], axis=1)\n",
    "combined_df.columns = [f\"prediction_{i}\" for i in range(predictions_df.shape[1])] + [f\"actual_{i}\" for i in range(actuals_df.shape[1])]\n",
    "combined_df.to_csv(\"predictions_vs_actuals.csv\", index=False)\n",
    "\n",
    "# 6. Calculate Mean Absolute Error (MAE), Mean Squared Error (MSE), Root Mean Squared Error (RMSE), and R2 Score\n",
    "mae = (predictions_df - actuals_df).abs().mean().mean()\n",
    "mse = mean_squared_error(actuals_df, predictions_df)\n",
    "rmse = np.sqrt(mse)\n",
    "r2 = r2_score(actuals_df, predictions_df)\n",
    "print(f\"Mean Absolute Error (MAE): {mae:.4f}\")\n",
    "print(f\"Mean Squared Error (MSE): {mse:.4f}\")\n",
    "print(f\"Root Mean Squared Error (RMSE): {rmse:.4f}\")\n",
    "print(f\"R2 Score: {r2:.4f}\")\n",
    "\n",
    "# Convert the values to float for JSON serialization\n",
    "results = {\n",
    "    \"MAE\": float(mae),\n",
    "    \"MSE\": float(mse),\n",
    "    \"RMSE\": float(rmse),\n",
    "    \"R2\": float(r2),\n",
    "    \"test_loss\": float(test_results[0]['test_loss'])\n",
    "}\n",
    "\n",
    "# 7. Save Detailed Results to JSON\n",
    "with open(\"model_results/model_results.json\", \"w\") as f:\n",
    "    json.dump(results, f, indent=4)\n"
   ],
   "outputs": [
    {
     "name": "stderr",
     "output_type": "stream",
     "text": [
      "C:\\Users\\egeme\\PycharmProjects\\pythonProject1\\.venv\\Lib\\site-packages\\lightning\\pytorch\\utilities\\parsing.py:208: Attribute 'loss' is an instance of `nn.Module` and is already saved during checkpointing. It is recommended to ignore them using `self.save_hyperparameters(ignore=['loss'])`.\n",
      "C:\\Users\\egeme\\PycharmProjects\\pythonProject1\\.venv\\Lib\\site-packages\\lightning\\pytorch\\utilities\\parsing.py:208: Attribute 'logging_metrics' is an instance of `nn.Module` and is already saved during checkpointing. It is recommended to ignore them using `self.save_hyperparameters(ignore=['logging_metrics'])`.\n",
      "GPU available: False, used: False\n",
      "TPU available: False, using: 0 TPU cores\n",
      "HPU available: False, using: 0 HPUs\n",
      "\n",
      "  | Name  | Type                      | Params | Mode \n",
      "------------------------------------------------------------\n",
      "0 | model | TemporalFusionTransformer | 31.3 K | train\n",
      "------------------------------------------------------------\n",
      "31.3 K    Trainable params\n",
      "0         Non-trainable params\n",
      "31.3 K    Total params\n",
      "0.125     Total estimated model params size (MB)\n",
      "505       Modules in train mode\n",
      "0         Modules in eval mode\n"
     ]
    },
    {
     "data": {
      "text/plain": [
       "Training: |          | 0/? [00:00<?, ?it/s]"
      ],
      "application/vnd.jupyter.widget-view+json": {
       "version_major": 2,
       "version_minor": 0,
       "model_id": "54032b1f64304af19438a4dcff5e502e"
      }
     },
     "metadata": {},
     "output_type": "display_data"
    },
    {
     "data": {
      "text/plain": [
       "Validation: |          | 0/? [00:00<?, ?it/s]"
      ],
      "application/vnd.jupyter.widget-view+json": {
       "version_major": 2,
       "version_minor": 0,
       "model_id": "fc917ee5d9104910ab582fe12ee71b31"
      }
     },
     "metadata": {},
     "output_type": "display_data"
    },
    {
     "name": "stderr",
     "output_type": "stream",
     "text": [
      "Metric val_loss improved. New best score: 0.308\n"
     ]
    },
    {
     "data": {
      "text/plain": [
       "Validation: |          | 0/? [00:00<?, ?it/s]"
      ],
      "application/vnd.jupyter.widget-view+json": {
       "version_major": 2,
       "version_minor": 0,
       "model_id": "33f44d3294154ddfb21755b57e95d3ea"
      }
     },
     "metadata": {},
     "output_type": "display_data"
    },
    {
     "name": "stderr",
     "output_type": "stream",
     "text": [
      "Metric val_loss improved by 0.009 >= min_delta = 0.0. New best score: 0.299\n"
     ]
    },
    {
     "data": {
      "text/plain": [
       "Validation: |          | 0/? [00:00<?, ?it/s]"
      ],
      "application/vnd.jupyter.widget-view+json": {
       "version_major": 2,
       "version_minor": 0,
       "model_id": "74f265f8011048618f8cb2a451cf2903"
      }
     },
     "metadata": {},
     "output_type": "display_data"
    },
    {
     "data": {
      "text/plain": [
       "Validation: |          | 0/? [00:00<?, ?it/s]"
      ],
      "application/vnd.jupyter.widget-view+json": {
       "version_major": 2,
       "version_minor": 0,
       "model_id": "b7cd240ef94947bda81406496fc9b8a3"
      }
     },
     "metadata": {},
     "output_type": "display_data"
    },
    {
     "name": "stderr",
     "output_type": "stream",
     "text": [
      "Metric val_loss improved by 0.014 >= min_delta = 0.0. New best score: 0.285\n"
     ]
    },
    {
     "data": {
      "text/plain": [
       "Validation: |          | 0/? [00:00<?, ?it/s]"
      ],
      "application/vnd.jupyter.widget-view+json": {
       "version_major": 2,
       "version_minor": 0,
       "model_id": "d5ef1aa8a1bb43bd955d5d2872f99095"
      }
     },
     "metadata": {},
     "output_type": "display_data"
    },
    {
     "name": "stderr",
     "output_type": "stream",
     "text": [
      "Metric val_loss improved by 0.010 >= min_delta = 0.0. New best score: 0.275\n"
     ]
    },
    {
     "data": {
      "text/plain": [
       "Validation: |          | 0/? [00:00<?, ?it/s]"
      ],
      "application/vnd.jupyter.widget-view+json": {
       "version_major": 2,
       "version_minor": 0,
       "model_id": "7ac17c9a98c0467ba91f9f607d2d051a"
      }
     },
     "metadata": {},
     "output_type": "display_data"
    },
    {
     "data": {
      "text/plain": [
       "Validation: |          | 0/? [00:00<?, ?it/s]"
      ],
      "application/vnd.jupyter.widget-view+json": {
       "version_major": 2,
       "version_minor": 0,
       "model_id": "a74cdecb7f3d4667832ee3d5dca5973b"
      }
     },
     "metadata": {},
     "output_type": "display_data"
    },
    {
     "data": {
      "text/plain": [
       "Validation: |          | 0/? [00:00<?, ?it/s]"
      ],
      "application/vnd.jupyter.widget-view+json": {
       "version_major": 2,
       "version_minor": 0,
       "model_id": "0ddff5dd8c9c43369e64beb6f8506510"
      }
     },
     "metadata": {},
     "output_type": "display_data"
    },
    {
     "name": "stderr",
     "output_type": "stream",
     "text": [
      "Monitored metric val_loss did not improve in the last 3 records. Best score: 0.275. Signaling Trainer to stop.\n",
      "C:\\Users\\egeme\\PycharmProjects\\pythonProject1\\.venv\\Lib\\site-packages\\pytorch_forecasting\\data\\timeseries.py:1188: UserWarning: If predicting, no randomization should be possible - setting stop_randomization=True\n",
      "  warnings.warn(\n",
      "C:\\Users\\egeme\\PycharmProjects\\pythonProject1\\.venv\\Lib\\site-packages\\pytorch_lightning\\trainer\\connectors\\data_connector.py:424: The 'test_dataloader' does not have many workers which may be a bottleneck. Consider increasing the value of the `num_workers` argument` to `num_workers=11` in the `DataLoader` to improve performance.\n"
     ]
    },
    {
     "data": {
      "text/plain": [
       "Testing: |          | 0/? [00:00<?, ?it/s]"
      ],
      "application/vnd.jupyter.widget-view+json": {
       "version_major": 2,
       "version_minor": 0,
       "model_id": "8a4ec0fdb9984683a5de1c59289e71b3"
      }
     },
     "metadata": {},
     "output_type": "display_data"
    },
    {
     "name": "stderr",
     "output_type": "stream",
     "text": [
      "C:\\Users\\egeme\\PycharmProjects\\pythonProject1\\.venv\\Lib\\site-packages\\lightning\\pytorch\\trainer\\connectors\\data_connector.py:424: The 'predict_dataloader' does not have many workers which may be a bottleneck. Consider increasing the value of the `num_workers` argument` to `num_workers=11` in the `DataLoader` to improve performance.\n"
     ]
    },
    {
     "name": "stdout",
     "output_type": "stream",
     "text": [
      "────────────────────────────────────────────────────────────────────────────────────────────────────────────────────────\r\n",
      "       Test metric             DataLoader 0\r\n",
      "────────────────────────────────────────────────────────────────────────────────────────────────────────────────────────\r\n",
      "        test_loss           0.6754381656646729\r\n",
      "────────────────────────────────────────────────────────────────────────────────────────────────────────────────────────\n",
      "[{'test_loss': 0.6754381656646729}]\n"
     ]
    },
    {
     "data": {
      "text/plain": [
       "<Figure size 1000x600 with 1 Axes>"
      ],
      "image/png": "[encoded data removed]"
     },
     "metadata": {},
     "output_type": "display_data"
    },
    {
     "name": "stdout",
     "output_type": "stream",
     "text": [
      "Mean Absolute Error (MAE): 0.9946\n",
      "Mean Squared Error (MSE): 2.1120\n",
      "Root Mean Squared Error (RMSE): 1.4533\n",
      "R2 Score: nan\n"
     ]
    },
    {
     "name": "stderr",
     "output_type": "stream",
     "text": [
      "C:\\Users\\egeme\\PycharmProjects\\pythonProject1\\.venv\\Lib\\site-packages\\sklearn\\metrics\\_regression.py:1211: UndefinedMetricWarning: R^2 score is not well-defined with less than two samples.\n",
      "  warnings.warn(msg, UndefinedMetricWarning)\n"
     ]
    }
   ],
   "execution_count": 60
  },
  {
   "cell_type": "code",
   "id": "a432d92a-19c2-40fa-bb40-9a6a920989dd",
   "metadata": {
    "ExecuteTime": {
     "end_time": "2024-10-09T21:35:45.511388Z",
     "start_time": "2024-10-09T21:35:45.503613Z"
    }
   },
   "source": [
    "import os\n",
    "import pandas as pd\n",
    "import json\n",
    "\n",
    "# Create a directory to save the results if it doesn't exist\n",
    "if not os.path.exists(\"model_results\"):\n",
    "    os.makedirs(\"model_results\")\n",
    "\n",
    "# Save predictions and actuals to a CSV file\n",
    "combined_df = pd.concat([predictions_df, actuals_df], axis=1)\n",
    "combined_df.columns = [f\"prediction_{i}\" for i in range(predictions_df.shape[1])] + [f\"actual_{i}\" for i in range(actuals_df.shape[1])]\n",
    "combined_df.to_csv(\"model_results/predictions_vs_actuals.csv\", index=False)\n",
    "print(\"Predictions and actual values saved to 'model_results/predictions_vs_actuals.csv'.\")\n",
    "\n",
    "# Save evaluation metrics to a JSON file\n",
    "results = {\n",
    "    \"Mean Absolute Error (MAE)\": float(mae),\n",
    "    \"Mean Squared Error (MSE)\": float(mse),\n",
    "    \"Root Mean Squared Error (RMSE)\": float(rmse),\n",
    "    \"R2 Score\": float(r2),\n",
    "    \"Test Loss\": float(test_results[0]['test_loss'])\n",
    "}\n",
    "\n",
    "with open(\"model_results/evaluation_metrics.json\", \"w\") as f:\n",
    "    json.dump(results, f, indent=4)\n",
    "\n",
    "print(\"Evaluation metrics saved to 'model_results/evaluation_metrics.json'.\")\n"
   ],
   "outputs": [
    {
     "name": "stdout",
     "output_type": "stream",
     "text": [
      "Predictions and actual values saved to 'model_results/predictions_vs_actuals.csv'.\n",
      "Evaluation metrics saved to 'model_results/evaluation_metrics.json'.\n"
     ]
    }
   ],
   "execution_count": 61
  },
  {
   "cell_type": "code",
   "id": "080d74df-55f8-4356-9dab-eb2926635805",
   "metadata": {
    "ExecuteTime": {
     "end_time": "2024-10-09T21:35:48.297853Z",
     "start_time": "2024-10-09T21:35:47.683274Z"
    }
   },
   "source": [
    "import matplotlib.pyplot as plt\n",
    "\n",
    "# Plot and save the Predicted vs Actual values graph\n",
    "plt.figure(figsize=(10, 6))\n",
    "plt.plot(predictions_df.iloc[0], label=\"Predicted\")\n",
    "plt.plot(actuals_df.iloc[0], label=\"Actual\")\n",
    "plt.title(\"Predicted vs Actual\")\n",
    "plt.legend()\n",
    "plt.savefig(\"model_results/predicted_vs_actual.png\")  # Save the plot as PNG\n",
    "print(\"Predicted vs Actual graph saved to 'model_results/predicted_vs_actual.png'.\")\n",
    "plt.show()\n",
    "\n",
    "# Calculate residuals (errors) between predictions and actuals\n",
    "residuals = predictions_df - actuals_df\n",
    "\n",
    "# Plot and save the residuals histogram\n",
    "plt.figure(figsize=(10, 6))\n",
    "plt.hist(residuals.values.flatten(), bins=50, alpha=0.75, color='red')\n",
    "plt.title(\"Residuals (Prediction Errors) Histogram\")\n",
    "plt.xlabel(\"Error\")\n",
    "plt.ylabel(\"Frequency\")\n",
    "plt.savefig(\"model_results/residuals_histogram.png\")  # Save the plot as PNG\n",
    "print(\"Residuals histogram saved to 'model_results/residuals_histogram.png'.\")\n",
    "plt.show()\n",
    "\n",
    "# Scatter plot of predictions vs actuals\n",
    "plt.figure(figsize=(10, 6))\n",
    "plt.scatter(actuals_df.values.flatten(), predictions_df.values.flatten(), alpha=0.5)\n",
    "plt.plot([actuals_df.min().min(), actuals_df.max().max()], [actuals_df.min().min(), actuals_df.max().max()], color='blue', lw=2, label=\"45-degree line\")\n",
    "plt.title(\"Predictions vs Actual Values (Scatter Plot)\")\n",
    "plt.xlabel(\"Actual Values\")\n",
    "plt.ylabel(\"Predicted Values\")\n",
    "plt.legend()\n",
    "plt.savefig(\"model_results/scatter_predictions_vs_actuals.png\")  # Save the plot as PNG\n",
    "print(\"Scatter plot saved to 'model_results/scatter_predictions_vs_actuals.png'.\")\n",
    "plt.show()\n"
   ],
   "outputs": [
    {
     "name": "stdout",
     "output_type": "stream",
     "text": [
      "Predicted vs Actual graph saved to 'model_results/predicted_vs_actual.png'.\n"
     ]
    },
    {
     "data": {
      "text/plain": [
       "<Figure size 1000x600 with 1 Axes>"
      ],
      "image/png": "[encoded data removed]"
     },
     "metadata": {},
     "output_type": "display_data"
    },
    {
     "name": "stdout",
     "output_type": "stream",
     "text": [
      "Residuals histogram saved to 'model_results/residuals_histogram.png'.\n"
     ]
    },
    {
     "data": {
      "text/plain": [
       "<Figure size 1000x600 with 1 Axes>"
      ],
      "image/png": "[encoded data removed]"
     },
     "metadata": {},
     "output_type": "display_data"
    },
    {
     "name": "stdout",
     "output_type": "stream",
     "text": [
      "Scatter plot saved to 'model_results/scatter_predictions_vs_actuals.png'.\n"
     ]
    },
    {
     "data": {
      "text/plain": [
       "<Figure size 1000x600 with 1 Axes>"
      ],
      "image/png": "[encoded data removed]"
     },
     "metadata": {},
     "output_type": "display_data"
    }
   ],
   "execution_count": 62
  },
  {
   "cell_type": "code",
   "id": "72cc6fd6-8612-4c49-be5e-7a1afc96d7b6",
   "metadata": {
    "ExecuteTime": {
     "end_time": "2024-10-09T21:35:51.406630Z",
     "start_time": "2024-10-09T21:35:51.381644Z"
    }
   },
   "source": [
    "# Statistical summary of the residuals (errors)\n",
    "residuals_summary = residuals.describe()\n",
    "print(\"Residuals Summary:\")\n",
    "print(residuals_summary)\n",
    "\n",
    "# Save residuals summary to a CSV file\n",
    "residuals_summary.to_csv(\"model_results/residuals_summary.csv\")\n",
    "print(\"Residuals summary saved to 'model_results/residuals_summary.csv'.\")\n"
   ],
   "outputs": [
    {
     "name": "stdout",
     "output_type": "stream",
     "text": [
      "Residuals Summary:\n",
      "              0         1         2         3         4         5         6  \\\n",
      "count  1.000000  1.000000  1.000000  1.000000  1.000000  1.000000  1.000000   \n",
      "mean   0.694374  0.058168 -2.544361 -3.090503 -1.838473 -1.016926 -0.308909   \n",
      "std         NaN       NaN       NaN       NaN       NaN       NaN       NaN   \n",
      "min    0.694374  0.058168 -2.544361 -3.090503 -1.838473 -1.016926 -0.308909   \n",
      "25%    0.694374  0.058168 -2.544361 -3.090503 -1.838473 -1.016926 -0.308909   \n",
      "50%    0.694374  0.058168 -2.544361 -3.090503 -1.838473 -1.016926 -0.308909   \n",
      "75%    0.694374  0.058168 -2.544361 -3.090503 -1.838473 -1.016926 -0.308909   \n",
      "max    0.694374  0.058168 -2.544361 -3.090503 -1.838473 -1.016926 -0.308909   \n",
      "\n",
      "              7         8         9  \n",
      "count  1.000000  1.000000  1.000000  \n",
      "mean  -0.303628  0.000006 -0.090257  \n",
      "std         NaN       NaN       NaN  \n",
      "min   -0.303628  0.000006 -0.090257  \n",
      "25%   -0.303628  0.000006 -0.090257  \n",
      "50%   -0.303628  0.000006 -0.090257  \n",
      "75%   -0.303628  0.000006 -0.090257  \n",
      "max   -0.303628  0.000006 -0.090257  \n",
      "Residuals summary saved to 'model_results/residuals_summary.csv'.\n"
     ]
    }
   ],
   "execution_count": 63
  },
  {
   "cell_type": "code",
   "id": "a16c9165-08d4-4a34-b48e-9bfd409fa253",
   "metadata": {
    "ExecuteTime": {
     "end_time": "2024-10-09T21:35:53.438043Z",
     "start_time": "2024-10-09T21:35:53.430061Z"
    }
   },
   "source": [
    "# Print the first few rows of predicted and actual values\n",
    "print(\"Predicted values:\")\n",
    "print(predictions_df.head())\n",
    "\n",
    "print(\"\\nActual values:\")\n",
    "print(actuals_df.head())"
   ],
   "outputs": [
    {
     "name": "stdout",
     "output_type": "stream",
     "text": [
      "Predicted values:\n",
      "          0         1         2         3         4         5         6  \\\n",
      "0  1.194374  1.158168  1.455639  1.909497  2.061527  2.083074  2.091091   \n",
      "\n",
      "          7         8         9  \n",
      "0  2.096372  2.100006  2.109743  \n",
      "\n",
      "Actual values:\n",
      "     0    1    2    3    4    5    6    7    8    9\n",
      "0  0.5  1.1  4.0  5.0  3.9  3.1  2.4  2.4  2.1  2.2\n"
     ]
    }
   ],
   "execution_count": 64
  },
  {
   "cell_type": "code",
   "id": "a52a8a12-236b-4486-b69f-5b2a25ae4fc5",
   "metadata": {
    "ExecuteTime": {
     "end_time": "2024-10-09T21:35:55.424666Z",
     "start_time": "2024-10-09T21:35:55.417822Z"
    }
   },
   "source": [
    "# Combine predictions and actuals for a side-by-side comparison\n",
    "combined_df = pd.concat([predictions_df, actuals_df], axis=1)\n",
    "combined_df.columns = [f\"prediction_{i}\" for i in range(predictions_df.shape[1])] + [f\"actual_{i}\" for i in range(actuals_df.shape[1])]\n",
    "\n",
    "# Save to CSV for easy viewing\n",
    "combined_df.to_csv(\"predictions_vs_actuals_full.csv\", index=False)\n",
    "\n",
    "print(\"Predictions and actual values saved to 'predictions_vs_actuals_full.csv'.\")"
   ],
   "outputs": [
    {
     "name": "stdout",
     "output_type": "stream",
     "text": [
      "Predictions and actual values saved to 'predictions_vs_actuals_full.csv'.\n"
     ]
    }
   ],
   "execution_count": 65
  },
  {
   "cell_type": "code",
   "id": "ee25b1d3-5143-4a66-a62c-c18a19f26fee",
   "metadata": {
    "ExecuteTime": {
     "end_time": "2024-10-09T21:35:57.500878Z",
     "start_time": "2024-10-09T21:35:57.495983Z"
    }
   },
   "source": [
    "from sklearn.metrics import r2_score\n",
    "\n",
    "# Calculate R² score\n",
    "r2 = r2_score(actuals_df.values.flatten(), predictions_df.values.flatten())\n",
    "\n",
    "# Print the R² score\n",
    "print(f\"R² Score: {r2:.4f}\")\n"
   ],
   "outputs": [
    {
     "name": "stdout",
     "output_type": "stream",
     "text": [
      "R² Score: -0.2601\n"
     ]
    }
   ],
   "execution_count": 66
  }
 ],
 "metadata": {
  "kernelspec": {
   "display_name": "Python 3 (ipykernel)",
   "language": "python",
   "name": "python3"
  },
  "language_info": {
   "codemirror_mode": {
    "name": "ipython",
    "version": 3
   },
   "file_extension": ".py",
   "mimetype": "text/x-python",
   "name": "python",
   "nbconvert_exporter": "python",
   "pygments_lexer": "ipython3",
   "version": "3.12.7"
  }
 },
 "nbformat": 4,
 "nbformat_minor": 5
}
